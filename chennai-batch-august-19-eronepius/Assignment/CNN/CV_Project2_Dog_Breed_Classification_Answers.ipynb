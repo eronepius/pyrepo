{
  "nbformat": 4,
  "nbformat_minor": 0,
  "metadata": {
    "colab": {
      "name": "CV_Project2_Dog_Breed_Classification_Answers.ipynb",
      "provenance": [],
      "collapsed_sections": [],
      "machine_shape": "hm"
    },
    "kernelspec": {
      "display_name": "Python 3",
      "language": "python",
      "name": "python3"
    },
    "accelerator": "GPU"
  },
  "cells": [
    {
      "cell_type": "markdown",
      "metadata": {
        "colab_type": "text",
        "id": "2kIWaR5ZpKlJ"
      },
      "source": [
        "## Dog Breed Classification\n",
        "\n",
        "In this project we will use traditional CNN, CNN with data augmentation and finally transfer Learning by VGG16 model with weights pre-trained on Imagenet to solve the dog breed classification problem"
      ]
    },
    {
      "cell_type": "markdown",
      "metadata": {
        "colab_type": "text",
        "id": "F7MDmaAw2xGO"
      },
      "source": [
        "### Load Dataset Files"
      ]
    },
    {
      "cell_type": "code",
      "metadata": {
        "id": "nORyW1myddao",
        "colab_type": "code",
        "outputId": "14d445cd-9c2b-4d8c-d14a-e0d422ecf447",
        "colab": {
          "base_uri": "https://localhost:8080/",
          "height": 35
        }
      },
      "source": [
        "from google.colab import drive\n",
        "drive.mount('/content/Anton', force_remount=True)"
      ],
      "execution_count": 1,
      "outputs": [
        {
          "output_type": "stream",
          "text": [
            "Mounted at /content/Anton\n"
          ],
          "name": "stdout"
        }
      ]
    },
    {
      "cell_type": "code",
      "metadata": {
        "id": "vD-GXX6XQNgI",
        "colab_type": "code",
        "outputId": "7f9e55a2-095a-432f-efa3-38eef98233de",
        "colab": {
          "base_uri": "https://localhost:8080/",
          "height": 35
        }
      },
      "source": [
        "import os\n",
        "print(os.getcwd())"
      ],
      "execution_count": 2,
      "outputs": [
        {
          "output_type": "stream",
          "text": [
            "/content\n"
          ],
          "name": "stdout"
        }
      ]
    },
    {
      "cell_type": "code",
      "metadata": {
        "colab_type": "code",
        "id": "BZWpQv1OwqYK",
        "colab": {}
      },
      "source": [
        "import glob\n",
        "files = glob.glob('/content/Anton/My Drive/Colab Notebooks/CNN/'+ '*.zip')"
      ],
      "execution_count": 0,
      "outputs": []
    },
    {
      "cell_type": "code",
      "metadata": {
        "colab_type": "code",
        "id": "fVhB9OopxFbX",
        "outputId": "7b634abb-c9de-464d-9f32-8b2632cfb9d2",
        "colab": {
          "base_uri": "https://localhost:8080/",
          "height": 87
        }
      },
      "source": [
        "files"
      ],
      "execution_count": 4,
      "outputs": [
        {
          "output_type": "execute_result",
          "data": {
            "text/plain": [
              "['/content/Anton/My Drive/Colab Notebooks/CNN/sample_submission.csv.zip',\n",
              " '/content/Anton/My Drive/Colab Notebooks/CNN/labels.csv.zip',\n",
              " '/content/Anton/My Drive/Colab Notebooks/CNN/test.zip',\n",
              " '/content/Anton/My Drive/Colab Notebooks/CNN/train.zip']"
            ]
          },
          "metadata": {
            "tags": []
          },
          "execution_count": 4
        }
      ]
    },
    {
      "cell_type": "markdown",
      "metadata": {
        "colab_type": "text",
        "id": "1q2zzIaUprk_"
      },
      "source": [
        "Now, upload the given dataset file shared with you in your google drive and give its path for the below given `project_path` variable. For example, a path is given below according to the file path in our google drive. You need to change this to match the path of yours."
      ]
    },
    {
      "cell_type": "code",
      "metadata": {
        "colab_type": "code",
        "id": "Tp6FvAToxUFs",
        "outputId": "d795babc-ce3d-4352-f758-7bba5b0d5e0d",
        "colab": {
          "base_uri": "https://localhost:8080/",
          "height": 35
        }
      },
      "source": [
        "project_path = \"/content/Anton/My Drive/Colab Notebooks/CNN/\"\n",
        "os.chdir(project_path)\n",
        "print(os.getcwd())"
      ],
      "execution_count": 5,
      "outputs": [
        {
          "output_type": "stream",
          "text": [
            "/content/Anton/My Drive/Colab Notebooks/CNN\n"
          ],
          "name": "stdout"
        }
      ]
    },
    {
      "cell_type": "markdown",
      "metadata": {
        "colab_type": "text",
        "id": "rydR_j8lqUei"
      },
      "source": [
        "Run the below code to extract all the images in the train.zip files given in the dataset. We are going to use these images as train and validation sets and their labels in further steps."
      ]
    },
    {
      "cell_type": "markdown",
      "metadata": {
        "id": "3NHq1iBCfFjE",
        "colab_type": "text"
      },
      "source": [
        "Repeat the same step for test.zip"
      ]
    },
    {
      "cell_type": "code",
      "metadata": {
        "colab_type": "code",
        "id": "_fxzynvB2YCb",
        "colab": {}
      },
      "source": [
        "#extracting test\n",
        "import zipfile\n",
        "\n",
        "with zipfile.ZipFile(files[2],\"r\") as zip_ref:\n",
        "    zip_ref.extractall(project_path)"
      ],
      "execution_count": 0,
      "outputs": []
    },
    {
      "cell_type": "markdown",
      "metadata": {
        "id": "jnUMhQrDfJmz",
        "colab_type": "text"
      },
      "source": [
        "Repeat the same step for train.zip"
      ]
    },
    {
      "cell_type": "code",
      "metadata": {
        "id": "gaWPad_6R65r",
        "colab_type": "code",
        "colab": {}
      },
      "source": [
        "#extracting train\n",
        "\n",
        "with zipfile.ZipFile(files[3],\"r\") as zip_ref:\n",
        "    zip_ref.extractall(project_path)"
      ],
      "execution_count": 0,
      "outputs": []
    },
    {
      "cell_type": "markdown",
      "metadata": {
        "id": "2Val0SOIRwRl",
        "colab_type": "text"
      },
      "source": [
        "Repeat the same step for sample_submission.csv.zip"
      ]
    },
    {
      "cell_type": "code",
      "metadata": {
        "colab_type": "code",
        "id": "4PyTxE8q2jLf",
        "colab": {}
      },
      "source": [
        "#extracting sample_submission\n",
        "with zipfile.ZipFile(files[1],\"r\") as zip_ref:\n",
        "    zip_ref.extractall(project_path)"
      ],
      "execution_count": 0,
      "outputs": []
    },
    {
      "cell_type": "markdown",
      "metadata": {
        "id": "2G9RIxB-fOLT",
        "colab_type": "text"
      },
      "source": [
        "Repeat the same step for labels.csv.zip"
      ]
    },
    {
      "cell_type": "code",
      "metadata": {
        "colab_type": "code",
        "id": "rXtnEoEixbgi",
        "colab": {}
      },
      "source": [
        "#Extracting label.csv\n",
        "\n",
        "with zipfile.ZipFile(files[0],\"r\") as zip_ref:\n",
        "    zip_ref.extractall(project_path)"
      ],
      "execution_count": 0,
      "outputs": []
    },
    {
      "cell_type": "markdown",
      "metadata": {
        "id": "sJc1lVrW_jmL",
        "colab_type": "text"
      },
      "source": [
        "After this process, we will have 4 files - Train folder, test folder and labels.csv and sample_submission.csv as part of your google drive"
      ]
    },
    {
      "cell_type": "markdown",
      "metadata": {
        "colab_type": "text",
        "id": "aYmJKmDqqpng"
      },
      "source": [
        "### Read labels.csv file using pandas"
      ]
    },
    {
      "cell_type": "code",
      "metadata": {
        "id": "WmlJ2VMY96IZ",
        "colab_type": "code",
        "outputId": "052564b4-df2a-4d61-fb8c-4db6c732a92d",
        "colab": {
          "base_uri": "https://localhost:8080/",
          "height": 202
        }
      },
      "source": [
        "import pandas as pd\n",
        "label = pd.read_csv(\"labels.csv\")\n",
        "label.head()"
      ],
      "execution_count": 6,
      "outputs": [
        {
          "output_type": "execute_result",
          "data": {
            "text/html": [
              "<div>\n",
              "<style scoped>\n",
              "    .dataframe tbody tr th:only-of-type {\n",
              "        vertical-align: middle;\n",
              "    }\n",
              "\n",
              "    .dataframe tbody tr th {\n",
              "        vertical-align: top;\n",
              "    }\n",
              "\n",
              "    .dataframe thead th {\n",
              "        text-align: right;\n",
              "    }\n",
              "</style>\n",
              "<table border=\"1\" class=\"dataframe\">\n",
              "  <thead>\n",
              "    <tr style=\"text-align: right;\">\n",
              "      <th></th>\n",
              "      <th>id</th>\n",
              "      <th>breed</th>\n",
              "    </tr>\n",
              "  </thead>\n",
              "  <tbody>\n",
              "    <tr>\n",
              "      <th>0</th>\n",
              "      <td>000bec180eb18c7604dcecc8fe0dba07</td>\n",
              "      <td>boston_bull</td>\n",
              "    </tr>\n",
              "    <tr>\n",
              "      <th>1</th>\n",
              "      <td>001513dfcb2ffafc82cccf4d8bbaba97</td>\n",
              "      <td>dingo</td>\n",
              "    </tr>\n",
              "    <tr>\n",
              "      <th>2</th>\n",
              "      <td>001cdf01b096e06d78e9e5112d419397</td>\n",
              "      <td>pekinese</td>\n",
              "    </tr>\n",
              "    <tr>\n",
              "      <th>3</th>\n",
              "      <td>00214f311d5d2247d5dfe4fe24b2303d</td>\n",
              "      <td>bluetick</td>\n",
              "    </tr>\n",
              "    <tr>\n",
              "      <th>4</th>\n",
              "      <td>0021f9ceb3235effd7fcde7f7538ed62</td>\n",
              "      <td>golden_retriever</td>\n",
              "    </tr>\n",
              "  </tbody>\n",
              "</table>\n",
              "</div>"
            ],
            "text/plain": [
              "                                 id             breed\n",
              "0  000bec180eb18c7604dcecc8fe0dba07       boston_bull\n",
              "1  001513dfcb2ffafc82cccf4d8bbaba97             dingo\n",
              "2  001cdf01b096e06d78e9e5112d419397          pekinese\n",
              "3  00214f311d5d2247d5dfe4fe24b2303d          bluetick\n",
              "4  0021f9ceb3235effd7fcde7f7538ed62  golden_retriever"
            ]
          },
          "metadata": {
            "tags": []
          },
          "execution_count": 6
        }
      ]
    },
    {
      "cell_type": "code",
      "metadata": {
        "id": "mHaA3fGkBc0O",
        "colab_type": "code",
        "outputId": "a6fd2821-cd93-4d62-b396-fa9435489cef",
        "colab": {
          "base_uri": "https://localhost:8080/",
          "height": 35
        }
      },
      "source": [
        "label.shape"
      ],
      "execution_count": 7,
      "outputs": [
        {
          "output_type": "execute_result",
          "data": {
            "text/plain": [
              "(10222, 2)"
            ]
          },
          "metadata": {
            "tags": []
          },
          "execution_count": 7
        }
      ]
    },
    {
      "cell_type": "markdown",
      "metadata": {
        "colab_type": "text",
        "id": "QP8YAzQvqyK-"
      },
      "source": [
        "### Print the count of each category of Dogs given in the dataset\n",
        "\n"
      ]
    },
    {
      "cell_type": "code",
      "metadata": {
        "id": "3L2naXlr96Im",
        "colab_type": "code",
        "colab": {}
      },
      "source": [
        "breedCount = label.groupby(['breed']).count()"
      ],
      "execution_count": 0,
      "outputs": []
    },
    {
      "cell_type": "code",
      "metadata": {
        "id": "BXuAq995YxDx",
        "colab_type": "code",
        "outputId": "cf434fb5-89a2-405a-d237-18a2bfe79f56",
        "colab": {
          "base_uri": "https://localhost:8080/",
          "height": 202
        }
      },
      "source": [
        "breedCount.reset_index(inplace=True)\n",
        "breedCount.head()"
      ],
      "execution_count": 9,
      "outputs": [
        {
          "output_type": "execute_result",
          "data": {
            "text/html": [
              "<div>\n",
              "<style scoped>\n",
              "    .dataframe tbody tr th:only-of-type {\n",
              "        vertical-align: middle;\n",
              "    }\n",
              "\n",
              "    .dataframe tbody tr th {\n",
              "        vertical-align: top;\n",
              "    }\n",
              "\n",
              "    .dataframe thead th {\n",
              "        text-align: right;\n",
              "    }\n",
              "</style>\n",
              "<table border=\"1\" class=\"dataframe\">\n",
              "  <thead>\n",
              "    <tr style=\"text-align: right;\">\n",
              "      <th></th>\n",
              "      <th>breed</th>\n",
              "      <th>id</th>\n",
              "    </tr>\n",
              "  </thead>\n",
              "  <tbody>\n",
              "    <tr>\n",
              "      <th>0</th>\n",
              "      <td>affenpinscher</td>\n",
              "      <td>80</td>\n",
              "    </tr>\n",
              "    <tr>\n",
              "      <th>1</th>\n",
              "      <td>afghan_hound</td>\n",
              "      <td>116</td>\n",
              "    </tr>\n",
              "    <tr>\n",
              "      <th>2</th>\n",
              "      <td>african_hunting_dog</td>\n",
              "      <td>86</td>\n",
              "    </tr>\n",
              "    <tr>\n",
              "      <th>3</th>\n",
              "      <td>airedale</td>\n",
              "      <td>107</td>\n",
              "    </tr>\n",
              "    <tr>\n",
              "      <th>4</th>\n",
              "      <td>american_staffordshire_terrier</td>\n",
              "      <td>74</td>\n",
              "    </tr>\n",
              "  </tbody>\n",
              "</table>\n",
              "</div>"
            ],
            "text/plain": [
              "                            breed   id\n",
              "0                   affenpinscher   80\n",
              "1                    afghan_hound  116\n",
              "2             african_hunting_dog   86\n",
              "3                        airedale  107\n",
              "4  american_staffordshire_terrier   74"
            ]
          },
          "metadata": {
            "tags": []
          },
          "execution_count": 9
        }
      ]
    },
    {
      "cell_type": "code",
      "metadata": {
        "id": "G5YSddsU3gj2",
        "colab_type": "code",
        "outputId": "e57eb1e2-75e3-4917-8f27-2cff8cb21ab5",
        "colab": {
          "base_uri": "https://localhost:8080/",
          "height": 35
        }
      },
      "source": [
        "breedCount['breed'].nunique()"
      ],
      "execution_count": 10,
      "outputs": [
        {
          "output_type": "execute_result",
          "data": {
            "text/plain": [
              "120"
            ]
          },
          "metadata": {
            "tags": []
          },
          "execution_count": 10
        }
      ]
    },
    {
      "cell_type": "code",
      "metadata": {
        "id": "CLm3W5RN96Ir",
        "colab_type": "code",
        "outputId": "d4e2ca81-3a3a-4bd8-ae2a-934424a30581",
        "colab": {
          "base_uri": "https://localhost:8080/",
          "height": 1000
        }
      },
      "source": [
        "for index, breed in breedCount.iterrows():\n",
        "  print(\"Breed Name : {} ---  Count : {}\".format(breed['breed'], breed['id']))"
      ],
      "execution_count": 11,
      "outputs": [
        {
          "output_type": "stream",
          "text": [
            "Breed Name : affenpinscher ---  Count : 80\n",
            "Breed Name : afghan_hound ---  Count : 116\n",
            "Breed Name : african_hunting_dog ---  Count : 86\n",
            "Breed Name : airedale ---  Count : 107\n",
            "Breed Name : american_staffordshire_terrier ---  Count : 74\n",
            "Breed Name : appenzeller ---  Count : 78\n",
            "Breed Name : australian_terrier ---  Count : 102\n",
            "Breed Name : basenji ---  Count : 110\n",
            "Breed Name : basset ---  Count : 82\n",
            "Breed Name : beagle ---  Count : 105\n",
            "Breed Name : bedlington_terrier ---  Count : 89\n",
            "Breed Name : bernese_mountain_dog ---  Count : 114\n",
            "Breed Name : black-and-tan_coonhound ---  Count : 77\n",
            "Breed Name : blenheim_spaniel ---  Count : 102\n",
            "Breed Name : bloodhound ---  Count : 85\n",
            "Breed Name : bluetick ---  Count : 85\n",
            "Breed Name : border_collie ---  Count : 72\n",
            "Breed Name : border_terrier ---  Count : 91\n",
            "Breed Name : borzoi ---  Count : 75\n",
            "Breed Name : boston_bull ---  Count : 87\n",
            "Breed Name : bouvier_des_flandres ---  Count : 86\n",
            "Breed Name : boxer ---  Count : 75\n",
            "Breed Name : brabancon_griffon ---  Count : 67\n",
            "Breed Name : briard ---  Count : 66\n",
            "Breed Name : brittany_spaniel ---  Count : 73\n",
            "Breed Name : bull_mastiff ---  Count : 75\n",
            "Breed Name : cairn ---  Count : 106\n",
            "Breed Name : cardigan ---  Count : 76\n",
            "Breed Name : chesapeake_bay_retriever ---  Count : 83\n",
            "Breed Name : chihuahua ---  Count : 71\n",
            "Breed Name : chow ---  Count : 93\n",
            "Breed Name : clumber ---  Count : 80\n",
            "Breed Name : cocker_spaniel ---  Count : 74\n",
            "Breed Name : collie ---  Count : 87\n",
            "Breed Name : curly-coated_retriever ---  Count : 72\n",
            "Breed Name : dandie_dinmont ---  Count : 89\n",
            "Breed Name : dhole ---  Count : 76\n",
            "Breed Name : dingo ---  Count : 80\n",
            "Breed Name : doberman ---  Count : 74\n",
            "Breed Name : english_foxhound ---  Count : 86\n",
            "Breed Name : english_setter ---  Count : 83\n",
            "Breed Name : english_springer ---  Count : 75\n",
            "Breed Name : entlebucher ---  Count : 115\n",
            "Breed Name : eskimo_dog ---  Count : 66\n",
            "Breed Name : flat-coated_retriever ---  Count : 72\n",
            "Breed Name : french_bulldog ---  Count : 70\n",
            "Breed Name : german_shepherd ---  Count : 69\n",
            "Breed Name : german_short-haired_pointer ---  Count : 75\n",
            "Breed Name : giant_schnauzer ---  Count : 69\n",
            "Breed Name : golden_retriever ---  Count : 67\n",
            "Breed Name : gordon_setter ---  Count : 81\n",
            "Breed Name : great_dane ---  Count : 75\n",
            "Breed Name : great_pyrenees ---  Count : 111\n",
            "Breed Name : greater_swiss_mountain_dog ---  Count : 82\n",
            "Breed Name : groenendael ---  Count : 82\n",
            "Breed Name : ibizan_hound ---  Count : 91\n",
            "Breed Name : irish_setter ---  Count : 88\n",
            "Breed Name : irish_terrier ---  Count : 82\n",
            "Breed Name : irish_water_spaniel ---  Count : 78\n",
            "Breed Name : irish_wolfhound ---  Count : 101\n",
            "Breed Name : italian_greyhound ---  Count : 92\n",
            "Breed Name : japanese_spaniel ---  Count : 105\n",
            "Breed Name : keeshond ---  Count : 81\n",
            "Breed Name : kelpie ---  Count : 86\n",
            "Breed Name : kerry_blue_terrier ---  Count : 82\n",
            "Breed Name : komondor ---  Count : 67\n",
            "Breed Name : kuvasz ---  Count : 71\n",
            "Breed Name : labrador_retriever ---  Count : 84\n",
            "Breed Name : lakeland_terrier ---  Count : 99\n",
            "Breed Name : leonberg ---  Count : 106\n",
            "Breed Name : lhasa ---  Count : 90\n",
            "Breed Name : malamute ---  Count : 81\n",
            "Breed Name : malinois ---  Count : 73\n",
            "Breed Name : maltese_dog ---  Count : 117\n",
            "Breed Name : mexican_hairless ---  Count : 80\n",
            "Breed Name : miniature_pinscher ---  Count : 102\n",
            "Breed Name : miniature_poodle ---  Count : 79\n",
            "Breed Name : miniature_schnauzer ---  Count : 78\n",
            "Breed Name : newfoundland ---  Count : 91\n",
            "Breed Name : norfolk_terrier ---  Count : 83\n",
            "Breed Name : norwegian_elkhound ---  Count : 95\n",
            "Breed Name : norwich_terrier ---  Count : 78\n",
            "Breed Name : old_english_sheepdog ---  Count : 87\n",
            "Breed Name : otterhound ---  Count : 69\n",
            "Breed Name : papillon ---  Count : 96\n",
            "Breed Name : pekinese ---  Count : 75\n",
            "Breed Name : pembroke ---  Count : 92\n",
            "Breed Name : pomeranian ---  Count : 111\n",
            "Breed Name : pug ---  Count : 94\n",
            "Breed Name : redbone ---  Count : 72\n",
            "Breed Name : rhodesian_ridgeback ---  Count : 88\n",
            "Breed Name : rottweiler ---  Count : 76\n",
            "Breed Name : saint_bernard ---  Count : 84\n",
            "Breed Name : saluki ---  Count : 99\n",
            "Breed Name : samoyed ---  Count : 109\n",
            "Breed Name : schipperke ---  Count : 86\n",
            "Breed Name : scotch_terrier ---  Count : 82\n",
            "Breed Name : scottish_deerhound ---  Count : 126\n",
            "Breed Name : sealyham_terrier ---  Count : 88\n",
            "Breed Name : shetland_sheepdog ---  Count : 76\n",
            "Breed Name : shih-tzu ---  Count : 112\n",
            "Breed Name : siberian_husky ---  Count : 95\n",
            "Breed Name : silky_terrier ---  Count : 90\n",
            "Breed Name : soft-coated_wheaten_terrier ---  Count : 71\n",
            "Breed Name : staffordshire_bullterrier ---  Count : 79\n",
            "Breed Name : standard_poodle ---  Count : 79\n",
            "Breed Name : standard_schnauzer ---  Count : 72\n",
            "Breed Name : sussex_spaniel ---  Count : 78\n",
            "Breed Name : tibetan_mastiff ---  Count : 69\n",
            "Breed Name : tibetan_terrier ---  Count : 107\n",
            "Breed Name : toy_poodle ---  Count : 80\n",
            "Breed Name : toy_terrier ---  Count : 79\n",
            "Breed Name : vizsla ---  Count : 70\n",
            "Breed Name : walker_hound ---  Count : 69\n",
            "Breed Name : weimaraner ---  Count : 85\n",
            "Breed Name : welsh_springer_spaniel ---  Count : 79\n",
            "Breed Name : west_highland_white_terrier ---  Count : 81\n",
            "Breed Name : whippet ---  Count : 95\n",
            "Breed Name : wire-haired_fox_terrier ---  Count : 82\n",
            "Breed Name : yorkshire_terrier ---  Count : 82\n"
          ],
          "name": "stdout"
        }
      ]
    },
    {
      "cell_type": "markdown",
      "metadata": {
        "id": "chqcraqPNZrW",
        "colab_type": "text"
      },
      "source": [
        "The names in the label dataframe and the files in the train dataset are in different order, hence they must be mapped to one-to-one basis before futher processing."
      ]
    },
    {
      "cell_type": "code",
      "metadata": {
        "id": "BWCyqUa4NZCe",
        "colab_type": "code",
        "colab": {}
      },
      "source": [
        "projectpath = \"/content/Anton/My Drive/Colab Notebooks/CNN/train/\""
      ],
      "execution_count": 0,
      "outputs": []
    },
    {
      "cell_type": "code",
      "metadata": {
        "id": "7NJ6UIGFN5AI",
        "colab_type": "code",
        "colab": {}
      },
      "source": [
        "files = glob.glob(projectpath + '*.*')"
      ],
      "execution_count": 0,
      "outputs": []
    },
    {
      "cell_type": "code",
      "metadata": {
        "id": "Txqg7zVNODN2",
        "colab_type": "code",
        "outputId": "20c326a8-cb47-4f01-c72f-ac7dea232db8",
        "colab": {
          "base_uri": "https://localhost:8080/",
          "height": 35
        }
      },
      "source": [
        "j = 1\n",
        "filecount = len(files)\n",
        "newlabel = []\n",
        "\n",
        "for file in files:\n",
        "  print('\\r', str(\"Label Checked and Assigned : \") + str(j)+\"/\"+str(filecount), end = '')\n",
        "  name = file.split('/')[-1]\n",
        "  name = name.split('.')[0]\n",
        "  breed = label[label['id'].isin([name])]\n",
        "  index = label.loc[label['id'].isin([name])].index[0]\n",
        "  breed = breed['breed'][index]\n",
        "  newlabel.append(breed)\n",
        "  j = j + 1"
      ],
      "execution_count": 14,
      "outputs": [
        {
          "output_type": "stream",
          "text": [
            " Label Checked and Assigned : 10222/10222"
          ],
          "name": "stdout"
        }
      ]
    },
    {
      "cell_type": "code",
      "metadata": {
        "id": "ZgkgBke9PngB",
        "colab_type": "code",
        "colab": {}
      },
      "source": [
        "y_train = dataframe=pd.DataFrame(newlabel, columns=['breed'])"
      ],
      "execution_count": 0,
      "outputs": []
    },
    {
      "cell_type": "code",
      "metadata": {
        "id": "rSjJ-95KOiHP",
        "colab_type": "code",
        "outputId": "96612036-438f-45c5-bb70-36d850e20981",
        "colab": {
          "base_uri": "https://localhost:8080/",
          "height": 202
        }
      },
      "source": [
        "y_train.head()"
      ],
      "execution_count": 16,
      "outputs": [
        {
          "output_type": "execute_result",
          "data": {
            "text/html": [
              "<div>\n",
              "<style scoped>\n",
              "    .dataframe tbody tr th:only-of-type {\n",
              "        vertical-align: middle;\n",
              "    }\n",
              "\n",
              "    .dataframe tbody tr th {\n",
              "        vertical-align: top;\n",
              "    }\n",
              "\n",
              "    .dataframe thead th {\n",
              "        text-align: right;\n",
              "    }\n",
              "</style>\n",
              "<table border=\"1\" class=\"dataframe\">\n",
              "  <thead>\n",
              "    <tr style=\"text-align: right;\">\n",
              "      <th></th>\n",
              "      <th>breed</th>\n",
              "    </tr>\n",
              "  </thead>\n",
              "  <tbody>\n",
              "    <tr>\n",
              "      <th>0</th>\n",
              "      <td>cocker_spaniel</td>\n",
              "    </tr>\n",
              "    <tr>\n",
              "      <th>1</th>\n",
              "      <td>gordon_setter</td>\n",
              "    </tr>\n",
              "    <tr>\n",
              "      <th>2</th>\n",
              "      <td>great_pyrenees</td>\n",
              "    </tr>\n",
              "    <tr>\n",
              "      <th>3</th>\n",
              "      <td>german_shepherd</td>\n",
              "    </tr>\n",
              "    <tr>\n",
              "      <th>4</th>\n",
              "      <td>airedale</td>\n",
              "    </tr>\n",
              "  </tbody>\n",
              "</table>\n",
              "</div>"
            ],
            "text/plain": [
              "             breed\n",
              "0   cocker_spaniel\n",
              "1    gordon_setter\n",
              "2   great_pyrenees\n",
              "3  german_shepherd\n",
              "4         airedale"
            ]
          },
          "metadata": {
            "tags": []
          },
          "execution_count": 16
        }
      ]
    },
    {
      "cell_type": "markdown",
      "metadata": {
        "colab_type": "text",
        "id": "WI94_Qcc0D4M"
      },
      "source": [
        "### Get one-hot encodings of labels"
      ]
    },
    {
      "cell_type": "code",
      "metadata": {
        "id": "NS_bYvjQgO0c",
        "colab_type": "code",
        "outputId": "f7dd1c76-4d8b-471a-a2f3-50064694398f",
        "colab": {
          "base_uri": "https://localhost:8080/",
          "height": 139
        }
      },
      "source": [
        "y_train.values"
      ],
      "execution_count": 17,
      "outputs": [
        {
          "output_type": "execute_result",
          "data": {
            "text/plain": [
              "array([['cocker_spaniel'],\n",
              "       ['gordon_setter'],\n",
              "       ['great_pyrenees'],\n",
              "       ...,\n",
              "       ['bernese_mountain_dog'],\n",
              "       ['dandie_dinmont'],\n",
              "       ['chesapeake_bay_retriever']], dtype=object)"
            ]
          },
          "metadata": {
            "tags": []
          },
          "execution_count": 17
        }
      ]
    },
    {
      "cell_type": "code",
      "metadata": {
        "id": "Q48iAcY196I3",
        "colab_type": "code",
        "colab": {}
      },
      "source": [
        "from sklearn.preprocessing import OneHotEncoder\n",
        "\n",
        "ohe = OneHotEncoder()\n",
        "ohe.fit(y_train.values)\n",
        "y_train = ohe.transform(y_train.values)"
      ],
      "execution_count": 0,
      "outputs": []
    },
    {
      "cell_type": "code",
      "metadata": {
        "id": "bp-P34j-v_UO",
        "colab_type": "code",
        "colab": {}
      },
      "source": [
        "y_train = y_train.todense()"
      ],
      "execution_count": 0,
      "outputs": []
    },
    {
      "cell_type": "code",
      "metadata": {
        "id": "qVj_UX9c-eDc",
        "colab_type": "code",
        "outputId": "a22b0c05-2535-4ebb-e336-d21a44b9dd4c",
        "colab": {
          "base_uri": "https://localhost:8080/",
          "height": 156
        }
      },
      "source": [
        "y_train[0]"
      ],
      "execution_count": 20,
      "outputs": [
        {
          "output_type": "execute_result",
          "data": {
            "text/plain": [
              "matrix([[0., 0., 0., 0., 0., 0., 0., 0., 0., 0., 0., 0., 0., 0., 0., 0.,\n",
              "         0., 0., 0., 0., 0., 0., 0., 0., 0., 0., 0., 0., 0., 0., 0., 0.,\n",
              "         1., 0., 0., 0., 0., 0., 0., 0., 0., 0., 0., 0., 0., 0., 0., 0.,\n",
              "         0., 0., 0., 0., 0., 0., 0., 0., 0., 0., 0., 0., 0., 0., 0., 0.,\n",
              "         0., 0., 0., 0., 0., 0., 0., 0., 0., 0., 0., 0., 0., 0., 0., 0.,\n",
              "         0., 0., 0., 0., 0., 0., 0., 0., 0., 0., 0., 0., 0., 0., 0., 0.,\n",
              "         0., 0., 0., 0., 0., 0., 0., 0., 0., 0., 0., 0., 0., 0., 0., 0.,\n",
              "         0., 0., 0., 0., 0., 0., 0., 0.]])"
            ]
          },
          "metadata": {
            "tags": []
          },
          "execution_count": 20
        }
      ]
    },
    {
      "cell_type": "markdown",
      "metadata": {
        "id": "VWaJ9naXfoiU",
        "colab_type": "text"
      },
      "source": [
        "## Preparing training dataset\n",
        "1. Write a code which reads each and every id from labels.csv file and loads the corresponding image (in RGB - 128, 128, 3) from the train folder. <br>\n",
        "2. Create 2 variables <br> \n",
        "     a.  x_train - Should have all the images of the dogs from train folder <br>\n",
        "     b.  y_train - Corresponding label of the dog <br>\n",
        "<u>Note:</u> The id of the dog images and its corresponding labels are available in labels.csv file   \n",
        "<u>Hint:</u> Watch the video shared on \"Preparing the training dataset\" if you face issue on creating the training dataset"
      ]
    },
    {
      "cell_type": "code",
      "metadata": {
        "colab_type": "code",
        "id": "aC2f9ecR0XGR",
        "outputId": "ab7c8b6c-d4cd-43d2-8e9f-f2f2fac1ebca",
        "colab": {
          "base_uri": "https://localhost:8080/",
          "height": 35
        }
      },
      "source": [
        "import cv2\n",
        "\n",
        "j = 1\n",
        "scale =  128\n",
        "train_img = []\n",
        "\n",
        "for file in files:\n",
        "  print('\\r',\"Image Processed : {}/{}\".format(j, filecount), end=\"\")\n",
        "  train_img.append(cv2.resize(cv2.imread(file), (scale, scale)))\n",
        "  j = j + 1"
      ],
      "execution_count": 21,
      "outputs": [
        {
          "output_type": "stream",
          "text": [
            " Image Processed : 10222/10222"
          ],
          "name": "stdout"
        }
      ]
    },
    {
      "cell_type": "code",
      "metadata": {
        "id": "BdTnZ7T3jvA6",
        "colab_type": "code",
        "colab": {}
      },
      "source": [
        "import copy\n",
        "\n",
        "x_train = copy.deepcopy(train_img)"
      ],
      "execution_count": 0,
      "outputs": []
    },
    {
      "cell_type": "code",
      "metadata": {
        "colab_type": "code",
        "id": "nkkZEpOe0ipk",
        "outputId": "d7ae7f7e-3838-4293-e3b9-df0708afdfd0",
        "colab": {
          "base_uri": "https://localhost:8080/",
          "height": 35
        }
      },
      "source": [
        "import numpy as np\n",
        "np.shape(x_train)"
      ],
      "execution_count": 23,
      "outputs": [
        {
          "output_type": "execute_result",
          "data": {
            "text/plain": [
              "(10222, 128, 128, 3)"
            ]
          },
          "metadata": {
            "tags": []
          },
          "execution_count": 23
        }
      ]
    },
    {
      "cell_type": "markdown",
      "metadata": {
        "id": "6ioWDEgElBOs",
        "colab_type": "text"
      },
      "source": [
        "Normalize the training data and convert into 4 dimensions so that it can be used as an input to conv layers in the model"
      ]
    },
    {
      "cell_type": "code",
      "metadata": {
        "colab_type": "code",
        "id": "ARn76j3U1CDa",
        "colab": {}
      },
      "source": [
        "#converting to numpy array\n",
        "x_train = np.asarray(x_train)"
      ],
      "execution_count": 0,
      "outputs": []
    },
    {
      "cell_type": "code",
      "metadata": {
        "id": "kiZ_zQl2E94W",
        "colab_type": "code",
        "colab": {}
      },
      "source": [
        "#normalizing the image pixel\n",
        "x_train = x_train/255"
      ],
      "execution_count": 0,
      "outputs": []
    },
    {
      "cell_type": "code",
      "metadata": {
        "id": "dJn_32Qxmzj5",
        "colab_type": "code",
        "outputId": "da9ad984-3132-4251-be9c-394da33d3420",
        "colab": {
          "base_uri": "https://localhost:8080/",
          "height": 35
        }
      },
      "source": [
        "np.shape(x_train)"
      ],
      "execution_count": 26,
      "outputs": [
        {
          "output_type": "execute_result",
          "data": {
            "text/plain": [
              "(10222, 128, 128, 3)"
            ]
          },
          "metadata": {
            "tags": []
          },
          "execution_count": 26
        }
      ]
    },
    {
      "cell_type": "markdown",
      "metadata": {
        "colab_type": "text",
        "id": "bdCXuAE11gZL"
      },
      "source": [
        "### Split the training and validation data from `x_train_data` and `y_train_data` obtained from above step"
      ]
    },
    {
      "cell_type": "code",
      "metadata": {
        "id": "kpWx-pgV96Jv",
        "colab_type": "code",
        "colab": {}
      },
      "source": [
        "from sklearn.model_selection import train_test_split\n",
        "\n",
        "X_train, X_Val, y_train, y_Val = train_test_split(x_train, y_train, test_size=0.25, random_state=42)"
      ],
      "execution_count": 0,
      "outputs": []
    },
    {
      "cell_type": "markdown",
      "metadata": {
        "colab_type": "text",
        "id": "XkL-N1jDsU8m"
      },
      "source": [
        "### Loading the test data\n",
        "Read the id column from the samples_submission.csv and store it in test_img"
      ]
    },
    {
      "cell_type": "code",
      "metadata": {
        "colab_type": "code",
        "id": "DnpXdpd9b3E7",
        "colab": {}
      },
      "source": [
        "ss = pd.read_csv(\"sample_submission.csv\")"
      ],
      "execution_count": 0,
      "outputs": []
    },
    {
      "cell_type": "code",
      "metadata": {
        "id": "oC6q2N8zA61i",
        "colab_type": "code",
        "colab": {}
      },
      "source": [
        "test_img = ss['id'].tolist()"
      ],
      "execution_count": 0,
      "outputs": []
    },
    {
      "cell_type": "code",
      "metadata": {
        "id": "egF4uaXoBE3G",
        "colab_type": "code",
        "outputId": "15e6c314-c484-43dd-f632-09a89030c4c1",
        "colab": {
          "base_uri": "https://localhost:8080/",
          "height": 35
        }
      },
      "source": [
        "testlen = len(test_img)\n",
        "print(testlen)"
      ],
      "execution_count": 30,
      "outputs": [
        {
          "output_type": "stream",
          "text": [
            "10357\n"
          ],
          "name": "stdout"
        }
      ]
    },
    {
      "cell_type": "markdown",
      "metadata": {
        "id": "DEJqZIMbm0Jo",
        "colab_type": "text"
      },
      "source": [
        "Run the below code to load the test image files in x_test_feature"
      ]
    },
    {
      "cell_type": "code",
      "metadata": {
        "id": "fU8GEmTiC2n6",
        "colab_type": "code",
        "colab": {}
      },
      "source": [
        "testpth = \"/content/Anton/My Drive/Colab Notebooks/CNN/test/\""
      ],
      "execution_count": 0,
      "outputs": []
    },
    {
      "cell_type": "code",
      "metadata": {
        "colab_type": "code",
        "id": "zf7n4WG-b3Hv",
        "outputId": "ab261b5f-8620-4bd4-bb15-e5c1183b66c7",
        "colab": {
          "base_uri": "https://localhost:8080/",
          "height": 35
        }
      },
      "source": [
        "scale = 128\n",
        "x_test_feature = []\n",
        "i = 1 # initialisation\n",
        "for f in test_img:\n",
        "  print('\\r',\"Image Processed : {}/{}\".format(i, testlen),end='')\n",
        "  img = cv2.imread(testpth + '{}.jpg'.format(f))\n",
        "  img_resize = cv2.resize(img, (scale, scale)) \n",
        "  x_test_feature.append(img_resize)\n",
        "  i = i + 1"
      ],
      "execution_count": 32,
      "outputs": [
        {
          "output_type": "stream",
          "text": [
            " Image Processed : 10357/10357"
          ],
          "name": "stdout"
        }
      ]
    },
    {
      "cell_type": "markdown",
      "metadata": {
        "id": "9My6qSyDnE-_",
        "colab_type": "text"
      },
      "source": [
        "Normalize the test data and convert it into 4 dimensions"
      ]
    },
    {
      "cell_type": "code",
      "metadata": {
        "id": "93n-IntMnJGI",
        "colab_type": "code",
        "colab": {}
      },
      "source": [
        "#converting to numpy array\n",
        "x_test_feature = np.asarray(x_test_feature)\n",
        "\n",
        "#normalizing the image pixel\n",
        "x_test_feature = x_test_feature/255"
      ],
      "execution_count": 0,
      "outputs": []
    },
    {
      "cell_type": "code",
      "metadata": {
        "id": "7y3HFYv0-oEW",
        "colab_type": "code",
        "outputId": "52f01b7f-2d23-4229-d091-f1659e2694e9",
        "colab": {
          "base_uri": "https://localhost:8080/",
          "height": 35
        }
      },
      "source": [
        "np.shape(x_test_feature)"
      ],
      "execution_count": 34,
      "outputs": [
        {
          "output_type": "execute_result",
          "data": {
            "text/plain": [
              "(10357, 128, 128, 3)"
            ]
          },
          "metadata": {
            "tags": []
          },
          "execution_count": 34
        }
      ]
    },
    {
      "cell_type": "markdown",
      "metadata": {
        "colab_type": "text",
        "id": "zKezNJVMsocP"
      },
      "source": [
        "### Build a basic conv neural network with 2 conv layers (kernel sizes - 5 and 3) add layers as mentioned below for classification.\n",
        "\n",
        "1. Add a Dense layer with 256 neurons with `relu` activation\n",
        "\n",
        "2. Add a Dense layer with 120 neurons as final layer (as there are 120 classes in the given dataset) with `softmax` activation for classifiaction. "
      ]
    },
    {
      "cell_type": "code",
      "metadata": {
        "id": "D2jxTY2S96J4",
        "colab_type": "code",
        "colab": {}
      },
      "source": [
        "from tensorflow.keras.backend import clear_session\n",
        "clear_session()"
      ],
      "execution_count": 0,
      "outputs": []
    },
    {
      "cell_type": "code",
      "metadata": {
        "id": "f_BAvCzo96J6",
        "colab_type": "code",
        "colab": {}
      },
      "source": [
        "from tensorflow.keras import datasets, layers, models\n",
        "\n",
        "model = models.Sequential()\n",
        "model.add(layers.Conv2D(64, (5, 5), activation='relu', input_shape=(scale, scale, 3)))\n",
        "model.add(layers.Conv2D(32, (3, 3), activation='relu'))\n",
        "model.add(layers.Flatten())\n",
        "model.add(layers.Dense(256, activation='relu'))\n",
        "model.add(layers.Dense(120, activation='softmax'))"
      ],
      "execution_count": 0,
      "outputs": []
    },
    {
      "cell_type": "code",
      "metadata": {
        "id": "r-r3caJG2rvw",
        "colab_type": "code",
        "outputId": "ff54d13a-d350-4ceb-fb6d-3d37b30ed86e",
        "colab": {
          "base_uri": "https://localhost:8080/",
          "height": 323
        }
      },
      "source": [
        "model.summary()"
      ],
      "execution_count": 0,
      "outputs": [
        {
          "output_type": "stream",
          "text": [
            "Model: \"sequential\"\n",
            "_________________________________________________________________\n",
            "Layer (type)                 Output Shape              Param #   \n",
            "=================================================================\n",
            "conv2d (Conv2D)              (None, 124, 124, 64)      4864      \n",
            "_________________________________________________________________\n",
            "conv2d_1 (Conv2D)            (None, 122, 122, 32)      18464     \n",
            "_________________________________________________________________\n",
            "flatten (Flatten)            (None, 476288)            0         \n",
            "_________________________________________________________________\n",
            "dense (Dense)                (None, 256)               121929984 \n",
            "_________________________________________________________________\n",
            "dense_1 (Dense)              (None, 120)               30840     \n",
            "=================================================================\n",
            "Total params: 121,984,152\n",
            "Trainable params: 121,984,152\n",
            "Non-trainable params: 0\n",
            "_________________________________________________________________\n"
          ],
          "name": "stdout"
        }
      ]
    },
    {
      "cell_type": "code",
      "metadata": {
        "id": "GBfEQVek20wi",
        "colab_type": "code",
        "colab": {}
      },
      "source": [
        "model.compile(optimizer='adam',\n",
        "              loss='categorical_crossentropy',\n",
        "              metrics=['accuracy'])"
      ],
      "execution_count": 0,
      "outputs": []
    },
    {
      "cell_type": "markdown",
      "metadata": {
        "id": "ui8EXw6_oqpR",
        "colab_type": "text"
      },
      "source": [
        "### Use batch_size = 128 and epochs = 10 and execute the model"
      ]
    },
    {
      "cell_type": "code",
      "metadata": {
        "id": "IriIc37NozbK",
        "colab_type": "code",
        "outputId": "80f767e3-dd6e-4f18-eda2-4908d2025bb0",
        "colab": {
          "base_uri": "https://localhost:8080/",
          "height": 357
        }
      },
      "source": [
        "history = model.fit(X_train, y_train, epochs=10, batch_size=128, validation_data=(X_Val, y_Val))"
      ],
      "execution_count": 0,
      "outputs": [
        {
          "output_type": "stream",
          "text": [
            "Epoch 1/10\n",
            "56/56 [==============================] - 7s 129ms/step - loss: 5.5784 - accuracy: 0.0077 - val_loss: 4.7867 - val_accuracy: 0.0098\n",
            "Epoch 2/10\n",
            "56/56 [==============================] - 7s 117ms/step - loss: 4.7890 - accuracy: 0.0105 - val_loss: 4.7859 - val_accuracy: 0.0104\n",
            "Epoch 3/10\n",
            "56/56 [==============================] - 7s 118ms/step - loss: 4.7769 - accuracy: 0.0157 - val_loss: 4.7728 - val_accuracy: 0.0166\n",
            "Epoch 4/10\n",
            "56/56 [==============================] - 7s 118ms/step - loss: 4.3440 - accuracy: 0.1196 - val_loss: 4.8671 - val_accuracy: 0.0205\n",
            "Epoch 5/10\n",
            "56/56 [==============================] - 7s 118ms/step - loss: 2.4356 - accuracy: 0.4797 - val_loss: 6.6471 - val_accuracy: 0.0183\n",
            "Epoch 6/10\n",
            "56/56 [==============================] - 7s 118ms/step - loss: 0.8174 - accuracy: 0.8309 - val_loss: 9.9190 - val_accuracy: 0.0186\n",
            "Epoch 7/10\n",
            "56/56 [==============================] - 6s 116ms/step - loss: 0.2502 - accuracy: 0.9614 - val_loss: 12.3185 - val_accuracy: 0.0218\n",
            "Epoch 8/10\n",
            "56/56 [==============================] - 7s 116ms/step - loss: 0.1110 - accuracy: 0.9855 - val_loss: 13.2333 - val_accuracy: 0.0202\n",
            "Epoch 9/10\n",
            "56/56 [==============================] - 7s 116ms/step - loss: 0.0679 - accuracy: 0.9912 - val_loss: 14.1218 - val_accuracy: 0.0192\n",
            "Epoch 10/10\n",
            "56/56 [==============================] - 6s 116ms/step - loss: 0.0518 - accuracy: 0.9939 - val_loss: 15.2924 - val_accuracy: 0.0192\n"
          ],
          "name": "stdout"
        }
      ]
    },
    {
      "cell_type": "code",
      "metadata": {
        "id": "0PR9j5_Xozmd",
        "colab_type": "code",
        "outputId": "8b41c8b6-8d7d-452f-abee-f75e4c0cb06a",
        "colab": {
          "base_uri": "https://localhost:8080/",
          "height": 573
        }
      },
      "source": [
        "import matplotlib.pyplot as plt\n",
        "%matplotlib inline\n",
        "\n",
        "accuracy =  history.history['accuracy']\n",
        "val_accuracy = history.history['val_accuracy']\n",
        "\n",
        "plt.plot(accuracy)\n",
        "plt.plot(val_accuracy)\n",
        "plt.title('Model accuracy')\n",
        "plt.ylabel('Accuracy')\n",
        "plt.xlabel('Epoch')\n",
        "plt.legend(['Train', 'Test'], loc='upper left')\n",
        "plt.show()\n",
        "\n",
        "\n",
        "# Plot training & validation loss values\n",
        "plt.plot(history.history['loss'])\n",
        "plt.plot(history.history['val_loss'])\n",
        "plt.title('Model loss')\n",
        "plt.ylabel('Loss')\n",
        "plt.xlabel('Epoch')\n",
        "plt.legend(['Train', 'Test'], loc='upper left')\n",
        "plt.show()"
      ],
      "execution_count": 0,
      "outputs": [
        {
          "output_type": "display_data",
          "data": {
            "image/png": "[encoded data removed]",
            "text/plain": [
              "<Figure size 432x288 with 1 Axes>"
            ]
          },
          "metadata": {
            "tags": [],
            "needs_background": "light"
          }
        },
        {
          "output_type": "display_data",
          "data": {
            "image/png": "[encoded data removed]",
            "text/plain": [
              "<Figure size 432x288 with 1 Axes>"
            ]
          },
          "metadata": {
            "tags": [],
            "needs_background": "light"
          }
        }
      ]
    },
    {
      "cell_type": "markdown",
      "metadata": {
        "id": "Z8hWaKmjoz69",
        "colab_type": "text"
      },
      "source": [
        "#The model accuracy is very poor !!!!"
      ]
    },
    {
      "cell_type": "markdown",
      "metadata": {
        "colab_type": "text",
        "id": "agJKkc6xtKiq"
      },
      "source": [
        "### Use Data Augmentation in the above model to see if the accuracy improves\n"
      ]
    },
    {
      "cell_type": "code",
      "metadata": {
        "colab_type": "code",
        "id": "31Mn8qnZb3Ru",
        "colab": {}
      },
      "source": [
        "# implementing ImageDataGenerator\n",
        "from tensorflow.keras.preprocessing.image import ImageDataGenerator\n",
        "\n",
        "datagen1 = ImageDataGenerator(\n",
        "        rotation_range = 180,  # randomly rotate images in the range (degrees, 0 to 180)\n",
        "        zoom_range = 0.3, # Randomly zoom image \n",
        "        shear_range = 0.5,# shear angle in counter-clockwise direction in degrees  \n",
        "        width_shift_range=0.08,  # randomly shift images horizontally (fraction of total width)\n",
        "        height_shift_range=0.08,  # randomly shift images vertically (fraction of total height)\n",
        "        vertical_flip=True,\n",
        "        horizontal_flip=True)"
      ],
      "execution_count": 0,
      "outputs": []
    },
    {
      "cell_type": "code",
      "metadata": {
        "id": "gDLQVFDP96KI",
        "colab_type": "code",
        "colab": {}
      },
      "source": [
        "datagen1.fit(X_train)"
      ],
      "execution_count": 0,
      "outputs": []
    },
    {
      "cell_type": "code",
      "metadata": {
        "colab_type": "code",
        "id": "bqTlW0qHb3Xb",
        "outputId": "a5b92d12-6839-489d-dd95-e6738c8e744f",
        "colab": {
          "base_uri": "https://localhost:8080/",
          "height": 89
        }
      },
      "source": [
        "gen = datagen1.flow(X_train[10:11], batch_size=1)\n",
        "for i in range(1, 6):\n",
        "    plt.subplot(1,5,i)\n",
        "    plt.axis(\"off\")\n",
        "    plt.imshow(gen.next().squeeze(), cmap='gray')\n",
        "    plt.plot()\n",
        "plt.show()"
      ],
      "execution_count": 0,
      "outputs": [
        {
          "output_type": "display_data",
          "data": {
            "image/png": "[encoded data removed]",
            "text/plain": [
              "<Figure size 432x288 with 5 Axes>"
            ]
          },
          "metadata": {
            "tags": [],
            "needs_background": "light"
          }
        }
      ]
    },
    {
      "cell_type": "code",
      "metadata": {
        "id": "k3vNglLSrbZL",
        "colab_type": "code",
        "outputId": "9b2b4356-41e8-4183-fed6-c32b994df0af",
        "colab": {
          "base_uri": "https://localhost:8080/",
          "height": 357
        }
      },
      "source": [
        "history = model.fit(datagen1.flow(X_train, y_train, batch_size = 128), epochs = 10, \n",
        "                              validation_data = (X_Val, y_Val), verbose=2, \n",
        "                              steps_per_epoch=X_train.shape[0] // 128)"
      ],
      "execution_count": 0,
      "outputs": [
        {
          "output_type": "stream",
          "text": [
            "Epoch 1/10\n",
            "55/55 - 22s - loss: 5.1222 - accuracy: 0.0087 - val_loss: 4.7786 - val_accuracy: 0.0153\n",
            "Epoch 2/10\n",
            "55/55 - 22s - loss: 4.7700 - accuracy: 0.0131 - val_loss: 4.7765 - val_accuracy: 0.0091\n",
            "Epoch 3/10\n",
            "55/55 - 22s - loss: 4.7634 - accuracy: 0.0141 - val_loss: 4.7667 - val_accuracy: 0.0173\n",
            "Epoch 4/10\n",
            "55/55 - 22s - loss: 4.7496 - accuracy: 0.0164 - val_loss: 4.7750 - val_accuracy: 0.0127\n",
            "Epoch 5/10\n",
            "55/55 - 22s - loss: 4.7465 - accuracy: 0.0157 - val_loss: 4.7432 - val_accuracy: 0.0183\n",
            "Epoch 6/10\n",
            "55/55 - 22s - loss: 4.7226 - accuracy: 0.0179 - val_loss: 4.7261 - val_accuracy: 0.0137\n",
            "Epoch 7/10\n",
            "55/55 - 22s - loss: 4.7062 - accuracy: 0.0208 - val_loss: 4.7215 - val_accuracy: 0.0189\n",
            "Epoch 8/10\n",
            "55/55 - 22s - loss: 4.7120 - accuracy: 0.0206 - val_loss: 4.7545 - val_accuracy: 0.0143\n",
            "Epoch 9/10\n",
            "55/55 - 22s - loss: 4.6859 - accuracy: 0.0204 - val_loss: 4.6721 - val_accuracy: 0.0196\n",
            "Epoch 10/10\n",
            "55/55 - 22s - loss: 4.6732 - accuracy: 0.0211 - val_loss: 4.6650 - val_accuracy: 0.0228\n"
          ],
          "name": "stdout"
        }
      ]
    },
    {
      "cell_type": "markdown",
      "metadata": {
        "colab_type": "text",
        "id": "6sssbaTfxlkk"
      },
      "source": [
        "### Using the above objects, create the image generators with variable names `train_generator` and `val_generator`\n",
        "\n",
        "You need to use train_datagen.flow() and val_datagen.flow()"
      ]
    },
    {
      "cell_type": "code",
      "metadata": {
        "id": "sehaRgT-96KQ",
        "colab_type": "code",
        "colab": {}
      },
      "source": [
        "train_datagen = ImageDataGenerator(\n",
        "        rotation_range = 180,  # randomly rotate images in the range (degrees, 0 to 180)\n",
        "        zoom_range = 0.3, # Randomly zoom image \n",
        "        shear_range = 0.5,# shear angle in counter-clockwise direction in degrees  \n",
        "        width_shift_range=0.08,  # randomly shift images horizontally (fraction of total width)\n",
        "        height_shift_range=0.08,  # randomly shift images vertically (fraction of total height)\n",
        "        vertical_flip=True,\n",
        "        horizontal_flip=True)\n",
        "\n",
        "val_datagen = ImageDataGenerator(\n",
        "        rotation_range = 180,  # randomly rotate images in the range (degrees, 0 to 180)\n",
        "        zoom_range = 0.3, # Randomly zoom image \n",
        "        shear_range = 0.5,# shear angle in counter-clockwise direction in degrees  \n",
        "        width_shift_range=0.08,  # randomly shift images horizontally (fraction of total width)\n",
        "        height_shift_range=0.08,  # randomly shift images vertically (fraction of total height)\n",
        "        vertical_flip=True,\n",
        "        horizontal_flip=True)"
      ],
      "execution_count": 0,
      "outputs": []
    },
    {
      "cell_type": "code",
      "metadata": {
        "id": "fLN_haywbQdt",
        "colab_type": "code",
        "colab": {}
      },
      "source": [
        "train_datagen.fit(X_train)\n",
        "val_datagen.fit(X_Val)"
      ],
      "execution_count": 0,
      "outputs": []
    },
    {
      "cell_type": "code",
      "metadata": {
        "id": "sxmcqrRKbNL2",
        "colab_type": "code",
        "colab": {}
      },
      "source": [
        "train_generator = train_datagen.flow(X_train, y_train)\n",
        "val_generator = train_datagen.flow(X_Val, y_Val)"
      ],
      "execution_count": 0,
      "outputs": []
    },
    {
      "cell_type": "markdown",
      "metadata": {
        "colab_type": "text",
        "id": "TVFQJZw3x4-C"
      },
      "source": [
        "### Fit the model using fit_generator() using `train_generator` and `val_generator` from the above step with 10 epochs"
      ]
    },
    {
      "cell_type": "code",
      "metadata": {
        "colab_type": "code",
        "id": "J1K2MqHbuPUa",
        "outputId": "fe8d8bf6-cbe2-45e3-b1c6-6f2af19f01b8",
        "colab": {
          "base_uri": "https://localhost:8080/",
          "height": 357
        }
      },
      "source": [
        "history = model.fit(train_datagen.flow(X_train, y_train, batch_size = 128), epochs = 10, \n",
        "                              validation_data = (X_Val, y_Val), verbose=2, \n",
        "                              steps_per_epoch=X_train.shape[0] // 128)"
      ],
      "execution_count": 0,
      "outputs": [
        {
          "output_type": "stream",
          "text": [
            "Epoch 1/10\n",
            "55/55 - 22s - loss: 4.6532 - accuracy: 0.0214 - val_loss: 4.6530 - val_accuracy: 0.0186\n",
            "Epoch 2/10\n",
            "55/55 - 22s - loss: 4.6628 - accuracy: 0.0211 - val_loss: 4.6571 - val_accuracy: 0.0147\n",
            "Epoch 3/10\n",
            "55/55 - 22s - loss: 4.6483 - accuracy: 0.0213 - val_loss: 4.6273 - val_accuracy: 0.0212\n",
            "Epoch 4/10\n",
            "55/55 - 22s - loss: 4.6345 - accuracy: 0.0198 - val_loss: 4.6426 - val_accuracy: 0.0202\n",
            "Epoch 5/10\n",
            "55/55 - 22s - loss: 4.6278 - accuracy: 0.0226 - val_loss: 4.6368 - val_accuracy: 0.0130\n",
            "Epoch 6/10\n",
            "55/55 - 22s - loss: 4.6060 - accuracy: 0.0243 - val_loss: 4.6225 - val_accuracy: 0.0209\n",
            "Epoch 7/10\n",
            "55/55 - 22s - loss: 4.6493 - accuracy: 0.0232 - val_loss: 4.6215 - val_accuracy: 0.0176\n",
            "Epoch 8/10\n",
            "55/55 - 23s - loss: 4.6026 - accuracy: 0.0226 - val_loss: 4.6142 - val_accuracy: 0.0209\n",
            "Epoch 9/10\n",
            "55/55 - 24s - loss: 4.5890 - accuracy: 0.0252 - val_loss: 4.6007 - val_accuracy: 0.0218\n",
            "Epoch 10/10\n",
            "55/55 - 23s - loss: 4.5923 - accuracy: 0.0262 - val_loss: 4.6112 - val_accuracy: 0.0173\n"
          ],
          "name": "stdout"
        }
      ]
    },
    {
      "cell_type": "markdown",
      "metadata": {
        "id": "Q2zmLztqo5DY",
        "colab_type": "text"
      },
      "source": [
        "# Model accuracy is still poor!!!"
      ]
    },
    {
      "cell_type": "markdown",
      "metadata": {
        "id": "rSTATrhsAo7L",
        "colab_type": "text"
      },
      "source": [
        "### Lets use Transfer Learning\n",
        "\n",
        "Download the vgg wieght file from here : https://github.com/MinerKasch/applied_deep_learning/blob/master/vgg16_weights_tf_dim_ordering_tf_kernels_notop.h5"
      ]
    },
    {
      "cell_type": "markdown",
      "metadata": {
        "id": "zy5JdbW6pIvD",
        "colab_type": "text"
      },
      "source": [
        "Use the below code to load VGG16 weights trained on ImageNet"
      ]
    },
    {
      "cell_type": "code",
      "metadata": {
        "id": "yrqs0zg7ApNw",
        "colab_type": "code",
        "colab": {
          "base_uri": "https://localhost:8080/",
          "height": 52
        },
        "outputId": "8d43d14d-9f40-4f63-c7af-b203a6db4cf4"
      },
      "source": [
        "from tensorflow.keras.applications import VGG16\n",
        "from tensorflow.keras.layers import Input\n",
        "\n",
        "\n",
        "base_model= VGG16(weights='imagenet',include_top=False, pooling='avg',input_tensor=Input(shape=(128, 128, 3)))"
      ],
      "execution_count": 36,
      "outputs": [
        {
          "output_type": "stream",
          "text": [
            "Downloading data from https://storage.googleapis.com/tensorflow/keras-applications/vgg16/vgg16_weights_tf_dim_ordering_tf_kernels_notop.h5\n",
            "58892288/58889256 [==============================] - 1s 0us/step\n"
          ],
          "name": "stdout"
        }
      ]
    },
    {
      "cell_type": "markdown",
      "metadata": {
        "id": "EItOlRBGpV_A",
        "colab_type": "text"
      },
      "source": [
        "Print the summary of the base_model"
      ]
    },
    {
      "cell_type": "code",
      "metadata": {
        "id": "lQsEBgnlpHjH",
        "colab_type": "code",
        "outputId": "67a73e0f-8b47-4c0d-ad01-232b85667e43",
        "colab": {
          "base_uri": "https://localhost:8080/",
          "height": 849
        }
      },
      "source": [
        "base_model.summary()"
      ],
      "execution_count": 37,
      "outputs": [
        {
          "output_type": "stream",
          "text": [
            "Model: \"vgg16\"\n",
            "_________________________________________________________________\n",
            "Layer (type)                 Output Shape              Param #   \n",
            "=================================================================\n",
            "input_1 (InputLayer)         [(None, 128, 128, 3)]     0         \n",
            "_________________________________________________________________\n",
            "block1_conv1 (Conv2D)        (None, 128, 128, 64)      1792      \n",
            "_________________________________________________________________\n",
            "block1_conv2 (Conv2D)        (None, 128, 128, 64)      36928     \n",
            "_________________________________________________________________\n",
            "block1_pool (MaxPooling2D)   (None, 64, 64, 64)        0         \n",
            "_________________________________________________________________\n",
            "block2_conv1 (Conv2D)        (None, 64, 64, 128)       73856     \n",
            "_________________________________________________________________\n",
            "block2_conv2 (Conv2D)        (None, 64, 64, 128)       147584    \n",
            "_________________________________________________________________\n",
            "block2_pool (MaxPooling2D)   (None, 32, 32, 128)       0         \n",
            "_________________________________________________________________\n",
            "block3_conv1 (Conv2D)        (None, 32, 32, 256)       295168    \n",
            "_________________________________________________________________\n",
            "block3_conv2 (Conv2D)        (None, 32, 32, 256)       590080    \n",
            "_________________________________________________________________\n",
            "block3_conv3 (Conv2D)        (None, 32, 32, 256)       590080    \n",
            "_________________________________________________________________\n",
            "block3_pool (MaxPooling2D)   (None, 16, 16, 256)       0         \n",
            "_________________________________________________________________\n",
            "block4_conv1 (Conv2D)        (None, 16, 16, 512)       1180160   \n",
            "_________________________________________________________________\n",
            "block4_conv2 (Conv2D)        (None, 16, 16, 512)       2359808   \n",
            "_________________________________________________________________\n",
            "block4_conv3 (Conv2D)        (None, 16, 16, 512)       2359808   \n",
            "_________________________________________________________________\n",
            "block4_pool (MaxPooling2D)   (None, 8, 8, 512)         0         \n",
            "_________________________________________________________________\n",
            "block5_conv1 (Conv2D)        (None, 8, 8, 512)         2359808   \n",
            "_________________________________________________________________\n",
            "block5_conv2 (Conv2D)        (None, 8, 8, 512)         2359808   \n",
            "_________________________________________________________________\n",
            "block5_conv3 (Conv2D)        (None, 8, 8, 512)         2359808   \n",
            "_________________________________________________________________\n",
            "block5_pool (MaxPooling2D)   (None, 4, 4, 512)         0         \n",
            "_________________________________________________________________\n",
            "global_average_pooling2d (Gl (None, 512)               0         \n",
            "=================================================================\n",
            "Total params: 14,714,688\n",
            "Trainable params: 14,714,688\n",
            "Non-trainable params: 0\n",
            "_________________________________________________________________\n"
          ],
          "name": "stdout"
        }
      ]
    },
    {
      "cell_type": "markdown",
      "metadata": {
        "id": "LeQem0pHITIj",
        "colab_type": "text"
      },
      "source": [
        "### Make all the layers in the base_model (VGG16) to be non-trainable"
      ]
    },
    {
      "cell_type": "code",
      "metadata": {
        "id": "61FHrrJoPc0t",
        "colab_type": "code",
        "outputId": "3950fbc4-9bbf-4c4e-c128-9c6062ef61fe",
        "colab": {
          "base_uri": "https://localhost:8080/",
          "height": 364
        }
      },
      "source": [
        "for layer in base_model.layers:\n",
        "  layer.trainable = False\n",
        "\n",
        "for layer in base_model.layers:\n",
        "  print(layer, layer.trainable)"
      ],
      "execution_count": 38,
      "outputs": [
        {
          "output_type": "stream",
          "text": [
            "<tensorflow.python.keras.engine.input_layer.InputLayer object at 0x7f4b213646d8> False\n",
            "<tensorflow.python.keras.layers.convolutional.Conv2D object at 0x7f4ad8fea4e0> False\n",
            "<tensorflow.python.keras.layers.convolutional.Conv2D object at 0x7f4ad8fea7f0> False\n",
            "<tensorflow.python.keras.layers.pooling.MaxPooling2D object at 0x7f4ad9018978> False\n",
            "<tensorflow.python.keras.layers.convolutional.Conv2D object at 0x7f4ad9018b38> False\n",
            "<tensorflow.python.keras.layers.convolutional.Conv2D object at 0x7f4ad01f3e48> False\n",
            "<tensorflow.python.keras.layers.pooling.MaxPooling2D object at 0x7f4ad01fb400> False\n",
            "<tensorflow.python.keras.layers.convolutional.Conv2D object at 0x7f4ad0206ac8> False\n",
            "<tensorflow.python.keras.layers.convolutional.Conv2D object at 0x7f4ad020e4e0> False\n",
            "<tensorflow.python.keras.layers.convolutional.Conv2D object at 0x7f4ad02153c8> False\n",
            "<tensorflow.python.keras.layers.pooling.MaxPooling2D object at 0x7f4ad0215898> False\n",
            "<tensorflow.python.keras.layers.convolutional.Conv2D object at 0x7f4ad021a198> False\n",
            "<tensorflow.python.keras.layers.convolutional.Conv2D object at 0x7f4ad01a24e0> False\n",
            "<tensorflow.python.keras.layers.convolutional.Conv2D object at 0x7f4ad01a96a0> False\n",
            "<tensorflow.python.keras.layers.pooling.MaxPooling2D object at 0x7f4ad01b15c0> False\n",
            "<tensorflow.python.keras.layers.convolutional.Conv2D object at 0x7f4ad01b1438> False\n",
            "<tensorflow.python.keras.layers.convolutional.Conv2D object at 0x7f4ad01b8780> False\n",
            "<tensorflow.python.keras.layers.convolutional.Conv2D object at 0x7f4ad01bf940> False\n",
            "<tensorflow.python.keras.layers.pooling.MaxPooling2D object at 0x7f4ad01c7860> False\n",
            "<tensorflow.python.keras.layers.pooling.GlobalAveragePooling2D object at 0x7f4ad01c76d8> False\n"
          ],
          "name": "stdout"
        }
      ]
    },
    {
      "cell_type": "markdown",
      "metadata": {
        "id": "fHpeOyW0qauW",
        "colab_type": "text"
      },
      "source": [
        "### Add the following classification layers to the imported VGG Model <br>\n",
        "1. Flatten Layer\n",
        "2. Dense layer with 1024 neurons with activation as Relu\n",
        "3. Dense layer with 256 neurons with activation as Relu\n",
        "4. Dense layer with 120 neurons with activation as Softmax"
      ]
    },
    {
      "cell_type": "code",
      "metadata": {
        "id": "fWodjYpRzJCe",
        "colab_type": "code",
        "colab": {}
      },
      "source": [
        "from tensorflow.keras import layers, Sequential"
      ],
      "execution_count": 0,
      "outputs": []
    },
    {
      "cell_type": "code",
      "metadata": {
        "id": "0BpT4MLkqoaO",
        "colab_type": "code",
        "colab": {}
      },
      "source": [
        "new_model = Sequential()\n",
        "new_model.add(base_model)\n",
        "new_model.add(layers.Flatten())\n",
        "new_model.add(layers.Dense(1024, activation='relu'))\n",
        "new_model.add(layers.Dense(256, activation='relu'))\n",
        "new_model.add(layers.Dense(120, activation='softmax'))"
      ],
      "execution_count": 0,
      "outputs": []
    },
    {
      "cell_type": "markdown",
      "metadata": {
        "id": "kj-BwqgfIkdv",
        "colab_type": "text"
      },
      "source": [
        "### Fit and compile the model with batch_size = 128 and epochs = 10 and execute the model"
      ]
    },
    {
      "cell_type": "markdown",
      "metadata": {
        "id": "YD5fAgVQIpKZ",
        "colab_type": "text"
      },
      "source": [
        "Try to get training and validation accuracy to be more than 90%"
      ]
    },
    {
      "cell_type": "code",
      "metadata": {
        "id": "SZk2SWvjIoRP",
        "colab_type": "code",
        "colab": {}
      },
      "source": [
        "new_model.compile(optimizer='adam',\n",
        "              loss='categorical_crossentropy',\n",
        "              metrics=['accuracy'])"
      ],
      "execution_count": 0,
      "outputs": []
    },
    {
      "cell_type": "code",
      "metadata": {
        "id": "5ogbQgX-2EwZ",
        "colab_type": "code",
        "outputId": "6d7fe1e8-7da3-4cb8-f8c1-d3b8a4b7256f",
        "colab": {
          "base_uri": "https://localhost:8080/",
          "height": 364
        }
      },
      "source": [
        "history = new_model.fit(X_train, y_train, epochs=10, batch_size=128, validation_data=(X_Val, y_Val))"
      ],
      "execution_count": 42,
      "outputs": [
        {
          "output_type": "stream",
          "text": [
            "Epoch 1/10\n",
            "60/60 [==============================] - 10s 168ms/step - loss: 4.7359 - accuracy: 0.0247 - val_loss: 4.6025 - val_accuracy: 0.0348\n",
            "Epoch 2/10\n",
            "60/60 [==============================] - 8s 133ms/step - loss: 4.3262 - accuracy: 0.0659 - val_loss: 4.1477 - val_accuracy: 0.0853\n",
            "Epoch 3/10\n",
            "60/60 [==============================] - 8s 133ms/step - loss: 3.8353 - accuracy: 0.1254 - val_loss: 3.8514 - val_accuracy: 0.1236\n",
            "Epoch 4/10\n",
            "60/60 [==============================] - 8s 133ms/step - loss: 3.4665 - accuracy: 0.1837 - val_loss: 3.5814 - val_accuracy: 0.1553\n",
            "Epoch 5/10\n",
            "60/60 [==============================] - 8s 133ms/step - loss: 3.2200 - accuracy: 0.2195 - val_loss: 3.4847 - val_accuracy: 0.1635\n",
            "Epoch 6/10\n",
            "60/60 [==============================] - 8s 134ms/step - loss: 3.0522 - accuracy: 0.2525 - val_loss: 3.3750 - val_accuracy: 0.1925\n",
            "Epoch 7/10\n",
            "60/60 [==============================] - 8s 134ms/step - loss: 2.9068 - accuracy: 0.2844 - val_loss: 3.3156 - val_accuracy: 0.2019\n",
            "Epoch 8/10\n",
            "60/60 [==============================] - 8s 133ms/step - loss: 2.8072 - accuracy: 0.3002 - val_loss: 3.3091 - val_accuracy: 0.2074\n",
            "Epoch 9/10\n",
            "60/60 [==============================] - 8s 132ms/step - loss: 2.6948 - accuracy: 0.3235 - val_loss: 3.2840 - val_accuracy: 0.2156\n",
            "Epoch 10/10\n",
            "60/60 [==============================] - 8s 132ms/step - loss: 2.6311 - accuracy: 0.3360 - val_loss: 3.2289 - val_accuracy: 0.2175\n"
          ],
          "name": "stdout"
        }
      ]
    },
    {
      "cell_type": "code",
      "metadata": {
        "id": "T9zKSvRU_VDO",
        "colab_type": "code",
        "colab": {}
      },
      "source": [
        "from tensorflow.keras.backend import clear_session\n",
        "clear_session()"
      ],
      "execution_count": 0,
      "outputs": []
    },
    {
      "cell_type": "code",
      "metadata": {
        "id": "XTFFbkWAvd0Q",
        "colab_type": "code",
        "colab": {
          "base_uri": "https://localhost:8080/",
          "height": 52
        },
        "outputId": "a505ae37-e677-4716-af68-5f6bc8e40f5e"
      },
      "source": [
        "from tensorflow.keras.applications.xception import Xception\n",
        "from tensorflow.keras.layers import Input\n",
        "\n",
        "Xception_base_model = Xception(weights='imagenet', include_top=False, input_tensor=Input(shape=(128, 128, 3)))"
      ],
      "execution_count": 43,
      "outputs": [
        {
          "output_type": "stream",
          "text": [
            "Downloading data from https://storage.googleapis.com/tensorflow/keras-applications/xception/xception_weights_tf_dim_ordering_tf_kernels_notop.h5\n",
            "83689472/83683744 [==============================] - 2s 0us/step\n"
          ],
          "name": "stdout"
        }
      ]
    },
    {
      "cell_type": "code",
      "metadata": {
        "id": "USSZEgG9v5ei",
        "colab_type": "code",
        "colab": {}
      },
      "source": [
        "for layer in Xception_base_model.layers:\n",
        "  layer.trainable = False"
      ],
      "execution_count": 0,
      "outputs": []
    },
    {
      "cell_type": "code",
      "metadata": {
        "id": "X3AiPjZdwAIQ",
        "colab_type": "code",
        "colab": {}
      },
      "source": [
        "from tensorflow.keras import layers, Sequential\n",
        "\n",
        "InceptionModel = Sequential()\n",
        "InceptionModel.add(Xception_base_model)\n",
        "InceptionModel.add(layers.Flatten())\n",
        "InceptionModel.add(layers.Dense(1024, activation='relu'))\n",
        "InceptionModel.add(layers.Dense(256, activation='relu'))\n",
        "InceptionModel.add(layers.Dense(120, activation='softmax'))"
      ],
      "execution_count": 0,
      "outputs": []
    },
    {
      "cell_type": "code",
      "metadata": {
        "id": "ja9kmXH-wfFk",
        "colab_type": "code",
        "colab": {}
      },
      "source": [
        "from tensorflow.keras.optimizers import SGD, Adagrad, Adamax\n",
        "\n",
        "sdg = SGD()\n",
        "adgrad =  Adagrad()\n",
        "adamax = Adamax()\n"
      ],
      "execution_count": 0,
      "outputs": []
    },
    {
      "cell_type": "code",
      "metadata": {
        "id": "8KdFGzDAyo2n",
        "colab_type": "code",
        "colab": {}
      },
      "source": [
        "InceptionModel.compile(optimizer=adgrad,\n",
        "              loss='categorical_crossentropy',\n",
        "              metrics=['accuracy'])"
      ],
      "execution_count": 0,
      "outputs": []
    },
    {
      "cell_type": "code",
      "metadata": {
        "id": "OP1Tt8jCwlt0",
        "colab_type": "code",
        "outputId": "5c11d505-150e-4486-92de-c315b987a694",
        "colab": {
          "base_uri": "https://localhost:8080/",
          "height": 1000
        }
      },
      "source": [
        "history = InceptionModel.fit(X_train, y_train, epochs=30, batch_size=128, validation_data=(X_Val, y_Val))"
      ],
      "execution_count": 49,
      "outputs": [
        {
          "output_type": "stream",
          "text": [
            "Epoch 1/30\n",
            "60/60 [==============================] - 8s 135ms/step - loss: 1.4064 - accuracy: 0.6898 - val_loss: 2.5701 - val_accuracy: 0.3697\n",
            "Epoch 2/30\n",
            "60/60 [==============================] - 8s 135ms/step - loss: 1.3179 - accuracy: 0.7131 - val_loss: 2.5538 - val_accuracy: 0.3846\n",
            "Epoch 3/30\n",
            "60/60 [==============================] - 8s 135ms/step - loss: 1.2375 - accuracy: 0.7407 - val_loss: 2.5636 - val_accuracy: 0.3838\n",
            "Epoch 4/30\n",
            "60/60 [==============================] - 8s 135ms/step - loss: 1.1634 - accuracy: 0.7679 - val_loss: 2.5533 - val_accuracy: 0.3818\n",
            "Epoch 5/30\n",
            "60/60 [==============================] - 8s 135ms/step - loss: 1.0963 - accuracy: 0.7912 - val_loss: 2.5415 - val_accuracy: 0.3873\n",
            "Epoch 6/30\n",
            "60/60 [==============================] - 8s 135ms/step - loss: 1.0302 - accuracy: 0.8131 - val_loss: 2.5485 - val_accuracy: 0.3901\n",
            "Epoch 7/30\n",
            "60/60 [==============================] - 8s 135ms/step - loss: 0.9731 - accuracy: 0.8309 - val_loss: 2.5403 - val_accuracy: 0.3940\n",
            "Epoch 8/30\n",
            "60/60 [==============================] - 10s 161ms/step - loss: 0.9178 - accuracy: 0.8489 - val_loss: 2.5412 - val_accuracy: 0.3940\n",
            "Epoch 9/30\n",
            "60/60 [==============================] - 8s 135ms/step - loss: 0.8659 - accuracy: 0.8675 - val_loss: 2.5491 - val_accuracy: 0.3912\n",
            "Epoch 10/30\n",
            "60/60 [==============================] - 8s 135ms/step - loss: 0.8208 - accuracy: 0.8838 - val_loss: 2.5653 - val_accuracy: 0.3846\n",
            "Epoch 11/30\n",
            "60/60 [==============================] - 8s 135ms/step - loss: 0.7746 - accuracy: 0.8962 - val_loss: 2.5516 - val_accuracy: 0.3928\n",
            "Epoch 12/30\n",
            "60/60 [==============================] - 8s 135ms/step - loss: 0.7355 - accuracy: 0.9079 - val_loss: 2.5559 - val_accuracy: 0.3908\n",
            "Epoch 13/30\n",
            "60/60 [==============================] - 8s 134ms/step - loss: 0.6956 - accuracy: 0.9195 - val_loss: 2.5594 - val_accuracy: 0.3897\n",
            "Epoch 14/30\n",
            "60/60 [==============================] - 8s 135ms/step - loss: 0.6604 - accuracy: 0.9290 - val_loss: 2.5583 - val_accuracy: 0.3920\n",
            "Epoch 15/30\n",
            "60/60 [==============================] - 8s 135ms/step - loss: 0.6286 - accuracy: 0.9386 - val_loss: 2.5581 - val_accuracy: 0.3928\n",
            "Epoch 16/30\n",
            "60/60 [==============================] - 9s 143ms/step - loss: 0.5977 - accuracy: 0.9431 - val_loss: 2.5687 - val_accuracy: 0.3967\n",
            "Epoch 17/30\n",
            "60/60 [==============================] - 8s 135ms/step - loss: 0.5685 - accuracy: 0.9508 - val_loss: 2.5795 - val_accuracy: 0.3862\n",
            "Epoch 18/30\n",
            "60/60 [==============================] - 8s 136ms/step - loss: 0.5404 - accuracy: 0.9579 - val_loss: 2.5860 - val_accuracy: 0.3897\n",
            "Epoch 19/30\n",
            "60/60 [==============================] - 8s 135ms/step - loss: 0.5157 - accuracy: 0.9627 - val_loss: 2.5838 - val_accuracy: 0.3983\n",
            "Epoch 20/30\n",
            "60/60 [==============================] - 8s 135ms/step - loss: 0.4915 - accuracy: 0.9673 - val_loss: 2.5848 - val_accuracy: 0.3951\n",
            "Epoch 21/30\n",
            "60/60 [==============================] - 8s 135ms/step - loss: 0.4695 - accuracy: 0.9692 - val_loss: 2.5938 - val_accuracy: 0.3975\n",
            "Epoch 22/30\n",
            "60/60 [==============================] - 8s 135ms/step - loss: 0.4491 - accuracy: 0.9727 - val_loss: 2.5992 - val_accuracy: 0.3928\n",
            "Epoch 23/30\n",
            "60/60 [==============================] - 8s 135ms/step - loss: 0.4294 - accuracy: 0.9763 - val_loss: 2.6024 - val_accuracy: 0.3959\n",
            "Epoch 24/30\n",
            "60/60 [==============================] - 9s 145ms/step - loss: 0.4115 - accuracy: 0.9773 - val_loss: 2.5990 - val_accuracy: 0.3948\n",
            "Epoch 25/30\n",
            "60/60 [==============================] - 9s 143ms/step - loss: 0.3933 - accuracy: 0.9800 - val_loss: 2.6111 - val_accuracy: 0.3959\n",
            "Epoch 26/30\n",
            "60/60 [==============================] - 8s 136ms/step - loss: 0.3773 - accuracy: 0.9819 - val_loss: 2.6159 - val_accuracy: 0.3967\n",
            "Epoch 27/30\n",
            "60/60 [==============================] - 8s 136ms/step - loss: 0.3626 - accuracy: 0.9847 - val_loss: 2.6261 - val_accuracy: 0.3905\n",
            "Epoch 28/30\n",
            "60/60 [==============================] - 8s 136ms/step - loss: 0.3483 - accuracy: 0.9855 - val_loss: 2.6286 - val_accuracy: 0.3940\n",
            "Epoch 29/30\n",
            "60/60 [==============================] - 8s 136ms/step - loss: 0.3347 - accuracy: 0.9867 - val_loss: 2.6282 - val_accuracy: 0.3940\n",
            "Epoch 30/30\n",
            "60/60 [==============================] - 8s 135ms/step - loss: 0.3227 - accuracy: 0.9883 - val_loss: 2.6350 - val_accuracy: 0.3991\n"
          ],
          "name": "stdout"
        }
      ]
    },
    {
      "cell_type": "code",
      "metadata": {
        "id": "Un1bHjLU29YW",
        "colab_type": "code",
        "colab": {
          "base_uri": "https://localhost:8080/",
          "height": 573
        },
        "outputId": "2876ac4e-164f-4618-e8a4-834073056b14"
      },
      "source": [
        "import matplotlib.pyplot as plt\n",
        "%matplotlib inline\n",
        "\n",
        "accuracy =  history.history['accuracy']\n",
        "val_accuracy = history.history['val_accuracy']\n",
        "\n",
        "plt.plot(accuracy)\n",
        "plt.plot(val_accuracy)\n",
        "plt.title('Model accuracy')\n",
        "plt.ylabel('Accuracy')\n",
        "plt.xlabel('Epoch')\n",
        "plt.legend(['Train', 'Test'], loc='upper left')\n",
        "plt.show()\n",
        "\n",
        "\n",
        "# Plot training & validation loss values\n",
        "plt.plot(history.history['loss'])\n",
        "plt.plot(history.history['val_loss'])\n",
        "plt.title('Model loss')\n",
        "plt.ylabel('Loss')\n",
        "plt.xlabel('Epoch')\n",
        "plt.legend(['Train', 'Test'], loc='upper left')\n",
        "plt.show()"
      ],
      "execution_count": 51,
      "outputs": [
        {
          "output_type": "display_data",
          "data": {
            "image/png": "[encoded data removed]",
            "text/plain": [
              "<Figure size 432x288 with 1 Axes>"
            ]
          },
          "metadata": {
            "tags": [],
            "needs_background": "light"
          }
        },
        {
          "output_type": "display_data",
          "data": {
            "image/png": "[encoded data removed]",
            "text/plain": [
              "<Figure size 432x288 with 1 Axes>"
            ]
          },
          "metadata": {
            "tags": [],
            "needs_background": "light"
          }
        }
      ]
    },
    {
      "cell_type": "code",
      "metadata": {
        "id": "A_5t3SX1190F",
        "colab_type": "code",
        "colab": {
          "base_uri": "https://localhost:8080/",
          "height": 243
        },
        "outputId": "9d33414c-b95d-4713-a871-20fce6ef1da9"
      },
      "source": [
        "InceptionModel.predict(x_test_feature)"
      ],
      "execution_count": 50,
      "outputs": [
        {
          "output_type": "execute_result",
          "data": {
            "text/plain": [
              "array([[2.71481235e-06, 5.35646628e-04, 1.49986374e-06, ...,\n",
              "        4.31645913e-06, 3.45253193e-06, 4.41672964e-05],\n",
              "       [2.65310821e-03, 1.08172964e-04, 2.34912159e-06, ...,\n",
              "        2.53573817e-04, 1.13094226e-04, 1.75635665e-04],\n",
              "       [3.23759275e-04, 4.89250273e-01, 1.12242342e-05, ...,\n",
              "        3.96140240e-04, 1.22811366e-03, 3.70847760e-03],\n",
              "       ...,\n",
              "       [6.95248445e-07, 9.94471920e-05, 2.89783816e-06, ...,\n",
              "        1.05176288e-04, 7.01534518e-05, 2.09637033e-03],\n",
              "       [1.08943786e-04, 7.11394299e-04, 4.11109522e-06, ...,\n",
              "        2.60243483e-04, 2.42649112e-02, 1.45575376e-02],\n",
              "       [4.60647743e-06, 2.60573938e-06, 3.18194509e-07, ...,\n",
              "        2.11762427e-03, 3.14694603e-06, 6.69265773e-06]], dtype=float32)"
            ]
          },
          "metadata": {
            "tags": []
          },
          "execution_count": 50
        }
      ]
    },
    {
      "cell_type": "markdown",
      "metadata": {
        "id": "IHUP9Njf2JL3",
        "colab_type": "text"
      },
      "source": [
        "##Summary\n",
        "\n",
        "1.   VGG16 model is not performing as expected.\n",
        "2.   Changed over multiple Optimizer and learning rate to fine tune the paramater but nothing possible improve the performance.\n",
        "3. Was able to get 40% accuracy in InceptionModel with adagrad optimizer.\n",
        "\n"
      ]
    }
  ]
}