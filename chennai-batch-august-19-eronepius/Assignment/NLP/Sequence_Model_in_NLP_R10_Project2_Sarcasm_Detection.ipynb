{
  "nbformat": 4,
  "nbformat_minor": 0,
  "metadata": {
    "accelerator": "GPU",
    "colab": {
      "name": "Sequence_Model_in_NLP_R10_Project2_Sarcasm Detection.ipynb",
      "provenance": [],
      "collapsed_sections": []
    },
    "kernelspec": {
      "display_name": "Python 3",
      "language": "python",
      "name": "python3"
    },
    "language_info": {
      "codemirror_mode": {
        "name": "ipython",
        "version": 3
      },
      "file_extension": ".py",
      "mimetype": "text/x-python",
      "name": "python",
      "nbconvert_exporter": "python",
      "pygments_lexer": "ipython3",
      "version": "3.7.3"
    }
  },
  "cells": [
    {
      "cell_type": "markdown",
      "metadata": {
        "id": "bI7SIeJ_oZMU"
      },
      "source": [
        "<img src=\"http://drive.google.com/uc?export=view&id=1tpOCamr9aWz817atPnyXus8w5gJ3mIts\" width=500px>\n",
        "\n",
        "Proprietary content. © Great Learning. All Rights Reserved. Unauthorized use or distribution prohibited."
      ]
    },
    {
      "cell_type": "markdown",
      "metadata": {
        "id": "Eukag7wEoPZu"
      },
      "source": [
        "### Package Version:\n",
        "- tensorflow==2.2.0\n",
        "- pandas==1.0.5\n",
        "- numpy==1.18.5\n",
        "- google==2.0.3"
      ]
    },
    {
      "cell_type": "markdown",
      "metadata": {
        "id": "pp68FAQf9aMN"
      },
      "source": [
        "# Sarcasm Detection"
      ]
    },
    {
      "cell_type": "markdown",
      "metadata": {
        "id": "bEahVPtWX5ve"
      },
      "source": [
        "### Dataset\n",
        "\n",
        "#### Acknowledgement\n",
        "Misra, Rishabh, and Prahal Arora. \"Sarcasm Detection using Hybrid Neural Network.\" arXiv preprint arXiv:1908.07414 (2019).\n",
        "\n",
        "**Required Files given in below link.**\n",
        "\n",
        "https://drive.google.com/drive/folders/1xUnF35naPGU63xwRDVGc-DkZ3M8V5mMk"
      ]
    },
    {
      "cell_type": "markdown",
      "metadata": {
        "id": "vAk6BRUh8CqL"
      },
      "source": [
        "### Load Data (3 Marks)"
      ]
    },
    {
      "cell_type": "code",
      "metadata": {
        "id": "UxbHY7qT6bc1"
      },
      "source": [
        "import warnings\n",
        "warnings.filterwarnings('ignore')"
      ],
      "execution_count": 1,
      "outputs": []
    },
    {
      "cell_type": "code",
      "metadata": {
        "id": "p6lwMCpOdHVJ",
        "outputId": "d9639bbb-b1b1-46e6-b920-79d3b7dd26f5",
        "colab": {
          "base_uri": "https://localhost:8080/",
          "height": 52
        }
      },
      "source": [
        "from google.colab import drive\n",
        "drive.mount('/content/Anton', force_remount=True)\n",
        "\n",
        "import os\n",
        "\n",
        "project_path = \"/content/Anton/My Drive/Colab Notebooks/NLP/Projects/\"\n",
        "os.chdir(project_path)\n",
        "print(os.getcwd())"
      ],
      "execution_count": 2,
      "outputs": [
        {
          "output_type": "stream",
          "text": [
            "Mounted at /content/Anton\n",
            "/content/Anton/My Drive/Colab Notebooks/NLP/Projects\n"
          ],
          "name": "stdout"
        }
      ]
    },
    {
      "cell_type": "code",
      "metadata": {
        "id": "v8-PQsV0DrAZ",
        "outputId": "dc60deef-6260-4dc6-b155-fcbb8835a1a0",
        "colab": {
          "base_uri": "https://localhost:8080/",
          "height": 202
        }
      },
      "source": [
        "import pandas as pd\n",
        "\n",
        "df = pd.read_json('./Sarcasm_Headlines_Dataset.json',lines=True)\n",
        "\n",
        "df.head()"
      ],
      "execution_count": 3,
      "outputs": [
        {
          "output_type": "execute_result",
          "data": {
            "text/html": [
              "<div>\n",
              "<style scoped>\n",
              "    .dataframe tbody tr th:only-of-type {\n",
              "        vertical-align: middle;\n",
              "    }\n",
              "\n",
              "    .dataframe tbody tr th {\n",
              "        vertical-align: top;\n",
              "    }\n",
              "\n",
              "    .dataframe thead th {\n",
              "        text-align: right;\n",
              "    }\n",
              "</style>\n",
              "<table border=\"1\" class=\"dataframe\">\n",
              "  <thead>\n",
              "    <tr style=\"text-align: right;\">\n",
              "      <th></th>\n",
              "      <th>article_link</th>\n",
              "      <th>headline</th>\n",
              "      <th>is_sarcastic</th>\n",
              "    </tr>\n",
              "  </thead>\n",
              "  <tbody>\n",
              "    <tr>\n",
              "      <th>0</th>\n",
              "      <td>https://www.huffingtonpost.com/entry/versace-b...</td>\n",
              "      <td>former versace store clerk sues over secret 'b...</td>\n",
              "      <td>0</td>\n",
              "    </tr>\n",
              "    <tr>\n",
              "      <th>1</th>\n",
              "      <td>https://www.huffingtonpost.com/entry/roseanne-...</td>\n",
              "      <td>the 'roseanne' revival catches up to our thorn...</td>\n",
              "      <td>0</td>\n",
              "    </tr>\n",
              "    <tr>\n",
              "      <th>2</th>\n",
              "      <td>https://local.theonion.com/mom-starting-to-fea...</td>\n",
              "      <td>mom starting to fear son's web series closest ...</td>\n",
              "      <td>1</td>\n",
              "    </tr>\n",
              "    <tr>\n",
              "      <th>3</th>\n",
              "      <td>https://politics.theonion.com/boehner-just-wan...</td>\n",
              "      <td>boehner just wants wife to listen, not come up...</td>\n",
              "      <td>1</td>\n",
              "    </tr>\n",
              "    <tr>\n",
              "      <th>4</th>\n",
              "      <td>https://www.huffingtonpost.com/entry/jk-rowlin...</td>\n",
              "      <td>j.k. rowling wishes snape happy birthday in th...</td>\n",
              "      <td>0</td>\n",
              "    </tr>\n",
              "  </tbody>\n",
              "</table>\n",
              "</div>"
            ],
            "text/plain": [
              "                                        article_link  ... is_sarcastic\n",
              "0  https://www.huffingtonpost.com/entry/versace-b...  ...            0\n",
              "1  https://www.huffingtonpost.com/entry/roseanne-...  ...            0\n",
              "2  https://local.theonion.com/mom-starting-to-fea...  ...            1\n",
              "3  https://politics.theonion.com/boehner-just-wan...  ...            1\n",
              "4  https://www.huffingtonpost.com/entry/jk-rowlin...  ...            0\n",
              "\n",
              "[5 rows x 3 columns]"
            ]
          },
          "metadata": {
            "tags": []
          },
          "execution_count": 3
        }
      ]
    },
    {
      "cell_type": "markdown",
      "metadata": {
        "id": "z6pXf7A78E2H"
      },
      "source": [
        "### Drop `article_link` from dataset (3 Marks)"
      ]
    },
    {
      "cell_type": "code",
      "metadata": {
        "id": "-WUNHq5zEV0n"
      },
      "source": [
        "df.drop(['article_link'], inplace=True, axis=1)"
      ],
      "execution_count": 4,
      "outputs": []
    },
    {
      "cell_type": "code",
      "metadata": {
        "id": "nQx_A27V5qA4",
        "outputId": "8f7e06e3-a20e-4bba-e0da-63390acd3651",
        "colab": {
          "base_uri": "https://localhost:8080/",
          "height": 313
        }
      },
      "source": [
        "import seaborn as sns\n",
        "import matplotlib.pyplot as plt\n",
        "\n",
        "sns.countplot(df['is_sarcastic'])\n",
        "plt.xlabel('Label')\n",
        "plt.title('Sarcasm vs Non-sarcasm')"
      ],
      "execution_count": 5,
      "outputs": [
        {
          "output_type": "execute_result",
          "data": {
            "text/plain": [
              "Text(0.5, 1.0, 'Sarcasm vs Non-sarcasm')"
            ]
          },
          "metadata": {
            "tags": []
          },
          "execution_count": 5
        },
        {
          "output_type": "display_data",
          "data": {
            "image/png": "[encoded data removed]",
            "text/plain": [
              "<Figure size 432x288 with 1 Axes>"
            ]
          },
          "metadata": {
            "tags": [],
            "needs_background": "light"
          }
        }
      ]
    },
    {
      "cell_type": "markdown",
      "metadata": {
        "id": "D0h6IOxU8OdH"
      },
      "source": [
        "### Get length of each headline and add a column for that (3 Marks)"
      ]
    },
    {
      "cell_type": "code",
      "metadata": {
        "id": "SBHcSzUHpZ2X",
        "outputId": "928229d0-f4e9-4d0c-f464-64e02bc7c702",
        "colab": {
          "base_uri": "https://localhost:8080/",
          "height": 202
        }
      },
      "source": [
        "import re\n",
        "\n",
        "df1 = df\n",
        "df1['headline'] = df1['headline'].apply(lambda s: s.lower())\n",
        "df1['headline'] = df1['headline'].apply(lambda s: re.sub('[^0-9a-z #+_]',' ',s))\n",
        "df1['headline'] = df1['headline'].apply(lambda s: re.sub('[^\\w]',' ',s))\n",
        "df1['headline'] = df1['headline'].apply(lambda s: re.sub(' +', ' ',s))\n",
        "df1['headline'] = df1['headline'].apply(lambda s: s.strip())\n",
        "\n",
        "df1.head()"
      ],
      "execution_count": 6,
      "outputs": [
        {
          "output_type": "execute_result",
          "data": {
            "text/html": [
              "<div>\n",
              "<style scoped>\n",
              "    .dataframe tbody tr th:only-of-type {\n",
              "        vertical-align: middle;\n",
              "    }\n",
              "\n",
              "    .dataframe tbody tr th {\n",
              "        vertical-align: top;\n",
              "    }\n",
              "\n",
              "    .dataframe thead th {\n",
              "        text-align: right;\n",
              "    }\n",
              "</style>\n",
              "<table border=\"1\" class=\"dataframe\">\n",
              "  <thead>\n",
              "    <tr style=\"text-align: right;\">\n",
              "      <th></th>\n",
              "      <th>headline</th>\n",
              "      <th>is_sarcastic</th>\n",
              "    </tr>\n",
              "  </thead>\n",
              "  <tbody>\n",
              "    <tr>\n",
              "      <th>0</th>\n",
              "      <td>former versace store clerk sues over secret bl...</td>\n",
              "      <td>0</td>\n",
              "    </tr>\n",
              "    <tr>\n",
              "      <th>1</th>\n",
              "      <td>the roseanne revival catches up to our thorny ...</td>\n",
              "      <td>0</td>\n",
              "    </tr>\n",
              "    <tr>\n",
              "      <th>2</th>\n",
              "      <td>mom starting to fear son s web series closest ...</td>\n",
              "      <td>1</td>\n",
              "    </tr>\n",
              "    <tr>\n",
              "      <th>3</th>\n",
              "      <td>boehner just wants wife to listen not come up ...</td>\n",
              "      <td>1</td>\n",
              "    </tr>\n",
              "    <tr>\n",
              "      <th>4</th>\n",
              "      <td>j k rowling wishes snape happy birthday in the...</td>\n",
              "      <td>0</td>\n",
              "    </tr>\n",
              "  </tbody>\n",
              "</table>\n",
              "</div>"
            ],
            "text/plain": [
              "                                            headline  is_sarcastic\n",
              "0  former versace store clerk sues over secret bl...             0\n",
              "1  the roseanne revival catches up to our thorny ...             0\n",
              "2  mom starting to fear son s web series closest ...             1\n",
              "3  boehner just wants wife to listen not come up ...             1\n",
              "4  j k rowling wishes snape happy birthday in the...             0"
            ]
          },
          "metadata": {
            "tags": []
          },
          "execution_count": 6
        }
      ]
    },
    {
      "cell_type": "code",
      "metadata": {
        "id": "MLpiBRDmEV2l",
        "outputId": "c91b842d-b235-46fe-dc67-5cf00eec33c3",
        "colab": {
          "base_uri": "https://localhost:8080/",
          "height": 202
        }
      },
      "source": [
        "df1[\"Sent Count\"] = df1['headline'].str.split().str.len()\n",
        "\n",
        "df1.head()"
      ],
      "execution_count": 7,
      "outputs": [
        {
          "output_type": "execute_result",
          "data": {
            "text/html": [
              "<div>\n",
              "<style scoped>\n",
              "    .dataframe tbody tr th:only-of-type {\n",
              "        vertical-align: middle;\n",
              "    }\n",
              "\n",
              "    .dataframe tbody tr th {\n",
              "        vertical-align: top;\n",
              "    }\n",
              "\n",
              "    .dataframe thead th {\n",
              "        text-align: right;\n",
              "    }\n",
              "</style>\n",
              "<table border=\"1\" class=\"dataframe\">\n",
              "  <thead>\n",
              "    <tr style=\"text-align: right;\">\n",
              "      <th></th>\n",
              "      <th>headline</th>\n",
              "      <th>is_sarcastic</th>\n",
              "      <th>Sent Count</th>\n",
              "    </tr>\n",
              "  </thead>\n",
              "  <tbody>\n",
              "    <tr>\n",
              "      <th>0</th>\n",
              "      <td>former versace store clerk sues over secret bl...</td>\n",
              "      <td>0</td>\n",
              "      <td>12</td>\n",
              "    </tr>\n",
              "    <tr>\n",
              "      <th>1</th>\n",
              "      <td>the roseanne revival catches up to our thorny ...</td>\n",
              "      <td>0</td>\n",
              "      <td>14</td>\n",
              "    </tr>\n",
              "    <tr>\n",
              "      <th>2</th>\n",
              "      <td>mom starting to fear son s web series closest ...</td>\n",
              "      <td>1</td>\n",
              "      <td>15</td>\n",
              "    </tr>\n",
              "    <tr>\n",
              "      <th>3</th>\n",
              "      <td>boehner just wants wife to listen not come up ...</td>\n",
              "      <td>1</td>\n",
              "      <td>14</td>\n",
              "    </tr>\n",
              "    <tr>\n",
              "      <th>4</th>\n",
              "      <td>j k rowling wishes snape happy birthday in the...</td>\n",
              "      <td>0</td>\n",
              "      <td>12</td>\n",
              "    </tr>\n",
              "  </tbody>\n",
              "</table>\n",
              "</div>"
            ],
            "text/plain": [
              "                                            headline  is_sarcastic  Sent Count\n",
              "0  former versace store clerk sues over secret bl...             0          12\n",
              "1  the roseanne revival catches up to our thorny ...             0          14\n",
              "2  mom starting to fear son s web series closest ...             1          15\n",
              "3  boehner just wants wife to listen not come up ...             1          14\n",
              "4  j k rowling wishes snape happy birthday in the...             0          12"
            ]
          },
          "metadata": {
            "tags": []
          },
          "execution_count": 7
        }
      ]
    },
    {
      "cell_type": "markdown",
      "metadata": {
        "id": "SMF-wjJ2aMwm"
      },
      "source": [
        "### Initialize parameter values\n",
        "- Set values for max_features, maxlen, & embedding_size\n",
        "- max_features: Number of words to take from tokenizer(most frequent words)\n",
        "- maxlen: Maximum length of each sentence to be limited to 25\n",
        "- embedding_size: size of embedding vector"
      ]
    },
    {
      "cell_type": "code",
      "metadata": {
        "id": "jPw9gAN_EV6m"
      },
      "source": [
        "max_features = 10000\n",
        "maxlen = 25\n",
        "embedding_size = 200"
      ],
      "execution_count": 8,
      "outputs": []
    },
    {
      "cell_type": "markdown",
      "metadata": {
        "id": "9abSe-bM8fn9"
      },
      "source": [
        "### Apply `tensorflow.keras` Tokenizer and get indices for words (3 Marks)\n",
        "- Initialize Tokenizer object with number of words as 10000\n",
        "- Fit the tokenizer object on headline column\n",
        "- Convert the text to sequence\n"
      ]
    },
    {
      "cell_type": "code",
      "metadata": {
        "id": "y8g4l0KfF3eh"
      },
      "source": [
        "from tensorflow.keras.preprocessing.text import Tokenizer\n",
        "\n",
        "tokenizer = Tokenizer(num_words=max_features, split=' ')\n",
        "tokenizer.fit_on_texts(df1['headline'].values)\n",
        "X = tokenizer.texts_to_sequences(df1['headline'].values)"
      ],
      "execution_count": 9,
      "outputs": []
    },
    {
      "cell_type": "markdown",
      "metadata": {
        "id": "xeZpwPO4bOkZ"
      },
      "source": [
        "### Pad sequences (3 Marks)\n",
        "- Pad each example with a maximum length\n",
        "- Convert target column into numpy array"
      ]
    },
    {
      "cell_type": "code",
      "metadata": {
        "id": "qV0K70E5c9Xl"
      },
      "source": [
        "from tensorflow.keras.preprocessing.sequence import pad_sequences\n",
        "\n",
        "X = pad_sequences(X, maxlen=maxlen)"
      ],
      "execution_count": 10,
      "outputs": []
    },
    {
      "cell_type": "code",
      "metadata": {
        "id": "0Nat3q4LwHck"
      },
      "source": [
        "from tensorflow.keras.utils import to_categorical\n",
        "\n",
        "y = to_categorical(df1['is_sarcastic'], num_classes=2)"
      ],
      "execution_count": 11,
      "outputs": []
    },
    {
      "cell_type": "code",
      "metadata": {
        "id": "UWQGLDRQxAC6",
        "outputId": "55673999-0bbb-4a14-d50b-e9a92ad1a7d9",
        "colab": {
          "base_uri": "https://localhost:8080/",
          "height": 139
        }
      },
      "source": [
        "y"
      ],
      "execution_count": 12,
      "outputs": [
        {
          "output_type": "execute_result",
          "data": {
            "text/plain": [
              "array([[1., 0.],\n",
              "       [1., 0.],\n",
              "       [0., 1.],\n",
              "       ...,\n",
              "       [1., 0.],\n",
              "       [1., 0.],\n",
              "       [1., 0.]], dtype=float32)"
            ]
          },
          "metadata": {
            "tags": []
          },
          "execution_count": 12
        }
      ]
    },
    {
      "cell_type": "code",
      "metadata": {
        "id": "iF6NiPRf4BX7"
      },
      "source": [
        "from sklearn.model_selection import train_test_split\n",
        "\n",
        "X_train, X_test, Y_train, Y_test = train_test_split(X,y, test_size = 0.20, random_state = 42)"
      ],
      "execution_count": 13,
      "outputs": []
    },
    {
      "cell_type": "markdown",
      "metadata": {
        "id": "WJLyKg-98rH_"
      },
      "source": [
        "### Vocab mapping\n",
        "- There is no word for 0th index"
      ]
    },
    {
      "cell_type": "code",
      "metadata": {
        "id": "vCNgtnQqdbZn",
        "outputId": "c1061494-4fb5-4ee1-f9e4-680ad70e8af5",
        "colab": {
          "base_uri": "https://localhost:8080/",
          "height": 1000
        }
      },
      "source": [
        "tokenizer.word_index"
      ],
      "execution_count": 14,
      "outputs": [
        {
          "output_type": "execute_result",
          "data": {
            "text/plain": [
              "{'to': 1,\n",
              " 'of': 2,\n",
              " 'the': 3,\n",
              " 's': 4,\n",
              " 'in': 5,\n",
              " 'for': 6,\n",
              " 'a': 7,\n",
              " 'on': 8,\n",
              " 'and': 9,\n",
              " 'with': 10,\n",
              " 'trump': 11,\n",
              " 'is': 12,\n",
              " 'new': 13,\n",
              " 'man': 14,\n",
              " 'from': 15,\n",
              " 'at': 16,\n",
              " 'you': 17,\n",
              " 't': 18,\n",
              " 'it': 19,\n",
              " 'about': 20,\n",
              " 'this': 21,\n",
              " 'by': 22,\n",
              " 'after': 23,\n",
              " 'up': 24,\n",
              " 'out': 25,\n",
              " 'be': 26,\n",
              " 'that': 27,\n",
              " 'how': 28,\n",
              " 'he': 29,\n",
              " 'as': 30,\n",
              " 'not': 31,\n",
              " 'what': 32,\n",
              " 'can': 33,\n",
              " 'are': 34,\n",
              " 'your': 35,\n",
              " 'his': 36,\n",
              " 'who': 37,\n",
              " 'all': 38,\n",
              " 'just': 39,\n",
              " 'has': 40,\n",
              " 'will': 41,\n",
              " 'year': 42,\n",
              " 'more': 43,\n",
              " 'one': 44,\n",
              " 'into': 45,\n",
              " 'report': 46,\n",
              " 'i': 47,\n",
              " 'why': 48,\n",
              " 'have': 49,\n",
              " 'area': 50,\n",
              " 'over': 51,\n",
              " 'woman': 52,\n",
              " 'donald': 53,\n",
              " 'day': 54,\n",
              " 'u': 55,\n",
              " 'says': 56,\n",
              " 'time': 57,\n",
              " 'first': 58,\n",
              " 'obama': 59,\n",
              " 'no': 60,\n",
              " 'like': 61,\n",
              " 'women': 62,\n",
              " 'people': 63,\n",
              " 'get': 64,\n",
              " 'her': 65,\n",
              " 'old': 66,\n",
              " 'world': 67,\n",
              " 'off': 68,\n",
              " 'we': 69,\n",
              " 'life': 70,\n",
              " 'an': 71,\n",
              " 'nation': 72,\n",
              " 'now': 73,\n",
              " 'house': 74,\n",
              " 'clinton': 75,\n",
              " 'they': 76,\n",
              " 'make': 77,\n",
              " 'still': 78,\n",
              " 'white': 79,\n",
              " 'back': 80,\n",
              " 'was': 81,\n",
              " 'than': 82,\n",
              " 'my': 83,\n",
              " 'down': 84,\n",
              " '5': 85,\n",
              " 'if': 86,\n",
              " 'when': 87,\n",
              " 'family': 88,\n",
              " 'could': 89,\n",
              " 'she': 90,\n",
              " 'do': 91,\n",
              " 'before': 92,\n",
              " 'their': 93,\n",
              " 'americans': 94,\n",
              " 'black': 95,\n",
              " 'way': 96,\n",
              " 'gop': 97,\n",
              " 'most': 98,\n",
              " 'school': 99,\n",
              " 'american': 100,\n",
              " 'here': 101,\n",
              " 'study': 102,\n",
              " 'years': 103,\n",
              " 'so': 104,\n",
              " 'best': 105,\n",
              " 'would': 106,\n",
              " '3': 107,\n",
              " 'bill': 108,\n",
              " 'president': 109,\n",
              " 'should': 110,\n",
              " 'show': 111,\n",
              " 'only': 112,\n",
              " 'him': 113,\n",
              " 'america': 114,\n",
              " 'police': 115,\n",
              " 'watch': 116,\n",
              " 'really': 117,\n",
              " 'being': 118,\n",
              " 'but': 119,\n",
              " 'last': 120,\n",
              " 'home': 121,\n",
              " 'state': 122,\n",
              " 'death': 123,\n",
              " '10': 124,\n",
              " 'know': 125,\n",
              " 'mom': 126,\n",
              " 'good': 127,\n",
              " 'things': 128,\n",
              " 'during': 129,\n",
              " 'video': 130,\n",
              " 'finds': 131,\n",
              " 'or': 132,\n",
              " '2': 133,\n",
              " 'hillary': 134,\n",
              " 'going': 135,\n",
              " 'love': 136,\n",
              " 'say': 137,\n",
              " 'health': 138,\n",
              " 'big': 139,\n",
              " 'parents': 140,\n",
              " 'may': 141,\n",
              " 'party': 142,\n",
              " 'campaign': 143,\n",
              " 'right': 144,\n",
              " 'too': 145,\n",
              " 're': 146,\n",
              " 'against': 147,\n",
              " 'every': 148,\n",
              " 'child': 149,\n",
              " 'need': 150,\n",
              " 'don': 151,\n",
              " 'kids': 152,\n",
              " '000': 153,\n",
              " 'gets': 154,\n",
              " 'work': 155,\n",
              " 'these': 156,\n",
              " 'getting': 157,\n",
              " 'dead': 158,\n",
              " 'little': 159,\n",
              " 'some': 160,\n",
              " 'court': 161,\n",
              " 'high': 162,\n",
              " 'change': 163,\n",
              " 'take': 164,\n",
              " 'our': 165,\n",
              " 'self': 166,\n",
              " 'gay': 167,\n",
              " 'there': 168,\n",
              " 'makes': 169,\n",
              " 'real': 170,\n",
              " 'news': 171,\n",
              " 'calls': 172,\n",
              " 'other': 173,\n",
              " 'john': 174,\n",
              " 'doesn': 175,\n",
              " 'never': 176,\n",
              " 'star': 177,\n",
              " 'through': 178,\n",
              " 'look': 179,\n",
              " 'election': 180,\n",
              " 'while': 181,\n",
              " '4': 182,\n",
              " 'own': 183,\n",
              " 'want': 184,\n",
              " 'dad': 185,\n",
              " 'war': 186,\n",
              " 'go': 187,\n",
              " 'see': 188,\n",
              " 'guy': 189,\n",
              " 'where': 190,\n",
              " 'takes': 191,\n",
              " 'stop': 192,\n",
              " 'week': 193,\n",
              " 'bush': 194,\n",
              " 'next': 195,\n",
              " '7': 196,\n",
              " 'local': 197,\n",
              " 'sex': 198,\n",
              " 'college': 199,\n",
              " 'even': 200,\n",
              " '6': 201,\n",
              " 'its': 202,\n",
              " 'baby': 203,\n",
              " 'won': 204,\n",
              " 'dog': 205,\n",
              " 'office': 206,\n",
              " 'game': 207,\n",
              " 'again': 208,\n",
              " 'plan': 209,\n",
              " 'made': 210,\n",
              " 'night': 211,\n",
              " 'us': 212,\n",
              " 'another': 213,\n",
              " 'two': 214,\n",
              " 'got': 215,\n",
              " 'thing': 216,\n",
              " 'million': 217,\n",
              " 'around': 218,\n",
              " 'ever': 219,\n",
              " 'gun': 220,\n",
              " '1': 221,\n",
              " 'help': 222,\n",
              " 'live': 223,\n",
              " 'them': 224,\n",
              " 'debate': 225,\n",
              " 'wants': 226,\n",
              " 'children': 227,\n",
              " 'care': 228,\n",
              " 'couple': 229,\n",
              " 'much': 230,\n",
              " 'job': 231,\n",
              " 'son': 232,\n",
              " 'actually': 233,\n",
              " 'congress': 234,\n",
              " 'men': 235,\n",
              " 'long': 236,\n",
              " 'north': 237,\n",
              " 'me': 238,\n",
              " 'god': 239,\n",
              " 'under': 240,\n",
              " 'finally': 241,\n",
              " 'm': 242,\n",
              " 'been': 243,\n",
              " 'season': 244,\n",
              " 'climate': 245,\n",
              " 'national': 246,\n",
              " 'money': 247,\n",
              " 'teen': 248,\n",
              " 'bad': 249,\n",
              " '8': 250,\n",
              " 'city': 251,\n",
              " 'anti': 252,\n",
              " 'top': 253,\n",
              " 'friend': 254,\n",
              " 'media': 255,\n",
              " 'better': 256,\n",
              " 'ways': 257,\n",
              " '20': 258,\n",
              " 'give': 259,\n",
              " 'story': 260,\n",
              " '9': 261,\n",
              " 'food': 262,\n",
              " 'making': 263,\n",
              " 'everyone': 264,\n",
              " 'senate': 265,\n",
              " 'face': 266,\n",
              " 'sexual': 267,\n",
              " 'students': 268,\n",
              " 'paul': 269,\n",
              " 'shows': 270,\n",
              " 'shooting': 271,\n",
              " 'had': 272,\n",
              " 'let': 273,\n",
              " 'away': 274,\n",
              " 'history': 275,\n",
              " 'business': 276,\n",
              " 'law': 277,\n",
              " 'reveals': 278,\n",
              " 'tv': 279,\n",
              " 'girl': 280,\n",
              " 'free': 281,\n",
              " 'trying': 282,\n",
              " 'facebook': 283,\n",
              " 'york': 284,\n",
              " 'without': 285,\n",
              " 'pope': 286,\n",
              " 'supreme': 287,\n",
              " 'mother': 288,\n",
              " 'announces': 289,\n",
              " 'attack': 290,\n",
              " 'd': 291,\n",
              " 'body': 292,\n",
              " 'movie': 293,\n",
              " 'fight': 294,\n",
              " 'end': 295,\n",
              " 'government': 296,\n",
              " 'friends': 297,\n",
              " 'any': 298,\n",
              " 'deal': 299,\n",
              " 'enough': 300,\n",
              " 'film': 301,\n",
              " 'great': 302,\n",
              " 'fire': 303,\n",
              " 'father': 304,\n",
              " 'sanders': 305,\n",
              " 'introduces': 306,\n",
              " 'company': 307,\n",
              " 'part': 308,\n",
              " '11': 309,\n",
              " 'tell': 310,\n",
              " 'single': 311,\n",
              " 'book': 312,\n",
              " 'call': 313,\n",
              " 'does': 314,\n",
              " 'wedding': 315,\n",
              " 'former': 316,\n",
              " 'entire': 317,\n",
              " 'found': 318,\n",
              " 'middle': 319,\n",
              " 'come': 320,\n",
              " 'find': 321,\n",
              " 'think': 322,\n",
              " 'republican': 323,\n",
              " 'second': 324,\n",
              " 'must': 325,\n",
              " 'run': 326,\n",
              " 'pretty': 327,\n",
              " 'support': 328,\n",
              " 'll': 329,\n",
              " 'same': 330,\n",
              " 'morning': 331,\n",
              " 'coming': 332,\n",
              " 'car': 333,\n",
              " 'public': 334,\n",
              " 'speech': 335,\n",
              " 'talk': 336,\n",
              " 'line': 337,\n",
              " 'future': 338,\n",
              " 'power': 339,\n",
              " 'photos': 340,\n",
              " 'looking': 341,\n",
              " 'presidential': 342,\n",
              " 'use': 343,\n",
              " 'christmas': 344,\n",
              " 'james': 345,\n",
              " 'name': 346,\n",
              " 'republicans': 347,\n",
              " 'keep': 348,\n",
              " 'student': 349,\n",
              " 'thinks': 350,\n",
              " 'already': 351,\n",
              " 'very': 352,\n",
              " 'didn': 353,\n",
              " 'race': 354,\n",
              " 'country': 355,\n",
              " 'email': 356,\n",
              " 'tax': 357,\n",
              " 'rights': 358,\n",
              " 'open': 359,\n",
              " 'wife': 360,\n",
              " 'case': 361,\n",
              " 'behind': 362,\n",
              " 'teacher': 363,\n",
              " 'marriage': 364,\n",
              " '2016': 365,\n",
              " 'violence': 366,\n",
              " 'democrats': 367,\n",
              " 'voters': 368,\n",
              " 'full': 369,\n",
              " 'boy': 370,\n",
              " 'between': 371,\n",
              " 'releases': 372,\n",
              " 'something': 373,\n",
              " 'secret': 374,\n",
              " 'ryan': 375,\n",
              " 'security': 376,\n",
              " 'group': 377,\n",
              " 'vote': 378,\n",
              " 'human': 379,\n",
              " 'killed': 380,\n",
              " 'team': 381,\n",
              " 'used': 382,\n",
              " 'once': 383,\n",
              " 'control': 384,\n",
              " '12': 385,\n",
              " 'might': 386,\n",
              " 'doing': 387,\n",
              " 'fans': 388,\n",
              " 'california': 389,\n",
              " 'goes': 390,\n",
              " 'post': 391,\n",
              " 'win': 392,\n",
              " 'having': 393,\n",
              " 'today': 394,\n",
              " 'bernie': 395,\n",
              " 'department': 396,\n",
              " 'asks': 397,\n",
              " 'room': 398,\n",
              " 'ban': 399,\n",
              " 'twitter': 400,\n",
              " 'ad': 401,\n",
              " 'super': 402,\n",
              " 'poll': 403,\n",
              " 'girls': 404,\n",
              " 'because': 405,\n",
              " 'person': 406,\n",
              " 've': 407,\n",
              " 'sure': 408,\n",
              " 'female': 409,\n",
              " 'obamacare': 410,\n",
              " 'each': 411,\n",
              " 'judge': 412,\n",
              " 'art': 413,\n",
              " 'many': 414,\n",
              " 'biden': 415,\n",
              " 'political': 416,\n",
              " 'inside': 417,\n",
              " 'everything': 418,\n",
              " 'music': 419,\n",
              " 'perfect': 420,\n",
              " 'minutes': 421,\n",
              " 'days': 422,\n",
              " 'forced': 423,\n",
              " 'claims': 424,\n",
              " 'daughter': 425,\n",
              " 'save': 426,\n",
              " 'three': 427,\n",
              " 'month': 428,\n",
              " 'meet': 429,\n",
              " 'record': 430,\n",
              " 'states': 431,\n",
              " 'times': 432,\n",
              " 'head': 433,\n",
              " 'class': 434,\n",
              " '15': 435,\n",
              " 'missing': 436,\n",
              " 'running': 437,\n",
              " 'unveils': 438,\n",
              " 'red': 439,\n",
              " 'photo': 440,\n",
              " 'russia': 441,\n",
              " 'heart': 442,\n",
              " 'ceo': 443,\n",
              " 'summer': 444,\n",
              " 'reports': 445,\n",
              " 'living': 446,\n",
              " 'scientists': 447,\n",
              " 'social': 448,\n",
              " 'employee': 449,\n",
              " 'plans': 450,\n",
              " 'candidate': 451,\n",
              " 'hot': 452,\n",
              " 'put': 453,\n",
              " 'working': 454,\n",
              " 'tells': 455,\n",
              " 'always': 456,\n",
              " 'justice': 457,\n",
              " 'wall': 458,\n",
              " 'korea': 459,\n",
              " 'dies': 460,\n",
              " 'until': 461,\n",
              " 'shot': 462,\n",
              " 'town': 463,\n",
              " 'eating': 464,\n",
              " 'cruz': 465,\n",
              " 'earth': 466,\n",
              " 'pay': 467,\n",
              " 'ready': 468,\n",
              " 'list': 469,\n",
              " 'texas': 470,\n",
              " 'were': 471,\n",
              " 'michael': 472,\n",
              " 'looks': 473,\n",
              " 'secretary': 474,\n",
              " 'talks': 475,\n",
              " 'needs': 476,\n",
              " 'did': 477,\n",
              " 'ex': 478,\n",
              " 'water': 479,\n",
              " 'comes': 480,\n",
              " 'start': 481,\n",
              " 'romney': 482,\n",
              " 'taking': 483,\n",
              " 'king': 484,\n",
              " 'warns': 485,\n",
              " 'rock': 486,\n",
              " 'breaking': 487,\n",
              " 'kim': 488,\n",
              " 'cancer': 489,\n",
              " 'lives': 490,\n",
              " 'past': 491,\n",
              " 'restaurant': 492,\n",
              " 'admits': 493,\n",
              " 'set': 494,\n",
              " 'left': 495,\n",
              " 'mike': 496,\n",
              " 'crisis': 497,\n",
              " 'girlfriend': 498,\n",
              " 'drug': 499,\n",
              " 'lost': 500,\n",
              " 'thought': 501,\n",
              " 'age': 502,\n",
              " 'wrong': 503,\n",
              " 'service': 504,\n",
              " 'gives': 505,\n",
              " '30': 506,\n",
              " 'iran': 507,\n",
              " 'director': 508,\n",
              " 'idea': 509,\n",
              " 'chief': 510,\n",
              " 'air': 511,\n",
              " 'phone': 512,\n",
              " 'letter': 513,\n",
              " 'george': 514,\n",
              " 'isis': 515,\n",
              " 'administration': 516,\n",
              " 'street': 517,\n",
              " 'wins': 518,\n",
              " 'education': 519,\n",
              " 'tips': 520,\n",
              " 'word': 521,\n",
              " 'south': 522,\n",
              " 'someone': 523,\n",
              " 'hours': 524,\n",
              " 'dream': 525,\n",
              " 'fan': 526,\n",
              " 'kill': 527,\n",
              " 'hollywood': 528,\n",
              " 'probably': 529,\n",
              " 'young': 530,\n",
              " 'meeting': 531,\n",
              " 'nothing': 532,\n",
              " 'fbi': 533,\n",
              " 'percent': 534,\n",
              " 'place': 535,\n",
              " 'yet': 536,\n",
              " '50': 537,\n",
              " 'small': 538,\n",
              " 'owner': 539,\n",
              " 'half': 540,\n",
              " 'hard': 541,\n",
              " 'fucking': 542,\n",
              " 'stars': 543,\n",
              " 'washington': 544,\n",
              " 'china': 545,\n",
              " 'thousands': 546,\n",
              " 'believe': 547,\n",
              " 'cat': 548,\n",
              " 'nuclear': 549,\n",
              " 'military': 550,\n",
              " 'march': 551,\n",
              " 'internet': 552,\n",
              " 'well': 553,\n",
              " 'few': 554,\n",
              " 'tweets': 555,\n",
              " 'talking': 556,\n",
              " 'together': 557,\n",
              " 'ted': 558,\n",
              " 'francis': 559,\n",
              " 'questions': 560,\n",
              " 'florida': 561,\n",
              " 'officials': 562,\n",
              " 'third': 563,\n",
              " 'sleep': 564,\n",
              " 'feel': 565,\n",
              " 'attacks': 566,\n",
              " 'leaves': 567,\n",
              " 'muslim': 568,\n",
              " 'guide': 569,\n",
              " 'order': 570,\n",
              " 'online': 571,\n",
              " 'federal': 572,\n",
              " 'chris': 573,\n",
              " 'happy': 574,\n",
              " 'birthday': 575,\n",
              " 'holiday': 576,\n",
              " 'problem': 577,\n",
              " 'move': 578,\n",
              " 'lot': 579,\n",
              " 'shit': 580,\n",
              " 'kid': 581,\n",
              " 'beautiful': 582,\n",
              " 'ice': 583,\n",
              " 'hour': 584,\n",
              " 'congressman': 585,\n",
              " 'giving': 586,\n",
              " 'community': 587,\n",
              " 'assault': 588,\n",
              " 'abortion': 589,\n",
              " 'ask': 590,\n",
              " 'personal': 591,\n",
              " 'less': 592,\n",
              " 'reason': 593,\n",
              " 'months': 594,\n",
              " 'latest': 595,\n",
              " 'series': 596,\n",
              " 'bar': 597,\n",
              " '2015': 598,\n",
              " 'different': 599,\n",
              " 'leave': 600,\n",
              " 'special': 601,\n",
              " 'hate': 602,\n",
              " 'o': 603,\n",
              " 'cover': 604,\n",
              " 'buy': 605,\n",
              " 'rules': 606,\n",
              " 'huffpost': 607,\n",
              " 'majority': 608,\n",
              " 'straight': 609,\n",
              " 'prison': 610,\n",
              " 'told': 611,\n",
              " '100': 612,\n",
              " 'democratic': 613,\n",
              " 'outside': 614,\n",
              " 'fox': 615,\n",
              " 'fun': 616,\n",
              " 'al': 617,\n",
              " 'those': 618,\n",
              " 'travel': 619,\n",
              " 'favorite': 620,\n",
              " 'wearing': 621,\n",
              " 'system': 622,\n",
              " 'moment': 623,\n",
              " 'rise': 624,\n",
              " 'isn': 625,\n",
              " 'reasons': 626,\n",
              " 'cop': 627,\n",
              " 'mark': 628,\n",
              " 'kind': 629,\n",
              " 'issues': 630,\n",
              " 'response': 631,\n",
              " 'read': 632,\n",
              " 'play': 633,\n",
              " 'late': 634,\n",
              " 'thinking': 635,\n",
              " 'senator': 636,\n",
              " 'interview': 637,\n",
              " 'relationship': 638,\n",
              " 'hit': 639,\n",
              " 'watching': 640,\n",
              " 'jimmy': 641,\n",
              " 'huge': 642,\n",
              " 'box': 643,\n",
              " 'scott': 644,\n",
              " 'die': 645,\n",
              " 'syria': 646,\n",
              " 'union': 647,\n",
              " 'celebrates': 648,\n",
              " 'c': 649,\n",
              " 'minute': 650,\n",
              " 'excited': 651,\n",
              " 'tom': 652,\n",
              " 'trip': 653,\n",
              " 'knows': 654,\n",
              " 'russian': 655,\n",
              " 'weekend': 656,\n",
              " 'immigration': 657,\n",
              " 'leaders': 658,\n",
              " 'hair': 659,\n",
              " 'store': 660,\n",
              " 'protest': 661,\n",
              " 'gift': 662,\n",
              " 'un': 663,\n",
              " 'following': 664,\n",
              " 'hope': 665,\n",
              " 'using': 666,\n",
              " 'offers': 667,\n",
              " 'front': 668,\n",
              " 'message': 669,\n",
              " 'trailer': 670,\n",
              " 'chinese': 671,\n",
              " 'non': 672,\n",
              " 'politics': 673,\n",
              " 'pence': 674,\n",
              " 'break': 675,\n",
              " 'visit': 676,\n",
              " 'stephen': 677,\n",
              " 'victims': 678,\n",
              " 'lessons': 679,\n",
              " 'david': 680,\n",
              " 'taylor': 681,\n",
              " 'bring': 682,\n",
              " 'leader': 683,\n",
              " 'date': 684,\n",
              " 'since': 685,\n",
              " 'birth': 686,\n",
              " 'prince': 687,\n",
              " 'k': 688,\n",
              " 'apple': 689,\n",
              " 'queer': 690,\n",
              " 'accused': 691,\n",
              " 'drunk': 692,\n",
              " 'least': 693,\n",
              " 'anything': 694,\n",
              " 'career': 695,\n",
              " 'fall': 696,\n",
              " 'himself': 697,\n",
              " 'true': 698,\n",
              " 'conversation': 699,\n",
              " 'called': 700,\n",
              " 'early': 701,\n",
              " 'millions': 702,\n",
              " 'sports': 703,\n",
              " 'cops': 704,\n",
              " 'united': 705,\n",
              " 'whole': 706,\n",
              " 'adorable': 707,\n",
              " 'waiting': 708,\n",
              " 'candidates': 709,\n",
              " 'words': 710,\n",
              " 'joe': 711,\n",
              " 'industry': 712,\n",
              " 'powerful': 713,\n",
              " 'point': 714,\n",
              " 'rubio': 715,\n",
              " 'reality': 716,\n",
              " 'low': 717,\n",
              " 'mass': 718,\n",
              " 'billion': 719,\n",
              " 'become': 720,\n",
              " 'investigation': 721,\n",
              " 'opens': 722,\n",
              " 'learned': 723,\n",
              " 'totally': 724,\n",
              " 'friday': 725,\n",
              " 'cnn': 726,\n",
              " 'light': 727,\n",
              " 'fashion': 728,\n",
              " 'turn': 729,\n",
              " 'workers': 730,\n",
              " 'iraq': 731,\n",
              " 'dance': 732,\n",
              " 'key': 733,\n",
              " 'far': 734,\n",
              " 'employees': 735,\n",
              " 'murder': 736,\n",
              " 'host': 737,\n",
              " 'stand': 738,\n",
              " 'returns': 739,\n",
              " 'artist': 740,\n",
              " 'syrian': 741,\n",
              " 'killing': 742,\n",
              " 'massive': 743,\n",
              " '40': 744,\n",
              " 'almost': 745,\n",
              " 'wars': 746,\n",
              " 'breaks': 747,\n",
              " 'driving': 748,\n",
              " 'global': 749,\n",
              " 'weird': 750,\n",
              " 'song': 751,\n",
              " 'feels': 752,\n",
              " 'kardashian': 753,\n",
              " 'dating': 754,\n",
              " 'lgbt': 755,\n",
              " 'policy': 756,\n",
              " 'stage': 757,\n",
              " 'schools': 758,\n",
              " 'amazon': 759,\n",
              " 'trans': 760,\n",
              " 'dinner': 761,\n",
              " 'j': 762,\n",
              " 'hits': 763,\n",
              " 'oil': 764,\n",
              " 'awards': 765,\n",
              " 'jenner': 766,\n",
              " 'worried': 767,\n",
              " 'bus': 768,\n",
              " 'worst': 769,\n",
              " 'hands': 770,\n",
              " 'kills': 771,\n",
              " 'coworker': 772,\n",
              " 'west': 773,\n",
              " 'turns': 774,\n",
              " 'completely': 775,\n",
              " 'puts': 776,\n",
              " 'spends': 777,\n",
              " 'sign': 778,\n",
              " 'jr': 779,\n",
              " 'seen': 780,\n",
              " 'cut': 781,\n",
              " 'mind': 782,\n",
              " 'band': 783,\n",
              " 'center': 784,\n",
              " 'decision': 785,\n",
              " 'vows': 786,\n",
              " 'sick': 787,\n",
              " 'risk': 788,\n",
              " 'fighting': 789,\n",
              " 'crash': 790,\n",
              " 'voice': 791,\n",
              " 'transgender': 792,\n",
              " 'names': 793,\n",
              " 'final': 794,\n",
              " 'chicago': 795,\n",
              " 'nfl': 796,\n",
              " 'planned': 797,\n",
              " 'anniversary': 798,\n",
              " '13': 799,\n",
              " 'moving': 800,\n",
              " 'signs': 801,\n",
              " 'suicide': 802,\n",
              " 'experience': 803,\n",
              " 'reportedly': 804,\n",
              " '2014': 805,\n",
              " 'adds': 806,\n",
              " 'surprise': 807,\n",
              " 'near': 808,\n",
              " 'road': 809,\n",
              " 'netflix': 810,\n",
              " 'style': 811,\n",
              " 'test': 812,\n",
              " 'return': 813,\n",
              " 'university': 814,\n",
              " 'governor': 815,\n",
              " 'israel': 816,\n",
              " 'magazine': 817,\n",
              " 'ferguson': 818,\n",
              " 'force': 819,\n",
              " 'longer': 820,\n",
              " 'paris': 821,\n",
              " 'advice': 822,\n",
              " 'michelle': 823,\n",
              " 'worth': 824,\n",
              " 'eat': 825,\n",
              " 'struggling': 826,\n",
              " 'number': 827,\n",
              " 'discover': 828,\n",
              " 'google': 829,\n",
              " 'football': 830,\n",
              " 'act': 831,\n",
              " 'oscar': 832,\n",
              " 'lead': 833,\n",
              " 'across': 834,\n",
              " 'five': 835,\n",
              " 'hand': 836,\n",
              " 'e': 837,\n",
              " 'kerry': 838,\n",
              " 'moms': 839,\n",
              " 'keeps': 840,\n",
              " '2017': 841,\n",
              " 'official': 842,\n",
              " 'side': 843,\n",
              " 'fear': 844,\n",
              " 'lose': 845,\n",
              " 'nyc': 846,\n",
              " 'coffee': 847,\n",
              " 'check': 848,\n",
              " 'weight': 849,\n",
              " 'fuck': 850,\n",
              " 'peace': 851,\n",
              " 'brings': 852,\n",
              " 'space': 853,\n",
              " 'carolina': 854,\n",
              " 'door': 855,\n",
              " 'walking': 856,\n",
              " 'important': 857,\n",
              " 'hoping': 858,\n",
              " 'executive': 859,\n",
              " 'reform': 860,\n",
              " 'cool': 861,\n",
              " 'wait': 862,\n",
              " 'suspect': 863,\n",
              " 'harry': 864,\n",
              " 'users': 865,\n",
              " 'starting': 866,\n",
              " 'program': 867,\n",
              " 'williams': 868,\n",
              " 'planet': 869,\n",
              " 'whether': 870,\n",
              " 'building': 871,\n",
              " 'members': 872,\n",
              " 'beauty': 873,\n",
              " 'swift': 874,\n",
              " 'remember': 875,\n",
              " 'pro': 876,\n",
              " 'oscars': 877,\n",
              " 'audience': 878,\n",
              " 'apartment': 879,\n",
              " 'steve': 880,\n",
              " 'iowa': 881,\n",
              " 'success': 882,\n",
              " 'general': 883,\n",
              " 'playing': 884,\n",
              " 'jobs': 885,\n",
              " 'data': 886,\n",
              " 'doctor': 887,\n",
              " 'given': 888,\n",
              " 'defense': 889,\n",
              " 'question': 890,\n",
              " 'biggest': 891,\n",
              " 'hall': 892,\n",
              " 'abuse': 893,\n",
              " 'boyfriend': 894,\n",
              " 'which': 895,\n",
              " 'major': 896,\n",
              " 'role': 897,\n",
              " 'halloween': 898,\n",
              " 'possible': 899,\n",
              " 'grandma': 900,\n",
              " 'card': 901,\n",
              " 'try': 902,\n",
              " 'board': 903,\n",
              " 'close': 904,\n",
              " 'chance': 905,\n",
              " 'protesters': 906,\n",
              " 'n': 907,\n",
              " 'ideas': 908,\n",
              " 'green': 909,\n",
              " 'queen': 910,\n",
              " 'clearly': 911,\n",
              " 'push': 912,\n",
              " 'male': 913,\n",
              " 'fast': 914,\n",
              " 'hurricane': 915,\n",
              " 'moore': 916,\n",
              " 'allegations': 917,\n",
              " 'officer': 918,\n",
              " 'easy': 919,\n",
              " 'park': 920,\n",
              " 'homeless': 921,\n",
              " 'poor': 922,\n",
              " 'crime': 923,\n",
              " 'teens': 924,\n",
              " 'eye': 925,\n",
              " 'mental': 926,\n",
              " 'action': 927,\n",
              " 'vacation': 928,\n",
              " 'ben': 929,\n",
              " 'tour': 930,\n",
              " 'hear': 931,\n",
              " 'pizza': 932,\n",
              " 'colbert': 933,\n",
              " 'demands': 934,\n",
              " 'press': 935,\n",
              " 'chicken': 936,\n",
              " 'wishes': 937,\n",
              " 'opening': 938,\n",
              " 'problems': 939,\n",
              " 'culture': 940,\n",
              " 'asking': 941,\n",
              " 'celebrate': 942,\n",
              " 'supporters': 943,\n",
              " 'shop': 944,\n",
              " 'plane': 945,\n",
              " 'hero': 946,\n",
              " 'picture': 947,\n",
              " 'sean': 948,\n",
              " 'voter': 949,\n",
              " 'demand': 950,\n",
              " 'website': 951,\n",
              " 'spot': 952,\n",
              " 'reporter': 953,\n",
              " 'throws': 954,\n",
              " 'table': 955,\n",
              " 'energy': 956,\n",
              " 'hilarious': 957,\n",
              " 'pregnant': 958,\n",
              " 'dying': 959,\n",
              " 'amazing': 960,\n",
              " 'urges': 961,\n",
              " 'refugees': 962,\n",
              " 'reveal': 963,\n",
              " 'simple': 964,\n",
              " 'economy': 965,\n",
              " 'lgbtq': 966,\n",
              " '18': 967,\n",
              " 'emotional': 968,\n",
              " 'ebola': 969,\n",
              " 'robert': 970,\n",
              " 'mayor': 971,\n",
              " 'learn': 972,\n",
              " 'racist': 973,\n",
              " 'arrested': 974,\n",
              " 'kelly': 975,\n",
              " 'boss': 976,\n",
              " 'review': 977,\n",
              " 'snl': 978,\n",
              " 'rest': 979,\n",
              " 'bathroom': 980,\n",
              " 'performance': 981,\n",
              " 'album': 982,\n",
              " 'receives': 983,\n",
              " 'comey': 984,\n",
              " 'epa': 985,\n",
              " 'church': 986,\n",
              " 'finding': 987,\n",
              " 'begins': 988,\n",
              " 'deadly': 989,\n",
              " 'happened': 990,\n",
              " 'blood': 991,\n",
              " 'manager': 992,\n",
              " 'uses': 993,\n",
              " 'families': 994,\n",
              " 'harassment': 995,\n",
              " 'eyes': 996,\n",
              " 'marijuana': 997,\n",
              " 'fails': 998,\n",
              " 'proud': 999,\n",
              " 'humans': 1000,\n",
              " ...}"
            ]
          },
          "metadata": {
            "tags": []
          },
          "execution_count": 14
        }
      ]
    },
    {
      "cell_type": "markdown",
      "metadata": {
        "id": "VRiNX58Rb3oJ"
      },
      "source": [
        "### Set number of words\n",
        "- Since the above 0th index doesn't have a word, add 1 to the length of the vocabulary"
      ]
    },
    {
      "cell_type": "code",
      "metadata": {
        "id": "Dfwq6ou8ck2f",
        "outputId": "de141727-ac5c-4779-8f22-dbe8068730a1",
        "colab": {
          "base_uri": "https://localhost:8080/",
          "height": 35
        }
      },
      "source": [
        "num_words = len(tokenizer.word_index) + 1\n",
        "print(num_words)"
      ],
      "execution_count": 15,
      "outputs": [
        {
          "output_type": "stream",
          "text": [
            "25318\n"
          ],
          "name": "stdout"
        }
      ]
    },
    {
      "cell_type": "markdown",
      "metadata": {
        "id": "bUF1TuQa8ux0"
      },
      "source": [
        "### Load Glove Word Embeddings (3 Marks)"
      ]
    },
    {
      "cell_type": "code",
      "metadata": {
        "id": "vq5AIfRtMeZh",
        "outputId": "52bb21ec-9e49-471c-cbdf-ff8d889c88a5",
        "colab": {
          "base_uri": "https://localhost:8080/",
          "height": 104
        }
      },
      "source": [
        "!ls"
      ],
      "execution_count": 16,
      "outputs": [
        {
          "output_type": "stream",
          "text": [
            " glove.6B.200d.txt\n",
            "'Questions - Project 2 - Sequential Models in NLP - Sarcasm Detection.ipynb'\n",
            " Sarcasm_Headlines_Dataset.json\n",
            "'Sequence Model in NLP_R9_Project1_Sentiment Classification.ipynb'\n",
            "'Statistical NLP_Project.ipynb'\n"
          ],
          "name": "stdout"
        }
      ]
    },
    {
      "cell_type": "markdown",
      "metadata": {
        "id": "prHSzdQUcZhm"
      },
      "source": [
        "### Create embedding matrix"
      ]
    },
    {
      "cell_type": "code",
      "metadata": {
        "id": "elZ-T5aFGZmZ"
      },
      "source": [
        "import numpy as np\n",
        "\n",
        "EMBEDDING_FILE = './glove.6B.200d.txt'\n",
        "\n",
        "embeddings = {}\n",
        "for o in open(EMBEDDING_FILE):\n",
        "    word = o.split(\" \")[0]\n",
        "    # print(word)\n",
        "    embd = o.split(\" \")[1:]\n",
        "    embd = np.asarray(embd, dtype='float32')\n",
        "    # print(embd)\n",
        "    embeddings[word] = embd\n",
        "\n",
        "# create a weight matrix for words in training docs\n",
        "embedding_matrix = np.zeros((num_words, 200))\n",
        "\n",
        "for word, i in tokenizer.word_index.items():\n",
        "\tembedding_vector = embeddings.get(word)\n",
        "\tif embedding_vector is not None:\n",
        "\t\tembedding_matrix[i] = embedding_vector"
      ],
      "execution_count": 17,
      "outputs": []
    },
    {
      "cell_type": "markdown",
      "metadata": {
        "id": "u7IbWuEX82Ra"
      },
      "source": [
        "### Define model (5 Marks)\n",
        "- Hint: Use Sequential model instance and then add Embedding layer, Bidirectional(LSTM) layer, flatten it, then dense and dropout layers as required. \n",
        "In the end add a final dense layer with sigmoid activation for binary classification."
      ]
    },
    {
      "cell_type": "code",
      "metadata": {
        "id": "YdaPG79eCtZR"
      },
      "source": [
        "from tensorflow.keras.backend import clear_session\n",
        "\n",
        "clear_session()"
      ],
      "execution_count": 32,
      "outputs": []
    },
    {
      "cell_type": "code",
      "metadata": {
        "id": "4tv168Gmc3PY"
      },
      "source": [
        "from tensorflow.keras.models import Sequential\n",
        "from tensorflow.keras.layers import Bidirectional, LSTM, Activation, Dense, Dropout, Input, Embedding, Flatten\n",
        "\n",
        "embed_dim = 128\n",
        "\n",
        "model = Sequential()\n",
        "model.add(Embedding(max_features, embed_dim, input_length = X.shape[1]))\n",
        "model.add(Bidirectional(LSTM(128,return_sequences=True)))\n",
        "model.add(Flatten())\n",
        "model.add(Dense(16, activation='relu'))\n",
        "model.add(Dropout(0.2))\n",
        "model.add(Dense(4, activation='relu'))\n",
        "model.add(Dense(2,activation='sigmoid'))\n"
      ],
      "execution_count": 33,
      "outputs": []
    },
    {
      "cell_type": "markdown",
      "metadata": {
        "id": "xoI7_8Y1cqTj"
      },
      "source": [
        "### Compile the model (3 Marks)"
      ]
    },
    {
      "cell_type": "code",
      "metadata": {
        "id": "-jJiPHeNoJ3U"
      },
      "source": [
        "from tensorflow.keras.optimizers import Adam\n",
        "\n",
        "opt = Adam()\n",
        "model.compile(loss = 'binary_crossentropy', optimizer=opt ,metrics = ['accuracy'])\n"
      ],
      "execution_count": 34,
      "outputs": []
    },
    {
      "cell_type": "markdown",
      "metadata": {
        "id": "7s4nmqcecw3a"
      },
      "source": [
        "### Fit the model (4 Marks)"
      ]
    },
    {
      "cell_type": "code",
      "metadata": {
        "id": "NN789zNnJ5PL",
        "outputId": "d483c472-d599-46ba-d440-ebb3a403a876",
        "colab": {
          "base_uri": "https://localhost:8080/",
          "height": 711
        }
      },
      "source": [
        "batch_size = 32\n",
        "history = model.fit(X_train, Y_train, epochs = 20, batch_size=batch_size, verbose = 2, validation_data=(X_test,Y_test))"
      ],
      "execution_count": 35,
      "outputs": [
        {
          "output_type": "stream",
          "text": [
            "Epoch 1/20\n",
            "668/668 - 19s - loss: 0.4965 - accuracy: 0.8000 - val_loss: 0.4336 - val_accuracy: 0.8313\n",
            "Epoch 2/20\n",
            "668/668 - 19s - loss: 0.2786 - accuracy: 0.9004 - val_loss: 0.3528 - val_accuracy: 0.8643\n",
            "Epoch 3/20\n",
            "668/668 - 18s - loss: 0.1622 - accuracy: 0.9422 - val_loss: 0.3796 - val_accuracy: 0.8519\n",
            "Epoch 4/20\n",
            "668/668 - 18s - loss: 0.0908 - accuracy: 0.9687 - val_loss: 0.5603 - val_accuracy: 0.8418\n",
            "Epoch 5/20\n",
            "668/668 - 18s - loss: 0.0466 - accuracy: 0.9848 - val_loss: 0.6514 - val_accuracy: 0.8465\n",
            "Epoch 6/20\n",
            "668/668 - 18s - loss: 0.0245 - accuracy: 0.9914 - val_loss: 0.8322 - val_accuracy: 0.8405\n",
            "Epoch 7/20\n",
            "668/668 - 18s - loss: 0.0173 - accuracy: 0.9941 - val_loss: 1.0746 - val_accuracy: 0.8441\n",
            "Epoch 8/20\n",
            "668/668 - 18s - loss: 0.0117 - accuracy: 0.9962 - val_loss: 1.1577 - val_accuracy: 0.8431\n",
            "Epoch 9/20\n",
            "668/668 - 18s - loss: 0.0096 - accuracy: 0.9972 - val_loss: 1.1797 - val_accuracy: 0.8431\n",
            "Epoch 10/20\n",
            "668/668 - 18s - loss: 0.0085 - accuracy: 0.9972 - val_loss: 1.2077 - val_accuracy: 0.8386\n",
            "Epoch 11/20\n",
            "668/668 - 18s - loss: 0.0062 - accuracy: 0.9983 - val_loss: 1.3019 - val_accuracy: 0.8439\n",
            "Epoch 12/20\n",
            "668/668 - 18s - loss: 0.0050 - accuracy: 0.9984 - val_loss: 1.2226 - val_accuracy: 0.8368\n",
            "Epoch 13/20\n",
            "668/668 - 18s - loss: 0.0080 - accuracy: 0.9976 - val_loss: 1.3352 - val_accuracy: 0.8351\n",
            "Epoch 14/20\n",
            "668/668 - 18s - loss: 0.0066 - accuracy: 0.9980 - val_loss: 1.5926 - val_accuracy: 0.8371\n",
            "Epoch 15/20\n",
            "668/668 - 18s - loss: 0.0048 - accuracy: 0.9986 - val_loss: 1.4280 - val_accuracy: 0.8385\n",
            "Epoch 16/20\n",
            "668/668 - 18s - loss: 0.0027 - accuracy: 0.9993 - val_loss: 1.6658 - val_accuracy: 0.8338\n",
            "Epoch 17/20\n",
            "668/668 - 18s - loss: 0.0059 - accuracy: 0.9980 - val_loss: 1.4958 - val_accuracy: 0.8351\n",
            "Epoch 18/20\n",
            "668/668 - 19s - loss: 0.0055 - accuracy: 0.9984 - val_loss: 1.4290 - val_accuracy: 0.8358\n",
            "Epoch 19/20\n",
            "668/668 - 19s - loss: 0.0026 - accuracy: 0.9992 - val_loss: 1.6623 - val_accuracy: 0.8349\n",
            "Epoch 20/20\n",
            "668/668 - 18s - loss: 0.0013 - accuracy: 0.9996 - val_loss: 1.8534 - val_accuracy: 0.8375\n"
          ],
          "name": "stdout"
        }
      ]
    },
    {
      "cell_type": "code",
      "metadata": {
        "id": "fpYsINqyAwok",
        "outputId": "4c3db717-1d2f-4727-ebcd-ee3ba35f5465",
        "colab": {
          "base_uri": "https://localhost:8080/",
          "height": 295
        }
      },
      "source": [
        "# summarize history for accuracy\n",
        "plt.plot(history.history['accuracy'])\n",
        "plt.plot(history.history['val_accuracy'])\n",
        "plt.title('model accuracy')\n",
        "plt.ylabel('accuracy')\n",
        "plt.xlabel('epoch')\n",
        "plt.legend(['train', 'test'], loc='upper left')\n",
        "plt.show()"
      ],
      "execution_count": 36,
      "outputs": [
        {
          "output_type": "display_data",
          "data": {
            "image/png": "[encoded data removed]",
            "text/plain": [
              "<Figure size 432x288 with 1 Axes>"
            ]
          },
          "metadata": {
            "tags": [],
            "needs_background": "light"
          }
        }
      ]
    },
    {
      "cell_type": "code",
      "metadata": {
        "id": "fgHjYvAiBWpg",
        "outputId": "732263f8-f5d4-4836-c2eb-502c1b493bce",
        "colab": {
          "base_uri": "https://localhost:8080/",
          "height": 295
        }
      },
      "source": [
        "# summarize history for loss\n",
        "plt.plot(history.history['loss'])\n",
        "plt.plot(history.history['val_loss'])\n",
        "plt.title('model loss')\n",
        "plt.ylabel('loss')\n",
        "plt.xlabel('epoch')\n",
        "plt.legend(['train', 'test'], loc='upper left')\n",
        "plt.show()"
      ],
      "execution_count": 37,
      "outputs": [
        {
          "output_type": "display_data",
          "data": {
            "image/png": "[encoded data removed]",
            "text/plain": [
              "<Figure size 432x288 with 1 Axes>"
            ]
          },
          "metadata": {
            "tags": [],
            "needs_background": "light"
          }
        }
      ]
    },
    {
      "cell_type": "code",
      "metadata": {
        "id": "bkVHb4sG12qE"
      },
      "source": [
        "Y_pred = model.predict_classes(X_test)"
      ],
      "execution_count": 38,
      "outputs": []
    },
    {
      "cell_type": "code",
      "metadata": {
        "id": "ziORm5GH9wRt"
      },
      "source": [
        "y_test_classes = [np.argmax(y, axis=None, out=None) for y in Y_test]"
      ],
      "execution_count": 39,
      "outputs": []
    },
    {
      "cell_type": "code",
      "metadata": {
        "id": "QvKJPQ9F9Fje",
        "outputId": "2ae20ec8-ab8e-488c-fb10-9132b688bac2",
        "colab": {
          "base_uri": "https://localhost:8080/",
          "height": 52
        }
      },
      "source": [
        "from sklearn.metrics import confusion_matrix\n",
        "\n",
        "confusion_matrix(y_test_classes, Y_pred)"
      ],
      "execution_count": 40,
      "outputs": [
        {
          "output_type": "execute_result",
          "data": {
            "text/plain": [
              "array([[2592,  404],\n",
              "       [ 464, 1882]])"
            ]
          },
          "metadata": {
            "tags": []
          },
          "execution_count": 40
        }
      ]
    }
  ]
}