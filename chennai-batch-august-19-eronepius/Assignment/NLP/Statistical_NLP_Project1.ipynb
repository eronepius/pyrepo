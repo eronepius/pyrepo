{
  "nbformat": 4,
  "nbformat_minor": 0,
  "metadata": {
    "colab": {
      "name": "Statistical NLP_Project.ipynb",
      "provenance": []
    },
    "kernelspec": {
      "name": "python3",
      "display_name": "Python 3"
    }
  },
  "cells": [
    {
      "cell_type": "code",
      "metadata": {
        "id": "t_bCgIg8LYWA",
        "colab_type": "code",
        "colab": {}
      },
      "source": [
        "from google.colab import files"
      ],
      "execution_count": 1,
      "outputs": []
    },
    {
      "cell_type": "code",
      "metadata": {
        "id": "hc7ECgFJLkyz",
        "colab_type": "code",
        "colab": {
          "resources": {
            "http://localhost:8080/nbextensions/google.colab/files.js": {
              "data": "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",
              "ok": true,
              "headers": [
                [
                  "content-type",
                  "application/javascript"
                ]
              ],
              "status": 200,
              "status_text": ""
            }
          },
          "base_uri": "https://localhost:8080/",
          "height": 91
        },
        "outputId": "5a2416b9-4ffe-47d0-9a93-c91b97d37ba6"
      },
      "source": [
        "files.upload()"
      ],
      "execution_count": 2,
      "outputs": [
        {
          "output_type": "display_data",
          "data": {
            "text/html": [
              "\n",
              "     <input type=\"file\" id=\"files-0a951e55-72a1-46cb-9d8c-9c509d6b4d8e\" name=\"files[]\" multiple disabled\n",
              "        style=\"border:none\" />\n",
              "     <output id=\"result-0a951e55-72a1-46cb-9d8c-9c509d6b4d8e\">\n",
              "      Upload widget is only available when the cell has been executed in the\n",
              "      current browser session. Please rerun this cell to enable.\n",
              "      </output>\n",
              "      <script src=\"/nbextensions/google.colab/files.js\"></script> "
            ],
            "text/plain": [
              "<IPython.core.display.HTML object>"
            ]
          },
          "metadata": {
            "tags": []
          }
        },
        {
          "output_type": "stream",
          "text": [
            "Saving kaggle.json to kaggle.json\n"
          ],
          "name": "stdout"
        },
        {
          "output_type": "execute_result",
          "data": {
            "text/plain": [
              "{'kaggle.json': b'{\"username\":\"eronepius\",\"key\":\"d1299d9c29ad703cb5b9a5e29f3dfb1e\"}'}"
            ]
          },
          "metadata": {
            "tags": []
          },
          "execution_count": 2
        }
      ]
    },
    {
      "cell_type": "code",
      "metadata": {
        "id": "03Kg8hg9Lpup",
        "colab_type": "code",
        "colab": {}
      },
      "source": [
        "!pip install -q kaggle"
      ],
      "execution_count": 3,
      "outputs": []
    },
    {
      "cell_type": "code",
      "metadata": {
        "id": "BwmccYBbLwnl",
        "colab_type": "code",
        "colab": {
          "base_uri": "https://localhost:8080/",
          "height": 35
        },
        "outputId": "5482a632-5f04-4026-b70d-8ad458e2a451"
      },
      "source": [
        "!ls"
      ],
      "execution_count": 4,
      "outputs": [
        {
          "output_type": "stream",
          "text": [
            "kaggle.json  sample_data\n"
          ],
          "name": "stdout"
        }
      ]
    },
    {
      "cell_type": "code",
      "metadata": {
        "id": "XGJZXGSnL7sQ",
        "colab_type": "code",
        "colab": {}
      },
      "source": [
        "# The Kaggle API client expects this file to be in ~/.kaggle,\n",
        "# so move it there.\n",
        "!mkdir -p ~/.kaggle\n",
        "!cp kaggle.json ~/.kaggle/\n",
        "\n",
        "# This permissions change avoids a warning on Kaggle tool startup.\n",
        "!chmod 600 ~/.kaggle/kaggle.json"
      ],
      "execution_count": 5,
      "outputs": []
    },
    {
      "cell_type": "code",
      "metadata": {
        "id": "ozeXiprWMKp-",
        "colab_type": "code",
        "colab": {
          "base_uri": "https://localhost:8080/",
          "height": 69
        },
        "outputId": "dd3908e9-111c-41e7-b598-e26abca53903"
      },
      "source": [
        "!kaggle datasets download -d rtatman/blog-authorship-corpus"
      ],
      "execution_count": 6,
      "outputs": [
        {
          "output_type": "stream",
          "text": [
            "Downloading blog-authorship-corpus.zip to /content\n",
            " 99% 288M/290M [00:02<00:00, 125MB/s]\n",
            "100% 290M/290M [00:02<00:00, 118MB/s]\n"
          ],
          "name": "stdout"
        }
      ]
    },
    {
      "cell_type": "code",
      "metadata": {
        "id": "vySAft42MZgm",
        "colab_type": "code",
        "colab": {
          "base_uri": "https://localhost:8080/",
          "height": 35
        },
        "outputId": "2b50e160-60a1-4159-b26f-b3d882facfa9"
      },
      "source": [
        "!ls"
      ],
      "execution_count": 7,
      "outputs": [
        {
          "output_type": "stream",
          "text": [
            "blog-authorship-corpus.zip  kaggle.json  sample_data\n"
          ],
          "name": "stdout"
        }
      ]
    },
    {
      "cell_type": "code",
      "metadata": {
        "id": "f5pfnt5fMdLJ",
        "colab_type": "code",
        "colab": {
          "base_uri": "https://localhost:8080/",
          "height": 52
        },
        "outputId": "de848f21-c93c-4714-e773-e05cd3d9cda7"
      },
      "source": [
        "!unzip blog-authorship-corpus.zip -d blog-authorship-corpus"
      ],
      "execution_count": 8,
      "outputs": [
        {
          "output_type": "stream",
          "text": [
            "Archive:  blog-authorship-corpus.zip\n",
            "  inflating: blog-authorship-corpus/blogtext.csv  \n"
          ],
          "name": "stdout"
        }
      ]
    },
    {
      "cell_type": "markdown",
      "metadata": {
        "id": "V-zaffx3ZUWT",
        "colab_type": "text"
      },
      "source": [
        "## Load the dataset"
      ]
    },
    {
      "cell_type": "code",
      "metadata": {
        "id": "qgzdKFmdNX_c",
        "colab_type": "code",
        "colab": {}
      },
      "source": [
        "import pandas as pd\n",
        "\n",
        "df = pd.read_csv('blog-authorship-corpus/blogtext.csv', nrows= 5000)"
      ],
      "execution_count": 52,
      "outputs": []
    },
    {
      "cell_type": "code",
      "metadata": {
        "id": "5hX4ISsBNjLg",
        "colab_type": "code",
        "colab": {
          "base_uri": "https://localhost:8080/",
          "height": 202
        },
        "outputId": "f388a4a9-3cc6-4864-e7e4-6a31c4268106"
      },
      "source": [
        "df.head()"
      ],
      "execution_count": 53,
      "outputs": [
        {
          "output_type": "execute_result",
          "data": {
            "text/html": [
              "<div>\n",
              "<style scoped>\n",
              "    .dataframe tbody tr th:only-of-type {\n",
              "        vertical-align: middle;\n",
              "    }\n",
              "\n",
              "    .dataframe tbody tr th {\n",
              "        vertical-align: top;\n",
              "    }\n",
              "\n",
              "    .dataframe thead th {\n",
              "        text-align: right;\n",
              "    }\n",
              "</style>\n",
              "<table border=\"1\" class=\"dataframe\">\n",
              "  <thead>\n",
              "    <tr style=\"text-align: right;\">\n",
              "      <th></th>\n",
              "      <th>id</th>\n",
              "      <th>gender</th>\n",
              "      <th>age</th>\n",
              "      <th>topic</th>\n",
              "      <th>sign</th>\n",
              "      <th>date</th>\n",
              "      <th>text</th>\n",
              "    </tr>\n",
              "  </thead>\n",
              "  <tbody>\n",
              "    <tr>\n",
              "      <th>0</th>\n",
              "      <td>2059027</td>\n",
              "      <td>male</td>\n",
              "      <td>15</td>\n",
              "      <td>Student</td>\n",
              "      <td>Leo</td>\n",
              "      <td>14,May,2004</td>\n",
              "      <td>Info has been found (+/- 100 pages,...</td>\n",
              "    </tr>\n",
              "    <tr>\n",
              "      <th>1</th>\n",
              "      <td>2059027</td>\n",
              "      <td>male</td>\n",
              "      <td>15</td>\n",
              "      <td>Student</td>\n",
              "      <td>Leo</td>\n",
              "      <td>13,May,2004</td>\n",
              "      <td>These are the team members:   Drewe...</td>\n",
              "    </tr>\n",
              "    <tr>\n",
              "      <th>2</th>\n",
              "      <td>2059027</td>\n",
              "      <td>male</td>\n",
              "      <td>15</td>\n",
              "      <td>Student</td>\n",
              "      <td>Leo</td>\n",
              "      <td>12,May,2004</td>\n",
              "      <td>In het kader van kernfusie op aarde...</td>\n",
              "    </tr>\n",
              "    <tr>\n",
              "      <th>3</th>\n",
              "      <td>2059027</td>\n",
              "      <td>male</td>\n",
              "      <td>15</td>\n",
              "      <td>Student</td>\n",
              "      <td>Leo</td>\n",
              "      <td>12,May,2004</td>\n",
              "      <td>testing!!!  testing!!!</td>\n",
              "    </tr>\n",
              "    <tr>\n",
              "      <th>4</th>\n",
              "      <td>3581210</td>\n",
              "      <td>male</td>\n",
              "      <td>33</td>\n",
              "      <td>InvestmentBanking</td>\n",
              "      <td>Aquarius</td>\n",
              "      <td>11,June,2004</td>\n",
              "      <td>Thanks to Yahoo!'s Toolbar I can ...</td>\n",
              "    </tr>\n",
              "  </tbody>\n",
              "</table>\n",
              "</div>"
            ],
            "text/plain": [
              "        id  ...                                               text\n",
              "0  2059027  ...             Info has been found (+/- 100 pages,...\n",
              "1  2059027  ...             These are the team members:   Drewe...\n",
              "2  2059027  ...             In het kader van kernfusie op aarde...\n",
              "3  2059027  ...                   testing!!!  testing!!!          \n",
              "4  3581210  ...               Thanks to Yahoo!'s Toolbar I can ...\n",
              "\n",
              "[5 rows x 7 columns]"
            ]
          },
          "metadata": {
            "tags": []
          },
          "execution_count": 53
        }
      ]
    },
    {
      "cell_type": "code",
      "metadata": {
        "id": "4PrOvi63NrYH",
        "colab_type": "code",
        "colab": {
          "base_uri": "https://localhost:8080/",
          "height": 35
        },
        "outputId": "1d8e12bd-df7c-4d08-92d9-57f4b6e69a53"
      },
      "source": [
        "df.shape"
      ],
      "execution_count": 54,
      "outputs": [
        {
          "output_type": "execute_result",
          "data": {
            "text/plain": [
              "(5000, 7)"
            ]
          },
          "metadata": {
            "tags": []
          },
          "execution_count": 54
        }
      ]
    },
    {
      "cell_type": "code",
      "metadata": {
        "id": "INU_5o8_NmEs",
        "colab_type": "code",
        "colab": {
          "base_uri": "https://localhost:8080/",
          "height": 260
        },
        "outputId": "a558bfec-854f-4414-f6c5-374edfa42fef"
      },
      "source": [
        "df.info()"
      ],
      "execution_count": 55,
      "outputs": [
        {
          "output_type": "stream",
          "text": [
            "<class 'pandas.core.frame.DataFrame'>\n",
            "RangeIndex: 5000 entries, 0 to 4999\n",
            "Data columns (total 7 columns):\n",
            " #   Column  Non-Null Count  Dtype \n",
            "---  ------  --------------  ----- \n",
            " 0   id      5000 non-null   int64 \n",
            " 1   gender  5000 non-null   object\n",
            " 2   age     5000 non-null   int64 \n",
            " 3   topic   5000 non-null   object\n",
            " 4   sign    5000 non-null   object\n",
            " 5   date    5000 non-null   object\n",
            " 6   text    5000 non-null   object\n",
            "dtypes: int64(2), object(5)\n",
            "memory usage: 273.6+ KB\n"
          ],
          "name": "stdout"
        }
      ]
    },
    {
      "cell_type": "markdown",
      "metadata": {
        "id": "lAhfVgR8NvjY",
        "colab_type": "text"
      },
      "source": [
        "- There is no column with null value"
      ]
    },
    {
      "cell_type": "code",
      "metadata": {
        "id": "jZ0Ovx5aScVX",
        "colab_type": "code",
        "colab": {}
      },
      "source": [
        "df1 = df[['gender','topic','sign','date','text']]"
      ],
      "execution_count": 56,
      "outputs": []
    },
    {
      "cell_type": "code",
      "metadata": {
        "id": "ng27vfddTE2s",
        "colab_type": "code",
        "colab": {
          "base_uri": "https://localhost:8080/",
          "height": 202
        },
        "outputId": "e1c14c0d-e4ec-4d62-8630-ee2d7e34d2cd"
      },
      "source": [
        "df1.head()"
      ],
      "execution_count": 57,
      "outputs": [
        {
          "output_type": "execute_result",
          "data": {
            "text/html": [
              "<div>\n",
              "<style scoped>\n",
              "    .dataframe tbody tr th:only-of-type {\n",
              "        vertical-align: middle;\n",
              "    }\n",
              "\n",
              "    .dataframe tbody tr th {\n",
              "        vertical-align: top;\n",
              "    }\n",
              "\n",
              "    .dataframe thead th {\n",
              "        text-align: right;\n",
              "    }\n",
              "</style>\n",
              "<table border=\"1\" class=\"dataframe\">\n",
              "  <thead>\n",
              "    <tr style=\"text-align: right;\">\n",
              "      <th></th>\n",
              "      <th>gender</th>\n",
              "      <th>topic</th>\n",
              "      <th>sign</th>\n",
              "      <th>date</th>\n",
              "      <th>text</th>\n",
              "    </tr>\n",
              "  </thead>\n",
              "  <tbody>\n",
              "    <tr>\n",
              "      <th>0</th>\n",
              "      <td>male</td>\n",
              "      <td>Student</td>\n",
              "      <td>Leo</td>\n",
              "      <td>14,May,2004</td>\n",
              "      <td>Info has been found (+/- 100 pages,...</td>\n",
              "    </tr>\n",
              "    <tr>\n",
              "      <th>1</th>\n",
              "      <td>male</td>\n",
              "      <td>Student</td>\n",
              "      <td>Leo</td>\n",
              "      <td>13,May,2004</td>\n",
              "      <td>These are the team members:   Drewe...</td>\n",
              "    </tr>\n",
              "    <tr>\n",
              "      <th>2</th>\n",
              "      <td>male</td>\n",
              "      <td>Student</td>\n",
              "      <td>Leo</td>\n",
              "      <td>12,May,2004</td>\n",
              "      <td>In het kader van kernfusie op aarde...</td>\n",
              "    </tr>\n",
              "    <tr>\n",
              "      <th>3</th>\n",
              "      <td>male</td>\n",
              "      <td>Student</td>\n",
              "      <td>Leo</td>\n",
              "      <td>12,May,2004</td>\n",
              "      <td>testing!!!  testing!!!</td>\n",
              "    </tr>\n",
              "    <tr>\n",
              "      <th>4</th>\n",
              "      <td>male</td>\n",
              "      <td>InvestmentBanking</td>\n",
              "      <td>Aquarius</td>\n",
              "      <td>11,June,2004</td>\n",
              "      <td>Thanks to Yahoo!'s Toolbar I can ...</td>\n",
              "    </tr>\n",
              "  </tbody>\n",
              "</table>\n",
              "</div>"
            ],
            "text/plain": [
              "  gender  ...                                               text\n",
              "0   male  ...             Info has been found (+/- 100 pages,...\n",
              "1   male  ...             These are the team members:   Drewe...\n",
              "2   male  ...             In het kader van kernfusie op aarde...\n",
              "3   male  ...                   testing!!!  testing!!!          \n",
              "4   male  ...               Thanks to Yahoo!'s Toolbar I can ...\n",
              "\n",
              "[5 rows x 5 columns]"
            ]
          },
          "metadata": {
            "tags": []
          },
          "execution_count": 57
        }
      ]
    },
    {
      "cell_type": "markdown",
      "metadata": {
        "id": "3q4FYrIZZMor",
        "colab_type": "text"
      },
      "source": [
        "Preprocess rows of the “text” column<br>\n",
        "a. Remove unwanted characters<br>\n",
        "b. Convert text to lowercase<br>\n",
        "c. Remove unwanted spaces<br>\n",
        "d. Remove stopwords<br>"
      ]
    },
    {
      "cell_type": "code",
      "metadata": {
        "id": "PIN5YGHZN6A2",
        "colab_type": "code",
        "colab": {}
      },
      "source": [
        "import re\n",
        "\n",
        "try:\n",
        "  df1 = df1.applymap(lambda s: s.lower())\n",
        "except Exception as e:\n",
        "  pass"
      ],
      "execution_count": 58,
      "outputs": []
    },
    {
      "cell_type": "code",
      "metadata": {
        "id": "BZO_hY5USQTE",
        "colab_type": "code",
        "colab": {}
      },
      "source": [
        "try:\n",
        "  df1 = df1.applymap(lambda s: re.sub('[^a-zA-Z0-9#+_]',' ',s))\n",
        "except Exception as e:\n",
        "  pass\n",
        "\n"
      ],
      "execution_count": 59,
      "outputs": []
    },
    {
      "cell_type": "code",
      "metadata": {
        "id": "NFu_YrvGSQPO",
        "colab_type": "code",
        "colab": {}
      },
      "source": [
        "try:\n",
        "  df1 = df1.applymap(lambda s: re.sub(' +', ' ',s))\n",
        "except Exception as e:\n",
        "  pass\n",
        "\n"
      ],
      "execution_count": 60,
      "outputs": []
    },
    {
      "cell_type": "code",
      "metadata": {
        "id": "tvdf9McxSUuh",
        "colab_type": "code",
        "colab": {}
      },
      "source": [
        "try:\n",
        "  df1 = df1.applymap(lambda s: s.strip())\n",
        "except Exception as e:\n",
        "  pass"
      ],
      "execution_count": 61,
      "outputs": []
    },
    {
      "cell_type": "code",
      "metadata": {
        "id": "GTvo4DvMRirh",
        "colab_type": "code",
        "colab": {
          "base_uri": "https://localhost:8080/",
          "height": 202
        },
        "outputId": "8e8ee80e-bef3-42b8-b225-ec03c97ac5e7"
      },
      "source": [
        "df1.head()"
      ],
      "execution_count": 62,
      "outputs": [
        {
          "output_type": "execute_result",
          "data": {
            "text/html": [
              "<div>\n",
              "<style scoped>\n",
              "    .dataframe tbody tr th:only-of-type {\n",
              "        vertical-align: middle;\n",
              "    }\n",
              "\n",
              "    .dataframe tbody tr th {\n",
              "        vertical-align: top;\n",
              "    }\n",
              "\n",
              "    .dataframe thead th {\n",
              "        text-align: right;\n",
              "    }\n",
              "</style>\n",
              "<table border=\"1\" class=\"dataframe\">\n",
              "  <thead>\n",
              "    <tr style=\"text-align: right;\">\n",
              "      <th></th>\n",
              "      <th>gender</th>\n",
              "      <th>topic</th>\n",
              "      <th>sign</th>\n",
              "      <th>date</th>\n",
              "      <th>text</th>\n",
              "    </tr>\n",
              "  </thead>\n",
              "  <tbody>\n",
              "    <tr>\n",
              "      <th>0</th>\n",
              "      <td>male</td>\n",
              "      <td>student</td>\n",
              "      <td>leo</td>\n",
              "      <td>14 may 2004</td>\n",
              "      <td>info has been found + 100 pages and 4 5 mb of ...</td>\n",
              "    </tr>\n",
              "    <tr>\n",
              "      <th>1</th>\n",
              "      <td>male</td>\n",
              "      <td>student</td>\n",
              "      <td>leo</td>\n",
              "      <td>13 may 2004</td>\n",
              "      <td>these are the team members drewes van der laag...</td>\n",
              "    </tr>\n",
              "    <tr>\n",
              "      <th>2</th>\n",
              "      <td>male</td>\n",
              "      <td>student</td>\n",
              "      <td>leo</td>\n",
              "      <td>12 may 2004</td>\n",
              "      <td>in het kader van kernfusie op aarde maak je ei...</td>\n",
              "    </tr>\n",
              "    <tr>\n",
              "      <th>3</th>\n",
              "      <td>male</td>\n",
              "      <td>student</td>\n",
              "      <td>leo</td>\n",
              "      <td>12 may 2004</td>\n",
              "      <td>testing testing</td>\n",
              "    </tr>\n",
              "    <tr>\n",
              "      <th>4</th>\n",
              "      <td>male</td>\n",
              "      <td>investmentbanking</td>\n",
              "      <td>aquarius</td>\n",
              "      <td>11 june 2004</td>\n",
              "      <td>thanks to yahoo s toolbar i can now capture th...</td>\n",
              "    </tr>\n",
              "  </tbody>\n",
              "</table>\n",
              "</div>"
            ],
            "text/plain": [
              "  gender  ...                                               text\n",
              "0   male  ...  info has been found + 100 pages and 4 5 mb of ...\n",
              "1   male  ...  these are the team members drewes van der laag...\n",
              "2   male  ...  in het kader van kernfusie op aarde maak je ei...\n",
              "3   male  ...                                    testing testing\n",
              "4   male  ...  thanks to yahoo s toolbar i can now capture th...\n",
              "\n",
              "[5 rows x 5 columns]"
            ]
          },
          "metadata": {
            "tags": []
          },
          "execution_count": 62
        }
      ]
    },
    {
      "cell_type": "code",
      "metadata": {
        "id": "JXi97cD6bTDT",
        "colab_type": "code",
        "colab": {
          "base_uri": "https://localhost:8080/",
          "height": 69
        },
        "outputId": "6e11e053-359a-4811-c086-180392dd250e"
      },
      "source": [
        "import nltk\n",
        "nltk.download('stopwords')"
      ],
      "execution_count": 63,
      "outputs": [
        {
          "output_type": "stream",
          "text": [
            "[nltk_data] Downloading package stopwords to /root/nltk_data...\n",
            "[nltk_data]   Package stopwords is already up-to-date!\n"
          ],
          "name": "stdout"
        },
        {
          "output_type": "execute_result",
          "data": {
            "text/plain": [
              "True"
            ]
          },
          "metadata": {
            "tags": []
          },
          "execution_count": 63
        }
      ]
    },
    {
      "cell_type": "code",
      "metadata": {
        "id": "7iOj6eqqWctq",
        "colab_type": "code",
        "colab": {}
      },
      "source": [
        "from nltk.corpus import stopwords\n",
        "\n",
        "cachedStopWords = set(stopwords.words(\"english\"))\n",
        "\n",
        "#df1['text_no_stopwords'] = df1['text'].apply(lambda x: [item for item in x if item not in cachedStopWords])\n",
        "df1['text_no_stopwords'] = df1['text'].apply(lambda x: ' '.join([word for word in x.split() if word not in (cachedStopWords)]))\n"
      ],
      "execution_count": 64,
      "outputs": []
    },
    {
      "cell_type": "code",
      "metadata": {
        "id": "1anvpat5pAxc",
        "colab_type": "code",
        "colab": {
          "base_uri": "https://localhost:8080/",
          "height": 202
        },
        "outputId": "45289a4f-1ec7-4495-e8de-15a30e6e7242"
      },
      "source": [
        "df1.head()"
      ],
      "execution_count": 65,
      "outputs": [
        {
          "output_type": "execute_result",
          "data": {
            "text/html": [
              "<div>\n",
              "<style scoped>\n",
              "    .dataframe tbody tr th:only-of-type {\n",
              "        vertical-align: middle;\n",
              "    }\n",
              "\n",
              "    .dataframe tbody tr th {\n",
              "        vertical-align: top;\n",
              "    }\n",
              "\n",
              "    .dataframe thead th {\n",
              "        text-align: right;\n",
              "    }\n",
              "</style>\n",
              "<table border=\"1\" class=\"dataframe\">\n",
              "  <thead>\n",
              "    <tr style=\"text-align: right;\">\n",
              "      <th></th>\n",
              "      <th>gender</th>\n",
              "      <th>topic</th>\n",
              "      <th>sign</th>\n",
              "      <th>date</th>\n",
              "      <th>text</th>\n",
              "      <th>text_no_stopwords</th>\n",
              "    </tr>\n",
              "  </thead>\n",
              "  <tbody>\n",
              "    <tr>\n",
              "      <th>0</th>\n",
              "      <td>male</td>\n",
              "      <td>student</td>\n",
              "      <td>leo</td>\n",
              "      <td>14 may 2004</td>\n",
              "      <td>info has been found + 100 pages and 4 5 mb of ...</td>\n",
              "      <td>info found + 100 pages 4 5 mb pdf files wait u...</td>\n",
              "    </tr>\n",
              "    <tr>\n",
              "      <th>1</th>\n",
              "      <td>male</td>\n",
              "      <td>student</td>\n",
              "      <td>leo</td>\n",
              "      <td>13 may 2004</td>\n",
              "      <td>these are the team members drewes van der laag...</td>\n",
              "      <td>team members drewes van der laag urllink mail ...</td>\n",
              "    </tr>\n",
              "    <tr>\n",
              "      <th>2</th>\n",
              "      <td>male</td>\n",
              "      <td>student</td>\n",
              "      <td>leo</td>\n",
              "      <td>12 may 2004</td>\n",
              "      <td>in het kader van kernfusie op aarde maak je ei...</td>\n",
              "      <td>het kader van kernfusie op aarde maak je eigen...</td>\n",
              "    </tr>\n",
              "    <tr>\n",
              "      <th>3</th>\n",
              "      <td>male</td>\n",
              "      <td>student</td>\n",
              "      <td>leo</td>\n",
              "      <td>12 may 2004</td>\n",
              "      <td>testing testing</td>\n",
              "      <td>testing testing</td>\n",
              "    </tr>\n",
              "    <tr>\n",
              "      <th>4</th>\n",
              "      <td>male</td>\n",
              "      <td>investmentbanking</td>\n",
              "      <td>aquarius</td>\n",
              "      <td>11 june 2004</td>\n",
              "      <td>thanks to yahoo s toolbar i can now capture th...</td>\n",
              "      <td>thanks yahoo toolbar capture urls popups means...</td>\n",
              "    </tr>\n",
              "  </tbody>\n",
              "</table>\n",
              "</div>"
            ],
            "text/plain": [
              "  gender  ...                                  text_no_stopwords\n",
              "0   male  ...  info found + 100 pages 4 5 mb pdf files wait u...\n",
              "1   male  ...  team members drewes van der laag urllink mail ...\n",
              "2   male  ...  het kader van kernfusie op aarde maak je eigen...\n",
              "3   male  ...                                    testing testing\n",
              "4   male  ...  thanks yahoo toolbar capture urls popups means...\n",
              "\n",
              "[5 rows x 6 columns]"
            ]
          },
          "metadata": {
            "tags": []
          },
          "execution_count": 65
        }
      ]
    },
    {
      "cell_type": "code",
      "metadata": {
        "id": "WMvbymftYhYk",
        "colab_type": "code",
        "colab": {}
      },
      "source": [
        "df1['age'] = df['age']"
      ],
      "execution_count": 66,
      "outputs": []
    },
    {
      "cell_type": "code",
      "metadata": {
        "id": "phm5GVHztxnv",
        "colab_type": "code",
        "colab": {
          "base_uri": "https://localhost:8080/",
          "height": 202
        },
        "outputId": "e3dc4f5d-c142-4a07-a243-0a09f19830ba"
      },
      "source": [
        "df1.head()"
      ],
      "execution_count": 67,
      "outputs": [
        {
          "output_type": "execute_result",
          "data": {
            "text/html": [
              "<div>\n",
              "<style scoped>\n",
              "    .dataframe tbody tr th:only-of-type {\n",
              "        vertical-align: middle;\n",
              "    }\n",
              "\n",
              "    .dataframe tbody tr th {\n",
              "        vertical-align: top;\n",
              "    }\n",
              "\n",
              "    .dataframe thead th {\n",
              "        text-align: right;\n",
              "    }\n",
              "</style>\n",
              "<table border=\"1\" class=\"dataframe\">\n",
              "  <thead>\n",
              "    <tr style=\"text-align: right;\">\n",
              "      <th></th>\n",
              "      <th>gender</th>\n",
              "      <th>topic</th>\n",
              "      <th>sign</th>\n",
              "      <th>date</th>\n",
              "      <th>text</th>\n",
              "      <th>text_no_stopwords</th>\n",
              "      <th>age</th>\n",
              "    </tr>\n",
              "  </thead>\n",
              "  <tbody>\n",
              "    <tr>\n",
              "      <th>0</th>\n",
              "      <td>male</td>\n",
              "      <td>student</td>\n",
              "      <td>leo</td>\n",
              "      <td>14 may 2004</td>\n",
              "      <td>info has been found + 100 pages and 4 5 mb of ...</td>\n",
              "      <td>info found + 100 pages 4 5 mb pdf files wait u...</td>\n",
              "      <td>15</td>\n",
              "    </tr>\n",
              "    <tr>\n",
              "      <th>1</th>\n",
              "      <td>male</td>\n",
              "      <td>student</td>\n",
              "      <td>leo</td>\n",
              "      <td>13 may 2004</td>\n",
              "      <td>these are the team members drewes van der laag...</td>\n",
              "      <td>team members drewes van der laag urllink mail ...</td>\n",
              "      <td>15</td>\n",
              "    </tr>\n",
              "    <tr>\n",
              "      <th>2</th>\n",
              "      <td>male</td>\n",
              "      <td>student</td>\n",
              "      <td>leo</td>\n",
              "      <td>12 may 2004</td>\n",
              "      <td>in het kader van kernfusie op aarde maak je ei...</td>\n",
              "      <td>het kader van kernfusie op aarde maak je eigen...</td>\n",
              "      <td>15</td>\n",
              "    </tr>\n",
              "    <tr>\n",
              "      <th>3</th>\n",
              "      <td>male</td>\n",
              "      <td>student</td>\n",
              "      <td>leo</td>\n",
              "      <td>12 may 2004</td>\n",
              "      <td>testing testing</td>\n",
              "      <td>testing testing</td>\n",
              "      <td>15</td>\n",
              "    </tr>\n",
              "    <tr>\n",
              "      <th>4</th>\n",
              "      <td>male</td>\n",
              "      <td>investmentbanking</td>\n",
              "      <td>aquarius</td>\n",
              "      <td>11 june 2004</td>\n",
              "      <td>thanks to yahoo s toolbar i can now capture th...</td>\n",
              "      <td>thanks yahoo toolbar capture urls popups means...</td>\n",
              "      <td>33</td>\n",
              "    </tr>\n",
              "  </tbody>\n",
              "</table>\n",
              "</div>"
            ],
            "text/plain": [
              "  gender  ... age\n",
              "0   male  ...  15\n",
              "1   male  ...  15\n",
              "2   male  ...  15\n",
              "3   male  ...  15\n",
              "4   male  ...  33\n",
              "\n",
              "[5 rows x 7 columns]"
            ]
          },
          "metadata": {
            "tags": []
          },
          "execution_count": 67
        }
      ]
    },
    {
      "cell_type": "code",
      "metadata": {
        "id": "ic4C9MeVwLYB",
        "colab_type": "code",
        "colab": {}
      },
      "source": [
        "df1['labels'] = df1['gender'] + ' ' +  df1['age'].astype(str) + ' ' + df1['topic'] + ' ' + df1['sign']"
      ],
      "execution_count": 68,
      "outputs": []
    },
    {
      "cell_type": "code",
      "metadata": {
        "id": "0IZYTH32ygV2",
        "colab_type": "code",
        "colab": {
          "base_uri": "https://localhost:8080/",
          "height": 289
        },
        "outputId": "92dba8d7-45c7-44ae-a58f-edf4a21c21f1"
      },
      "source": [
        "df1.head()"
      ],
      "execution_count": 69,
      "outputs": [
        {
          "output_type": "execute_result",
          "data": {
            "text/html": [
              "<div>\n",
              "<style scoped>\n",
              "    .dataframe tbody tr th:only-of-type {\n",
              "        vertical-align: middle;\n",
              "    }\n",
              "\n",
              "    .dataframe tbody tr th {\n",
              "        vertical-align: top;\n",
              "    }\n",
              "\n",
              "    .dataframe thead th {\n",
              "        text-align: right;\n",
              "    }\n",
              "</style>\n",
              "<table border=\"1\" class=\"dataframe\">\n",
              "  <thead>\n",
              "    <tr style=\"text-align: right;\">\n",
              "      <th></th>\n",
              "      <th>gender</th>\n",
              "      <th>topic</th>\n",
              "      <th>sign</th>\n",
              "      <th>date</th>\n",
              "      <th>text</th>\n",
              "      <th>text_no_stopwords</th>\n",
              "      <th>age</th>\n",
              "      <th>labels</th>\n",
              "    </tr>\n",
              "  </thead>\n",
              "  <tbody>\n",
              "    <tr>\n",
              "      <th>0</th>\n",
              "      <td>male</td>\n",
              "      <td>student</td>\n",
              "      <td>leo</td>\n",
              "      <td>14 may 2004</td>\n",
              "      <td>info has been found + 100 pages and 4 5 mb of ...</td>\n",
              "      <td>info found + 100 pages 4 5 mb pdf files wait u...</td>\n",
              "      <td>15</td>\n",
              "      <td>male 15 student leo</td>\n",
              "    </tr>\n",
              "    <tr>\n",
              "      <th>1</th>\n",
              "      <td>male</td>\n",
              "      <td>student</td>\n",
              "      <td>leo</td>\n",
              "      <td>13 may 2004</td>\n",
              "      <td>these are the team members drewes van der laag...</td>\n",
              "      <td>team members drewes van der laag urllink mail ...</td>\n",
              "      <td>15</td>\n",
              "      <td>male 15 student leo</td>\n",
              "    </tr>\n",
              "    <tr>\n",
              "      <th>2</th>\n",
              "      <td>male</td>\n",
              "      <td>student</td>\n",
              "      <td>leo</td>\n",
              "      <td>12 may 2004</td>\n",
              "      <td>in het kader van kernfusie op aarde maak je ei...</td>\n",
              "      <td>het kader van kernfusie op aarde maak je eigen...</td>\n",
              "      <td>15</td>\n",
              "      <td>male 15 student leo</td>\n",
              "    </tr>\n",
              "    <tr>\n",
              "      <th>3</th>\n",
              "      <td>male</td>\n",
              "      <td>student</td>\n",
              "      <td>leo</td>\n",
              "      <td>12 may 2004</td>\n",
              "      <td>testing testing</td>\n",
              "      <td>testing testing</td>\n",
              "      <td>15</td>\n",
              "      <td>male 15 student leo</td>\n",
              "    </tr>\n",
              "    <tr>\n",
              "      <th>4</th>\n",
              "      <td>male</td>\n",
              "      <td>investmentbanking</td>\n",
              "      <td>aquarius</td>\n",
              "      <td>11 june 2004</td>\n",
              "      <td>thanks to yahoo s toolbar i can now capture th...</td>\n",
              "      <td>thanks yahoo toolbar capture urls popups means...</td>\n",
              "      <td>33</td>\n",
              "      <td>male 33 investmentbanking aquarius</td>\n",
              "    </tr>\n",
              "  </tbody>\n",
              "</table>\n",
              "</div>"
            ],
            "text/plain": [
              "  gender              topic  ... age                              labels\n",
              "0   male            student  ...  15                 male 15 student leo\n",
              "1   male            student  ...  15                 male 15 student leo\n",
              "2   male            student  ...  15                 male 15 student leo\n",
              "3   male            student  ...  15                 male 15 student leo\n",
              "4   male  investmentbanking  ...  33  male 33 investmentbanking aquarius\n",
              "\n",
              "[5 rows x 8 columns]"
            ]
          },
          "metadata": {
            "tags": []
          },
          "execution_count": 69
        }
      ]
    },
    {
      "cell_type": "markdown",
      "metadata": {
        "id": "SyagCATlY564",
        "colab_type": "text"
      },
      "source": [
        "a. Label columns to merge: “gender”, “age”, “topic”, “sign”"
      ]
    },
    {
      "cell_type": "code",
      "metadata": {
        "id": "YX8EYDueyiO-",
        "colab_type": "code",
        "colab": {}
      },
      "source": [
        "df1['labels'] = df1['labels'].str.split(\" \")"
      ],
      "execution_count": 70,
      "outputs": []
    },
    {
      "cell_type": "code",
      "metadata": {
        "id": "aJ4L1JAWzKSK",
        "colab_type": "code",
        "colab": {
          "base_uri": "https://localhost:8080/",
          "height": 289
        },
        "outputId": "99d68c4d-e3f6-4c1b-91b2-f9242beb6dea"
      },
      "source": [
        "df1.head()"
      ],
      "execution_count": 71,
      "outputs": [
        {
          "output_type": "execute_result",
          "data": {
            "text/html": [
              "<div>\n",
              "<style scoped>\n",
              "    .dataframe tbody tr th:only-of-type {\n",
              "        vertical-align: middle;\n",
              "    }\n",
              "\n",
              "    .dataframe tbody tr th {\n",
              "        vertical-align: top;\n",
              "    }\n",
              "\n",
              "    .dataframe thead th {\n",
              "        text-align: right;\n",
              "    }\n",
              "</style>\n",
              "<table border=\"1\" class=\"dataframe\">\n",
              "  <thead>\n",
              "    <tr style=\"text-align: right;\">\n",
              "      <th></th>\n",
              "      <th>gender</th>\n",
              "      <th>topic</th>\n",
              "      <th>sign</th>\n",
              "      <th>date</th>\n",
              "      <th>text</th>\n",
              "      <th>text_no_stopwords</th>\n",
              "      <th>age</th>\n",
              "      <th>labels</th>\n",
              "    </tr>\n",
              "  </thead>\n",
              "  <tbody>\n",
              "    <tr>\n",
              "      <th>0</th>\n",
              "      <td>male</td>\n",
              "      <td>student</td>\n",
              "      <td>leo</td>\n",
              "      <td>14 may 2004</td>\n",
              "      <td>info has been found + 100 pages and 4 5 mb of ...</td>\n",
              "      <td>info found + 100 pages 4 5 mb pdf files wait u...</td>\n",
              "      <td>15</td>\n",
              "      <td>[male, 15, student, leo]</td>\n",
              "    </tr>\n",
              "    <tr>\n",
              "      <th>1</th>\n",
              "      <td>male</td>\n",
              "      <td>student</td>\n",
              "      <td>leo</td>\n",
              "      <td>13 may 2004</td>\n",
              "      <td>these are the team members drewes van der laag...</td>\n",
              "      <td>team members drewes van der laag urllink mail ...</td>\n",
              "      <td>15</td>\n",
              "      <td>[male, 15, student, leo]</td>\n",
              "    </tr>\n",
              "    <tr>\n",
              "      <th>2</th>\n",
              "      <td>male</td>\n",
              "      <td>student</td>\n",
              "      <td>leo</td>\n",
              "      <td>12 may 2004</td>\n",
              "      <td>in het kader van kernfusie op aarde maak je ei...</td>\n",
              "      <td>het kader van kernfusie op aarde maak je eigen...</td>\n",
              "      <td>15</td>\n",
              "      <td>[male, 15, student, leo]</td>\n",
              "    </tr>\n",
              "    <tr>\n",
              "      <th>3</th>\n",
              "      <td>male</td>\n",
              "      <td>student</td>\n",
              "      <td>leo</td>\n",
              "      <td>12 may 2004</td>\n",
              "      <td>testing testing</td>\n",
              "      <td>testing testing</td>\n",
              "      <td>15</td>\n",
              "      <td>[male, 15, student, leo]</td>\n",
              "    </tr>\n",
              "    <tr>\n",
              "      <th>4</th>\n",
              "      <td>male</td>\n",
              "      <td>investmentbanking</td>\n",
              "      <td>aquarius</td>\n",
              "      <td>11 june 2004</td>\n",
              "      <td>thanks to yahoo s toolbar i can now capture th...</td>\n",
              "      <td>thanks yahoo toolbar capture urls popups means...</td>\n",
              "      <td>33</td>\n",
              "      <td>[male, 33, investmentbanking, aquarius]</td>\n",
              "    </tr>\n",
              "  </tbody>\n",
              "</table>\n",
              "</div>"
            ],
            "text/plain": [
              "  gender              topic  ... age                                   labels\n",
              "0   male            student  ...  15                 [male, 15, student, leo]\n",
              "1   male            student  ...  15                 [male, 15, student, leo]\n",
              "2   male            student  ...  15                 [male, 15, student, leo]\n",
              "3   male            student  ...  15                 [male, 15, student, leo]\n",
              "4   male  investmentbanking  ...  33  [male, 33, investmentbanking, aquarius]\n",
              "\n",
              "[5 rows x 8 columns]"
            ]
          },
          "metadata": {
            "tags": []
          },
          "execution_count": 71
        }
      ]
    },
    {
      "cell_type": "markdown",
      "metadata": {
        "id": "NyY1tHt6ZEFL",
        "colab_type": "text"
      },
      "source": [
        "b. After completing the previous step, there should be only two columns in your data\n",
        "frame i.e. “text” and “labels” as shown in the below image"
      ]
    },
    {
      "cell_type": "code",
      "metadata": {
        "id": "en9Vaj5YzLiJ",
        "colab_type": "code",
        "colab": {}
      },
      "source": [
        "df2 = df1[['text_no_stopwords', 'labels']]"
      ],
      "execution_count": 72,
      "outputs": []
    },
    {
      "cell_type": "code",
      "metadata": {
        "id": "zKQtaiVX1hMs",
        "colab_type": "code",
        "colab": {
          "base_uri": "https://localhost:8080/",
          "height": 202
        },
        "outputId": "56059d93-1c3a-4ebd-cf38-2f27ce4f7554"
      },
      "source": [
        "df2.head()"
      ],
      "execution_count": 73,
      "outputs": [
        {
          "output_type": "execute_result",
          "data": {
            "text/html": [
              "<div>\n",
              "<style scoped>\n",
              "    .dataframe tbody tr th:only-of-type {\n",
              "        vertical-align: middle;\n",
              "    }\n",
              "\n",
              "    .dataframe tbody tr th {\n",
              "        vertical-align: top;\n",
              "    }\n",
              "\n",
              "    .dataframe thead th {\n",
              "        text-align: right;\n",
              "    }\n",
              "</style>\n",
              "<table border=\"1\" class=\"dataframe\">\n",
              "  <thead>\n",
              "    <tr style=\"text-align: right;\">\n",
              "      <th></th>\n",
              "      <th>text_no_stopwords</th>\n",
              "      <th>labels</th>\n",
              "    </tr>\n",
              "  </thead>\n",
              "  <tbody>\n",
              "    <tr>\n",
              "      <th>0</th>\n",
              "      <td>info found + 100 pages 4 5 mb pdf files wait u...</td>\n",
              "      <td>[male, 15, student, leo]</td>\n",
              "    </tr>\n",
              "    <tr>\n",
              "      <th>1</th>\n",
              "      <td>team members drewes van der laag urllink mail ...</td>\n",
              "      <td>[male, 15, student, leo]</td>\n",
              "    </tr>\n",
              "    <tr>\n",
              "      <th>2</th>\n",
              "      <td>het kader van kernfusie op aarde maak je eigen...</td>\n",
              "      <td>[male, 15, student, leo]</td>\n",
              "    </tr>\n",
              "    <tr>\n",
              "      <th>3</th>\n",
              "      <td>testing testing</td>\n",
              "      <td>[male, 15, student, leo]</td>\n",
              "    </tr>\n",
              "    <tr>\n",
              "      <th>4</th>\n",
              "      <td>thanks yahoo toolbar capture urls popups means...</td>\n",
              "      <td>[male, 33, investmentbanking, aquarius]</td>\n",
              "    </tr>\n",
              "  </tbody>\n",
              "</table>\n",
              "</div>"
            ],
            "text/plain": [
              "                                   text_no_stopwords                                   labels\n",
              "0  info found + 100 pages 4 5 mb pdf files wait u...                 [male, 15, student, leo]\n",
              "1  team members drewes van der laag urllink mail ...                 [male, 15, student, leo]\n",
              "2  het kader van kernfusie op aarde maak je eigen...                 [male, 15, student, leo]\n",
              "3                                    testing testing                 [male, 15, student, leo]\n",
              "4  thanks yahoo toolbar capture urls popups means...  [male, 33, investmentbanking, aquarius]"
            ]
          },
          "metadata": {
            "tags": []
          },
          "execution_count": 73
        }
      ]
    },
    {
      "cell_type": "markdown",
      "metadata": {
        "id": "vkvmRo4-2U28",
        "colab_type": "text"
      },
      "source": [
        "### Seperating features and target labels and creating training and test dataset"
      ]
    },
    {
      "cell_type": "code",
      "metadata": {
        "id": "nMcEiJoz1id1",
        "colab_type": "code",
        "colab": {}
      },
      "source": [
        "from sklearn.model_selection import train_test_split\n",
        "\n",
        "X = df2['text_no_stopwords']\n",
        "y = df2['labels']\n",
        "\n",
        "X_train, X_test, y_train, y_test = train_test_split(X, y, test_size=0.25, random_state=1)"
      ],
      "execution_count": 74,
      "outputs": []
    },
    {
      "cell_type": "code",
      "metadata": {
        "id": "MgK-IS7Q2SqG",
        "colab_type": "code",
        "colab": {}
      },
      "source": [
        "from sklearn.feature_extraction.text import CountVectorizer\n",
        "\n",
        "vectorizer = CountVectorizer(ngram_range = (1, 2), stop_words = 'english', min_df = 2)\n",
        "X_train_p = vectorizer.fit_transform(X_train)"
      ],
      "execution_count": 75,
      "outputs": []
    },
    {
      "cell_type": "code",
      "metadata": {
        "id": "ZnoUjYuR2yoG",
        "colab_type": "code",
        "colab": {}
      },
      "source": [
        "X_test_p = vectorizer.transform(X_test)"
      ],
      "execution_count": 76,
      "outputs": []
    },
    {
      "cell_type": "code",
      "metadata": {
        "id": "3CN_6mrUPoan",
        "colab_type": "code",
        "colab": {
          "base_uri": "https://localhost:8080/",
          "height": 901
        },
        "outputId": "516cfe10-a495-49f8-a14f-15063160b9e0"
      },
      "source": [
        "print(X_train_p)"
      ],
      "execution_count": 77,
      "outputs": [
        {
          "output_type": "stream",
          "text": [
            "  (0, 28560)\t1\n",
            "  (0, 11951)\t1\n",
            "  (1, 28145)\t3\n",
            "  (1, 28749)\t1\n",
            "  (1, 10850)\t1\n",
            "  (1, 24060)\t1\n",
            "  (1, 7235)\t1\n",
            "  (1, 3946)\t1\n",
            "  (1, 14472)\t2\n",
            "  (1, 16598)\t1\n",
            "  (1, 6300)\t1\n",
            "  (1, 28044)\t1\n",
            "  (1, 17608)\t2\n",
            "  (1, 28197)\t2\n",
            "  (1, 14865)\t1\n",
            "  (1, 15341)\t1\n",
            "  (1, 10808)\t1\n",
            "  (1, 28744)\t1\n",
            "  (1, 3655)\t1\n",
            "  (1, 13682)\t1\n",
            "  (1, 23315)\t1\n",
            "  (1, 24735)\t2\n",
            "  (1, 27917)\t1\n",
            "  (1, 28094)\t1\n",
            "  (1, 23388)\t1\n",
            "  :\t:\n",
            "  (3748, 9968)\t1\n",
            "  (3748, 3026)\t1\n",
            "  (3748, 20325)\t1\n",
            "  (3748, 4099)\t1\n",
            "  (3748, 28554)\t1\n",
            "  (3748, 17107)\t1\n",
            "  (3748, 13509)\t3\n",
            "  (3748, 10262)\t1\n",
            "  (3748, 3844)\t1\n",
            "  (3748, 11360)\t1\n",
            "  (3748, 23246)\t1\n",
            "  (3748, 20979)\t1\n",
            "  (3748, 11550)\t1\n",
            "  (3748, 17980)\t1\n",
            "  (3748, 26058)\t1\n",
            "  (3748, 5896)\t1\n",
            "  (3748, 21574)\t1\n",
            "  (3748, 17679)\t1\n",
            "  (3748, 166)\t1\n",
            "  (3748, 11361)\t1\n",
            "  (3748, 12922)\t1\n",
            "  (3748, 28154)\t1\n",
            "  (3748, 16174)\t1\n",
            "  (3749, 7017)\t1\n",
            "  (3749, 28461)\t1\n"
          ],
          "name": "stdout"
        }
      ]
    },
    {
      "cell_type": "code",
      "metadata": {
        "id": "w7E-WXTuTclJ",
        "colab_type": "code",
        "colab": {
          "base_uri": "https://localhost:8080/",
          "height": 901
        },
        "outputId": "089710b6-d51e-4483-d7d9-579d2f127c45"
      },
      "source": [
        "print(X_test_p)"
      ],
      "execution_count": 78,
      "outputs": [
        {
          "output_type": "stream",
          "text": [
            "  (0, 4929)\t1\n",
            "  (0, 7141)\t1\n",
            "  (0, 9715)\t1\n",
            "  (0, 11129)\t1\n",
            "  (1, 742)\t1\n",
            "  (1, 1822)\t1\n",
            "  (1, 2075)\t1\n",
            "  (1, 2568)\t1\n",
            "  (1, 2619)\t1\n",
            "  (1, 2955)\t1\n",
            "  (1, 3097)\t1\n",
            "  (1, 4656)\t1\n",
            "  (1, 5281)\t2\n",
            "  (1, 5293)\t1\n",
            "  (1, 5405)\t2\n",
            "  (1, 5624)\t1\n",
            "  (1, 5778)\t1\n",
            "  (1, 5977)\t1\n",
            "  (1, 7179)\t1\n",
            "  (1, 7502)\t1\n",
            "  (1, 7808)\t1\n",
            "  (1, 7836)\t2\n",
            "  (1, 7875)\t1\n",
            "  (1, 8228)\t1\n",
            "  (1, 9017)\t1\n",
            "  :\t:\n",
            "  (1249, 24519)\t1\n",
            "  (1249, 24991)\t1\n",
            "  (1249, 25038)\t1\n",
            "  (1249, 25625)\t1\n",
            "  (1249, 25723)\t1\n",
            "  (1249, 26134)\t1\n",
            "  (1249, 26489)\t4\n",
            "  (1249, 26506)\t1\n",
            "  (1249, 26563)\t2\n",
            "  (1249, 26787)\t2\n",
            "  (1249, 26804)\t1\n",
            "  (1249, 26831)\t1\n",
            "  (1249, 26844)\t2\n",
            "  (1249, 26868)\t2\n",
            "  (1249, 26876)\t1\n",
            "  (1249, 27290)\t1\n",
            "  (1249, 27334)\t1\n",
            "  (1249, 27336)\t1\n",
            "  (1249, 27536)\t1\n",
            "  (1249, 27602)\t1\n",
            "  (1249, 27917)\t1\n",
            "  (1249, 28032)\t1\n",
            "  (1249, 28648)\t1\n",
            "  (1249, 28774)\t1\n",
            "  (1249, 29297)\t5\n"
          ],
          "name": "stdout"
        }
      ]
    },
    {
      "cell_type": "markdown",
      "metadata": {
        "id": "7hqPpqt-YucY",
        "colab_type": "text"
      },
      "source": [
        "## Create a dictionary to get the count of every label i.e. the key will be label name and value will be the total count of the label."
      ]
    },
    {
      "cell_type": "code",
      "metadata": {
        "id": "7d5mb4XUTo3a",
        "colab_type": "code",
        "colab": {}
      },
      "source": [
        "import warnings\n",
        "warnings.filterwarnings('ignore')"
      ],
      "execution_count": 79,
      "outputs": []
    },
    {
      "cell_type": "code",
      "metadata": {
        "id": "54UXwX9uBHMr",
        "colab_type": "code",
        "colab": {}
      },
      "source": [
        "dfT = df1[['gender', 'age', 'topic', 'sign']]\n",
        "dfT['age'] = dfT['age'].astype('str')\n",
        "keys=[] \n",
        "values=[] \n",
        "\n",
        "for i in range(dfT.shape[1]): # iterate through all the colummns        \n",
        "    for j in range(dfT.iloc[:,i].value_counts().shape[0]): # iterate through all the rows of value_counts of that column\n",
        "        keys.append(dfT.iloc[:,i].value_counts().index[j])         \n",
        "        values.append(dfT.iloc[:,i].value_counts().iloc[j])\n",
        "dictionary = dict(zip(keys,values))"
      ],
      "execution_count": 80,
      "outputs": []
    },
    {
      "cell_type": "code",
      "metadata": {
        "id": "ayvfPKJAFZGJ",
        "colab_type": "code",
        "colab": {
          "base_uri": "https://localhost:8080/",
          "height": 953
        },
        "outputId": "2b208394-42be-40cc-bb16-1da7b78ad421"
      },
      "source": [
        "import pprint\n",
        "\n",
        "pprint.pprint(dictionary)"
      ],
      "execution_count": 81,
      "outputs": [
        {
          "output_type": "stream",
          "text": [
            "{'14': 170,\n",
            " '15': 339,\n",
            " '16': 67,\n",
            " '17': 331,\n",
            " '23': 137,\n",
            " '24': 353,\n",
            " '25': 268,\n",
            " '26': 96,\n",
            " '27': 86,\n",
            " '33': 101,\n",
            " '34': 540,\n",
            " '35': 2307,\n",
            " '36': 60,\n",
            " '37': 19,\n",
            " '39': 79,\n",
            " '41': 14,\n",
            " '42': 9,\n",
            " '44': 3,\n",
            " '45': 14,\n",
            " '46': 7,\n",
            " 'accounting': 2,\n",
            " 'aquarius': 329,\n",
            " 'aries': 2483,\n",
            " 'arts': 31,\n",
            " 'automotive': 14,\n",
            " 'banking': 16,\n",
            " 'businessservices': 87,\n",
            " 'cancer': 94,\n",
            " 'capricorn': 84,\n",
            " 'communications media': 61,\n",
            " 'consulting': 16,\n",
            " 'education': 118,\n",
            " 'engineering': 119,\n",
            " 'female': 1706,\n",
            " 'gemini': 86,\n",
            " 'indunk': 1381,\n",
            " 'internet': 20,\n",
            " 'investmentbanking': 70,\n",
            " 'law': 3,\n",
            " 'leo': 190,\n",
            " 'libra': 414,\n",
            " 'male': 3294,\n",
            " 'museums libraries': 2,\n",
            " 'non profit': 47,\n",
            " 'pisces': 67,\n",
            " 'religion': 4,\n",
            " 'sagittarius': 704,\n",
            " 'science': 33,\n",
            " 'scorpio': 408,\n",
            " 'sports recreation': 75,\n",
            " 'student': 569,\n",
            " 'taurus': 100,\n",
            " 'technology': 2332,\n",
            " 'virgo': 41}\n"
          ],
          "name": "stdout"
        }
      ]
    },
    {
      "cell_type": "markdown",
      "metadata": {
        "id": "iI_OwEysYkZV",
        "colab_type": "text"
      },
      "source": [
        "## Transform the labels <br>\n",
        "a. Convert your train and test labels using MultiLabelBinarizer"
      ]
    },
    {
      "cell_type": "code",
      "metadata": {
        "id": "m6BKiwhLFlhQ",
        "colab_type": "code",
        "colab": {}
      },
      "source": [
        "from sklearn.preprocessing import MultiLabelBinarizer\n",
        "\n",
        "MLaBi = MultiLabelBinarizer(classes = sorted(dictionary.keys()))\n",
        "y_train_MLaBi = MLaBi.fit_transform(y_train)\n",
        "y_test_MLaBi = MLaBi.transform(y_test)"
      ],
      "execution_count": 82,
      "outputs": []
    },
    {
      "cell_type": "code",
      "metadata": {
        "id": "WK9Gx9JeHh2j",
        "colab_type": "code",
        "colab": {
          "base_uri": "https://localhost:8080/",
          "height": 69
        },
        "outputId": "38857407-8846-4d51-d3a9-e7db7005a46a"
      },
      "source": [
        "y_train_MLaBi[0]"
      ],
      "execution_count": 83,
      "outputs": [
        {
          "output_type": "execute_result",
          "data": {
            "text/plain": [
              "array([0, 0, 0, 0, 0, 0, 0, 0, 0, 0, 0, 1, 0, 0, 0, 0, 0, 0, 0, 0, 0, 0,\n",
              "       1, 0, 0, 0, 0, 0, 0, 0, 0, 0, 0, 0, 0, 0, 0, 0, 0, 0, 0, 1, 0, 0,\n",
              "       0, 0, 0, 0, 0, 0, 0, 0, 1, 0])"
            ]
          },
          "metadata": {
            "tags": []
          },
          "execution_count": 83
        }
      ]
    },
    {
      "cell_type": "code",
      "metadata": {
        "id": "N3ulQz75Hia6",
        "colab_type": "code",
        "colab": {
          "base_uri": "https://localhost:8080/",
          "height": 69
        },
        "outputId": "d1d8fda0-1fc0-4be8-9f89-048618287a03"
      },
      "source": [
        "y_test_MLaBi[0]"
      ],
      "execution_count": 84,
      "outputs": [
        {
          "output_type": "execute_result",
          "data": {
            "text/plain": [
              "array([0, 0, 0, 0, 0, 0, 0, 0, 0, 0, 0, 1, 0, 0, 0, 0, 0, 0, 0, 0, 0, 0,\n",
              "       1, 0, 0, 0, 0, 0, 0, 0, 0, 0, 0, 0, 0, 0, 0, 0, 0, 0, 0, 1, 0, 0,\n",
              "       0, 0, 0, 0, 0, 0, 0, 0, 1, 0])"
            ]
          },
          "metadata": {
            "tags": []
          },
          "execution_count": 84
        }
      ]
    },
    {
      "cell_type": "markdown",
      "metadata": {
        "id": "_Idp8Y50Yfi6",
        "colab_type": "text"
      },
      "source": [
        "##  Choose a classifier "
      ]
    },
    {
      "cell_type": "code",
      "metadata": {
        "id": "J4svsBXNGlyF",
        "colab_type": "code",
        "colab": {
          "base_uri": "https://localhost:8080/",
          "height": 191
        },
        "outputId": "684fa1a1-afe0-4359-ac07-d2ec82ceb49c"
      },
      "source": [
        "from sklearn.multiclass import OneVsRestClassifier\n",
        "from sklearn.linear_model import LogisticRegression\n",
        "\n",
        "classifier = LogisticRegression(solver='lbfgs')\n",
        "classifier = OneVsRestClassifier(classifier)\n",
        "classifier.fit(X_train_p, y_train_MLaBi)"
      ],
      "execution_count": 85,
      "outputs": [
        {
          "output_type": "execute_result",
          "data": {
            "text/plain": [
              "OneVsRestClassifier(estimator=LogisticRegression(C=1.0, class_weight=None,\n",
              "                                                 dual=False, fit_intercept=True,\n",
              "                                                 intercept_scaling=1,\n",
              "                                                 l1_ratio=None, max_iter=100,\n",
              "                                                 multi_class='auto',\n",
              "                                                 n_jobs=None, penalty='l2',\n",
              "                                                 random_state=None,\n",
              "                                                 solver='lbfgs', tol=0.0001,\n",
              "                                                 verbose=0, warm_start=False),\n",
              "                    n_jobs=None)"
            ]
          },
          "metadata": {
            "tags": []
          },
          "execution_count": 85
        }
      ]
    },
    {
      "cell_type": "code",
      "metadata": {
        "id": "n8TmceYAK6cl",
        "colab_type": "code",
        "colab": {
          "base_uri": "https://localhost:8080/",
          "height": 139
        },
        "outputId": "eadd4081-6f3d-4308-c881-12a84e8db4fc"
      },
      "source": [
        "y_pred_train = classifier.predict(X_train_p)\n",
        "y_pred_train"
      ],
      "execution_count": 86,
      "outputs": [
        {
          "output_type": "execute_result",
          "data": {
            "text/plain": [
              "array([[0, 0, 0, ..., 0, 1, 0],\n",
              "       [0, 0, 0, ..., 0, 0, 0],\n",
              "       [0, 0, 0, ..., 0, 0, 0],\n",
              "       ...,\n",
              "       [0, 0, 0, ..., 0, 0, 0],\n",
              "       [0, 0, 0, ..., 0, 0, 0],\n",
              "       [0, 0, 0, ..., 0, 1, 0]])"
            ]
          },
          "metadata": {
            "tags": []
          },
          "execution_count": 86
        }
      ]
    },
    {
      "cell_type": "code",
      "metadata": {
        "id": "WbFAzSL6H0we",
        "colab_type": "code",
        "colab": {
          "base_uri": "https://localhost:8080/",
          "height": 139
        },
        "outputId": "37457f1f-7369-49b1-d25c-53fe0153755a"
      },
      "source": [
        "y_pred_test = classifier.predict(X_test_p)\n",
        "y_pred_test"
      ],
      "execution_count": 87,
      "outputs": [
        {
          "output_type": "execute_result",
          "data": {
            "text/plain": [
              "array([[0, 0, 0, ..., 0, 1, 0],\n",
              "       [0, 0, 0, ..., 0, 0, 0],\n",
              "       [0, 0, 0, ..., 0, 0, 0],\n",
              "       ...,\n",
              "       [0, 0, 0, ..., 0, 1, 0],\n",
              "       [0, 0, 0, ..., 0, 0, 0],\n",
              "       [0, 0, 0, ..., 0, 1, 0]])"
            ]
          },
          "metadata": {
            "tags": []
          },
          "execution_count": 87
        }
      ]
    },
    {
      "cell_type": "markdown",
      "metadata": {
        "id": "mql-9llMYDYQ",
        "colab_type": "text"
      },
      "source": [
        "Fit the classifier, make predictions and get the accuracy (5 points)<br>\n",
        "a. Print the following<br>\n",
        "i. Accuracy score<br>\n",
        "ii. F1 score<br>\n",
        "iii. Average precision score<br>\n",
        "iv. Average recall score<br>"
      ]
    },
    {
      "cell_type": "code",
      "metadata": {
        "id": "I_2C1r_FKya2",
        "colab_type": "code",
        "colab": {}
      },
      "source": [
        "from sklearn.metrics import accuracy_score, f1_score, average_precision_score, recall_score\n",
        "\n",
        "def print_scores(actual, predicted, averaging_type):\n",
        "    print('\\nAveraging Type : {}'.format(averaging_type))\n",
        "    print('F1 score: {}'.format(f1_score(actual, predicted, average=averaging_type)))\n",
        "    print('Average Precision Score: {}'.format(average_precision_score(actual, predicted, average=averaging_type)))\n",
        "    print('Average Recall Score: {}'.format(recall_score(actual, predicted, average=averaging_type)))"
      ],
      "execution_count": 88,
      "outputs": []
    },
    {
      "cell_type": "code",
      "metadata": {
        "id": "Vi_l_7hALfqJ",
        "colab_type": "code",
        "colab": {
          "base_uri": "https://localhost:8080/",
          "height": 312
        },
        "outputId": "55eea181-8666-4036-8344-9fe467c93e4d"
      },
      "source": [
        "print('--' * 20 + 'TRAIN SCORES'+ '--' * 20)\n",
        "print('Accuracy score: {}'.format(accuracy_score(y_train_MLaBi, y_pred_train)))\n",
        "print_scores(y_train_MLaBi, y_pred_train, 'micro')\n",
        "y_val_true, val_pred = y_train_MLaBi.reshape((-1)), y_pred_train.reshape((-1))\n",
        "print_scores(y_val_true, val_pred, 'macro')\n",
        "print_scores(y_train_MLaBi, y_pred_train, 'weighted')"
      ],
      "execution_count": 89,
      "outputs": [
        {
          "output_type": "stream",
          "text": [
            "----------------------------------------TRAIN SCORES----------------------------------------\n",
            "Accuracy score: 0.9554666666666667\n",
            "\n",
            "Averaging Type : micro\n",
            "F1 score: 0.9780942692438114\n",
            "Average Precision Score: 0.9589014770891543\n",
            "Average Recall Score: 0.9703942941730588\n",
            "\n",
            "Averaging Type : macro\n",
            "F1 score: 0.9881869711109472\n",
            "Average Precision Score: 0.9589014770891543\n",
            "Average Recall Score: 0.9846482177651765\n",
            "\n",
            "Averaging Type : weighted\n",
            "F1 score: 0.9777181616535846\n",
            "Average Precision Score: 0.9605971546598773\n",
            "Average Recall Score: 0.9703942941730588\n"
          ],
          "name": "stdout"
        }
      ]
    },
    {
      "cell_type": "code",
      "metadata": {
        "id": "sLMaPGe2L0bB",
        "colab_type": "code",
        "colab": {
          "base_uri": "https://localhost:8080/",
          "height": 312
        },
        "outputId": "86681cc4-0458-4b4a-f929-1308f6efd28a"
      },
      "source": [
        "print('--' * 20 + 'TRAIN SCORES'+ '--' * 20)\n",
        "print('Accuracy score: {}'.format(accuracy_score(y_test_MLaBi, y_pred_test)))\n",
        "print_scores(y_train_MLaBi, y_pred_train, 'micro')\n",
        "y_val_true, val_pred = y_train_MLaBi.reshape((-1)), y_pred_train.reshape((-1))\n",
        "print_scores(y_val_true, val_pred, 'macro')\n",
        "print_scores(y_train_MLaBi, y_pred_train, 'weighted')"
      ],
      "execution_count": 90,
      "outputs": [
        {
          "output_type": "stream",
          "text": [
            "----------------------------------------TRAIN SCORES----------------------------------------\n",
            "Accuracy score: 0.552\n",
            "\n",
            "Averaging Type : micro\n",
            "F1 score: 0.9780942692438114\n",
            "Average Precision Score: 0.9589014770891543\n",
            "Average Recall Score: 0.9703942941730588\n",
            "\n",
            "Averaging Type : macro\n",
            "F1 score: 0.9881869711109472\n",
            "Average Precision Score: 0.9589014770891543\n",
            "Average Recall Score: 0.9846482177651765\n",
            "\n",
            "Averaging Type : weighted\n",
            "F1 score: 0.9777181616535846\n",
            "Average Precision Score: 0.9605971546598773\n",
            "Average Recall Score: 0.9703942941730588\n"
          ],
          "name": "stdout"
        }
      ]
    },
    {
      "cell_type": "markdown",
      "metadata": {
        "id": "wK0Xh6rJYYKR",
        "colab_type": "text"
      },
      "source": [
        "## Print true label and predicted label for any five examples "
      ]
    },
    {
      "cell_type": "code",
      "metadata": {
        "id": "WBccat7dMsHJ",
        "colab_type": "code",
        "colab": {}
      },
      "source": [
        "five_data = y_test_MLaBi[10:15]\n",
        "five_pred = y_pred_test[10:15]"
      ],
      "execution_count": 108,
      "outputs": []
    },
    {
      "cell_type": "code",
      "metadata": {
        "id": "dbV3OolZO14t",
        "colab_type": "code",
        "colab": {
          "base_uri": "https://localhost:8080/",
          "height": 139
        },
        "outputId": "d25e770f-f637-4d59-b51e-25aa8b8a0026"
      },
      "source": [
        "five_data = MLaBi.inverse_transform(five_data)\n",
        "print(\"True Label \\n\")\n",
        "five_data"
      ],
      "execution_count": 109,
      "outputs": [
        {
          "output_type": "stream",
          "text": [
            "True Label \n",
            "\n"
          ],
          "name": "stdout"
        },
        {
          "output_type": "execute_result",
          "data": {
            "text/plain": [
              "[('35', 'aries', 'male', 'technology'),\n",
              " ('16', 'gemini', 'indunk', 'male'),\n",
              " ('35', 'aries', 'male', 'technology'),\n",
              " ('25', 'female', 'indunk', 'libra'),\n",
              " ('14', 'indunk', 'male', 'scorpio')]"
            ]
          },
          "metadata": {
            "tags": []
          },
          "execution_count": 109
        }
      ]
    },
    {
      "cell_type": "code",
      "metadata": {
        "id": "8VWXR59xO9Rq",
        "colab_type": "code",
        "colab": {
          "base_uri": "https://localhost:8080/",
          "height": 139
        },
        "outputId": "20825866-7caa-49f2-ddaa-c3909dc75a33"
      },
      "source": [
        "five_pred = MLaBi.inverse_transform(five_pred)\n",
        "print(\"Predicated Label \\n\")\n",
        "five_pred"
      ],
      "execution_count": 110,
      "outputs": [
        {
          "output_type": "stream",
          "text": [
            "Predicated Label \n",
            "\n"
          ],
          "name": "stdout"
        },
        {
          "output_type": "execute_result",
          "data": {
            "text/plain": [
              "[('35', 'aries', 'male', 'technology'),\n",
              " ('female', 'indunk', 'scorpio'),\n",
              " ('35', 'aries', 'male', 'technology'),\n",
              " ('25', 'female', 'indunk', 'libra'),\n",
              " ('35', 'aries', 'male', 'technology')]"
            ]
          },
          "metadata": {
            "tags": []
          },
          "execution_count": 110
        }
      ]
    },
    {
      "cell_type": "code",
      "metadata": {
        "id": "Tu2m1DF1U-yd",
        "colab_type": "code",
        "colab": {}
      },
      "source": [
        ""
      ],
      "execution_count": 93,
      "outputs": []
    }
  ]
}