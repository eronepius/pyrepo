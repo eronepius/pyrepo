{
 "cells": [
  {
   "cell_type": "code",
   "execution_count": 1,
   "metadata": {},
   "outputs": [],
   "source": [
    "# Import necessary packages\n",
    "import numpy as np\n",
    "import pandas as pd\n",
    "import seaborn as sns\n",
    "import matplotlib.pyplot as plt\n",
    "import pprint"
   ]
  },
  {
   "cell_type": "code",
   "execution_count": 2,
   "metadata": {},
   "outputs": [],
   "source": [
    "# reading the data from the excel\n",
    "datadf = pd.read_csv(\"./ratings_Electronics.csv\", names=['userid','productid','ratings','epoch'])"
   ]
  },
  {
   "cell_type": "code",
   "execution_count": 3,
   "metadata": {},
   "outputs": [
    {
     "data": {
      "text/html": [
       "<div>\n",
       "<style scoped>\n",
       "    .dataframe tbody tr th:only-of-type {\n",
       "        vertical-align: middle;\n",
       "    }\n",
       "\n",
       "    .dataframe tbody tr th {\n",
       "        vertical-align: top;\n",
       "    }\n",
       "\n",
       "    .dataframe thead th {\n",
       "        text-align: right;\n",
       "    }\n",
       "</style>\n",
       "<table border=\"1\" class=\"dataframe\">\n",
       "  <thead>\n",
       "    <tr style=\"text-align: right;\">\n",
       "      <th></th>\n",
       "      <th>userid</th>\n",
       "      <th>productid</th>\n",
       "      <th>ratings</th>\n",
       "      <th>epoch</th>\n",
       "    </tr>\n",
       "  </thead>\n",
       "  <tbody>\n",
       "    <tr>\n",
       "      <th>0</th>\n",
       "      <td>AKM1MP6P0OYPR</td>\n",
       "      <td>0132793040</td>\n",
       "      <td>5.0</td>\n",
       "      <td>1365811200</td>\n",
       "    </tr>\n",
       "    <tr>\n",
       "      <th>1</th>\n",
       "      <td>A2CX7LUOHB2NDG</td>\n",
       "      <td>0321732944</td>\n",
       "      <td>5.0</td>\n",
       "      <td>1341100800</td>\n",
       "    </tr>\n",
       "    <tr>\n",
       "      <th>2</th>\n",
       "      <td>A2NWSAGRHCP8N5</td>\n",
       "      <td>0439886341</td>\n",
       "      <td>1.0</td>\n",
       "      <td>1367193600</td>\n",
       "    </tr>\n",
       "    <tr>\n",
       "      <th>3</th>\n",
       "      <td>A2WNBOD3WNDNKT</td>\n",
       "      <td>0439886341</td>\n",
       "      <td>3.0</td>\n",
       "      <td>1374451200</td>\n",
       "    </tr>\n",
       "    <tr>\n",
       "      <th>4</th>\n",
       "      <td>A1GI0U4ZRJA8WN</td>\n",
       "      <td>0439886341</td>\n",
       "      <td>1.0</td>\n",
       "      <td>1334707200</td>\n",
       "    </tr>\n",
       "  </tbody>\n",
       "</table>\n",
       "</div>"
      ],
      "text/plain": [
       "           userid   productid  ratings       epoch\n",
       "0   AKM1MP6P0OYPR  0132793040      5.0  1365811200\n",
       "1  A2CX7LUOHB2NDG  0321732944      5.0  1341100800\n",
       "2  A2NWSAGRHCP8N5  0439886341      1.0  1367193600\n",
       "3  A2WNBOD3WNDNKT  0439886341      3.0  1374451200\n",
       "4  A1GI0U4ZRJA8WN  0439886341      1.0  1334707200"
      ]
     },
     "execution_count": 3,
     "metadata": {},
     "output_type": "execute_result"
    }
   ],
   "source": [
    "datadf.head()"
   ]
  },
  {
   "cell_type": "code",
   "execution_count": 4,
   "metadata": {},
   "outputs": [
    {
     "data": {
      "text/plain": [
       "(7824482, 4)"
      ]
     },
     "execution_count": 4,
     "metadata": {},
     "output_type": "execute_result"
    }
   ],
   "source": [
    "datadf.shape"
   ]
  },
  {
   "cell_type": "markdown",
   "metadata": {},
   "source": [
    "- The timestamp column in the dataset is in epoch format, hence changing it to readable format."
   ]
  },
  {
   "cell_type": "code",
   "execution_count": 5,
   "metadata": {},
   "outputs": [],
   "source": [
    "datadf['timestamp'] = pd.to_datetime(datadf['epoch'],unit='s')"
   ]
  },
  {
   "cell_type": "code",
   "execution_count": 6,
   "metadata": {},
   "outputs": [
    {
     "data": {
      "text/html": [
       "<div>\n",
       "<style scoped>\n",
       "    .dataframe tbody tr th:only-of-type {\n",
       "        vertical-align: middle;\n",
       "    }\n",
       "\n",
       "    .dataframe tbody tr th {\n",
       "        vertical-align: top;\n",
       "    }\n",
       "\n",
       "    .dataframe thead th {\n",
       "        text-align: right;\n",
       "    }\n",
       "</style>\n",
       "<table border=\"1\" class=\"dataframe\">\n",
       "  <thead>\n",
       "    <tr style=\"text-align: right;\">\n",
       "      <th></th>\n",
       "      <th>userid</th>\n",
       "      <th>productid</th>\n",
       "      <th>ratings</th>\n",
       "      <th>epoch</th>\n",
       "      <th>timestamp</th>\n",
       "    </tr>\n",
       "  </thead>\n",
       "  <tbody>\n",
       "    <tr>\n",
       "      <th>0</th>\n",
       "      <td>AKM1MP6P0OYPR</td>\n",
       "      <td>0132793040</td>\n",
       "      <td>5.0</td>\n",
       "      <td>1365811200</td>\n",
       "      <td>2013-04-13</td>\n",
       "    </tr>\n",
       "    <tr>\n",
       "      <th>1</th>\n",
       "      <td>A2CX7LUOHB2NDG</td>\n",
       "      <td>0321732944</td>\n",
       "      <td>5.0</td>\n",
       "      <td>1341100800</td>\n",
       "      <td>2012-07-01</td>\n",
       "    </tr>\n",
       "    <tr>\n",
       "      <th>2</th>\n",
       "      <td>A2NWSAGRHCP8N5</td>\n",
       "      <td>0439886341</td>\n",
       "      <td>1.0</td>\n",
       "      <td>1367193600</td>\n",
       "      <td>2013-04-29</td>\n",
       "    </tr>\n",
       "    <tr>\n",
       "      <th>3</th>\n",
       "      <td>A2WNBOD3WNDNKT</td>\n",
       "      <td>0439886341</td>\n",
       "      <td>3.0</td>\n",
       "      <td>1374451200</td>\n",
       "      <td>2013-07-22</td>\n",
       "    </tr>\n",
       "    <tr>\n",
       "      <th>4</th>\n",
       "      <td>A1GI0U4ZRJA8WN</td>\n",
       "      <td>0439886341</td>\n",
       "      <td>1.0</td>\n",
       "      <td>1334707200</td>\n",
       "      <td>2012-04-18</td>\n",
       "    </tr>\n",
       "  </tbody>\n",
       "</table>\n",
       "</div>"
      ],
      "text/plain": [
       "           userid   productid  ratings       epoch  timestamp\n",
       "0   AKM1MP6P0OYPR  0132793040      5.0  1365811200 2013-04-13\n",
       "1  A2CX7LUOHB2NDG  0321732944      5.0  1341100800 2012-07-01\n",
       "2  A2NWSAGRHCP8N5  0439886341      1.0  1367193600 2013-04-29\n",
       "3  A2WNBOD3WNDNKT  0439886341      3.0  1374451200 2013-07-22\n",
       "4  A1GI0U4ZRJA8WN  0439886341      1.0  1334707200 2012-04-18"
      ]
     },
     "execution_count": 6,
     "metadata": {},
     "output_type": "execute_result"
    }
   ],
   "source": [
    "datadf.head()"
   ]
  },
  {
   "cell_type": "markdown",
   "metadata": {},
   "source": [
    "- Now we have a timestamp column that is engineered from epoch column. This timestamp column is in human readable format."
   ]
  },
  {
   "cell_type": "code",
   "execution_count": 7,
   "metadata": {},
   "outputs": [],
   "source": [
    "indexs = datadf.columns"
   ]
  },
  {
   "cell_type": "code",
   "execution_count": 8,
   "metadata": {},
   "outputs": [
    {
     "name": "stdout",
     "output_type": "stream",
     "text": [
      "No of empty records in userid column is 0.\n",
      "No of empty records in productid column is 0.\n",
      "No of empty records in ratings column is 0.0.\n",
      "No of empty records in epoch column is 0.\n"
     ]
    }
   ],
   "source": [
    "for ind in indexs:\n",
    "    try:\n",
    "        s = datadf[datadf[ind].isna()][ind].sum()\n",
    "        print(\"No of empty records in {} column is {}.\".format(ind, s))\n",
    "    except Exception as e:\n",
    "        pass"
   ]
  },
  {
   "cell_type": "code",
   "execution_count": 9,
   "metadata": {},
   "outputs": [
    {
     "name": "stdout",
     "output_type": "stream",
     "text": [
      "<class 'pandas.core.frame.DataFrame'>\n",
      "RangeIndex: 7824482 entries, 0 to 7824481\n",
      "Data columns (total 5 columns):\n",
      "userid       object\n",
      "productid    object\n",
      "ratings      float64\n",
      "epoch        int64\n",
      "timestamp    datetime64[ns]\n",
      "dtypes: datetime64[ns](1), float64(1), int64(1), object(2)\n",
      "memory usage: 298.5+ MB\n"
     ]
    }
   ],
   "source": [
    "datadf.info()"
   ]
  },
  {
   "cell_type": "markdown",
   "metadata": {},
   "source": [
    "- From the info function we can see that the datatypes of the columns are as expected."
   ]
  },
  {
   "cell_type": "code",
   "execution_count": 10,
   "metadata": {},
   "outputs": [
    {
     "data": {
      "text/html": [
       "<div>\n",
       "<style scoped>\n",
       "    .dataframe tbody tr th:only-of-type {\n",
       "        vertical-align: middle;\n",
       "    }\n",
       "\n",
       "    .dataframe tbody tr th {\n",
       "        vertical-align: top;\n",
       "    }\n",
       "\n",
       "    .dataframe thead th {\n",
       "        text-align: right;\n",
       "    }\n",
       "</style>\n",
       "<table border=\"1\" class=\"dataframe\">\n",
       "  <thead>\n",
       "    <tr style=\"text-align: right;\">\n",
       "      <th></th>\n",
       "      <th>count</th>\n",
       "      <th>unique</th>\n",
       "      <th>top</th>\n",
       "      <th>freq</th>\n",
       "      <th>first</th>\n",
       "      <th>last</th>\n",
       "      <th>mean</th>\n",
       "      <th>std</th>\n",
       "      <th>min</th>\n",
       "      <th>25%</th>\n",
       "      <th>50%</th>\n",
       "      <th>75%</th>\n",
       "      <th>max</th>\n",
       "    </tr>\n",
       "  </thead>\n",
       "  <tbody>\n",
       "    <tr>\n",
       "      <th>userid</th>\n",
       "      <td>7824482</td>\n",
       "      <td>4201696</td>\n",
       "      <td>A5JLAU2ARJ0BO</td>\n",
       "      <td>520</td>\n",
       "      <td>NaN</td>\n",
       "      <td>NaN</td>\n",
       "      <td>NaN</td>\n",
       "      <td>NaN</td>\n",
       "      <td>NaN</td>\n",
       "      <td>NaN</td>\n",
       "      <td>NaN</td>\n",
       "      <td>NaN</td>\n",
       "      <td>NaN</td>\n",
       "    </tr>\n",
       "    <tr>\n",
       "      <th>productid</th>\n",
       "      <td>7824482</td>\n",
       "      <td>476002</td>\n",
       "      <td>B0074BW614</td>\n",
       "      <td>18244</td>\n",
       "      <td>NaN</td>\n",
       "      <td>NaN</td>\n",
       "      <td>NaN</td>\n",
       "      <td>NaN</td>\n",
       "      <td>NaN</td>\n",
       "      <td>NaN</td>\n",
       "      <td>NaN</td>\n",
       "      <td>NaN</td>\n",
       "      <td>NaN</td>\n",
       "    </tr>\n",
       "    <tr>\n",
       "      <th>ratings</th>\n",
       "      <td>7.82448e+06</td>\n",
       "      <td>NaN</td>\n",
       "      <td>NaN</td>\n",
       "      <td>NaN</td>\n",
       "      <td>NaN</td>\n",
       "      <td>NaN</td>\n",
       "      <td>4.01234</td>\n",
       "      <td>1.38091</td>\n",
       "      <td>1</td>\n",
       "      <td>3</td>\n",
       "      <td>5</td>\n",
       "      <td>5</td>\n",
       "      <td>5</td>\n",
       "    </tr>\n",
       "    <tr>\n",
       "      <th>epoch</th>\n",
       "      <td>7.82448e+06</td>\n",
       "      <td>NaN</td>\n",
       "      <td>NaN</td>\n",
       "      <td>NaN</td>\n",
       "      <td>NaN</td>\n",
       "      <td>NaN</td>\n",
       "      <td>1.33818e+09</td>\n",
       "      <td>6.90043e+07</td>\n",
       "      <td>9.1273e+08</td>\n",
       "      <td>1.31535e+09</td>\n",
       "      <td>1.36106e+09</td>\n",
       "      <td>1.38612e+09</td>\n",
       "      <td>1.40607e+09</td>\n",
       "    </tr>\n",
       "    <tr>\n",
       "      <th>timestamp</th>\n",
       "      <td>7824482</td>\n",
       "      <td>5489</td>\n",
       "      <td>2014-01-07 00:00:00</td>\n",
       "      <td>18276</td>\n",
       "      <td>1998-12-04 00:00:00</td>\n",
       "      <td>2014-07-23 00:00:00</td>\n",
       "      <td>NaN</td>\n",
       "      <td>NaN</td>\n",
       "      <td>NaN</td>\n",
       "      <td>NaN</td>\n",
       "      <td>NaN</td>\n",
       "      <td>NaN</td>\n",
       "      <td>NaN</td>\n",
       "    </tr>\n",
       "  </tbody>\n",
       "</table>\n",
       "</div>"
      ],
      "text/plain": [
       "                 count   unique                  top   freq  \\\n",
       "userid         7824482  4201696        A5JLAU2ARJ0BO    520   \n",
       "productid      7824482   476002           B0074BW614  18244   \n",
       "ratings    7.82448e+06      NaN                  NaN    NaN   \n",
       "epoch      7.82448e+06      NaN                  NaN    NaN   \n",
       "timestamp      7824482     5489  2014-01-07 00:00:00  18276   \n",
       "\n",
       "                         first                 last         mean          std  \\\n",
       "userid                     NaN                  NaN          NaN          NaN   \n",
       "productid                  NaN                  NaN          NaN          NaN   \n",
       "ratings                    NaN                  NaN      4.01234      1.38091   \n",
       "epoch                      NaN                  NaN  1.33818e+09  6.90043e+07   \n",
       "timestamp  1998-12-04 00:00:00  2014-07-23 00:00:00          NaN          NaN   \n",
       "\n",
       "                  min          25%          50%          75%          max  \n",
       "userid            NaN          NaN          NaN          NaN          NaN  \n",
       "productid         NaN          NaN          NaN          NaN          NaN  \n",
       "ratings             1            3            5            5            5  \n",
       "epoch      9.1273e+08  1.31535e+09  1.36106e+09  1.38612e+09  1.40607e+09  \n",
       "timestamp         NaN          NaN          NaN          NaN          NaN  "
      ]
     },
     "execution_count": 10,
     "metadata": {},
     "output_type": "execute_result"
    }
   ],
   "source": [
    "datadf.describe(include='all').T"
   ]
  },
  {
   "cell_type": "markdown",
   "metadata": {},
   "source": [
    "- From the describe function we see that:\n",
    "    - The total records in the dataset is 7824482.\n",
    "    - The userid has a unique users count of 4201696.\n",
    "    - The product id has a unique product count of 476002.\n",
    "    - The mean of all the ratings is 4.01234."
   ]
  },
  {
   "cell_type": "code",
   "execution_count": 11,
   "metadata": {},
   "outputs": [
    {
     "data": {
      "text/plain": [
       "<matplotlib.axes._subplots.AxesSubplot at 0x11d007d0d30>"
      ]
     },
     "execution_count": 11,
     "metadata": {},
     "output_type": "execute_result"
    },
    {
     "data": {
      "image/png": "[encoded data removed]",
      "text/plain": [
       "<Figure size 432x288 with 1 Axes>"
      ]
     },
     "metadata": {
      "needs_background": "light"
     },
     "output_type": "display_data"
    }
   ],
   "source": [
    "sns.countplot(datadf['ratings'])"
   ]
  },
  {
   "cell_type": "markdown",
   "metadata": {},
   "source": [
    "- We have only one discrete data in the dataset.\n",
    "- The distribution plot will not be useful on this dataset.\n",
    "- On the other hand we see the countplot and we have rating 5.0 is given more than any other ratings, followed by ratings 4.0, 1.0, 3.0 and 2.0. "
   ]
  },
  {
   "cell_type": "markdown",
   "metadata": {},
   "source": [
    "#### Considering data where the users have rated 50 times or more."
   ]
  },
  {
   "cell_type": "code",
   "execution_count": 12,
   "metadata": {},
   "outputs": [],
   "source": [
    "counts = datadf['userid'].value_counts()\n",
    "newdatasamp = datadf[datadf['userid'].isin(counts[counts >= 50].index)]"
   ]
  },
  {
   "cell_type": "code",
   "execution_count": 13,
   "metadata": {},
   "outputs": [
    {
     "data": {
      "text/plain": [
       "(125871, 5)"
      ]
     },
     "execution_count": 13,
     "metadata": {},
     "output_type": "execute_result"
    }
   ],
   "source": [
    "newdatasamp.shape"
   ]
  },
  {
   "cell_type": "code",
   "execution_count": 14,
   "metadata": {},
   "outputs": [
    {
     "data": {
      "text/html": [
       "<div>\n",
       "<style scoped>\n",
       "    .dataframe tbody tr th:only-of-type {\n",
       "        vertical-align: middle;\n",
       "    }\n",
       "\n",
       "    .dataframe tbody tr th {\n",
       "        vertical-align: top;\n",
       "    }\n",
       "\n",
       "    .dataframe thead th {\n",
       "        text-align: right;\n",
       "    }\n",
       "</style>\n",
       "<table border=\"1\" class=\"dataframe\">\n",
       "  <thead>\n",
       "    <tr style=\"text-align: right;\">\n",
       "      <th></th>\n",
       "      <th>userid</th>\n",
       "      <th>productid</th>\n",
       "      <th>ratings</th>\n",
       "      <th>epoch</th>\n",
       "      <th>timestamp</th>\n",
       "    </tr>\n",
       "  </thead>\n",
       "  <tbody>\n",
       "    <tr>\n",
       "      <th>94</th>\n",
       "      <td>A3BY5KCNQZXV5U</td>\n",
       "      <td>0594451647</td>\n",
       "      <td>5.0</td>\n",
       "      <td>1390176000</td>\n",
       "      <td>2014-01-20</td>\n",
       "    </tr>\n",
       "    <tr>\n",
       "      <th>118</th>\n",
       "      <td>AT09WGFUM934H</td>\n",
       "      <td>0594481813</td>\n",
       "      <td>3.0</td>\n",
       "      <td>1377907200</td>\n",
       "      <td>2013-08-31</td>\n",
       "    </tr>\n",
       "    <tr>\n",
       "      <th>177</th>\n",
       "      <td>A32HSNCNPRUMTR</td>\n",
       "      <td>0970407998</td>\n",
       "      <td>1.0</td>\n",
       "      <td>1319673600</td>\n",
       "      <td>2011-10-27</td>\n",
       "    </tr>\n",
       "    <tr>\n",
       "      <th>178</th>\n",
       "      <td>A17HMM1M7T9PJ1</td>\n",
       "      <td>0970407998</td>\n",
       "      <td>4.0</td>\n",
       "      <td>1281744000</td>\n",
       "      <td>2010-08-14</td>\n",
       "    </tr>\n",
       "    <tr>\n",
       "      <th>492</th>\n",
       "      <td>A3CLWR1UUZT6TG</td>\n",
       "      <td>0972683275</td>\n",
       "      <td>5.0</td>\n",
       "      <td>1373587200</td>\n",
       "      <td>2013-07-12</td>\n",
       "    </tr>\n",
       "  </tbody>\n",
       "</table>\n",
       "</div>"
      ],
      "text/plain": [
       "             userid   productid  ratings       epoch  timestamp\n",
       "94   A3BY5KCNQZXV5U  0594451647      5.0  1390176000 2014-01-20\n",
       "118   AT09WGFUM934H  0594481813      3.0  1377907200 2013-08-31\n",
       "177  A32HSNCNPRUMTR  0970407998      1.0  1319673600 2011-10-27\n",
       "178  A17HMM1M7T9PJ1  0970407998      4.0  1281744000 2010-08-14\n",
       "492  A3CLWR1UUZT6TG  0972683275      5.0  1373587200 2013-07-12"
      ]
     },
     "execution_count": 14,
     "metadata": {},
     "output_type": "execute_result"
    }
   ],
   "source": [
    "newdatasamp.head()"
   ]
  },
  {
   "cell_type": "markdown",
   "metadata": {},
   "source": [
    "## Popularity Based Recommendation System"
   ]
  },
  {
   "cell_type": "code",
   "execution_count": 15,
   "metadata": {},
   "outputs": [],
   "source": [
    "ratings_mean_count = pd.DataFrame(newdatasamp.groupby('productid')['ratings'].mean())"
   ]
  },
  {
   "cell_type": "code",
   "execution_count": 16,
   "metadata": {},
   "outputs": [],
   "source": [
    "ratings_mean_count['rating_counts'] = pd.DataFrame(newdatasamp.groupby('productid')['ratings'].count())"
   ]
  },
  {
   "cell_type": "code",
   "execution_count": 17,
   "metadata": {},
   "outputs": [],
   "source": [
    "ratings_mean_count = ratings_mean_count.sort_values(by=['rating_counts'] ,ascending=False).reset_index()"
   ]
  },
  {
   "cell_type": "code",
   "execution_count": 18,
   "metadata": {},
   "outputs": [
    {
     "data": {
      "text/html": [
       "<div>\n",
       "<style scoped>\n",
       "    .dataframe tbody tr th:only-of-type {\n",
       "        vertical-align: middle;\n",
       "    }\n",
       "\n",
       "    .dataframe tbody tr th {\n",
       "        vertical-align: top;\n",
       "    }\n",
       "\n",
       "    .dataframe thead th {\n",
       "        text-align: right;\n",
       "    }\n",
       "</style>\n",
       "<table border=\"1\" class=\"dataframe\">\n",
       "  <thead>\n",
       "    <tr style=\"text-align: right;\">\n",
       "      <th></th>\n",
       "      <th>productid</th>\n",
       "      <th>ratings</th>\n",
       "      <th>rating_counts</th>\n",
       "    </tr>\n",
       "  </thead>\n",
       "  <tbody>\n",
       "    <tr>\n",
       "      <th>0</th>\n",
       "      <td>B0088CJT4U</td>\n",
       "      <td>4.218447</td>\n",
       "      <td>206</td>\n",
       "    </tr>\n",
       "    <tr>\n",
       "      <th>1</th>\n",
       "      <td>B003ES5ZUU</td>\n",
       "      <td>4.864130</td>\n",
       "      <td>184</td>\n",
       "    </tr>\n",
       "    <tr>\n",
       "      <th>2</th>\n",
       "      <td>B000N99BBC</td>\n",
       "      <td>4.772455</td>\n",
       "      <td>167</td>\n",
       "    </tr>\n",
       "    <tr>\n",
       "      <th>3</th>\n",
       "      <td>B007WTAJTO</td>\n",
       "      <td>4.701220</td>\n",
       "      <td>164</td>\n",
       "    </tr>\n",
       "    <tr>\n",
       "      <th>4</th>\n",
       "      <td>B00829TIEK</td>\n",
       "      <td>4.436242</td>\n",
       "      <td>149</td>\n",
       "    </tr>\n",
       "  </tbody>\n",
       "</table>\n",
       "</div>"
      ],
      "text/plain": [
       "    productid   ratings  rating_counts\n",
       "0  B0088CJT4U  4.218447            206\n",
       "1  B003ES5ZUU  4.864130            184\n",
       "2  B000N99BBC  4.772455            167\n",
       "3  B007WTAJTO  4.701220            164\n",
       "4  B00829TIEK  4.436242            149"
      ]
     },
     "execution_count": 18,
     "metadata": {},
     "output_type": "execute_result"
    }
   ],
   "source": [
    "ratings_mean_count.head()"
   ]
  },
  {
   "cell_type": "code",
   "execution_count": 19,
   "metadata": {},
   "outputs": [],
   "source": [
    "uniqueUserID = datadf['userid'].unique()"
   ]
  },
  {
   "cell_type": "code",
   "execution_count": 20,
   "metadata": {},
   "outputs": [],
   "source": [
    "uniqueUserID\n",
    "uniqueusers =  np.random.choice(uniqueUserID, 2 , replace=False)"
   ]
  },
  {
   "cell_type": "code",
   "execution_count": 21,
   "metadata": {},
   "outputs": [],
   "source": [
    "def doPopularityRecommendation(userid):\n",
    "    print('Fetching Popularity Based Recommendation for userid {}.'.format(userid))\n",
    "    newdf = datadf[~datadf.isin([userid])]['productid']\n",
    "    newdf = newdf.to_list()\n",
    "    newrecommendation = ratings_mean_count[ratings_mean_count.isin(newdf)]\n",
    "    newrecommendation = newrecommendation.sort_values(by=['rating_counts'] ,ascending=False).reset_index()\n",
    "    newrecommendation = newrecommendation['productid'].head(10)\n",
    "    return newrecommendation"
   ]
  },
  {
   "cell_type": "code",
   "execution_count": 22,
   "metadata": {},
   "outputs": [
    {
     "name": "stdout",
     "output_type": "stream",
     "text": [
      "----------------------------------------------------------------------\n",
      "Fetching Popularity Based Recommendation for userid A1UWPSFAJKKAW0.\n",
      "0    B0088CJT4U\n",
      "1    B003ES5ZUU\n",
      "2    B000N99BBC\n",
      "3    B007WTAJTO\n",
      "4    B00829TIEK\n",
      "5    B008DWCRQW\n",
      "6    B00829THK0\n",
      "7    B002R5AM7C\n",
      "8    B004CLYEDC\n",
      "9    B002SZEOLG\n",
      "Name: productid, dtype: object\n",
      "----------------------------------------------------------------------\n",
      "----------------------------------------------------------------------\n",
      "Fetching Popularity Based Recommendation for userid AL1SFX6Z5ZUYI.\n",
      "0    B0088CJT4U\n",
      "1    B003ES5ZUU\n",
      "2    B000N99BBC\n",
      "3    B007WTAJTO\n",
      "4    B00829TIEK\n",
      "5    B008DWCRQW\n",
      "6    B00829THK0\n",
      "7    B002R5AM7C\n",
      "8    B004CLYEDC\n",
      "9    B002SZEOLG\n",
      "Name: productid, dtype: object\n",
      "----------------------------------------------------------------------\n"
     ]
    }
   ],
   "source": [
    "for users in uniqueusers:\n",
    "    print('--'*35)\n",
    "    print(doPopularityRecommendation(users))\n",
    "    print('--'*35)"
   ]
  },
  {
   "cell_type": "markdown",
   "metadata": {},
   "source": [
    "## Collaborative Filtering Recommendation System"
   ]
  },
  {
   "cell_type": "code",
   "execution_count": 23,
   "metadata": {},
   "outputs": [],
   "source": [
    "df = newdatasamp.drop(columns=['epoch', 'timestamp'], axis=1)"
   ]
  },
  {
   "cell_type": "code",
   "execution_count": 24,
   "metadata": {},
   "outputs": [],
   "source": [
    "from surprise import KNNWithMeans\n",
    "from surprise import Reader\n",
    "from surprise import Dataset\n",
    "from surprise import accuracy\n",
    "from surprise.model_selection import train_test_split"
   ]
  },
  {
   "cell_type": "code",
   "execution_count": 25,
   "metadata": {},
   "outputs": [],
   "source": [
    "newdatasamp.reset_index(drop=True, inplace=True)"
   ]
  },
  {
   "cell_type": "code",
   "execution_count": 26,
   "metadata": {},
   "outputs": [],
   "source": [
    "reader = Reader(rating_scale=(1, 5))\n",
    "data = Dataset.load_from_df(df, reader)"
   ]
  },
  {
   "cell_type": "code",
   "execution_count": 27,
   "metadata": {},
   "outputs": [],
   "source": [
    "trainset, testset = train_test_split(data, test_size=.30)"
   ]
  },
  {
   "cell_type": "code",
   "execution_count": 28,
   "metadata": {},
   "outputs": [
    {
     "name": "stdout",
     "output_type": "stream",
     "text": [
      "Estimating biases using als...\n",
      "Computing the pearson_baseline similarity matrix...\n",
      "Done computing similarity matrix.\n"
     ]
    },
    {
     "data": {
      "text/plain": [
       "<surprise.prediction_algorithms.knns.KNNWithMeans at 0x11d01457208>"
      ]
     },
     "execution_count": 28,
     "metadata": {},
     "output_type": "execute_result"
    }
   ],
   "source": [
    "algo = KNNWithMeans(k=75, sim_options={'name': 'pearson_baseline', 'user_based': True})\n",
    "algo.fit(trainset)"
   ]
  },
  {
   "cell_type": "code",
   "execution_count": 29,
   "metadata": {},
   "outputs": [],
   "source": [
    "test_pred = algo.test(testset)"
   ]
  },
  {
   "cell_type": "code",
   "execution_count": 30,
   "metadata": {},
   "outputs": [
    {
     "data": {
      "text/plain": [
       "Prediction(uid='A2MR696ZU17F12', iid='B00012EYNG', r_ui=2.0, est=3.425, details={'actual_k': 0, 'was_impossible': False})"
      ]
     },
     "execution_count": 30,
     "metadata": {},
     "output_type": "execute_result"
    }
   ],
   "source": [
    "test_pred[0]"
   ]
  },
  {
   "cell_type": "code",
   "execution_count": 31,
   "metadata": {},
   "outputs": [],
   "source": [
    "from collections import defaultdict\n",
    " \n",
    "def get_top5_recommendations(predictions, topN=5):\n",
    "     \n",
    "    top_recs = defaultdict(list)\n",
    "    for uid, iid, true_r, est, _ in predictions:\n",
    "        top_recs[uid].append((iid, est))\n",
    "     \n",
    "    for uid, user_ratings in top_recs.items():\n",
    "        user_ratings.sort(key = lambda x: x[1], reverse = True)\n",
    "        top_recs[uid] = user_ratings[:topN]\n",
    "     \n",
    "    return top_recs"
   ]
  },
  {
   "cell_type": "code",
   "execution_count": 32,
   "metadata": {},
   "outputs": [],
   "source": [
    "recommendationstop5 = get_top5_recommendations(test_pred, 5)"
   ]
  },
  {
   "cell_type": "code",
   "execution_count": 33,
   "metadata": {},
   "outputs": [
    {
     "name": "stdout",
     "output_type": "stream",
     "text": [
      "Printing Top 5 Recommendations for Users.\n",
      "------------------------------------------------------------\n",
      "Recommendation for User ID A2MR696ZU17F12:\n",
      "Product ID B002EQ7UEC Rating 4.260938156147499\n",
      "Product ID B007IXY472 Rating 4.260938156147499\n",
      "Product ID B00009XZY5 Rating 4.260938156147499\n",
      "Product ID B004C4SEH6 Rating 4.260938156147499\n",
      "Product ID B001AVL9VM Rating 4.260938156147499\n",
      "------------------------------------------------------------\n",
      "Recommendation for User ID A3PD8JD9L4WEII:\n",
      "Product ID B0089ZV1WY Rating 5\n",
      "Product ID B000BQ7GW8 Rating 5\n",
      "Product ID B005LMWPGY Rating 5\n",
      "Product ID B00BOHNYTW Rating 5\n",
      "Product ID B00CHT6CRC Rating 5\n",
      "------------------------------------------------------------\n",
      "Recommendation for User ID A3T7V207KRDE2O:\n",
      "Product ID B0038KN3LM Rating 5\n",
      "Product ID B000FIQBNW Rating 4.977990430622009\n",
      "Product ID B002MCZJ78 Rating 4.852437417654809\n",
      "Product ID B000L47AHG Rating 4.840744999594284\n",
      "Product ID B006TF37H8 Rating 4.830637796282628\n",
      "------------------------------------------------------------\n",
      "Recommendation for User ID AYMD77ITD15PT:\n",
      "Product ID B00FRMAOIO Rating 4.890937019969278\n",
      "Product ID B00008NG70 Rating 4.260938156147499\n",
      "Product ID B002J9G5XG Rating 4.260938156147499\n",
      "Product ID B000063BGZ Rating 4.260938156147499\n",
      "Product ID B00005S0M5 Rating 4.260938156147499\n",
      "------------------------------------------------------------\n",
      "Recommendation for User ID A1SB9BNNGKNX2Z:\n",
      "Product ID B004WOK2NK Rating 5\n",
      "Product ID B00GBATPFO Rating 5\n",
      "Product ID B00CZ0T5NG Rating 5\n",
      "Product ID B00CRY250U Rating 5\n",
      "Product ID B002BA596W Rating 5\n",
      "------------------------------------------------------------\n"
     ]
    }
   ],
   "source": [
    "print(\"Printing Top 5 Recommendations for Users.\")\n",
    "print(\"--\"*30)\n",
    "count = 0\n",
    "for recommendations in recommendationstop5.items():\n",
    "    count = count + 1\n",
    "    user = recommendations[0]\n",
    "    rec =  recommendations[1]\n",
    "    print(\"Recommendation for User ID {}:\".format(user))\n",
    "    for pid, ratings in rec:\n",
    "        print(\"Product ID {} Rating {}\".format(pid, ratings))\n",
    "    print(\"--\"*30)\n",
    "    if count == 5:\n",
    "        break"
   ]
  },
  {
   "cell_type": "code",
   "execution_count": 34,
   "metadata": {},
   "outputs": [],
   "source": [
    "def recommendationSearchByUserID(userid):\n",
    "    print(\"--\"*30)\n",
    "    for recommendations in recommendationstop5.items():\n",
    "        user = recommendations[0]\n",
    "        rec =  recommendations[1]\n",
    "        if user == userid:\n",
    "            print(\"Recommendation for User ID {}:\".format(user))\n",
    "            for pid, ratings in rec:\n",
    "                print(\"Product ID {} Rating {}\".format(pid, ratings))\n",
    "    print(\"--\"*30)"
   ]
  },
  {
   "cell_type": "code",
   "execution_count": 35,
   "metadata": {},
   "outputs": [
    {
     "name": "stdout",
     "output_type": "stream",
     "text": [
      "------------------------------------------------------------\n",
      "Recommendation for User ID A38RMU1Y5TDP9:\n",
      "Product ID B001HN6CVA Rating 5\n",
      "Product ID B0007NWL70 Rating 5\n",
      "Product ID B00066FHHO Rating 5\n",
      "Product ID B009C98NPY Rating 5\n",
      "Product ID B00020S7XK Rating 4.966411666268229\n",
      "------------------------------------------------------------\n"
     ]
    }
   ],
   "source": [
    "recommendationSearchByUserID('A38RMU1Y5TDP9')"
   ]
  },
  {
   "cell_type": "code",
   "execution_count": 36,
   "metadata": {},
   "outputs": [
    {
     "name": "stdout",
     "output_type": "stream",
     "text": [
      "Item-based Model : Test Set\n",
      "RMSE: 1.0528\n"
     ]
    },
    {
     "data": {
      "text/plain": [
       "1.052781429724865"
      ]
     },
     "execution_count": 36,
     "metadata": {},
     "output_type": "execute_result"
    }
   ],
   "source": [
    "# get RMSE\n",
    "print(\"Item-based Model : Test Set\")\n",
    "accuracy.rmse(test_pred, verbose=True)"
   ]
  },
  {
   "cell_type": "markdown",
   "metadata": {},
   "source": [
    "## Insights From the Recommendation Systems\n",
    "\n",
    "- We have build two recommendation systems:\n",
    "    - Popularity Based Recommendation System.\n",
    "    - Collabrative Filtering Recommendation System.\n",
    "\n",
    "#### Populatity Based Recommendation System:\n",
    "\n",
    "- This kind of recommendation system is used when a application owner is not aware of anything about the user.\n",
    "- The system recommends the products that is not rated by the user and also popular in terms of high number of rating count.\n",
    "- Hence we see that mostly all the users get the same 10 products recommended.\n",
    "- There might be change to the product recommended only when the user the user has already rated the product.\n",
    "- Popularity based recommendation system is used to build user profile, after which using the profile build we can provide better recommendation of products to the users.\n",
    "\n",
    "#### Collaborative Filtering Recommendation System:\n",
    "\n",
    "- We have implemented User Based Collabrative filtering using KNNMeans Algorithm.\n",
    "- Collaborative Filtering works on the principle that it maps users with same traits.\n",
    "- Once such mapping is done on the train data we implement the same on the test data and get the predictions.\n",
    "- Using the prediction we identify what are the top 5 products that we can recommend to the user so that he would probably rate the product high.\n",
    "- Likewise if we observe the recommendation for any user it is different from other user. This makes us to understand that this is based on user-a-like behaviour based recommendations.\n",
    "\n",
    "#### Conclusion:\n",
    "\n",
    "- Both Populatity Based and Collaborative Filtering are best when used in appropriate business use cases.\n",
    "- Popularity Based Recommendation System can be stacked with Collaborative Filtering Recommendation System to achieve better results.\n",
    "- When a new user comes in Popularity Based Recommendation System is used to build user profile, once the user have started to interact better and the user profile is good, the user profile data is used to recommend better product using Collaborative Filtering Recommendation System."
   ]
  },
  {
   "cell_type": "code",
   "execution_count": null,
   "metadata": {},
   "outputs": [],
   "source": []
  }
 ],
 "metadata": {
  "kernelspec": {
   "display_name": "Python 3",
   "language": "python",
   "name": "python3"
  },
  "language_info": {
   "codemirror_mode": {
    "name": "ipython",
    "version": 3
   },
   "file_extension": ".py",
   "mimetype": "text/x-python",
   "name": "python",
   "nbconvert_exporter": "python",
   "pygments_lexer": "ipython3",
   "version": "3.7.3"
  }
 },
 "nbformat": 4,
 "nbformat_minor": 4
}
