{
 "cells": [
  {
   "cell_type": "code",
   "execution_count": 1,
   "metadata": {},
   "outputs": [],
   "source": [
    "# importing required libraries\n",
    "import numpy as np\n",
    "import pandas as pd\n",
    "import matplotlib.pyplot as plt\n",
    "import seaborn as sns\n",
    "%matplotlib inline "
   ]
  },
  {
   "cell_type": "code",
   "execution_count": 2,
   "metadata": {},
   "outputs": [],
   "source": [
    "tdf = pd.read_csv(\"titansales.csv\")"
   ]
  },
  {
   "cell_type": "code",
   "execution_count": 3,
   "metadata": {},
   "outputs": [
    {
     "data": {
      "text/html": [
       "<div>\n",
       "<style scoped>\n",
       "    .dataframe tbody tr th:only-of-type {\n",
       "        vertical-align: middle;\n",
       "    }\n",
       "\n",
       "    .dataframe tbody tr th {\n",
       "        vertical-align: top;\n",
       "    }\n",
       "\n",
       "    .dataframe thead th {\n",
       "        text-align: right;\n",
       "    }\n",
       "</style>\n",
       "<table border=\"1\" class=\"dataframe\">\n",
       "  <thead>\n",
       "    <tr style=\"text-align: right;\">\n",
       "      <th></th>\n",
       "      <th>SALESPERSON</th>\n",
       "      <th>Old Scheme (in thousands)</th>\n",
       "      <th>New Scheme (in thousands)</th>\n",
       "    </tr>\n",
       "  </thead>\n",
       "  <tbody>\n",
       "    <tr>\n",
       "      <th>0</th>\n",
       "      <td>1</td>\n",
       "      <td>57</td>\n",
       "      <td>62</td>\n",
       "    </tr>\n",
       "    <tr>\n",
       "      <th>1</th>\n",
       "      <td>2</td>\n",
       "      <td>103</td>\n",
       "      <td>122</td>\n",
       "    </tr>\n",
       "    <tr>\n",
       "      <th>2</th>\n",
       "      <td>3</td>\n",
       "      <td>59</td>\n",
       "      <td>54</td>\n",
       "    </tr>\n",
       "    <tr>\n",
       "      <th>3</th>\n",
       "      <td>4</td>\n",
       "      <td>75</td>\n",
       "      <td>82</td>\n",
       "    </tr>\n",
       "    <tr>\n",
       "      <th>4</th>\n",
       "      <td>5</td>\n",
       "      <td>84</td>\n",
       "      <td>84</td>\n",
       "    </tr>\n",
       "  </tbody>\n",
       "</table>\n",
       "</div>"
      ],
      "text/plain": [
       "   SALESPERSON  Old Scheme (in thousands)  New Scheme (in thousands)\n",
       "0            1                         57                         62\n",
       "1            2                        103                        122\n",
       "2            3                         59                         54\n",
       "3            4                         75                         82\n",
       "4            5                         84                         84"
      ]
     },
     "execution_count": 3,
     "metadata": {},
     "output_type": "execute_result"
    }
   ],
   "source": [
    "tdf.head()"
   ]
  },
  {
   "cell_type": "markdown",
   "metadata": {},
   "source": [
    "### Since the actual data is not represented in 1000 we will convert the data as such and work on that newly created data"
   ]
  },
  {
   "cell_type": "code",
   "execution_count": 4,
   "metadata": {},
   "outputs": [],
   "source": [
    "tdf['OldScheme'] = tdf['Old Scheme (in thousands)'] * 1000\n",
    "tdf['NewScheme'] = tdf['New Scheme (in thousands)'] * 1000"
   ]
  },
  {
   "cell_type": "code",
   "execution_count": 5,
   "metadata": {},
   "outputs": [
    {
     "data": {
      "text/html": [
       "<div>\n",
       "<style scoped>\n",
       "    .dataframe tbody tr th:only-of-type {\n",
       "        vertical-align: middle;\n",
       "    }\n",
       "\n",
       "    .dataframe tbody tr th {\n",
       "        vertical-align: top;\n",
       "    }\n",
       "\n",
       "    .dataframe thead th {\n",
       "        text-align: right;\n",
       "    }\n",
       "</style>\n",
       "<table border=\"1\" class=\"dataframe\">\n",
       "  <thead>\n",
       "    <tr style=\"text-align: right;\">\n",
       "      <th></th>\n",
       "      <th>SALESPERSON</th>\n",
       "      <th>Old Scheme (in thousands)</th>\n",
       "      <th>New Scheme (in thousands)</th>\n",
       "      <th>OldScheme</th>\n",
       "      <th>NewScheme</th>\n",
       "    </tr>\n",
       "  </thead>\n",
       "  <tbody>\n",
       "    <tr>\n",
       "      <th>0</th>\n",
       "      <td>1</td>\n",
       "      <td>57</td>\n",
       "      <td>62</td>\n",
       "      <td>57000</td>\n",
       "      <td>62000</td>\n",
       "    </tr>\n",
       "    <tr>\n",
       "      <th>1</th>\n",
       "      <td>2</td>\n",
       "      <td>103</td>\n",
       "      <td>122</td>\n",
       "      <td>103000</td>\n",
       "      <td>122000</td>\n",
       "    </tr>\n",
       "    <tr>\n",
       "      <th>2</th>\n",
       "      <td>3</td>\n",
       "      <td>59</td>\n",
       "      <td>54</td>\n",
       "      <td>59000</td>\n",
       "      <td>54000</td>\n",
       "    </tr>\n",
       "    <tr>\n",
       "      <th>3</th>\n",
       "      <td>4</td>\n",
       "      <td>75</td>\n",
       "      <td>82</td>\n",
       "      <td>75000</td>\n",
       "      <td>82000</td>\n",
       "    </tr>\n",
       "    <tr>\n",
       "      <th>4</th>\n",
       "      <td>5</td>\n",
       "      <td>84</td>\n",
       "      <td>84</td>\n",
       "      <td>84000</td>\n",
       "      <td>84000</td>\n",
       "    </tr>\n",
       "  </tbody>\n",
       "</table>\n",
       "</div>"
      ],
      "text/plain": [
       "   SALESPERSON  Old Scheme (in thousands)  New Scheme (in thousands)  \\\n",
       "0            1                         57                         62   \n",
       "1            2                        103                        122   \n",
       "2            3                         59                         54   \n",
       "3            4                         75                         82   \n",
       "4            5                         84                         84   \n",
       "\n",
       "   OldScheme  NewScheme  \n",
       "0      57000      62000  \n",
       "1     103000     122000  \n",
       "2      59000      54000  \n",
       "3      75000      82000  \n",
       "4      84000      84000  "
      ]
     },
     "execution_count": 5,
     "metadata": {},
     "output_type": "execute_result"
    }
   ],
   "source": [
    "tdf.head()"
   ]
  },
  {
   "cell_type": "markdown",
   "metadata": {},
   "source": [
    "### 1. Find the mean of old scheme and new scheme column."
   ]
  },
  {
   "cell_type": "code",
   "execution_count": 6,
   "metadata": {},
   "outputs": [
    {
     "name": "stdout",
     "output_type": "stream",
     "text": [
      "The mean of the Old scheme is 68033.33333333333.\n",
      "The mean of the New scheme is 72033.33333333333.\n"
     ]
    }
   ],
   "source": [
    "OldSchemeMean = tdf[\"OldScheme\"].mean()\n",
    "NewSchemeMean = tdf[\"NewScheme\"].mean()\n",
    "print(\"The mean of the Old scheme is {}.\".format(OldSchemeMean))\n",
    "print(\"The mean of the New scheme is {}.\".format(NewSchemeMean))"
   ]
  },
  {
   "cell_type": "markdown",
   "metadata": {},
   "source": [
    "### 2. Use the five percent significance test over the data to determine the p value to check new scheme has significantly raised outputs?"
   ]
  },
  {
   "cell_type": "code",
   "execution_count": 7,
   "metadata": {},
   "outputs": [
    {
     "name": "stdout",
     "output_type": "stream",
     "text": [
      "The mean of the Old scheme is 68033.33333333333.\n",
      "The mean of the New scheme is 72033.33333333333.\n",
      "Difference in mean 4000.0.\n"
     ]
    }
   ],
   "source": [
    "print(\"The mean of the Old scheme is {}.\".format(OldSchemeMean))\n",
    "print(\"The mean of the New scheme is {}.\".format(NewSchemeMean))\n",
    "print(\"Difference in mean {}.\".format(NewSchemeMean - OldSchemeMean))"
   ]
  },
  {
   "cell_type": "markdown",
   "metadata": {},
   "source": [
    "mu1 = Average sums assured by salesperson BEFORE changeover. <br>\n",
    "mu2 = Average sums assured by salesperson AFTER changeover."
   ]
  },
  {
   "cell_type": "markdown",
   "metadata": {},
   "source": [
    "H0 = Average sum assured before change over = Average sum assured after change over.. i.e., H0 : Mean1=Mean2; Mean1-Mean2=0 <br>\n",
    "HA = Average sum assured before change over != Average sum assured after change over.. i.e., HA : Mean1<Mean2; Mean1-Mean2>0"
   ]
  },
  {
   "cell_type": "code",
   "execution_count": 8,
   "metadata": {},
   "outputs": [],
   "source": [
    "import scipy.stats as stats"
   ]
  },
  {
   "cell_type": "code",
   "execution_count": 9,
   "metadata": {},
   "outputs": [
    {
     "name": "stdout",
     "output_type": "stream",
     "text": [
      "t-statistics is 1.5559143823544377\n",
      "p-value is 0.13057553961337662\n"
     ]
    }
   ],
   "source": [
    "stat, pvalue = stats.ttest_rel(tdf['NewScheme'],tdf['OldScheme'])\n",
    "print(\"t-statistics is {}\".format(stat))\n",
    "print(\"p-value is {}\".format(pvalue))"
   ]
  },
  {
   "cell_type": "markdown",
   "metadata": {},
   "source": [
    "### 3. What conclusion does the test (p-value) lead to?"
   ]
  },
  {
   "cell_type": "markdown",
   "metadata": {},
   "source": [
    "### Conclusion\n",
    "\n",
    "- Since p-value (=0.13057553961337662) is higher than 0.05, we accept (fail to reject) NULL hypothesis. The new scheme has NOT significantly raised outputs."
   ]
  },
  {
   "cell_type": "markdown",
   "metadata": {},
   "source": [
    "### 4. Suppose it has been calculated that in order for Titan to break even, the average output must increase by £5000 in the scheme compared to the old scheme. If this figure is alternative hypothesis, what is:\n",
    "\n",
    "### a. The probability of a type 1 error?"
   ]
  },
  {
   "cell_type": "markdown",
   "metadata": {},
   "source": [
    "Ans : Probability of Type I error = significant level = 0.05 or 5%. <br> The probablity of type 1 error is the significance level we have set which is 0.05 considering the risks and the cost of commiting the type 1 error."
   ]
  },
  {
   "cell_type": "markdown",
   "metadata": {},
   "source": [
    "### b. What is the p- value of the hypothesis test if we test for a difference of $5000?"
   ]
  },
  {
   "cell_type": "markdown",
   "metadata": {},
   "source": [
    "H0 : mu of the difference <= 5000 <br>\n",
    "H1 : There is an increase in mean , mu of the difference in New Scheme and Old Scheme > 5000"
   ]
  },
  {
   "cell_type": "code",
   "execution_count": 10,
   "metadata": {},
   "outputs": [
    {
     "name": "stdout",
     "output_type": "stream",
     "text": [
      "-0.3889785955886094 0.7001334912613286\n"
     ]
    }
   ],
   "source": [
    "t_statistic, p_value = stats.ttest_1samp(tdf['NewScheme'] - tdf['OldScheme'], 5000)\n",
    "print(t_statistic,p_value)"
   ]
  },
  {
   "cell_type": "markdown",
   "metadata": {},
   "source": [
    "### Conclusion:\n",
    "\n",
    "- since p >> 0.05 we fail to reject the null hypothesis that the new scheme is not able to break even."
   ]
  },
  {
   "cell_type": "markdown",
   "metadata": {},
   "source": [
    "### c. Power of the test"
   ]
  },
  {
   "cell_type": "code",
   "execution_count": 11,
   "metadata": {},
   "outputs": [
    {
     "name": "stdout",
     "output_type": "stream",
     "text": [
      "-0.1797010778460377\n"
     ]
    }
   ],
   "source": [
    "# We have already computed the oldscheme and newscheme mean in the Question 1 and we are using it here\n",
    "OldSchemeStd  = tdf['OldScheme'].std()\n",
    "NewSchemeStd = tdf['NewScheme'].std()\n",
    "effect_size = (OldSchemeMean - NewSchemeMean)/((OldSchemeStd+NewSchemeStd)/2)\n",
    "print(effect_size)"
   ]
  },
  {
   "cell_type": "code",
   "execution_count": 12,
   "metadata": {},
   "outputs": [
    {
     "name": "stdout",
     "output_type": "stream",
     "text": [
      "0.24714593999104928\n"
     ]
    }
   ],
   "source": [
    "from statsmodels.stats.power import ttest_power\n",
    "print(ttest_power(0.1797010778460377, nobs=30, alpha=0.05, alternative='larger'))"
   ]
  }
 ],
 "metadata": {
  "kernelspec": {
   "display_name": "Python 3",
   "language": "python",
   "name": "python3"
  },
  "language_info": {
   "codemirror_mode": {
    "name": "ipython",
    "version": 3
   },
   "file_extension": ".py",
   "mimetype": "text/x-python",
   "name": "python",
   "nbconvert_exporter": "python",
   "pygments_lexer": "ipython3",
   "version": "3.7.3"
  }
 },
 "nbformat": 4,
 "nbformat_minor": 2
}
