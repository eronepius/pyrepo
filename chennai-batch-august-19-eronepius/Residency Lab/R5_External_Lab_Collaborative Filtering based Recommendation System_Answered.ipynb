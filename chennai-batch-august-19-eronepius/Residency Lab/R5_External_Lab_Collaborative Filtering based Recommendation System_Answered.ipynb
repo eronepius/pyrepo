{
 "cells": [
  {
   "cell_type": "markdown",
   "metadata": {},
   "source": [
    "**About Book Crossing Dataset**<br>\n",
    "\n",
    "This dataset has been compiled by Cai-Nicolas Ziegler in 2004, and it comprises of three tables for users, books and ratings. Explicit ratings are expressed on a scale from 1-10 (higher values denoting higher appreciation) and implicit rating is expressed by 0."
   ]
  },
  {
   "cell_type": "markdown",
   "metadata": {},
   "source": [
    "Reference: http://www2.informatik.uni-freiburg.de/~cziegler/BX/ "
   ]
  },
  {
   "cell_type": "markdown",
   "metadata": {},
   "source": [
    "**Objective**\n",
    "\n",
    "This project entails building a Book Recommender System for users based on user-based and item-based collaborative filtering approaches."
   ]
  },
  {
   "cell_type": "markdown",
   "metadata": {},
   "source": [
    "#### Execute the below cell to load the datasets"
   ]
  },
  {
   "cell_type": "code",
   "execution_count": 1,
   "metadata": {},
   "outputs": [],
   "source": [
    "#importing necessary packages\n",
    "import numpy as np\n",
    "import pandas as pd"
   ]
  },
  {
   "cell_type": "code",
   "execution_count": 2,
   "metadata": {
    "scrolled": true
   },
   "outputs": [
    {
     "name": "stderr",
     "output_type": "stream",
     "text": [
      "b'Skipping line 6452: expected 8 fields, saw 9\\nSkipping line 43667: expected 8 fields, saw 10\\nSkipping line 51751: expected 8 fields, saw 9\\n'\n",
      "b'Skipping line 92038: expected 8 fields, saw 9\\nSkipping line 104319: expected 8 fields, saw 9\\nSkipping line 121768: expected 8 fields, saw 9\\n'\n",
      "b'Skipping line 144058: expected 8 fields, saw 9\\nSkipping line 150789: expected 8 fields, saw 9\\nSkipping line 157128: expected 8 fields, saw 9\\nSkipping line 180189: expected 8 fields, saw 9\\nSkipping line 185738: expected 8 fields, saw 9\\n'\n",
      "b'Skipping line 209388: expected 8 fields, saw 9\\nSkipping line 220626: expected 8 fields, saw 9\\nSkipping line 227933: expected 8 fields, saw 11\\nSkipping line 228957: expected 8 fields, saw 10\\nSkipping line 245933: expected 8 fields, saw 9\\nSkipping line 251296: expected 8 fields, saw 9\\nSkipping line 259941: expected 8 fields, saw 9\\nSkipping line 261529: expected 8 fields, saw 9\\n'\n",
      "C:\\ProgramData\\Anaconda3\\lib\\site-packages\\IPython\\core\\interactiveshell.py:3057: DtypeWarning: Columns (3) have mixed types. Specify dtype option on import or set low_memory=False.\n",
      "  interactivity=interactivity, compiler=compiler, result=result)\n"
     ]
    }
   ],
   "source": [
    "#Loading data\n",
    "books = pd.read_csv(\"books.csv\", sep=\";\", error_bad_lines=False, encoding=\"latin-1\")\n",
    "books.columns = ['ISBN', 'bookTitle', 'bookAuthor', 'yearOfPublication', 'publisher', 'imageUrlS', 'imageUrlM', 'imageUrlL']\n",
    "\n",
    "users = pd.read_csv('users.csv', sep=';', error_bad_lines=False, encoding=\"latin-1\")\n",
    "users.columns = ['userID', 'Location', 'Age']\n",
    "\n",
    "ratings = pd.read_csv('ratings.csv', sep=';', error_bad_lines=False, encoding=\"latin-1\")\n",
    "ratings.columns = ['userID', 'ISBN', 'bookRating']"
   ]
  },
  {
   "cell_type": "markdown",
   "metadata": {},
   "source": [
    "### Check no.of records and features given in each dataset"
   ]
  },
  {
   "cell_type": "code",
   "execution_count": 3,
   "metadata": {},
   "outputs": [
    {
     "name": "stdout",
     "output_type": "stream",
     "text": [
      "DataFrame : books - No. of records : 271360, No. of Features : 8.\n",
      "DataFrame : users - No. of records : 278858, No. of Features : 3.\n",
      "DataFrame : ratings - No. of records : 1149780, No. of Features : 3\n"
     ]
    }
   ],
   "source": [
    "print(\"DataFrame : books - No. of records : {}, No. of Features : {}.\".format(books.shape[0],books.shape[1]))\n",
    "print(\"DataFrame : users - No. of records : {}, No. of Features : {}.\".format(users.shape[0],users.shape[1]))\n",
    "print(\"DataFrame : ratings - No. of records : {}, No. of Features : {}\".format(ratings.shape[0],ratings.shape[1]))"
   ]
  },
  {
   "cell_type": "markdown",
   "metadata": {},
   "source": [
    "## Exploring books dataset"
   ]
  },
  {
   "cell_type": "code",
   "execution_count": 4,
   "metadata": {
    "scrolled": false
   },
   "outputs": [
    {
     "data": {
      "text/html": [
       "<div>\n",
       "<style scoped>\n",
       "    .dataframe tbody tr th:only-of-type {\n",
       "        vertical-align: middle;\n",
       "    }\n",
       "\n",
       "    .dataframe tbody tr th {\n",
       "        vertical-align: top;\n",
       "    }\n",
       "\n",
       "    .dataframe thead th {\n",
       "        text-align: right;\n",
       "    }\n",
       "</style>\n",
       "<table border=\"1\" class=\"dataframe\">\n",
       "  <thead>\n",
       "    <tr style=\"text-align: right;\">\n",
       "      <th></th>\n",
       "      <th>ISBN</th>\n",
       "      <th>bookTitle</th>\n",
       "      <th>bookAuthor</th>\n",
       "      <th>yearOfPublication</th>\n",
       "      <th>publisher</th>\n",
       "      <th>imageUrlS</th>\n",
       "      <th>imageUrlM</th>\n",
       "      <th>imageUrlL</th>\n",
       "    </tr>\n",
       "  </thead>\n",
       "  <tbody>\n",
       "    <tr>\n",
       "      <th>0</th>\n",
       "      <td>0195153448</td>\n",
       "      <td>Classical Mythology</td>\n",
       "      <td>Mark P. O. Morford</td>\n",
       "      <td>2002</td>\n",
       "      <td>Oxford University Press</td>\n",
       "      <td>http://images.amazon.com/images/P/0195153448.0...</td>\n",
       "      <td>http://images.amazon.com/images/P/0195153448.0...</td>\n",
       "      <td>http://images.amazon.com/images/P/0195153448.0...</td>\n",
       "    </tr>\n",
       "    <tr>\n",
       "      <th>1</th>\n",
       "      <td>0002005018</td>\n",
       "      <td>Clara Callan</td>\n",
       "      <td>Richard Bruce Wright</td>\n",
       "      <td>2001</td>\n",
       "      <td>HarperFlamingo Canada</td>\n",
       "      <td>http://images.amazon.com/images/P/0002005018.0...</td>\n",
       "      <td>http://images.amazon.com/images/P/0002005018.0...</td>\n",
       "      <td>http://images.amazon.com/images/P/0002005018.0...</td>\n",
       "    </tr>\n",
       "    <tr>\n",
       "      <th>2</th>\n",
       "      <td>0060973129</td>\n",
       "      <td>Decision in Normandy</td>\n",
       "      <td>Carlo D'Este</td>\n",
       "      <td>1991</td>\n",
       "      <td>HarperPerennial</td>\n",
       "      <td>http://images.amazon.com/images/P/0060973129.0...</td>\n",
       "      <td>http://images.amazon.com/images/P/0060973129.0...</td>\n",
       "      <td>http://images.amazon.com/images/P/0060973129.0...</td>\n",
       "    </tr>\n",
       "    <tr>\n",
       "      <th>3</th>\n",
       "      <td>0374157065</td>\n",
       "      <td>Flu: The Story of the Great Influenza Pandemic...</td>\n",
       "      <td>Gina Bari Kolata</td>\n",
       "      <td>1999</td>\n",
       "      <td>Farrar Straus Giroux</td>\n",
       "      <td>http://images.amazon.com/images/P/0374157065.0...</td>\n",
       "      <td>http://images.amazon.com/images/P/0374157065.0...</td>\n",
       "      <td>http://images.amazon.com/images/P/0374157065.0...</td>\n",
       "    </tr>\n",
       "    <tr>\n",
       "      <th>4</th>\n",
       "      <td>0393045218</td>\n",
       "      <td>The Mummies of Urumchi</td>\n",
       "      <td>E. J. W. Barber</td>\n",
       "      <td>1999</td>\n",
       "      <td>W. W. Norton &amp;amp; Company</td>\n",
       "      <td>http://images.amazon.com/images/P/0393045218.0...</td>\n",
       "      <td>http://images.amazon.com/images/P/0393045218.0...</td>\n",
       "      <td>http://images.amazon.com/images/P/0393045218.0...</td>\n",
       "    </tr>\n",
       "  </tbody>\n",
       "</table>\n",
       "</div>"
      ],
      "text/plain": [
       "         ISBN                                          bookTitle  \\\n",
       "0  0195153448                                Classical Mythology   \n",
       "1  0002005018                                       Clara Callan   \n",
       "2  0060973129                               Decision in Normandy   \n",
       "3  0374157065  Flu: The Story of the Great Influenza Pandemic...   \n",
       "4  0393045218                             The Mummies of Urumchi   \n",
       "\n",
       "             bookAuthor yearOfPublication                   publisher  \\\n",
       "0    Mark P. O. Morford              2002     Oxford University Press   \n",
       "1  Richard Bruce Wright              2001       HarperFlamingo Canada   \n",
       "2          Carlo D'Este              1991             HarperPerennial   \n",
       "3      Gina Bari Kolata              1999        Farrar Straus Giroux   \n",
       "4       E. J. W. Barber              1999  W. W. Norton &amp; Company   \n",
       "\n",
       "                                           imageUrlS  \\\n",
       "0  http://images.amazon.com/images/P/0195153448.0...   \n",
       "1  http://images.amazon.com/images/P/0002005018.0...   \n",
       "2  http://images.amazon.com/images/P/0060973129.0...   \n",
       "3  http://images.amazon.com/images/P/0374157065.0...   \n",
       "4  http://images.amazon.com/images/P/0393045218.0...   \n",
       "\n",
       "                                           imageUrlM  \\\n",
       "0  http://images.amazon.com/images/P/0195153448.0...   \n",
       "1  http://images.amazon.com/images/P/0002005018.0...   \n",
       "2  http://images.amazon.com/images/P/0060973129.0...   \n",
       "3  http://images.amazon.com/images/P/0374157065.0...   \n",
       "4  http://images.amazon.com/images/P/0393045218.0...   \n",
       "\n",
       "                                           imageUrlL  \n",
       "0  http://images.amazon.com/images/P/0195153448.0...  \n",
       "1  http://images.amazon.com/images/P/0002005018.0...  \n",
       "2  http://images.amazon.com/images/P/0060973129.0...  \n",
       "3  http://images.amazon.com/images/P/0374157065.0...  \n",
       "4  http://images.amazon.com/images/P/0393045218.0...  "
      ]
     },
     "execution_count": 4,
     "metadata": {},
     "output_type": "execute_result"
    }
   ],
   "source": [
    "books.head()"
   ]
  },
  {
   "cell_type": "markdown",
   "metadata": {},
   "source": [
    "### Drop last three columns containing image URLs which will not be required for analysis"
   ]
  },
  {
   "cell_type": "code",
   "execution_count": 5,
   "metadata": {},
   "outputs": [
    {
     "data": {
      "text/plain": [
       "Index(['ISBN', 'bookTitle', 'bookAuthor', 'yearOfPublication', 'publisher',\n",
       "       'imageUrlS', 'imageUrlM', 'imageUrlL'],\n",
       "      dtype='object')"
      ]
     },
     "execution_count": 5,
     "metadata": {},
     "output_type": "execute_result"
    }
   ],
   "source": [
    "books.columns"
   ]
  },
  {
   "cell_type": "code",
   "execution_count": 6,
   "metadata": {},
   "outputs": [],
   "source": [
    "books.drop(['imageUrlS', 'imageUrlM', 'imageUrlL'], inplace=True, axis=1)"
   ]
  },
  {
   "cell_type": "code",
   "execution_count": 7,
   "metadata": {
    "scrolled": true
   },
   "outputs": [
    {
     "data": {
      "text/html": [
       "<div>\n",
       "<style scoped>\n",
       "    .dataframe tbody tr th:only-of-type {\n",
       "        vertical-align: middle;\n",
       "    }\n",
       "\n",
       "    .dataframe tbody tr th {\n",
       "        vertical-align: top;\n",
       "    }\n",
       "\n",
       "    .dataframe thead th {\n",
       "        text-align: right;\n",
       "    }\n",
       "</style>\n",
       "<table border=\"1\" class=\"dataframe\">\n",
       "  <thead>\n",
       "    <tr style=\"text-align: right;\">\n",
       "      <th></th>\n",
       "      <th>ISBN</th>\n",
       "      <th>bookTitle</th>\n",
       "      <th>bookAuthor</th>\n",
       "      <th>yearOfPublication</th>\n",
       "      <th>publisher</th>\n",
       "    </tr>\n",
       "  </thead>\n",
       "  <tbody>\n",
       "    <tr>\n",
       "      <th>0</th>\n",
       "      <td>0195153448</td>\n",
       "      <td>Classical Mythology</td>\n",
       "      <td>Mark P. O. Morford</td>\n",
       "      <td>2002</td>\n",
       "      <td>Oxford University Press</td>\n",
       "    </tr>\n",
       "    <tr>\n",
       "      <th>1</th>\n",
       "      <td>0002005018</td>\n",
       "      <td>Clara Callan</td>\n",
       "      <td>Richard Bruce Wright</td>\n",
       "      <td>2001</td>\n",
       "      <td>HarperFlamingo Canada</td>\n",
       "    </tr>\n",
       "    <tr>\n",
       "      <th>2</th>\n",
       "      <td>0060973129</td>\n",
       "      <td>Decision in Normandy</td>\n",
       "      <td>Carlo D'Este</td>\n",
       "      <td>1991</td>\n",
       "      <td>HarperPerennial</td>\n",
       "    </tr>\n",
       "    <tr>\n",
       "      <th>3</th>\n",
       "      <td>0374157065</td>\n",
       "      <td>Flu: The Story of the Great Influenza Pandemic...</td>\n",
       "      <td>Gina Bari Kolata</td>\n",
       "      <td>1999</td>\n",
       "      <td>Farrar Straus Giroux</td>\n",
       "    </tr>\n",
       "    <tr>\n",
       "      <th>4</th>\n",
       "      <td>0393045218</td>\n",
       "      <td>The Mummies of Urumchi</td>\n",
       "      <td>E. J. W. Barber</td>\n",
       "      <td>1999</td>\n",
       "      <td>W. W. Norton &amp;amp; Company</td>\n",
       "    </tr>\n",
       "  </tbody>\n",
       "</table>\n",
       "</div>"
      ],
      "text/plain": [
       "         ISBN                                          bookTitle  \\\n",
       "0  0195153448                                Classical Mythology   \n",
       "1  0002005018                                       Clara Callan   \n",
       "2  0060973129                               Decision in Normandy   \n",
       "3  0374157065  Flu: The Story of the Great Influenza Pandemic...   \n",
       "4  0393045218                             The Mummies of Urumchi   \n",
       "\n",
       "             bookAuthor yearOfPublication                   publisher  \n",
       "0    Mark P. O. Morford              2002     Oxford University Press  \n",
       "1  Richard Bruce Wright              2001       HarperFlamingo Canada  \n",
       "2          Carlo D'Este              1991             HarperPerennial  \n",
       "3      Gina Bari Kolata              1999        Farrar Straus Giroux  \n",
       "4       E. J. W. Barber              1999  W. W. Norton &amp; Company  "
      ]
     },
     "execution_count": 7,
     "metadata": {},
     "output_type": "execute_result"
    }
   ],
   "source": [
    "books.head()"
   ]
  },
  {
   "cell_type": "markdown",
   "metadata": {},
   "source": [
    "**yearOfPublication**"
   ]
  },
  {
   "cell_type": "markdown",
   "metadata": {},
   "source": [
    "### Check unique values of yearOfPublication\n"
   ]
  },
  {
   "cell_type": "code",
   "execution_count": 8,
   "metadata": {},
   "outputs": [
    {
     "data": {
      "text/plain": [
       "array([2002, 2001, 1991, 1999, 2000, 1993, 1996, 1988, 2004, 1998, 1994,\n",
       "       2003, 1997, 1983, 1979, 1995, 1982, 1985, 1992, 1986, 1978, 1980,\n",
       "       1952, 1987, 1990, 1981, 1989, 1984, 0, 1968, 1961, 1958, 1974,\n",
       "       1976, 1971, 1977, 1975, 1965, 1941, 1970, 1962, 1973, 1972, 1960,\n",
       "       1966, 1920, 1956, 1959, 1953, 1951, 1942, 1963, 1964, 1969, 1954,\n",
       "       1950, 1967, 2005, 1957, 1940, 1937, 1955, 1946, 1936, 1930, 2011,\n",
       "       1925, 1948, 1943, 1947, 1945, 1923, 2020, 1939, 1926, 1938, 2030,\n",
       "       1911, 1904, 1949, 1932, 1928, 1929, 1927, 1931, 1914, 2050, 1934,\n",
       "       1910, 1933, 1902, 1924, 1921, 1900, 2038, 2026, 1944, 1917, 1901,\n",
       "       2010, 1908, 1906, 1935, 1806, 2021, '2000', '1995', '1999', '2004',\n",
       "       '2003', '1990', '1994', '1986', '1989', '2002', '1981', '1993',\n",
       "       '1983', '1982', '1976', '1991', '1977', '1998', '1992', '1996',\n",
       "       '0', '1997', '2001', '1974', '1968', '1987', '1984', '1988',\n",
       "       '1963', '1956', '1970', '1985', '1978', '1973', '1980', '1979',\n",
       "       '1975', '1969', '1961', '1965', '1939', '1958', '1950', '1953',\n",
       "       '1966', '1971', '1959', '1972', '1955', '1957', '1945', '1960',\n",
       "       '1967', '1932', '1924', '1964', '2012', '1911', '1927', '1948',\n",
       "       '1962', '2006', '1952', '1940', '1951', '1931', '1954', '2005',\n",
       "       '1930', '1941', '1944', 'DK Publishing Inc', '1943', '1938',\n",
       "       '1900', '1942', '1923', '1920', '1933', 'Gallimard', '1909',\n",
       "       '1946', '2008', '1378', '2030', '1936', '1947', '2011', '2020',\n",
       "       '1919', '1949', '1922', '1897', '2024', '1376', '1926', '2037'],\n",
       "      dtype=object)"
      ]
     },
     "execution_count": 8,
     "metadata": {},
     "output_type": "execute_result"
    }
   ],
   "source": [
    "books['yearOfPublication'].unique()"
   ]
  },
  {
   "cell_type": "markdown",
   "metadata": {},
   "source": [
    "As it can be seen from above that there are some incorrect entries in this field. It looks like Publisher names 'DK Publishing Inc' and 'Gallimard' have been incorrectly loaded as yearOfPublication in dataset due to some errors in csv file.\n",
    "\n",
    "\n",
    "Also some of the entries are strings and same years have been entered as numbers in some places. We will try to fix these things in the coming questions."
   ]
  },
  {
   "cell_type": "markdown",
   "metadata": {},
   "source": [
    "### Check the rows having 'DK Publishing Inc' as yearOfPublication"
   ]
  },
  {
   "cell_type": "code",
   "execution_count": 9,
   "metadata": {},
   "outputs": [
    {
     "data": {
      "text/html": [
       "<div>\n",
       "<style scoped>\n",
       "    .dataframe tbody tr th:only-of-type {\n",
       "        vertical-align: middle;\n",
       "    }\n",
       "\n",
       "    .dataframe tbody tr th {\n",
       "        vertical-align: top;\n",
       "    }\n",
       "\n",
       "    .dataframe thead th {\n",
       "        text-align: right;\n",
       "    }\n",
       "</style>\n",
       "<table border=\"1\" class=\"dataframe\">\n",
       "  <thead>\n",
       "    <tr style=\"text-align: right;\">\n",
       "      <th></th>\n",
       "      <th>ISBN</th>\n",
       "      <th>bookTitle</th>\n",
       "      <th>bookAuthor</th>\n",
       "      <th>yearOfPublication</th>\n",
       "      <th>publisher</th>\n",
       "    </tr>\n",
       "  </thead>\n",
       "  <tbody>\n",
       "    <tr>\n",
       "      <th>209538</th>\n",
       "      <td>078946697X</td>\n",
       "      <td>DK Readers: Creating the X-Men, How It All Beg...</td>\n",
       "      <td>2000</td>\n",
       "      <td>DK Publishing Inc</td>\n",
       "      <td>http://images.amazon.com/images/P/078946697X.0...</td>\n",
       "    </tr>\n",
       "    <tr>\n",
       "      <th>221678</th>\n",
       "      <td>0789466953</td>\n",
       "      <td>DK Readers: Creating the X-Men, How Comic Book...</td>\n",
       "      <td>2000</td>\n",
       "      <td>DK Publishing Inc</td>\n",
       "      <td>http://images.amazon.com/images/P/0789466953.0...</td>\n",
       "    </tr>\n",
       "  </tbody>\n",
       "</table>\n",
       "</div>"
      ],
      "text/plain": [
       "              ISBN                                          bookTitle  \\\n",
       "209538  078946697X  DK Readers: Creating the X-Men, How It All Beg...   \n",
       "221678  0789466953  DK Readers: Creating the X-Men, How Comic Book...   \n",
       "\n",
       "       bookAuthor  yearOfPublication  \\\n",
       "209538       2000  DK Publishing Inc   \n",
       "221678       2000  DK Publishing Inc   \n",
       "\n",
       "                                                publisher  \n",
       "209538  http://images.amazon.com/images/P/078946697X.0...  \n",
       "221678  http://images.amazon.com/images/P/0789466953.0...  "
      ]
     },
     "execution_count": 9,
     "metadata": {},
     "output_type": "execute_result"
    }
   ],
   "source": [
    "books[books['yearOfPublication'] == 'DK Publishing Inc']"
   ]
  },
  {
   "cell_type": "markdown",
   "metadata": {},
   "source": [
    "### Drop the rows having `'DK Publishing Inc'` and `'Gallimard'` as `yearOfPublication`"
   ]
  },
  {
   "cell_type": "code",
   "execution_count": 10,
   "metadata": {},
   "outputs": [],
   "source": [
    "books.drop([209538, 221678], inplace=True)"
   ]
  },
  {
   "cell_type": "code",
   "execution_count": 11,
   "metadata": {},
   "outputs": [],
   "source": [
    "errorlist = books[books['yearOfPublication'] == 'Gallimard'].index.to_list()"
   ]
  },
  {
   "cell_type": "code",
   "execution_count": 12,
   "metadata": {},
   "outputs": [],
   "source": [
    "books.drop(errorlist, inplace=True)"
   ]
  },
  {
   "cell_type": "code",
   "execution_count": 13,
   "metadata": {},
   "outputs": [
    {
     "data": {
      "text/html": [
       "<div>\n",
       "<style scoped>\n",
       "    .dataframe tbody tr th:only-of-type {\n",
       "        vertical-align: middle;\n",
       "    }\n",
       "\n",
       "    .dataframe tbody tr th {\n",
       "        vertical-align: top;\n",
       "    }\n",
       "\n",
       "    .dataframe thead th {\n",
       "        text-align: right;\n",
       "    }\n",
       "</style>\n",
       "<table border=\"1\" class=\"dataframe\">\n",
       "  <thead>\n",
       "    <tr style=\"text-align: right;\">\n",
       "      <th></th>\n",
       "      <th>ISBN</th>\n",
       "      <th>bookTitle</th>\n",
       "      <th>bookAuthor</th>\n",
       "      <th>yearOfPublication</th>\n",
       "      <th>publisher</th>\n",
       "    </tr>\n",
       "  </thead>\n",
       "  <tbody>\n",
       "  </tbody>\n",
       "</table>\n",
       "</div>"
      ],
      "text/plain": [
       "Empty DataFrame\n",
       "Columns: [ISBN, bookTitle, bookAuthor, yearOfPublication, publisher]\n",
       "Index: []"
      ]
     },
     "execution_count": 13,
     "metadata": {},
     "output_type": "execute_result"
    }
   ],
   "source": [
    "books[(books['yearOfPublication'] == 'DK Publishing Inc') | (books['yearOfPublication'] == 'Gallimard')]"
   ]
  },
  {
   "cell_type": "markdown",
   "metadata": {},
   "source": [
    "- We have removed records that had `'DK Publishing Inc'` and `'Gallimard'` in the yearOfPublication column. "
   ]
  },
  {
   "cell_type": "markdown",
   "metadata": {},
   "source": [
    "### Change the datatype of yearOfPublication to 'int'"
   ]
  },
  {
   "cell_type": "code",
   "execution_count": 14,
   "metadata": {},
   "outputs": [],
   "source": [
    "books['yearOfPublication'] =  books['yearOfPublication'].astype('int64')"
   ]
  },
  {
   "cell_type": "code",
   "execution_count": 15,
   "metadata": {},
   "outputs": [
    {
     "data": {
      "text/plain": [
       "ISBN                 object\n",
       "bookTitle            object\n",
       "bookAuthor           object\n",
       "yearOfPublication     int64\n",
       "publisher            object\n",
       "dtype: object"
      ]
     },
     "execution_count": 15,
     "metadata": {},
     "output_type": "execute_result"
    }
   ],
   "source": [
    "books.dtypes"
   ]
  },
  {
   "cell_type": "markdown",
   "metadata": {},
   "source": [
    "### Drop NaNs in `'publisher'` column\n"
   ]
  },
  {
   "cell_type": "code",
   "execution_count": 16,
   "metadata": {},
   "outputs": [
    {
     "data": {
      "text/plain": [
       "2"
      ]
     },
     "execution_count": 16,
     "metadata": {},
     "output_type": "execute_result"
    }
   ],
   "source": [
    "books['publisher'].isnull().sum()"
   ]
  },
  {
   "cell_type": "code",
   "execution_count": 17,
   "metadata": {},
   "outputs": [],
   "source": [
    "books.dropna(subset=['publisher'],inplace=True)"
   ]
  },
  {
   "cell_type": "markdown",
   "metadata": {},
   "source": [
    "## Exploring Users dataset"
   ]
  },
  {
   "cell_type": "code",
   "execution_count": 18,
   "metadata": {
    "scrolled": true
   },
   "outputs": [
    {
     "name": "stdout",
     "output_type": "stream",
     "text": [
      "(278858, 3)\n"
     ]
    },
    {
     "data": {
      "text/html": [
       "<div>\n",
       "<style scoped>\n",
       "    .dataframe tbody tr th:only-of-type {\n",
       "        vertical-align: middle;\n",
       "    }\n",
       "\n",
       "    .dataframe tbody tr th {\n",
       "        vertical-align: top;\n",
       "    }\n",
       "\n",
       "    .dataframe thead th {\n",
       "        text-align: right;\n",
       "    }\n",
       "</style>\n",
       "<table border=\"1\" class=\"dataframe\">\n",
       "  <thead>\n",
       "    <tr style=\"text-align: right;\">\n",
       "      <th></th>\n",
       "      <th>userID</th>\n",
       "      <th>Location</th>\n",
       "      <th>Age</th>\n",
       "    </tr>\n",
       "  </thead>\n",
       "  <tbody>\n",
       "    <tr>\n",
       "      <th>0</th>\n",
       "      <td>1</td>\n",
       "      <td>nyc, new york, usa</td>\n",
       "      <td>NaN</td>\n",
       "    </tr>\n",
       "    <tr>\n",
       "      <th>1</th>\n",
       "      <td>2</td>\n",
       "      <td>stockton, california, usa</td>\n",
       "      <td>18.0</td>\n",
       "    </tr>\n",
       "    <tr>\n",
       "      <th>2</th>\n",
       "      <td>3</td>\n",
       "      <td>moscow, yukon territory, russia</td>\n",
       "      <td>NaN</td>\n",
       "    </tr>\n",
       "    <tr>\n",
       "      <th>3</th>\n",
       "      <td>4</td>\n",
       "      <td>porto, v.n.gaia, portugal</td>\n",
       "      <td>17.0</td>\n",
       "    </tr>\n",
       "    <tr>\n",
       "      <th>4</th>\n",
       "      <td>5</td>\n",
       "      <td>farnborough, hants, united kingdom</td>\n",
       "      <td>NaN</td>\n",
       "    </tr>\n",
       "  </tbody>\n",
       "</table>\n",
       "</div>"
      ],
      "text/plain": [
       "   userID                            Location   Age\n",
       "0       1                  nyc, new york, usa   NaN\n",
       "1       2           stockton, california, usa  18.0\n",
       "2       3     moscow, yukon territory, russia   NaN\n",
       "3       4           porto, v.n.gaia, portugal  17.0\n",
       "4       5  farnborough, hants, united kingdom   NaN"
      ]
     },
     "execution_count": 18,
     "metadata": {},
     "output_type": "execute_result"
    }
   ],
   "source": [
    "print(users.shape)\n",
    "users.head()"
   ]
  },
  {
   "cell_type": "markdown",
   "metadata": {},
   "source": [
    "### Get all unique values in ascending order for column `Age`"
   ]
  },
  {
   "cell_type": "code",
   "execution_count": 19,
   "metadata": {},
   "outputs": [
    {
     "data": {
      "text/plain": [
       "array([  0.,   1.,   2.,   3.,   4.,   5.,   6.,   7.,   8.,   9.,  10.,\n",
       "        11.,  12.,  13.,  14.,  15.,  16.,  17.,  18.,  19.,  20.,  21.,\n",
       "        22.,  23.,  24.,  25.,  26.,  27.,  28.,  29.,  30.,  31.,  32.,\n",
       "        33.,  34.,  35.,  36.,  37.,  38.,  39.,  40.,  41.,  42.,  43.,\n",
       "        44.,  45.,  46.,  47.,  48.,  49.,  50.,  51.,  52.,  53.,  54.,\n",
       "        55.,  56.,  57.,  58.,  59.,  60.,  61.,  62.,  63.,  64.,  65.,\n",
       "        66.,  67.,  68.,  69.,  70.,  71.,  72.,  73.,  74.,  75.,  76.,\n",
       "        77.,  78.,  79.,  80.,  81.,  82.,  83.,  84.,  85.,  86.,  87.,\n",
       "        88.,  89.,  90.,  91.,  92.,  93.,  94.,  95.,  96.,  97.,  98.,\n",
       "        99., 100., 101., 102., 103., 104., 105., 106., 107., 108., 109.,\n",
       "       110., 111., 113., 114., 115., 116., 118., 119., 123., 124., 127.,\n",
       "       128., 132., 133., 136., 137., 138., 140., 141., 143., 146., 147.,\n",
       "       148., 151., 152., 156., 157., 159., 162., 168., 172., 175., 183.,\n",
       "       186., 189., 199., 200., 201., 204., 207., 208., 209., 210., 212.,\n",
       "       219., 220., 223., 226., 228., 229., 230., 231., 237., 239., 244.,\n",
       "        nan])"
      ]
     },
     "execution_count": 19,
     "metadata": {},
     "output_type": "execute_result"
    }
   ],
   "source": [
    "users['Age'].sort_values(ascending=True).unique()"
   ]
  },
  {
   "cell_type": "markdown",
   "metadata": {},
   "source": [
    "Age column has some invalid entries like nan, 0 and very high values like 100 and above"
   ]
  },
  {
   "cell_type": "markdown",
   "metadata": {},
   "source": [
    "### Values below 5 and above 90 do not make much sense for our book rating case...hence replace these by NaNs"
   ]
  },
  {
   "cell_type": "code",
   "execution_count": 20,
   "metadata": {},
   "outputs": [],
   "source": [
    "users['Age'].fillna(0, inplace=True)"
   ]
  },
  {
   "cell_type": "code",
   "execution_count": 21,
   "metadata": {},
   "outputs": [
    {
     "data": {
      "text/plain": [
       "0"
      ]
     },
     "execution_count": 21,
     "metadata": {},
     "output_type": "execute_result"
    }
   ],
   "source": [
    "users['Age'].isna().sum()"
   ]
  },
  {
   "cell_type": "code",
   "execution_count": 22,
   "metadata": {},
   "outputs": [],
   "source": [
    "users['Age'] = users['Age'].astype('int64')"
   ]
  },
  {
   "cell_type": "code",
   "execution_count": 23,
   "metadata": {
    "scrolled": true
   },
   "outputs": [],
   "source": [
    "users['Age'] = users['Age'].apply(lambda x: np.nan if x < 6 or x > 90 else x )"
   ]
  },
  {
   "cell_type": "code",
   "execution_count": 24,
   "metadata": {},
   "outputs": [
    {
     "data": {
      "text/plain": [
       "array([nan, 18., 17., 61., 26., 14., 25., 19., 46., 55., 32., 24., 20.,\n",
       "       34., 23., 51., 31., 21., 44., 30., 57., 43., 37., 41., 54., 42.,\n",
       "       50., 39., 53., 47., 36., 28., 35., 13., 58., 49., 38., 45., 62.,\n",
       "       63., 27., 33., 29., 66., 40., 15., 60., 79., 22., 16., 65., 59.,\n",
       "       48., 72., 56., 67., 80., 52., 69., 71., 73., 78.,  9., 64., 12.,\n",
       "       74., 75., 76., 83., 68., 11., 77., 70.,  8.,  7., 81., 10.,  6.,\n",
       "       84., 82., 90., 85., 86., 87., 89., 88.])"
      ]
     },
     "execution_count": 24,
     "metadata": {},
     "output_type": "execute_result"
    }
   ],
   "source": [
    "users['Age'].unique()"
   ]
  },
  {
   "cell_type": "markdown",
   "metadata": {},
   "source": [
    "### Replace null values in column `Age` with mean"
   ]
  },
  {
   "cell_type": "code",
   "execution_count": 25,
   "metadata": {},
   "outputs": [
    {
     "data": {
      "text/plain": [
       "35"
      ]
     },
     "execution_count": 25,
     "metadata": {},
     "output_type": "execute_result"
    }
   ],
   "source": [
    "meanAge = round(users['Age'].mean())\n",
    "meanAge"
   ]
  },
  {
   "cell_type": "code",
   "execution_count": 26,
   "metadata": {},
   "outputs": [],
   "source": [
    "users['Age'].fillna(meanAge, inplace=True)"
   ]
  },
  {
   "cell_type": "code",
   "execution_count": 27,
   "metadata": {},
   "outputs": [
    {
     "data": {
      "text/plain": [
       "array([35., 18., 17., 61., 26., 14., 25., 19., 46., 55., 32., 24., 20.,\n",
       "       34., 23., 51., 31., 21., 44., 30., 57., 43., 37., 41., 54., 42.,\n",
       "       50., 39., 53., 47., 36., 28., 13., 58., 49., 38., 45., 62., 63.,\n",
       "       27., 33., 29., 66., 40., 15., 60., 79., 22., 16., 65., 59., 48.,\n",
       "       72., 56., 67., 80., 52., 69., 71., 73., 78.,  9., 64., 12., 74.,\n",
       "       75., 76., 83., 68., 11., 77., 70.,  8.,  7., 81., 10.,  6., 84.,\n",
       "       82., 90., 85., 86., 87., 89., 88.])"
      ]
     },
     "execution_count": 27,
     "metadata": {},
     "output_type": "execute_result"
    }
   ],
   "source": [
    "#Checking of the Age column has nan values\n",
    "users['Age'].unique()"
   ]
  },
  {
   "cell_type": "markdown",
   "metadata": {},
   "source": [
    "### Change the datatype of `Age` to `int`"
   ]
  },
  {
   "cell_type": "code",
   "execution_count": 28,
   "metadata": {},
   "outputs": [],
   "source": [
    "users['Age'] = users['Age'].astype('int64')"
   ]
  },
  {
   "cell_type": "code",
   "execution_count": 29,
   "metadata": {
    "scrolled": true
   },
   "outputs": [
    {
     "name": "stdout",
     "output_type": "stream",
     "text": [
      "[6, 7, 8, 9, 10, 11, 12, 13, 14, 15, 16, 17, 18, 19, 20, 21, 22, 23, 24, 25, 26, 27, 28, 29, 30, 31, 32, 33, 34, 35, 36, 37, 38, 39, 40, 41, 42, 43, 44, 45, 46, 47, 48, 49, 50, 51, 52, 53, 54, 55, 56, 57, 58, 59, 60, 61, 62, 63, 64, 65, 66, 67, 68, 69, 70, 71, 72, 73, 74, 75, 76, 77, 78, 79, 80, 81, 82, 83, 84, 85, 86, 87, 88, 89, 90]\n"
     ]
    }
   ],
   "source": [
    "print(sorted(users.Age.unique()))"
   ]
  },
  {
   "cell_type": "markdown",
   "metadata": {},
   "source": [
    "## Exploring the Ratings Dataset"
   ]
  },
  {
   "cell_type": "markdown",
   "metadata": {},
   "source": [
    "### check the shape"
   ]
  },
  {
   "cell_type": "code",
   "execution_count": 30,
   "metadata": {
    "scrolled": true
   },
   "outputs": [
    {
     "data": {
      "text/plain": [
       "(1149780, 3)"
      ]
     },
     "execution_count": 30,
     "metadata": {},
     "output_type": "execute_result"
    }
   ],
   "source": [
    "ratings.shape"
   ]
  },
  {
   "cell_type": "code",
   "execution_count": 31,
   "metadata": {},
   "outputs": [],
   "source": [
    "n_users = users.shape[0]\n",
    "n_books = books.shape[0]"
   ]
  },
  {
   "cell_type": "code",
   "execution_count": 32,
   "metadata": {
    "scrolled": true
   },
   "outputs": [
    {
     "data": {
      "text/html": [
       "<div>\n",
       "<style scoped>\n",
       "    .dataframe tbody tr th:only-of-type {\n",
       "        vertical-align: middle;\n",
       "    }\n",
       "\n",
       "    .dataframe tbody tr th {\n",
       "        vertical-align: top;\n",
       "    }\n",
       "\n",
       "    .dataframe thead th {\n",
       "        text-align: right;\n",
       "    }\n",
       "</style>\n",
       "<table border=\"1\" class=\"dataframe\">\n",
       "  <thead>\n",
       "    <tr style=\"text-align: right;\">\n",
       "      <th></th>\n",
       "      <th>userID</th>\n",
       "      <th>ISBN</th>\n",
       "      <th>bookRating</th>\n",
       "    </tr>\n",
       "  </thead>\n",
       "  <tbody>\n",
       "    <tr>\n",
       "      <th>0</th>\n",
       "      <td>276725</td>\n",
       "      <td>034545104X</td>\n",
       "      <td>0</td>\n",
       "    </tr>\n",
       "    <tr>\n",
       "      <th>1</th>\n",
       "      <td>276726</td>\n",
       "      <td>0155061224</td>\n",
       "      <td>5</td>\n",
       "    </tr>\n",
       "    <tr>\n",
       "      <th>2</th>\n",
       "      <td>276727</td>\n",
       "      <td>0446520802</td>\n",
       "      <td>0</td>\n",
       "    </tr>\n",
       "    <tr>\n",
       "      <th>3</th>\n",
       "      <td>276729</td>\n",
       "      <td>052165615X</td>\n",
       "      <td>3</td>\n",
       "    </tr>\n",
       "    <tr>\n",
       "      <th>4</th>\n",
       "      <td>276729</td>\n",
       "      <td>0521795028</td>\n",
       "      <td>6</td>\n",
       "    </tr>\n",
       "  </tbody>\n",
       "</table>\n",
       "</div>"
      ],
      "text/plain": [
       "   userID        ISBN  bookRating\n",
       "0  276725  034545104X           0\n",
       "1  276726  0155061224           5\n",
       "2  276727  0446520802           0\n",
       "3  276729  052165615X           3\n",
       "4  276729  0521795028           6"
      ]
     },
     "execution_count": 32,
     "metadata": {},
     "output_type": "execute_result"
    }
   ],
   "source": [
    "ratings.head(5)"
   ]
  },
  {
   "cell_type": "markdown",
   "metadata": {},
   "source": [
    "### Ratings dataset should have books only which exist in our books dataset. Drop the remaining rows"
   ]
  },
  {
   "cell_type": "code",
   "execution_count": 33,
   "metadata": {},
   "outputs": [],
   "source": [
    "ratings = ratings[ratings.ISBN.isin(books.ISBN)]"
   ]
  },
  {
   "cell_type": "code",
   "execution_count": 34,
   "metadata": {},
   "outputs": [
    {
     "data": {
      "text/plain": [
       "1031130"
      ]
     },
     "execution_count": 34,
     "metadata": {},
     "output_type": "execute_result"
    }
   ],
   "source": [
    "ratings['userID'].count()"
   ]
  },
  {
   "cell_type": "markdown",
   "metadata": {},
   "source": [
    "### Ratings dataset should have ratings from users which exist in users dataset. Drop the remaining rows"
   ]
  },
  {
   "cell_type": "code",
   "execution_count": 35,
   "metadata": {},
   "outputs": [],
   "source": [
    "ratings = ratings[ratings.userID.isin(users.userID)]"
   ]
  },
  {
   "cell_type": "code",
   "execution_count": 36,
   "metadata": {},
   "outputs": [
    {
     "data": {
      "text/plain": [
       "(1031130, 3)"
      ]
     },
     "execution_count": 36,
     "metadata": {},
     "output_type": "execute_result"
    }
   ],
   "source": [
    "ratings.shape"
   ]
  },
  {
   "cell_type": "markdown",
   "metadata": {},
   "source": [
    "### Consider only ratings from 1-10 and leave 0s in column `bookRating`"
   ]
  },
  {
   "cell_type": "code",
   "execution_count": 37,
   "metadata": {},
   "outputs": [
    {
     "data": {
      "text/plain": [
       "array([ 0,  5,  3,  6,  7,  9,  8, 10,  1,  4,  2], dtype=int64)"
      ]
     },
     "execution_count": 37,
     "metadata": {},
     "output_type": "execute_result"
    }
   ],
   "source": [
    "ratings['bookRating'].unique()"
   ]
  },
  {
   "cell_type": "code",
   "execution_count": 38,
   "metadata": {},
   "outputs": [],
   "source": [
    "ratings_real = ratings[ratings['bookRating'] != 0 ]"
   ]
  },
  {
   "cell_type": "code",
   "execution_count": 39,
   "metadata": {},
   "outputs": [
    {
     "data": {
      "text/plain": [
       "array([ 5,  3,  6,  7,  9,  8, 10,  1,  4,  2], dtype=int64)"
      ]
     },
     "execution_count": 39,
     "metadata": {},
     "output_type": "execute_result"
    }
   ],
   "source": [
    "ratings_real['bookRating'].unique()"
   ]
  },
  {
   "cell_type": "markdown",
   "metadata": {},
   "source": [
    "### Find out which rating has been given highest number of times"
   ]
  },
  {
   "cell_type": "code",
   "execution_count": 40,
   "metadata": {},
   "outputs": [
    {
     "data": {
      "text/plain": [
       "bookRating\n",
       "8     91804\n",
       "10    71225\n",
       "7     66401\n",
       "9     60776\n",
       "5     45355\n",
       "6     31687\n",
       "4      7617\n",
       "3      5118\n",
       "2      2375\n",
       "1      1481\n",
       "Name: bookRating, dtype: int64"
      ]
     },
     "execution_count": 40,
     "metadata": {},
     "output_type": "execute_result"
    }
   ],
   "source": [
    "ratings_real.groupby(['bookRating'])['bookRating'].count().sort_values(ascending=False)"
   ]
  },
  {
   "cell_type": "markdown",
   "metadata": {},
   "source": [
    "- The rating 8 is given highest number of time, followed by rating 10 and rating 7."
   ]
  },
  {
   "cell_type": "markdown",
   "metadata": {},
   "source": [
    "### **Collaborative Filtering Based Recommendation Systems**"
   ]
  },
  {
   "cell_type": "markdown",
   "metadata": {},
   "source": [
    "### For more accurate results only consider users who have rated atleast 100 books"
   ]
  },
  {
   "cell_type": "code",
   "execution_count": 41,
   "metadata": {},
   "outputs": [
    {
     "data": {
      "text/plain": [
       "Index(['userID', 'ISBN', 'bookRating'], dtype='object')"
      ]
     },
     "execution_count": 41,
     "metadata": {},
     "output_type": "execute_result"
    }
   ],
   "source": [
    "ratings_real.columns"
   ]
  },
  {
   "cell_type": "code",
   "execution_count": 46,
   "metadata": {},
   "outputs": [],
   "source": [
    "counts = ratings_real['userID'].value_counts()\n",
    "ratings_100_more = ratings_real[ratings_real['userID'].isin(counts[counts >= 100].index)]"
   ]
  },
  {
   "cell_type": "code",
   "execution_count": 48,
   "metadata": {},
   "outputs": [
    {
     "data": {
      "text/html": [
       "<div>\n",
       "<style scoped>\n",
       "    .dataframe tbody tr th:only-of-type {\n",
       "        vertical-align: middle;\n",
       "    }\n",
       "\n",
       "    .dataframe tbody tr th {\n",
       "        vertical-align: top;\n",
       "    }\n",
       "\n",
       "    .dataframe thead th {\n",
       "        text-align: right;\n",
       "    }\n",
       "</style>\n",
       "<table border=\"1\" class=\"dataframe\">\n",
       "  <thead>\n",
       "    <tr style=\"text-align: right;\">\n",
       "      <th></th>\n",
       "      <th>userID</th>\n",
       "      <th>ISBN</th>\n",
       "      <th>bookRating</th>\n",
       "    </tr>\n",
       "  </thead>\n",
       "  <tbody>\n",
       "    <tr>\n",
       "      <th>1456</th>\n",
       "      <td>277427</td>\n",
       "      <td>002542730X</td>\n",
       "      <td>10</td>\n",
       "    </tr>\n",
       "    <tr>\n",
       "      <th>1458</th>\n",
       "      <td>277427</td>\n",
       "      <td>003008685X</td>\n",
       "      <td>8</td>\n",
       "    </tr>\n",
       "    <tr>\n",
       "      <th>1461</th>\n",
       "      <td>277427</td>\n",
       "      <td>0060006641</td>\n",
       "      <td>10</td>\n",
       "    </tr>\n",
       "    <tr>\n",
       "      <th>1465</th>\n",
       "      <td>277427</td>\n",
       "      <td>0060542128</td>\n",
       "      <td>7</td>\n",
       "    </tr>\n",
       "    <tr>\n",
       "      <th>1474</th>\n",
       "      <td>277427</td>\n",
       "      <td>0061009059</td>\n",
       "      <td>9</td>\n",
       "    </tr>\n",
       "    <tr>\n",
       "      <th>1477</th>\n",
       "      <td>277427</td>\n",
       "      <td>0062507109</td>\n",
       "      <td>8</td>\n",
       "    </tr>\n",
       "    <tr>\n",
       "      <th>1483</th>\n",
       "      <td>277427</td>\n",
       "      <td>0132220598</td>\n",
       "      <td>8</td>\n",
       "    </tr>\n",
       "    <tr>\n",
       "      <th>1488</th>\n",
       "      <td>277427</td>\n",
       "      <td>0140283374</td>\n",
       "      <td>6</td>\n",
       "    </tr>\n",
       "    <tr>\n",
       "      <th>1490</th>\n",
       "      <td>277427</td>\n",
       "      <td>014039026X</td>\n",
       "      <td>8</td>\n",
       "    </tr>\n",
       "    <tr>\n",
       "      <th>1491</th>\n",
       "      <td>277427</td>\n",
       "      <td>0140390715</td>\n",
       "      <td>7</td>\n",
       "    </tr>\n",
       "  </tbody>\n",
       "</table>\n",
       "</div>"
      ],
      "text/plain": [
       "      userID        ISBN  bookRating\n",
       "1456  277427  002542730X          10\n",
       "1458  277427  003008685X           8\n",
       "1461  277427  0060006641          10\n",
       "1465  277427  0060542128           7\n",
       "1474  277427  0061009059           9\n",
       "1477  277427  0062507109           8\n",
       "1483  277427  0132220598           8\n",
       "1488  277427  0140283374           6\n",
       "1490  277427  014039026X           8\n",
       "1491  277427  0140390715           7"
      ]
     },
     "execution_count": 48,
     "metadata": {},
     "output_type": "execute_result"
    }
   ],
   "source": [
    "ratings_100_more.head(10)"
   ]
  },
  {
   "cell_type": "markdown",
   "metadata": {},
   "source": [
    "### Generating ratings matrix from explicit ratings\n"
   ]
  },
  {
   "cell_type": "markdown",
   "metadata": {},
   "source": [
    "#### Note: since NaNs cannot be handled by training algorithms, replace these by 0, which indicates absence of ratings"
   ]
  },
  {
   "cell_type": "code",
   "execution_count": 51,
   "metadata": {},
   "outputs": [
    {
     "data": {
      "text/html": [
       "<div>\n",
       "<style scoped>\n",
       "    .dataframe tbody tr th:only-of-type {\n",
       "        vertical-align: middle;\n",
       "    }\n",
       "\n",
       "    .dataframe tbody tr th {\n",
       "        vertical-align: top;\n",
       "    }\n",
       "\n",
       "    .dataframe thead th {\n",
       "        text-align: right;\n",
       "    }\n",
       "</style>\n",
       "<table border=\"1\" class=\"dataframe\">\n",
       "  <thead>\n",
       "    <tr style=\"text-align: right;\">\n",
       "      <th>ISBN</th>\n",
       "      <th>0000913154</th>\n",
       "      <th>0001046438</th>\n",
       "      <th>000104687X</th>\n",
       "      <th>0001047213</th>\n",
       "      <th>0001047973</th>\n",
       "      <th>000104799X</th>\n",
       "      <th>0001048082</th>\n",
       "      <th>0001053736</th>\n",
       "      <th>0001053744</th>\n",
       "      <th>0001055607</th>\n",
       "      <th>...</th>\n",
       "      <th>B000092Q0A</th>\n",
       "      <th>B00009EF82</th>\n",
       "      <th>B00009NDAN</th>\n",
       "      <th>B0000DYXID</th>\n",
       "      <th>B0000T6KHI</th>\n",
       "      <th>B0000VZEJQ</th>\n",
       "      <th>B0000X8HIE</th>\n",
       "      <th>B00013AX9E</th>\n",
       "      <th>B0001I1KOG</th>\n",
       "      <th>B000234N3A</th>\n",
       "    </tr>\n",
       "    <tr>\n",
       "      <th>userID</th>\n",
       "      <th></th>\n",
       "      <th></th>\n",
       "      <th></th>\n",
       "      <th></th>\n",
       "      <th></th>\n",
       "      <th></th>\n",
       "      <th></th>\n",
       "      <th></th>\n",
       "      <th></th>\n",
       "      <th></th>\n",
       "      <th></th>\n",
       "      <th></th>\n",
       "      <th></th>\n",
       "      <th></th>\n",
       "      <th></th>\n",
       "      <th></th>\n",
       "      <th></th>\n",
       "      <th></th>\n",
       "      <th></th>\n",
       "      <th></th>\n",
       "      <th></th>\n",
       "    </tr>\n",
       "  </thead>\n",
       "  <tbody>\n",
       "    <tr>\n",
       "      <th>2033</th>\n",
       "      <td>0.0</td>\n",
       "      <td>0.0</td>\n",
       "      <td>0.0</td>\n",
       "      <td>0.0</td>\n",
       "      <td>0.0</td>\n",
       "      <td>0.0</td>\n",
       "      <td>0.0</td>\n",
       "      <td>0.0</td>\n",
       "      <td>0.0</td>\n",
       "      <td>0.0</td>\n",
       "      <td>...</td>\n",
       "      <td>0.0</td>\n",
       "      <td>0.0</td>\n",
       "      <td>0.0</td>\n",
       "      <td>0.0</td>\n",
       "      <td>0.0</td>\n",
       "      <td>0.0</td>\n",
       "      <td>0.0</td>\n",
       "      <td>0.0</td>\n",
       "      <td>0.0</td>\n",
       "      <td>0.0</td>\n",
       "    </tr>\n",
       "    <tr>\n",
       "      <th>2110</th>\n",
       "      <td>0.0</td>\n",
       "      <td>0.0</td>\n",
       "      <td>0.0</td>\n",
       "      <td>0.0</td>\n",
       "      <td>0.0</td>\n",
       "      <td>0.0</td>\n",
       "      <td>0.0</td>\n",
       "      <td>0.0</td>\n",
       "      <td>0.0</td>\n",
       "      <td>0.0</td>\n",
       "      <td>...</td>\n",
       "      <td>0.0</td>\n",
       "      <td>0.0</td>\n",
       "      <td>0.0</td>\n",
       "      <td>0.0</td>\n",
       "      <td>0.0</td>\n",
       "      <td>0.0</td>\n",
       "      <td>0.0</td>\n",
       "      <td>0.0</td>\n",
       "      <td>0.0</td>\n",
       "      <td>0.0</td>\n",
       "    </tr>\n",
       "    <tr>\n",
       "      <th>2276</th>\n",
       "      <td>0.0</td>\n",
       "      <td>0.0</td>\n",
       "      <td>0.0</td>\n",
       "      <td>0.0</td>\n",
       "      <td>0.0</td>\n",
       "      <td>0.0</td>\n",
       "      <td>0.0</td>\n",
       "      <td>0.0</td>\n",
       "      <td>0.0</td>\n",
       "      <td>0.0</td>\n",
       "      <td>...</td>\n",
       "      <td>0.0</td>\n",
       "      <td>0.0</td>\n",
       "      <td>0.0</td>\n",
       "      <td>0.0</td>\n",
       "      <td>0.0</td>\n",
       "      <td>0.0</td>\n",
       "      <td>0.0</td>\n",
       "      <td>0.0</td>\n",
       "      <td>0.0</td>\n",
       "      <td>0.0</td>\n",
       "    </tr>\n",
       "    <tr>\n",
       "      <th>4017</th>\n",
       "      <td>0.0</td>\n",
       "      <td>0.0</td>\n",
       "      <td>0.0</td>\n",
       "      <td>0.0</td>\n",
       "      <td>0.0</td>\n",
       "      <td>0.0</td>\n",
       "      <td>0.0</td>\n",
       "      <td>0.0</td>\n",
       "      <td>0.0</td>\n",
       "      <td>0.0</td>\n",
       "      <td>...</td>\n",
       "      <td>0.0</td>\n",
       "      <td>0.0</td>\n",
       "      <td>0.0</td>\n",
       "      <td>0.0</td>\n",
       "      <td>0.0</td>\n",
       "      <td>0.0</td>\n",
       "      <td>0.0</td>\n",
       "      <td>0.0</td>\n",
       "      <td>0.0</td>\n",
       "      <td>0.0</td>\n",
       "    </tr>\n",
       "    <tr>\n",
       "      <th>4385</th>\n",
       "      <td>0.0</td>\n",
       "      <td>0.0</td>\n",
       "      <td>0.0</td>\n",
       "      <td>0.0</td>\n",
       "      <td>0.0</td>\n",
       "      <td>0.0</td>\n",
       "      <td>0.0</td>\n",
       "      <td>0.0</td>\n",
       "      <td>0.0</td>\n",
       "      <td>0.0</td>\n",
       "      <td>...</td>\n",
       "      <td>0.0</td>\n",
       "      <td>0.0</td>\n",
       "      <td>0.0</td>\n",
       "      <td>0.0</td>\n",
       "      <td>0.0</td>\n",
       "      <td>0.0</td>\n",
       "      <td>0.0</td>\n",
       "      <td>0.0</td>\n",
       "      <td>0.0</td>\n",
       "      <td>0.0</td>\n",
       "    </tr>\n",
       "  </tbody>\n",
       "</table>\n",
       "<p>5 rows × 66572 columns</p>\n",
       "</div>"
      ],
      "text/plain": [
       "ISBN    0000913154  0001046438  000104687X  0001047213  0001047973  \\\n",
       "userID                                                               \n",
       "2033           0.0         0.0         0.0         0.0         0.0   \n",
       "2110           0.0         0.0         0.0         0.0         0.0   \n",
       "2276           0.0         0.0         0.0         0.0         0.0   \n",
       "4017           0.0         0.0         0.0         0.0         0.0   \n",
       "4385           0.0         0.0         0.0         0.0         0.0   \n",
       "\n",
       "ISBN    000104799X  0001048082  0001053736  0001053744  0001055607  ...  \\\n",
       "userID                                                              ...   \n",
       "2033           0.0         0.0         0.0         0.0         0.0  ...   \n",
       "2110           0.0         0.0         0.0         0.0         0.0  ...   \n",
       "2276           0.0         0.0         0.0         0.0         0.0  ...   \n",
       "4017           0.0         0.0         0.0         0.0         0.0  ...   \n",
       "4385           0.0         0.0         0.0         0.0         0.0  ...   \n",
       "\n",
       "ISBN    B000092Q0A  B00009EF82  B00009NDAN  B0000DYXID  B0000T6KHI  \\\n",
       "userID                                                               \n",
       "2033           0.0         0.0         0.0         0.0         0.0   \n",
       "2110           0.0         0.0         0.0         0.0         0.0   \n",
       "2276           0.0         0.0         0.0         0.0         0.0   \n",
       "4017           0.0         0.0         0.0         0.0         0.0   \n",
       "4385           0.0         0.0         0.0         0.0         0.0   \n",
       "\n",
       "ISBN    B0000VZEJQ  B0000X8HIE  B00013AX9E  B0001I1KOG  B000234N3A  \n",
       "userID                                                              \n",
       "2033           0.0         0.0         0.0         0.0         0.0  \n",
       "2110           0.0         0.0         0.0         0.0         0.0  \n",
       "2276           0.0         0.0         0.0         0.0         0.0  \n",
       "4017           0.0         0.0         0.0         0.0         0.0  \n",
       "4385           0.0         0.0         0.0         0.0         0.0  \n",
       "\n",
       "[5 rows x 66572 columns]"
      ]
     },
     "execution_count": 51,
     "metadata": {},
     "output_type": "execute_result"
    }
   ],
   "source": [
    "rating_matrix = ratings_100_more.pivot(index='userID', columns='ISBN', values='bookRating').fillna(0)\n",
    "rating_matrix.head()"
   ]
  },
  {
   "cell_type": "markdown",
   "metadata": {},
   "source": [
    "### Generate the predicted ratings using SVD function from surprise library"
   ]
  },
  {
   "cell_type": "code",
   "execution_count": 52,
   "metadata": {},
   "outputs": [],
   "source": [
    "# inporting necessary libraries\n",
    "from surprise import Reader\n",
    "from surprise import Dataset\n",
    "from surprise import accuracy\n",
    "from surprise import SVD\n",
    "from surprise.model_selection import train_test_split"
   ]
  },
  {
   "cell_type": "code",
   "execution_count": 53,
   "metadata": {},
   "outputs": [],
   "source": [
    "reader = Reader(rating_scale=(1, 10))\n",
    "data = Dataset.load_from_df(ratings_100_more, reader)"
   ]
  },
  {
   "cell_type": "code",
   "execution_count": 54,
   "metadata": {},
   "outputs": [],
   "source": [
    "trainset = data.build_full_trainset()"
   ]
  },
  {
   "cell_type": "code",
   "execution_count": 55,
   "metadata": {},
   "outputs": [
    {
     "data": {
      "text/plain": [
       "<surprise.prediction_algorithms.matrix_factorization.SVD at 0x1d647427320>"
      ]
     },
     "execution_count": 55,
     "metadata": {},
     "output_type": "execute_result"
    }
   ],
   "source": [
    "model = SVD()\n",
    "model.fit(trainset)"
   ]
  },
  {
   "cell_type": "code",
   "execution_count": 56,
   "metadata": {},
   "outputs": [],
   "source": [
    "testset = trainset.build_anti_testset()"
   ]
  },
  {
   "cell_type": "code",
   "execution_count": 57,
   "metadata": {},
   "outputs": [
    {
     "data": {
      "text/plain": [
       "Prediction(uid=277427, iid='0006542808', r_ui=7.825397747629976, est=8.401985447050063, details={'was_impossible': False})"
      ]
     },
     "execution_count": 57,
     "metadata": {},
     "output_type": "execute_result"
    }
   ],
   "source": [
    "test_pred = model.test(testset)\n",
    "test_pred[0]"
   ]
  },
  {
   "cell_type": "code",
   "execution_count": 58,
   "metadata": {},
   "outputs": [
    {
     "name": "stdout",
     "output_type": "stream",
     "text": [
      "RMSE: 0.9908\n"
     ]
    },
    {
     "data": {
      "text/plain": [
       "0.9907661170895973"
      ]
     },
     "execution_count": 58,
     "metadata": {},
     "output_type": "execute_result"
    }
   ],
   "source": [
    "accuracy.rmse(test_pred)"
   ]
  },
  {
   "cell_type": "markdown",
   "metadata": {},
   "source": [
    "## Take a particular user_id"
   ]
  },
  {
   "cell_type": "markdown",
   "metadata": {},
   "source": [
    "### Lets find the recommendations for user with id `2110`\n",
    "\n",
    "#### Note: Execute the below cells to get the variables loaded"
   ]
  },
  {
   "cell_type": "code",
   "execution_count": 60,
   "metadata": {},
   "outputs": [],
   "source": [
    "userID = 2110"
   ]
  },
  {
   "cell_type": "code",
   "execution_count": 61,
   "metadata": {},
   "outputs": [],
   "source": [
    "user_id = 2 #2nd row in ratings matrix and predicted matrix"
   ]
  },
  {
   "cell_type": "markdown",
   "metadata": {},
   "source": [
    "### Get the predicted ratings for userID `2110` and sort them in descending order"
   ]
  },
  {
   "cell_type": "code",
   "execution_count": 62,
   "metadata": {},
   "outputs": [],
   "source": [
    "from collections import defaultdict"
   ]
  },
  {
   "cell_type": "code",
   "execution_count": 63,
   "metadata": {},
   "outputs": [],
   "source": [
    "top_n = defaultdict(list)\n",
    "\n",
    "def is_empty(any_structure):\n",
    "    if any_structure:\n",
    "        return False\n",
    "    else:\n",
    "        return True\n",
    "\n",
    "def get_all_users_ratings(predictions):\n",
    "    # First map the predictions to each user.\n",
    "    for uid, iid, true_r, est, _ in predictions:\n",
    "        top_n[uid].append((iid, est))\n",
    "\n",
    "    # Then sort the predictions for each user and retrieve the k highest ones.\n",
    "    for uid, user_ratings in top_n.items():\n",
    "        user_ratings.sort(key=lambda x: x[1], reverse=True)\n",
    "        top_n[uid] = user_ratings\n",
    "\n",
    "    return top_n\n",
    "\n",
    "def get_users_ratings(predictions, userID):\n",
    "    if(is_empty(top_n)):\n",
    "        get_all_users_ratings(predictions)\n",
    "        user_ratings = top_n.get(userID)\n",
    "    else:\n",
    "        user_ratings = top_n.get(userID)\n",
    "        \n",
    "    return user_ratings"
   ]
  },
  {
   "cell_type": "code",
   "execution_count": 64,
   "metadata": {},
   "outputs": [],
   "source": [
    "user_ratings = get_users_ratings(test_pred, userID)"
   ]
  },
  {
   "cell_type": "code",
   "execution_count": 65,
   "metadata": {},
   "outputs": [
    {
     "data": {
      "text/plain": [
       "[('0451169530', 10),\n",
       " ('0380018179', 9.832549435923353),\n",
       " ('0679723161', 9.719669504222942),\n",
       " ('0446310786', 9.654743659884648),\n",
       " ('0446365386', 9.632479463710126),\n",
       " ('015668568X', 9.59231345082882),\n",
       " ('0618002235', 9.561888246918295),\n",
       " ('0439136350', 9.548775864597928),\n",
       " ('0380813815', 9.533450178214187),\n",
       " ('006092988X', 9.53045044283351),\n",
       " ('0345361792', 9.53044988581224),\n",
       " ('0060256656', 9.513663030238147),\n",
       " ('0439139597', 9.495166838486984),\n",
       " ('0441172717', 9.487880906896265),\n",
       " ('0064400557', 9.460603301116066),\n",
       " ('0811801802', 9.41748617032945),\n",
       " ('0374199698', 9.397678015887507),\n",
       " ('0380005239', 9.396314978975662),\n",
       " ('0836218051', 9.384784002196184),\n",
       " ('0553258524', 9.370185982870593),\n",
       " ('0679417648', 9.357647716781932),\n",
       " ('0140143505', 9.350783054553572),\n",
       " ('0028604199', 9.350363106246476),\n",
       " ('0425141233', 9.341649950461775),\n",
       " ('0515119784', 9.325881289538696),\n",
       " ('0451524934', 9.323478667613202),\n",
       " ('155584376X', 9.320599390070178),\n",
       " ('0440404908', 9.319465324575868),\n",
       " ('0842329129', 9.31942944725953),\n",
       " ('0679889574', 9.31872455632463),\n",
       " ('0786000236', 9.31598406189397),\n",
       " ('0375504397', 9.314711666017141),\n",
       " ('0743222229', 9.312239576502272),\n",
       " ('0345350499', 9.3101796192207),\n",
       " ('0393308138', 9.305158004028637),\n",
       " ('0439136369', 9.300410251520248),\n",
       " ('0671605984', 9.293121221741416),\n",
       " ('0380978407', 9.288267365933795),\n",
       " ('0836220889', 9.285424157382534),\n",
       " ('0156006391', 9.282866524704085),\n",
       " ('0380797631', 9.27510251468054),\n",
       " ('0743411412', 9.270812593851051),\n",
       " ('0449147614', 9.267054712738501),\n",
       " ('0449212602', 9.264391410181272),\n",
       " ('0399224459', 9.260967564715227),\n",
       " ('0812550706', 9.259491568483437),\n",
       " ('0373834284', 9.255268877864893),\n",
       " ('0208023143', 9.254773416587822),\n",
       " ('0806970707', 9.252194796722321),\n",
       " ('0671578278', 9.24699686258392),\n",
       " ('8423334473', 9.24492505643817),\n",
       " ('0345417976', 9.241836211406326),\n",
       " ('0618002227', 9.240801182209006),\n",
       " ('0312265867', 9.237740693688629),\n",
       " ('0375800425', 9.23183995849279),\n",
       " ('0399141146', 9.231645517527003),\n",
       " ('0711905525', 9.23036486628203),\n",
       " ('067172519X', 9.229974280759613),\n",
       " ('0064400042', 9.229131030041032),\n",
       " ('0762409533', 9.227400791196928),\n",
       " ('014001165X', 9.219046176408995),\n",
       " ('0877017883', 9.214705240405015),\n",
       " ('0385492081', 9.212980198351119),\n",
       " ('0060264306', 9.209025305877251),\n",
       " ('0060934417', 9.2051904823353),\n",
       " ('0449912558', 9.203636631627552),\n",
       " ('037330112X', 9.199995354407655),\n",
       " ('0380896389', 9.195482130460684),\n",
       " ('0425107469', 9.189965835820134),\n",
       " ('0061000035', 9.189219475678508),\n",
       " ('0440498058', 9.184299253172814),\n",
       " ('0394800168', 9.183837592462064),\n",
       " ('067974388X', 9.183364947952972),\n",
       " ('0826313981', 9.181773262173785),\n",
       " ('0671737635', 9.181477360091709),\n",
       " ('0451404238', 9.181400645298055),\n",
       " ('0060531231', 9.1813915707185),\n",
       " ('0938077864', 9.177239919898426),\n",
       " ('0060391626', 9.175780937354235),\n",
       " ('1400032717', 9.173214581529981),\n",
       " ('0156226006', 9.17188974059114),\n",
       " ('0064400972', 9.171309620148074),\n",
       " ('0440400554', 9.168267191610441),\n",
       " ('0252006860', 9.166139468805017),\n",
       " ('0374527229', 9.165388193021304),\n",
       " ('067172262X', 9.16515832129483),\n",
       " ('0380814021', 9.164824200167313),\n",
       " ('1563891336', 9.164638735032998),\n",
       " ('0425063100', 9.163213262795866),\n",
       " ('2203001178', 9.158983955739707),\n",
       " ('0441627404', 9.15818385797274),\n",
       " ('0679429220', 9.157269414660515),\n",
       " ('0553277472', 9.15718305409607),\n",
       " ('0312168144', 9.156313514950005),\n",
       " ('037541309X', 9.155500867977098),\n",
       " ('0446611212', 9.151022947327666),\n",
       " ('1573229725', 9.149252740372479),\n",
       " ('0380776839', 9.147530207092856),\n",
       " ('0836218523', 9.146977559198954),\n",
       " ('039480001X', 9.146563787027628),\n",
       " ('0060256672', 9.145044630694034),\n",
       " ('033029623X', 9.14500037789899),\n",
       " ('0553294385', 9.14415506385798),\n",
       " ('0345425537', 9.142650161003619),\n",
       " ('0064408582', 9.142531873217273),\n",
       " ('0345345053', 9.141244980548008),\n",
       " ('0007144350', 9.140914259667703),\n",
       " ('0375500510', 9.140235452342603),\n",
       " ('0821767429', 9.139906882917503),\n",
       " ('0373802021', 9.139741249104302),\n",
       " ('0395389496', 9.13781257099842),\n",
       " ('1551669587', 9.137509828283367),\n",
       " ('0521337291', 9.137074024490026),\n",
       " ('3492265073', 9.136241832906501),\n",
       " ('0452280672', 9.136225742172934),\n",
       " ('0679763414', 9.135004449996725),\n",
       " ('0449221385', 9.133213324011216),\n",
       " ('0929605004', 9.132653756148455),\n",
       " ('0836218256', 9.131526857985353),\n",
       " ('0451168615', 9.131321923584554),\n",
       " ('0312924585', 9.127489731471089),\n",
       " ('0393050939', 9.1269467587496),\n",
       " ('0140282599', 9.126686530230009),\n",
       " ('044048474X', 9.12640726385759),\n",
       " ('0449207145', 9.126176530876634),\n",
       " ('0156528207', 9.125638403795488),\n",
       " ('0679774386', 9.124832188159997),\n",
       " ('0060512180', 9.124568452050301),\n",
       " ('0671727796', 9.123791503012004),\n",
       " ('0743412273', 9.122568697581608),\n",
       " ('0812968190', 9.121644046142057),\n",
       " ('0836213122', 9.120458276707629),\n",
       " ('0440229081', 9.118921457232782),\n",
       " ('0451527216', 9.117383635643094),\n",
       " ('0842343040', 9.117340757015466),\n",
       " ('0375412824', 9.116609652977914),\n",
       " ('0375758992', 9.115293378662658),\n",
       " ('0684857820', 9.114312537888049),\n",
       " ('0152050167', 9.112099527427103),\n",
       " ('0375502548', 9.111413487413538),\n",
       " ('0671525204', 9.11124249048193),\n",
       " ('0440211727', 9.109680177587286),\n",
       " ('8420618519', 9.108984944727686),\n",
       " ('0515122610', 9.108732580316087),\n",
       " ('0684856964', 9.108628984012906),\n",
       " ('0345418263', 9.10827118856924),\n",
       " ('0525237704', 9.10633713474956),\n",
       " ('0520204956', 9.105415982106237),\n",
       " ('0768905362', 9.104524881645332),\n",
       " ('0064471047', 9.104254392523798),\n",
       " ('0764313762', 9.102055527670736),\n",
       " ('0064400018', 9.101628539796119),\n",
       " ('0441031277', 9.101380475235365),\n",
       " ('042511774X', 9.101290697822934),\n",
       " ('0761536744', 9.100951043856162),\n",
       " ('0373123108', 9.100128994686521),\n",
       " ('0345333551', 9.098859200083725),\n",
       " ('0192800329', 9.093987221208138),\n",
       " ('0836221311', 9.093539285133236),\n",
       " ('1591821533', 9.093474116815115),\n",
       " ('038079487X', 9.09333991987634),\n",
       " ('0440216885', 9.092263390254207),\n",
       " ('0452279178', 9.090753737047049),\n",
       " ('0451210751', 9.09028816790622),\n",
       " ('067086045X', 9.089505431332594),\n",
       " ('0316107387', 9.088903539155922),\n",
       " ('0786865482', 9.088487448513531),\n",
       " ('072140359X', 9.087613322997173),\n",
       " ('0397300069', 9.087275387057845),\n",
       " ('0930193636', 9.086824419566607),\n",
       " ('0399146296', 9.085953609793725),\n",
       " ('1879431637', 9.085668242064216),\n",
       " ('0394800796', 9.08546221717971),\n",
       " ('051513287X', 9.08512984092264),\n",
       " ('0778320162', 9.081079541353242),\n",
       " ('0399134204', 9.080711173855702),\n",
       " ('0886774802', 9.080198085994954),\n",
       " ('0425150984', 9.079322808354657),\n",
       " ('158023190X', 9.078144685839717),\n",
       " ('0684827107', 9.077851396655724),\n",
       " ('0807010251', 9.077512836813712),\n",
       " ('0345339681', 9.076746678764664),\n",
       " ('0380727501', 9.076218206418542),\n",
       " ('0743471482', 9.075050158999227),\n",
       " ('0312966970', 9.074771921714136),\n",
       " ('0312089996', 9.07473977510752),\n",
       " ('0967063140', 9.074598174993554),\n",
       " ('0515116750', 9.073554349997513),\n",
       " ('0060256575', 9.07259669944883),\n",
       " ('0446364762', 9.072553947887087),\n",
       " ('0449911519', 9.0719235237754),\n",
       " ('0966304659', 9.071526390375638),\n",
       " ('0451529340', 9.071104074062646),\n",
       " ('0440237688', 9.070500220199765),\n",
       " ('0399138994', 9.07007864877739),\n",
       " ('0340859601', 9.068401498639789),\n",
       " ('0517150468', 9.067878022559954),\n",
       " ('0060520515', 9.067412201940302),\n",
       " ('0028615689', 9.067101583805009),\n",
       " ('0373272545', 9.067010350339947),\n",
       " ('0821736396', 9.066210857667118),\n",
       " ('0373510136', 9.06573230954155),\n",
       " ('1558745718', 9.06502016882442),\n",
       " ('0140134514', 9.064605058827652),\n",
       " ('0552991872', 9.064209196812868),\n",
       " ('0877730741', 9.064166942226374),\n",
       " ('0140772863', 9.064138129434355),\n",
       " ('0316666343', 9.063794975536245),\n",
       " ('0446606324', 9.063478263616524),\n",
       " ('0393048470', 9.063190003987744),\n",
       " ('0904766667', 9.063068498868617),\n",
       " ('0373115768', 9.062699172227184),\n",
       " ('0425183440', 9.062424714343765),\n",
       " ('0440181275', 9.061560195854153),\n",
       " ('0451526716', 9.060513422475104),\n",
       " ('0416194303', 9.060282423397183),\n",
       " ('0312983867', 9.059176324732345),\n",
       " ('067181740X', 9.059113703919287),\n",
       " ('1588250016', 9.057873668914661),\n",
       " ('1401300227', 9.054153105578118),\n",
       " ('0689807775', 9.053307973516459),\n",
       " ('0521328101', 9.052104539920498),\n",
       " ('0312983271', 9.051533658896373),\n",
       " ('0671441035', 9.051275030220042),\n",
       " ('0345348656', 9.050636738237968),\n",
       " ('0805007911', 9.050501191156588),\n",
       " ('0312264100', 9.050420058683013),\n",
       " ('0312962452', 9.049454654181336),\n",
       " ('0439139600', 9.049296164349903),\n",
       " ('0345381815', 9.049268552969709),\n",
       " ('0062548662', 9.049099598439984),\n",
       " ('0140176616', 9.04858741628843),\n",
       " ('3453503384', 9.048112236730416),\n",
       " ('0316358428', 9.047806673917899),\n",
       " ('0060391839', 9.047187084300894),\n",
       " ('030680607X', 9.047044667865189),\n",
       " ('1568655282', 9.046428703738096),\n",
       " ('043935806X', 9.04611676216949),\n",
       " ('0855616539', 9.045990359557624),\n",
       " ('0375700943', 9.045495675078453),\n",
       " ('0345441036', 9.044655986795991),\n",
       " ('0553099612', 9.04437000807342),\n",
       " ('1885173113', 9.04259167157646),\n",
       " ('055317245X', 9.042131240193637),\n",
       " ('0812517725', 9.041318544696912),\n",
       " ('0373094345', 9.039364751494844),\n",
       " ('0886773520', 9.039315061047365),\n",
       " ('006108560X', 9.039155447312632),\n",
       " ('0807014176', 9.039038589906719),\n",
       " ('0345424719', 9.038155017062445),\n",
       " ('0385311567', 9.037442700879739),\n",
       " ('1560252723', 9.036972613161964),\n",
       " ('0345273303', 9.036927839616538),\n",
       " ('1581840594', 9.033858033077419),\n",
       " ('059003426X', 9.033141639497686),\n",
       " ('0440501601', 9.033038217134992),\n",
       " ('0866228306', 9.032778309832421),\n",
       " ('0515119482', 9.03260076828658),\n",
       " ('0441005667', 9.031576879376413),\n",
       " ('0395292034', 9.026551514203542),\n",
       " ('1930009054', 9.026079813790318),\n",
       " ('0743471547', 9.02606321839935),\n",
       " ('1585421170', 9.025439440338946),\n",
       " ('0553571656', 9.025096345593514),\n",
       " ('1559210354', 9.025017063495673),\n",
       " ('1572703024', 9.025000725840735),\n",
       " ('0452278902', 9.024911551247582),\n",
       " ('0886877660', 9.024643419506692),\n",
       " ('0861710975', 9.024234422221582),\n",
       " ('0732907985', 9.02409254440353),\n",
       " ('0393008533', 9.023968988317744),\n",
       " ('3716510874', 9.023563942791764),\n",
       " ('0871161885', 9.023497196292064),\n",
       " ('0743219619', 9.022393843918723),\n",
       " ('1568952910', 9.022313344490085),\n",
       " ('0028604202', 9.022310249849257),\n",
       " ('0345279263', 9.021095513749986),\n",
       " ('0743233034', 9.020325965455939),\n",
       " ('0201103540', 9.019948317878974),\n",
       " ('0918949165', 9.019910819665144),\n",
       " ('068484611X', 9.019558517588358),\n",
       " ('0736903054', 9.018496522488602),\n",
       " ('0446363715', 9.018481831974043),\n",
       " ('0385336810', 9.01828136513456),\n",
       " ('014027443X', 9.018080715069463),\n",
       " ('0618002243', 9.018017913290961),\n",
       " ('069401236X', 9.017172116991224),\n",
       " ('0960255214', 9.016664975947899),\n",
       " ('0345348036', 9.016486301878615),\n",
       " ('0399138900', 9.016155165636864),\n",
       " ('0877735999', 9.016002055937472),\n",
       " ('074342798X', 9.015433325591761),\n",
       " ('0345434676', 9.014460799223437),\n",
       " ('0385413017', 9.014363025002886),\n",
       " ('0802130208', 9.013747399127354),\n",
       " ('0446364622', 9.013013248908178),\n",
       " ('0553278274', 9.011874754068845),\n",
       " ('074347712X', 9.011761826489412),\n",
       " ('044077456X', 9.011503992835385),\n",
       " ('8478886680', 9.01146602969677),\n",
       " ('0671526723', 9.011209174472894),\n",
       " ('0380707837', 9.010229574585308),\n",
       " ('0671042939', 9.009643730467495),\n",
       " ('0316168815', 9.009465417232317),\n",
       " ('0816027722', 9.008966062261294),\n",
       " ('0836204387', 9.007122830021904),\n",
       " ('1883831105', 9.007073518723518),\n",
       " ('0375412883', 9.00633059662396),\n",
       " ('044900578X', 9.005967072716723),\n",
       " ('0684868113', 9.005786333982343),\n",
       " ('0307711358', 9.00519075976424),\n",
       " ('1585420492', 9.004537672999003),\n",
       " ('0880389281', 9.004129580858898),\n",
       " ('0060577487', 9.003608649770658),\n",
       " ('0385029306', 9.003407371203332),\n",
       " ('0441010296', 9.003336111775967),\n",
       " ('0553569783', 9.00298891051626),\n",
       " ('0380978415', 9.00274521157634),\n",
       " ('1893896331', 9.002270335368241),\n",
       " ('037319711X', 9.002165706445723),\n",
       " ('0553274295', 9.002149859188671),\n",
       " ('087081365X', 9.001738893570447),\n",
       " ('0671006614', 9.001666410901636),\n",
       " ('1591051894', 9.001316586213324),\n",
       " ('0446612790', 9.0000713514342),\n",
       " ('0811807843', 8.999968011893303),\n",
       " ('0141182342', 8.999364214241647),\n",
       " ('0449904539', 8.99933567019679),\n",
       " ('0451157052', 8.998799075652583),\n",
       " ('0060809256', 8.99836853328174),\n",
       " ('0684193132', 8.998227670832033),\n",
       " ('0060537973', 8.99807958792847),\n",
       " ('081120099X', 8.997697017036684),\n",
       " ('039397779X', 8.997623241951485),\n",
       " ('0440209412', 8.997530698612707),\n",
       " ('0425062368', 8.99720462377848),\n",
       " ('0553452991', 8.995863912536057),\n",
       " ('0517288451', 8.99550890918664),\n",
       " ('0515115088', 8.994506413131957),\n",
       " ('0380973634', 8.994434129955204),\n",
       " ('0446608165', 8.993628457526274),\n",
       " ('0425114511', 8.993174564240629),\n",
       " ('0440440629', 8.993124447405494),\n",
       " ('0590373323', 8.993103879862979),\n",
       " ('0966602161', 8.992283042533128),\n",
       " ('0842384065', 8.991549467561278),\n",
       " ('0752847740', 8.990269082455953),\n",
       " ('0812565959', 8.990015768493889),\n",
       " ('0765306492', 8.989884450842746),\n",
       " ('288124632X', 8.989717743918995),\n",
       " ('0020442009', 8.98896836063815),\n",
       " ('0881012343', 8.987877238438214),\n",
       " ('0312869940', 8.987828583648374),\n",
       " ('0307001040', 8.987635528326384),\n",
       " ('0380820838', 8.987633801172619),\n",
       " ('038548724X', 8.987306489063148),\n",
       " ('0449206874', 8.987074564862283),\n",
       " ('0393955524', 8.98659875458965),\n",
       " ('0451191684', 8.98613179053909),\n",
       " ('0679602860', 8.986123932494342),\n",
       " ('0345444884', 8.985518255789838),\n",
       " ('0515126772', 8.98497592161935),\n",
       " ('1575667266', 8.984208056559217),\n",
       " ('0824819179', 8.983837908468923),\n",
       " ('0385729340', 8.98320745809448),\n",
       " ('0151262276', 8.982953641153943),\n",
       " ('0425193047', 8.982464060241847),\n",
       " ('0440405483', 8.98217323631002),\n",
       " ('0375411070', 8.98174504513891),\n",
       " ('0836280059', 8.981630737016863),\n",
       " ('0451190491', 8.981431633995033),\n",
       " ('1576731235', 8.980765115157748),\n",
       " ('0385473907', 8.980648721452908),\n",
       " ('0671709704', 8.98063489757164),\n",
       " ('0399232478', 8.979886192615036),\n",
       " ('055321201X', 8.979730994636867),\n",
       " ('0812523725', 8.979661485442307),\n",
       " ('0812967879', 8.97873991775392),\n",
       " ('0786118822', 8.978509186060839),\n",
       " ('0763608106', 8.977849260678092),\n",
       " ('0515062146', 8.977840897109377),\n",
       " ('0743202708', 8.977356448340007),\n",
       " ('0140445471', 8.976435067410916),\n",
       " ('037351011X', 8.9751103443506),\n",
       " ('0486280306', 8.974608157043066),\n",
       " ('0720611415', 8.973961174047254),\n",
       " ('0802484298', 8.973627213191945),\n",
       " ('0441011616', 8.97356947528787),\n",
       " ('067972768X', 8.973556008180116),\n",
       " ('0486275507', 8.973257813892955),\n",
       " ('0060192704', 8.97241072040228),\n",
       " ('1400047838', 8.971937985357531),\n",
       " ('0060188731', 8.971684792529201),\n",
       " ('0440928397', 8.97160007305616),\n",
       " ('0310354110', 8.97140791655055),\n",
       " ('0717282228', 8.971404759097855),\n",
       " ('0156004801', 8.971326002345666),\n",
       " ('0380868768', 8.971137944842754),\n",
       " ('0304328510', 8.97015954839084),\n",
       " ('0684853515', 8.969653372484348),\n",
       " ('0373763980', 8.96948953559674),\n",
       " ('0441005438', 8.968980213096698),\n",
       " ('0140513124', 8.968914441811226),\n",
       " ('0451161327', 8.968881441727984),\n",
       " ('0060153180', 8.968863610377559),\n",
       " ('0802806414', 8.967877407340376),\n",
       " ('0761118268', 8.967860633422067),\n",
       " ('0060005688', 8.967670932368485),\n",
       " ('0786000899', 8.966995447604614),\n",
       " ('0425183971', 8.96656897939449),\n",
       " ('0385309139', 8.96646345630506),\n",
       " ('1555603637', 8.966261627945395),\n",
       " ('0875420036', 8.966221078886157),\n",
       " ('0446385905', 8.965651412917309),\n",
       " ('1560443944', 8.964836253035076),\n",
       " ('1582971846', 8.964433795361753),\n",
       " ('1558672095', 8.964319063949354),\n",
       " ('0451201574', 8.964214035089386),\n",
       " ('074342736X', 8.964200402227917),\n",
       " ('0553236245', 8.96401264992639),\n",
       " ('0375752498', 8.963400301374715),\n",
       " ('9715420400', 8.96266528747138),\n",
       " ('0061030155', 8.962190559910109),\n",
       " ('0446609404', 8.962158245498134),\n",
       " ('140004930X', 8.961921093621008),\n",
       " ('0681396083', 8.961752261772466),\n",
       " ('3593367661', 8.961418699433453),\n",
       " ('0399148248', 8.961376081936164),\n",
       " ('0385187866', 8.96135515917312),\n",
       " ('0743454529', 8.960141432886129),\n",
       " ('0802131786', 8.959966113508019),\n",
       " ('1582900337', 8.959864702249426),\n",
       " ('0028621565', 8.95965548519416),\n",
       " ('0805018956', 8.95924981371568),\n",
       " ('0671462970', 8.958631360915739),\n",
       " ('059526882X', 8.958460666928396),\n",
       " ('0553575376', 8.95769078281818),\n",
       " ('1590580486', 8.957321796532495),\n",
       " ('0451456963', 8.9570910954846),\n",
       " ('0140042229', 8.957021472315114),\n",
       " ('0060964049', 8.956964528981468),\n",
       " ('0448089580', 8.955881910846408),\n",
       " ('1563894289', 8.955458874273821),\n",
       " ('1563410974', 8.955234571110509),\n",
       " ('0226848655', 8.955004977821593),\n",
       " ('0140502343', 8.954933605549389),\n",
       " ('030712844X', 8.95456198678793),\n",
       " ('0486263231', 8.954091287585179),\n",
       " ('0743418174', 8.95384165358838),\n",
       " ('0373073372', 8.953760094236067),\n",
       " ('0345294157', 8.953383676672377),\n",
       " ('0060266864', 8.95278143769886),\n",
       " ('0380017601', 8.952764774390479),\n",
       " ('0761129790', 8.952243560304698),\n",
       " ('0842332278', 8.951947589908936),\n",
       " ('006101351X', 8.95137215361745),\n",
       " ('9506440298', 8.950956812347368),\n",
       " ('0912310731', 8.950812893728372),\n",
       " ('1401397506', 8.95065027501239),\n",
       " ('0399138684', 8.950606780639493),\n",
       " ('0689711735', 8.95059828434884),\n",
       " ('0071407944', 8.950330661909645),\n",
       " ('0930289552', 8.950304283651157),\n",
       " ('0671680080', 8.949946407837782),\n",
       " ('0399151745', 8.949737707527287),\n",
       " ('0192834584', 8.949704518222612),\n",
       " ('0440229499', 8.949251525039392),\n",
       " ('0758203187', 8.949235931164495),\n",
       " ('0174434804', 8.949178404278896),\n",
       " ('0316235024', 8.948982283929835),\n",
       " ('0679445765', 8.948768886318922),\n",
       " ('0687407737', 8.948111547103961),\n",
       " ('0312284713', 8.947754603260362),\n",
       " ('0671723456', 8.947214624347776),\n",
       " ('055380314X', 8.946889625179839),\n",
       " ('157322149X', 8.946726906524125),\n",
       " ('038081790X', 8.946449254946259),\n",
       " ('0805005889', 8.94627301891904),\n",
       " ('089272398X', 8.946227806783568),\n",
       " ('0553493272', 8.946191020657773),\n",
       " ('0441873375', 8.946178081227945),\n",
       " ('0061007161', 8.94613429897503),\n",
       " ('1562393723', 8.946116625411113),\n",
       " ('0881010820', 8.946004892574562),\n",
       " ('0375751513', 8.945678413126668),\n",
       " ('3492229786', 8.945606471219723),\n",
       " ('080501246X', 8.945463654454743),\n",
       " ('0373218370', 8.945327135489476),\n",
       " ('0743230043', 8.945233686322553),\n",
       " ('0553205587', 8.944935976663393),\n",
       " ('0451212827', 8.944807792653357),\n",
       " ('0375706771', 8.944209428823946),\n",
       " ('0373165943', 8.944070698352682),\n",
       " ('0395177111', 8.943750967093694),\n",
       " ('0852072481', 8.943620859143849),\n",
       " ('1559704640', 8.943502380320485),\n",
       " ('006093476X', 8.943412843453173),\n",
       " ('0836217691', 8.943381976147654),\n",
       " ('0679454330', 8.943299972074328),\n",
       " ('0060548282', 8.942819435026633),\n",
       " ('0345429133', 8.942358884744054),\n",
       " ('0553565915', 8.942337599619322),\n",
       " ('0684810190', 8.942144626027378),\n",
       " ('0671884298', 8.941490193984855),\n",
       " ('1572153237', 8.941330432407018),\n",
       " ('0425193292', 8.940654287131931),\n",
       " ('0373291396', 8.940056088934565),\n",
       " ('0671653636', 8.938833185015278),\n",
       " ('0763604089', 8.938796266992467),\n",
       " ('0451450957', 8.938366283173723),\n",
       " ('0312985215', 8.938292211423164),\n",
       " ('0064432483', 8.937914140218583),\n",
       " ('0452272351', 8.937733356634933),\n",
       " ('0671697994', 8.937624484689438),\n",
       " ('037319644X', 8.937423744149832),\n",
       " ('3453007867', 8.937399641097574),\n",
       " ('0848817397', 8.937348534019074),\n",
       " ('1892123029', 8.937026339021255),\n",
       " ('1560600543', 8.93681192593351),\n",
       " ('0812574745', 8.93647718936202),\n",
       " ('0553296981', 8.936032922704669),\n",
       " ('0440418194', 8.93584955428175),\n",
       " ('2870970137', 8.935758350492172),\n",
       " ('0816725470', 8.935735443856027),\n",
       " ('0373218400', 8.935555639057958),\n",
       " ('3442150620', 8.935518375184017),\n",
       " ('0318233614', 8.935284780565247),\n",
       " ('0688092349', 8.935214322250054),\n",
       " ('0446357405', 8.935117466146126),\n",
       " ('0565091743', 8.93462476304856),\n",
       " ('0192803735', 8.934535416269094),\n",
       " ('006018700X', 8.93450515544458),\n",
       " ('0821758497', 8.934473797902523),\n",
       " ('0070212570', 8.934359688179104),\n",
       " ('0856487414', 8.934262416288627),\n",
       " ('0345310020', 8.933983986735166),\n",
       " ('0609608568', 8.93395953802696),\n",
       " ('0721641318', 8.93373552662438),\n",
       " ('0590445774', 8.933711520668174),\n",
       " ('0748742867', 8.933675870233213),\n",
       " ('0060987561', 8.933568255135077),\n",
       " ('0312993536', 8.933482233597974),\n",
       " ('0806913835', 8.933207884743945),\n",
       " ('0451163966', 8.932828374120598),\n",
       " ('0345462327', 8.932817750989736),\n",
       " ('0141310995', 8.93264802574299),\n",
       " ('0373763085', 8.932626183589802),\n",
       " ('0886774233', 8.93259791543434),\n",
       " ('0864424655', 8.93253464587599),\n",
       " ('1400031346', 8.932518406116396),\n",
       " ('0684840065', 8.932496271993116),\n",
       " ('0874849098', 8.932337368106595),\n",
       " ('0873529758', 8.932307440397887),\n",
       " ('0803605242', 8.932042236880042),\n",
       " ('0060554800', 8.931987727448563),\n",
       " ('0373120435', 8.931823039520214),\n",
       " ('0395247586', 8.931757524672534),\n",
       " ('0440932599', 8.931686216065856),\n",
       " ('0451524985', 8.931628996881189),\n",
       " ('0836218787', 8.931520722069838),\n",
       " ('080695843X', 8.931275484050538),\n",
       " ('0743412621', 8.931100419654431),\n",
       " ('0345387554', 8.93088345838196),\n",
       " ('0553108581', 8.930804113066428),\n",
       " ('0440174643', 8.930128589030552),\n",
       " ('1550171984', 8.930001021885472),\n",
       " ('0812967097', 8.929945380767816),\n",
       " ('0451450965', 8.929898484301159),\n",
       " ('0930044495', 8.929450383309725),\n",
       " ('1401300596', 8.929262969486732),\n",
       " ('8420616419', 8.929253749295887),\n",
       " ('0679750789', 8.92902193661342),\n",
       " ('0553445006', 8.928483234082169),\n",
       " ('0304342521', 8.928393467927664),\n",
       " ('0385467974', 8.928340262946225),\n",
       " ('0345313151', 8.928260564961953),\n",
       " ('0140430539', 8.928159974630773),\n",
       " ('0373511205', 8.928152177979456),\n",
       " ('0898155843', 8.92813993660785),\n",
       " ('0380807270', 8.928097287564901),\n",
       " ('081180383X', 8.92777442336736),\n",
       " ('051764102X', 8.927614563210307),\n",
       " ('0681410205', 8.927561631528775),\n",
       " ('2869596103', 8.927372925083093),\n",
       " ('0521599326', 8.927142320596882),\n",
       " ('044100315X', 8.926986202184333),\n",
       " ('0886779103', 8.92695079125822),\n",
       " ('0134402073', 8.92684522890903),\n",
       " ('0786000600', 8.925476764689593),\n",
       " ('0596001967', 8.92536157661265),\n",
       " ('0380007487', 8.92496551156145),\n",
       " ('0553102435', 8.924964800056511),\n",
       " ('0813519993', 8.92439693999136),\n",
       " ('0451184963', 8.924211471500069),\n",
       " ('0373760582', 8.923919922881257),\n",
       " ('0553278355', 8.923849461388778),\n",
       " ('0517447711', 8.923726152484004),\n",
       " ('0671431854', 8.923485256536168),\n",
       " ('0771597266', 8.923403201881014),\n",
       " ('0451175123', 8.923195272300784),\n",
       " ('0312275579', 8.922973204511788),\n",
       " ('014024476X', 8.922922329071628),\n",
       " ('0451406869', 8.922784642480897),\n",
       " ('0806962445', 8.922602881080445),\n",
       " ('0140346341', 8.92253903754704),\n",
       " ('0915795434', 8.922518038164345),\n",
       " ('031232149X', 8.92250793517308),\n",
       " ('0020303750', 8.922216441051086),\n",
       " ('0345328124', 8.92208175649404),\n",
       " ('0553284673', 8.922022073506124),\n",
       " ('037575749X', 8.92197149963864),\n",
       " ('0140071083', 8.921915293948125),\n",
       " ('0521625505', 8.921614291985664),\n",
       " ('0373289111', 8.921443079067839),\n",
       " ('0395500818', 8.92122843363006),\n",
       " ('0380709163', 8.920784548278213),\n",
       " ('0961462043', 8.920567117101022),\n",
       " ('0451174186', 8.920428722669495),\n",
       " ('0140043055', 8.920307763327113),\n",
       " ('0028610105', 8.920074540807825),\n",
       " ('0385260350', 8.919738525177925),\n",
       " ('0375700811', 8.919456082969171),\n",
       " ('034542705X', 8.919404468945212),\n",
       " ('0743243153', 8.919089614641267),\n",
       " ('0440977096', 8.91905436819422),\n",
       " ('1569710821', 8.918911096496128),\n",
       " ('0195117980', 8.918640084085407),\n",
       " ('0743452402', 8.918383968098167),\n",
       " ('0806992603', 8.918300750945628),\n",
       " ('0312863934', 8.91822443156042),\n",
       " ('0091793475', 8.918054507538434),\n",
       " ('1559941146', 8.917851981340377),\n",
       " ('0312146310', 8.917713573056758),\n",
       " ('0307020800', 8.917608994197634),\n",
       " ('0446325414', 8.917559856997578),\n",
       " ('0395752841', 8.917554657148628),\n",
       " ('0823410781', 8.917340300432468),\n",
       " ('0345348680', 8.917315186341938),\n",
       " ('0553470485', 8.917291479491997),\n",
       " ('0836220730', 8.91721365340065),\n",
       " ('0380802309', 8.917185621152322),\n",
       " ('0373123051', 8.917127951311496),\n",
       " ('0760700761', 8.917095873537564),\n",
       " ('0312422911', 8.916682385327944),\n",
       " ('0395502209', 8.916515484521497),\n",
       " ('0807083453', 8.916434057623349),\n",
       " ('0380752859', 8.916010171745329),\n",
       " ('0785814256', 8.915816982517521),\n",
       " ('0515094773', 8.91526551199528),\n",
       " ('1570089949', 8.915113867779256),\n",
       " ('0312874421', 8.915053372186158),\n",
       " ('0714121649', 8.914928199344732),\n",
       " ('0756401704', 8.914635853279083),\n",
       " ('0345259122', 8.914204572717747),\n",
       " ('0590034286', 8.914193980386845),\n",
       " ('0385314388', 8.914104003395687),\n",
       " ('0380761319', 8.91408753881409),\n",
       " ('0553103741', 8.913813249043324),\n",
       " ('0892967870', 8.913570524035666),\n",
       " ('0517693119', 8.913439351520374),\n",
       " ('0517578239', 8.912926558691145),\n",
       " ('0671000306', 8.91291270590695),\n",
       " ('0743442628', 8.912736543750567),\n",
       " ('0805005285', 8.912182025259415),\n",
       " ('0701122072', 8.911622381129721),\n",
       " ('0446360015', 8.911493905245708),\n",
       " ('1932080139', 8.911470237843346),\n",
       " ('048623004X', 8.911401837783247),\n",
       " ('1582343187', 8.9113538091674),\n",
       " ('0590099132', 8.911088067585023),\n",
       " ('0743205227', 8.910987313962572),\n",
       " ('0671877445', 8.910754998929923),\n",
       " ('0345303911', 8.910336951464412),\n",
       " ('1895897572', 8.910324561086572),\n",
       " ('0152167110', 8.910197217740501),\n",
       " ('0385502532', 8.910033013058177),\n",
       " ('1580084443', 8.909924358604327),\n",
       " ('0307020460', 8.909717825346428),\n",
       " ('0849916550', 8.90960200753387),\n",
       " ('0451456106', 8.909571409938719),\n",
       " ('0836250885', 8.909534957655652),\n",
       " ('0969332254', 8.90940637698524),\n",
       " ('0671656236', 8.908831457845283),\n",
       " ('0441768377', 8.907400636087367),\n",
       " ('0449125092', 8.906685873678628),\n",
       " ('0881847429', 8.90632688837805),\n",
       " ('0553373978', 8.906279252006327),\n",
       " ('0446673595', 8.905912567569336),\n",
       " ('044921978X', 8.905728348392634),\n",
       " ('0446671347', 8.905708712441246),\n",
       " ('0823010449', 8.905384713476089),\n",
       " ('1594141428', 8.905242530928778),\n",
       " ('8408020854', 8.904926138336329),\n",
       " ('0448417057', 8.903952978339548),\n",
       " ('0804108587', 8.903725714507445),\n",
       " ('0451524667', 8.903682823670907),\n",
       " ('0743526279', 8.903610667563079),\n",
       " ('0671611461', 8.903488539415056),\n",
       " ('1557250537', 8.903244807250667),\n",
       " ('0590435728', 8.903242384593185),\n",
       " ('8433969978', 8.903140316548562),\n",
       " ('0452268664', 8.903085970372361),\n",
       " ('0553563629', 8.903068313835591),\n",
       " ('0060953691', 8.90298674887707),\n",
       " ('0671535463', 8.902930836184785),\n",
       " ('0062700367', 8.902799786161353),\n",
       " ('2742723951', 8.902754106528274),\n",
       " ('0880640545', 8.902562881405785),\n",
       " ('0679450432', 8.90252431483605),\n",
       " ('0380703467', 8.902458638487943),\n",
       " ('1594142270', 8.902383941228786),\n",
       " ('039923490X', 8.902348496852794),\n",
       " ('0898799139', 8.902143505711617),\n",
       " ('0717282198', 8.902087955793363),\n",
       " ('1892051052', 8.901628905622863),\n",
       " ('0893756083', 8.901555499421766),\n",
       " ('038572179X', 8.901426118944187),\n",
       " ('0140255621', 8.901255454570835),\n",
       " ('0441810764', 8.90068962925839),\n",
       " ('0671877933', 8.90064941009588),\n",
       " ('037311107X', 8.900220600206191),\n",
       " ('0140316728', 8.900060119141001),\n",
       " ('1555835562', 8.899910630275249),\n",
       " ('0373790252', 8.89988046099837),\n",
       " ('1552782492', 8.899795937240482),\n",
       " ('222613459X', 8.899524371890694),\n",
       " ('2266067249', 8.899494892796294),\n",
       " ('0449909573', 8.899368701830744),\n",
       " ('0525351612', 8.89930443979681),\n",
       " ('0064442586', 8.898606044461701),\n",
       " ('0884042847', 8.898578227332218),\n",
       " ('1569317860', 8.898433010333296),\n",
       " ('3473520675', 8.898258337768043),\n",
       " ('1564581764', 8.898007206409124),\n",
       " ('1582432228', 8.897984420049227),\n",
       " ('0836278488', 8.897922834387275),\n",
       " ('1555429084', 8.897718913988315),\n",
       " ('0061020680', 8.897346793675146),\n",
       " ('0679435921', 8.897325397619296),\n",
       " ('2870970080', 8.8973182116677),\n",
       " ('051758123X', 8.89725416518703),\n",
       " ('1570251991', 8.89713099856985),\n",
       " ('0140235795', 8.896942241940993),\n",
       " ('0425163423', 8.896788020061498),\n",
       " ('0060519711', 8.89664304861501),\n",
       " ('0843129182', 8.896610869474664),\n",
       " ('0785341021', 8.896442395628506),\n",
       " ('1570624682', 8.896289784851152),\n",
       " ('0133830357', 8.896215184212023),\n",
       " ('0671867083', 8.896201475394749),\n",
       " ('0349107688', 8.895915926787412),\n",
       " ('0786832908', 8.89579402558799),\n",
       " ('0151002517', 8.89579160785204),\n",
       " ('0932445063', 8.89550274106567),\n",
       " ('0440235162', 8.895190677828765),\n",
       " ('0867130466', 8.89511951027999),\n",
       " ('0821729551', 8.894954450273467),\n",
       " ('0806988193', 8.894825841658514),\n",
       " ('0156189216', 8.894796289168985),\n",
       " ('0505525151', 8.894527142975939),\n",
       " ('0373153260', 8.894283268792833),\n",
       " ('084394952X', 8.894259413920123),\n",
       " ('0385093306', 8.893990363639075),\n",
       " ('0393303217', 8.893823729153269),\n",
       " ('0373079745', 8.893472326271166),\n",
       " ('0812580354', 8.893397785260042),\n",
       " ('0436270846', 8.893391274779727),\n",
       " ('0553285785', 8.893370436207011),\n",
       " ('0670032379', 8.892970717266001),\n",
       " ('0877799105', 8.892820094771924),\n",
       " ('0840730756', 8.892607222172048),\n",
       " ('0451199871', 8.892550771334488),\n",
       " ('0441805868', 8.892484150779731),\n",
       " ('2844121578', 8.892470642314475),\n",
       " ('006000438X', 8.892096380914907),\n",
       " ('067991384X', 8.892046695777585),\n",
       " ('0575070463', 8.89147595837658),\n",
       " ('1586637533', 8.891408188675902),\n",
       " ('0380002558', 8.89103956241006),\n",
       " ('0812571762', 8.890269112128516),\n",
       " ('0898657512', 8.88981542275033),\n",
       " ('0806942347', 8.889643228646287),\n",
       " ('0307231046', 8.889512263522235),\n",
       " ('0756400740', 8.889464040754628),\n",
       " ('055321313X', 8.889323413279445),\n",
       " ('074341134X', 8.88929456667594),\n",
       " ('0671511440', 8.888933667912877),\n",
       " ('0684826127', 8.888899524710066),\n",
       " ('0452261368', 8.888883745448743),\n",
       " ('0698115899', 8.888629538884109),\n",
       " ('0345461622', 8.888518922938657),\n",
       " ('0743410068', 8.888421024549878),\n",
       " ('0380001403', 8.888323374052671),\n",
       " ('1885171323', 8.888247226815459),\n",
       " ('0671038184', 8.888065373246961),\n",
       " ('0307681076', 8.887869291670615),\n",
       " ('0312990456', 8.887738152024575),\n",
       " ('0870292242', 8.887656960724412),\n",
       " ('2070360024', 8.88751515707688),\n",
       " ('0316103098', 8.887420332457943),\n",
       " ('3596215080', 8.887114649791036),\n",
       " ('0802117074', 8.886412077354528),\n",
       " ('0397306938', 8.8863866419199),\n",
       " ('0066238501', 8.88633335936191),\n",
       " ('0449200248', 8.886240482145393),\n",
       " ('0883962802', 8.886174344702257),\n",
       " ('0704346516', 8.886077342722066),\n",
       " ('157566402X', 8.885999679436745),\n",
       " ('0553278592', 8.88597371938904),\n",
       " ('0060264454', 8.885497514828558),\n",
       " ('0448421763', 8.885475135146642),\n",
       " ('0140441417', 8.885131309912957),\n",
       " ('0553208845', 8.885002337623858),\n",
       " ('0451458222', 8.885000988942636),\n",
       " ('0804102902', 8.884932467762834),\n",
       " ('0195002121', 8.884575609401889),\n",
       " ('0070219079', 8.884431294158441),\n",
       " ('0750503661', 8.884200058919228),\n",
       " ('0330411896', 8.884020765816118),\n",
       " ('0931432820', 8.883834845978004),\n",
       " ('1551668394', 8.883770120427588),\n",
       " ('0753107449', 8.88372928516278),\n",
       " ('0440208297', 8.883618716190814),\n",
       " ('0440043182', 8.883566720395287),\n",
       " ('0352331194', 8.883554422806242),\n",
       " ('0451191145', 8.883438594868148),\n",
       " ('1555035310', 8.883279222480835),\n",
       " ('0440235502', 8.883269524899198),\n",
       " ('0385505833', 8.883242103554725),\n",
       " ('078670621X', 8.883090881074272),\n",
       " ('0929605179', 8.883023280369857),\n",
       " ('0140291997', 8.882823695048899),\n",
       " ('0451147367', 8.882180238770845),\n",
       " ('0399147888', 8.882040592955462),\n",
       " ('0671797344', 8.881950159637608),\n",
       " ('0786904720', 8.881795498326841),\n",
       " ('0679879269', 8.881331595802509),\n",
       " ('0679452753', 8.881058611243713),\n",
       " ('0064431037', 8.881009734106065),\n",
       " ('0743476123', 8.880243855802945),\n",
       " ('0800715675', 8.880218836166677),\n",
       " ('0060086246', 8.880183163754847),\n",
       " ('2707306959', 8.88011168891584),\n",
       " ('0449142736', 8.879818787121103),\n",
       " ('0440416612', 8.87958548826985),\n",
       " ('0590459139', 8.87949160682539),\n",
       " ('0679726489', 8.879008782193972),\n",
       " ('0441251269', 8.878977091039912),\n",
       " ('0679777458', 8.878922135534062),\n",
       " ('0060175907', 8.878746237624645),\n",
       " ('0809423022', 8.878584355279033),\n",
       " ('0060931388', 8.878390550266582),\n",
       " ('0373029829', 8.877909081585383),\n",
       " ('1892041243', 8.877849435876696),\n",
       " ('074347046X', 8.877748596659712),\n",
       " ('0717282090', 8.877354147505198),\n",
       " ('0345444388', 8.877198566064912),\n",
       " ('0385483457', 8.877028084617091),\n",
       " ('1567184960', 8.876716188434822),\n",
       " ('0394823370', 8.876384479500606),\n",
       " ('0740738054', 8.87595172668425),\n",
       " ('034541246X', 8.875770670388823),\n",
       " ('0140431314', 8.875550872477262),\n",
       " ('1894498178', 8.875509804646049),\n",
       " ('0140025693', 8.875508461081427),\n",
       " ('0613138805', 8.875503555779098),\n",
       " ('1857231791', 8.875164329882843),\n",
       " ('0879101350', 8.874982502472276),\n",
       " ('0671878654', 8.874655236665477),\n",
       " ('0849905273', 8.874595943975013),\n",
       " ('0385419287', 8.874552240385055),\n",
       " ('0028615883', 8.874524508824441),\n",
       " ('0696003449', 8.874516459267245),\n",
       " ('0064401111', 8.874477671035127),\n",
       " ('0892839007', 8.874071561943051),\n",
       " ('0590445065', 8.874026784675905),\n",
       " ('0821730487', 8.873904984067346),\n",
       " ('0571141676', 8.8737928494087),\n",
       " ('0689120893', 8.873785396370863),\n",
       " ('0670850535', 8.873555190925094),\n",
       " ('1878610104', 8.872997039670095),\n",
       " ('0671871005', 8.872803835623746),\n",
       " ('0195051912', 8.872484826857718),\n",
       " ('0553573985', 8.872378835005799),\n",
       " ('015216281X', 8.872307593762745),\n",
       " ('0786904364', 8.872298114593384),\n",
       " ('0895656787', 8.87169423371998),\n",
       " ('1562475177', 8.871677742262152),\n",
       " ('0866229698', 8.871523400869872),\n",
       " ('0521437326', 8.871512730128696),\n",
       " ('0373250657', 8.871492607103585),\n",
       " ('0590482319', 8.871349464845823),\n",
       " ('1931514550', 8.87130889510306),\n",
       " ('0440219078', 8.871049784710722),\n",
       " ('156686903X', 8.87077169996706),\n",
       " ('0824982657', 8.870417989226727),\n",
       " ('0679752706', 8.870379345320725),\n",
       " ('067173251X', 8.87030135094984),\n",
       " ('0440224853', 8.870206899620618),\n",
       " ('0399129499', 8.87008038995285),\n",
       " ('0701113332', 8.870075348332774),\n",
       " ('0590254766', 8.86993543284061),\n",
       " ('905333842X', 8.869810869583363),\n",
       " ('0671876457', 8.869415234683869),\n",
       " ('0451450302', 8.869354011396968),\n",
       " ('0345386574', 8.869345268187912),\n",
       " ('0553251643', 8.869230353067943),\n",
       " ('0373650183', 8.869068075345925),\n",
       " ('091498442X', 8.86905065071249),\n",
       " ('0671657518', 8.869013310512337),\n",
       " ('0345389247', 8.868949988887948),\n",
       " ('0385260458', 8.868315938065408),\n",
       " ('0679723439', 8.868198223825166),\n",
       " ('1561387487', 8.867605077742047),\n",
       " ('0156001314', 8.867579147661854),\n",
       " ('0803705697', 8.867425147297421),\n",
       " ('0061097861', 8.867397893904718),\n",
       " ('0931188458', 8.867280899297741),\n",
       " ('0684852802', 8.86703849061304),\n",
       " ('0590376195', 8.866834506539096),\n",
       " ('0963960741', 8.86679345209062),\n",
       " ('0446672289', 8.866789285863083),\n",
       " ('0752272187', 8.866719077776189),\n",
       " ('0764226312', 8.86643536606593),\n",
       " ('0345403959', 8.866269542450224),\n",
       " ('0316812471', 8.865922982479391),\n",
       " ('038070871X', 8.865678492641452),\n",
       " ('0786831383', 8.865659132786533),\n",
       " ('0943233437', 8.865634497953524),\n",
       " ('0892967773', 8.865628639693647),\n",
       " ('0515101052', 8.865532376827224),\n",
       " ('0156659751', 8.865439953667083),\n",
       " ('1565301536', 8.86537594887763),\n",
       " ('0743204859', 8.865251474490417),\n",
       " ('0895773570', 8.865101167313505),\n",
       " ('051718821X', 8.865098701636848),\n",
       " ('0743437810', 8.865081986573209),\n",
       " ('076790690X', 8.865073401352474),\n",
       " ('0416101801', 8.865071668326316),\n",
       " ('1559390077', 8.864874800551418),\n",
       " ('0440220653', 8.864842007596046),\n",
       " ('0345313216', 8.86440967666004),\n",
       " ('0380006782', 8.864348574749785),\n",
       " ('0373262485', 8.864231028268943),\n",
       " ('0671577972', 8.864116173151812),\n",
       " ('0571089860', 8.863903000930424),\n",
       " ('0375406328', 8.863326399938064),\n",
       " ('0060915749', 8.86321070391542),\n",
       " ('0688079474', 8.86316093138361),\n",
       " ('0671041649', 8.86309747484976),\n",
       " ('0873585429', 8.863067775178125),\n",
       " ('0375422307', 8.862943118765603),\n",
       " ('0816741352', 8.862781574618879),\n",
       " ('0060984333', 8.86277802030263),\n",
       " ('042509345X', 8.862764264604417),\n",
       " ('0819311073', 8.862742832414245),\n",
       " ('B0000VZEJQ', 8.862657906523143),\n",
       " ('0515117420', 8.862522398122973),\n",
       " ('1873176422', 8.862395471133294),\n",
       " ('0307129845', 8.862334663546223),\n",
       " ('0140188592', 8.862184463630534),\n",
       " ('1564145549', 8.862060786075808),\n",
       " ('0810925974', 8.8620228658467),\n",
       " ('0317277464', 8.861921514275311),\n",
       " ('0460870599', 8.861881767386041),\n",
       " ('0836228804', 8.86176177483943),\n",
       " ('0743493508', 8.861696128529601),\n",
       " ('1560768452', 8.861688930698087),\n",
       " ('0385288581', 8.861625221505385),\n",
       " ('1592799906', 8.86143725125149),\n",
       " ('0451458265', 8.861344114429432),\n",
       " ('0786869410', 8.861096464525703),\n",
       " ('1575668297', 8.861006967929493),\n",
       " ('0886773555', 8.860942982026275),\n",
       " ('044022103X', 8.860817481204641),\n",
       " ('0679729461', 8.860728176633238),\n",
       " ('0060971827', 8.860712203676439),\n",
       " ('0821772112', 8.860580789928912),\n",
       " ('0912075023', 8.86013197386625),\n",
       " ('084991437X', 8.859975447910445),\n",
       " ('0632052384', 8.859795482597029),\n",
       " ('0553091867', 8.859767732990328),\n",
       " ('0521403979', 8.859740637158815),\n",
       " ('0345440072', 8.859655251111022),\n",
       " ('0743411323', 8.859621443280359),\n",
       " ('0671725130', 8.859357543214342),\n",
       " ('0679736344', 8.859142230337097),\n",
       " ('0451451937', 8.859117512050455),\n",
       " ('3442723078', 8.859059788015337),\n",
       " ('0373711905', 8.859004915492052),\n",
       " ('0449238601', 8.8589285033016),\n",
       " ('9500700875', 8.85881249432631),\n",
       " ('0553584510', 8.858769509110651),\n",
       " ('043942089X', 8.858659132374036),\n",
       " ('0679457976', 8.858503017456881),\n",
       " ('0670451932', 8.858372280798479),\n",
       " ('0836213319', 8.858250341407082),\n",
       " ('0771045913', 8.857940834917693),\n",
       " ('1555834965', 8.857754725095386),\n",
       " ('0385276605', 8.857487768994352),\n",
       " ...]"
      ]
     },
     "execution_count": 65,
     "metadata": {},
     "output_type": "execute_result"
    }
   ],
   "source": [
    "user_ratings"
   ]
  },
  {
   "cell_type": "markdown",
   "metadata": {},
   "source": [
    "### Create a dataframe with name `user_data` containing userID `2110` explicitly interacted books"
   ]
  },
  {
   "cell_type": "code",
   "execution_count": 66,
   "metadata": {},
   "outputs": [],
   "source": [
    "user_data = ratings_real[ratings_real['userID']==2110]"
   ]
  },
  {
   "cell_type": "code",
   "execution_count": 67,
   "metadata": {},
   "outputs": [
    {
     "data": {
      "text/html": [
       "<div>\n",
       "<style scoped>\n",
       "    .dataframe tbody tr th:only-of-type {\n",
       "        vertical-align: middle;\n",
       "    }\n",
       "\n",
       "    .dataframe tbody tr th {\n",
       "        vertical-align: top;\n",
       "    }\n",
       "\n",
       "    .dataframe thead th {\n",
       "        text-align: right;\n",
       "    }\n",
       "</style>\n",
       "<table border=\"1\" class=\"dataframe\">\n",
       "  <thead>\n",
       "    <tr style=\"text-align: right;\">\n",
       "      <th></th>\n",
       "      <th>userID</th>\n",
       "      <th>ISBN</th>\n",
       "      <th>bookRating</th>\n",
       "    </tr>\n",
       "  </thead>\n",
       "  <tbody>\n",
       "    <tr>\n",
       "      <th>14448</th>\n",
       "      <td>2110</td>\n",
       "      <td>0060987529</td>\n",
       "      <td>7</td>\n",
       "    </tr>\n",
       "    <tr>\n",
       "      <th>14449</th>\n",
       "      <td>2110</td>\n",
       "      <td>0064472779</td>\n",
       "      <td>8</td>\n",
       "    </tr>\n",
       "    <tr>\n",
       "      <th>14450</th>\n",
       "      <td>2110</td>\n",
       "      <td>0140022651</td>\n",
       "      <td>10</td>\n",
       "    </tr>\n",
       "    <tr>\n",
       "      <th>14452</th>\n",
       "      <td>2110</td>\n",
       "      <td>0142302163</td>\n",
       "      <td>8</td>\n",
       "    </tr>\n",
       "    <tr>\n",
       "      <th>14453</th>\n",
       "      <td>2110</td>\n",
       "      <td>0151008116</td>\n",
       "      <td>5</td>\n",
       "    </tr>\n",
       "  </tbody>\n",
       "</table>\n",
       "</div>"
      ],
      "text/plain": [
       "       userID        ISBN  bookRating\n",
       "14448    2110  0060987529           7\n",
       "14449    2110  0064472779           8\n",
       "14450    2110  0140022651          10\n",
       "14452    2110  0142302163           8\n",
       "14453    2110  0151008116           5"
      ]
     },
     "execution_count": 67,
     "metadata": {},
     "output_type": "execute_result"
    }
   ],
   "source": [
    "user_data.head()"
   ]
  },
  {
   "cell_type": "code",
   "execution_count": 68,
   "metadata": {
    "scrolled": true
   },
   "outputs": [
    {
     "data": {
      "text/plain": [
       "(103, 3)"
      ]
     },
     "execution_count": 68,
     "metadata": {},
     "output_type": "execute_result"
    }
   ],
   "source": [
    "user_data.shape"
   ]
  },
  {
   "cell_type": "markdown",
   "metadata": {},
   "source": [
    "### Combine the user_data and and corresponding book data(`book_data`) in a single dataframe with name `user_full_info`"
   ]
  },
  {
   "cell_type": "code",
   "execution_count": 69,
   "metadata": {},
   "outputs": [],
   "source": [
    "book_data = books[books['ISBN'].isin(user_data['ISBN'])]"
   ]
  },
  {
   "cell_type": "code",
   "execution_count": 70,
   "metadata": {},
   "outputs": [
    {
     "data": {
      "text/plain": [
       "(103, 5)"
      ]
     },
     "execution_count": 70,
     "metadata": {},
     "output_type": "execute_result"
    }
   ],
   "source": [
    "book_data.shape"
   ]
  },
  {
   "cell_type": "code",
   "execution_count": 71,
   "metadata": {
    "scrolled": true
   },
   "outputs": [
    {
     "data": {
      "text/html": [
       "<div>\n",
       "<style scoped>\n",
       "    .dataframe tbody tr th:only-of-type {\n",
       "        vertical-align: middle;\n",
       "    }\n",
       "\n",
       "    .dataframe tbody tr th {\n",
       "        vertical-align: top;\n",
       "    }\n",
       "\n",
       "    .dataframe thead th {\n",
       "        text-align: right;\n",
       "    }\n",
       "</style>\n",
       "<table border=\"1\" class=\"dataframe\">\n",
       "  <thead>\n",
       "    <tr style=\"text-align: right;\">\n",
       "      <th></th>\n",
       "      <th>ISBN</th>\n",
       "      <th>bookTitle</th>\n",
       "      <th>bookAuthor</th>\n",
       "      <th>yearOfPublication</th>\n",
       "      <th>publisher</th>\n",
       "    </tr>\n",
       "  </thead>\n",
       "  <tbody>\n",
       "    <tr>\n",
       "      <th>246</th>\n",
       "      <td>0151008116</td>\n",
       "      <td>Life of Pi</td>\n",
       "      <td>Yann Martel</td>\n",
       "      <td>2002</td>\n",
       "      <td>Harcourt</td>\n",
       "    </tr>\n",
       "    <tr>\n",
       "      <th>904</th>\n",
       "      <td>015216250X</td>\n",
       "      <td>So You Want to Be a Wizard: The First Book in ...</td>\n",
       "      <td>Diane Duane</td>\n",
       "      <td>2001</td>\n",
       "      <td>Magic Carpet Books</td>\n",
       "    </tr>\n",
       "    <tr>\n",
       "      <th>1000</th>\n",
       "      <td>0064472779</td>\n",
       "      <td>All-American Girl</td>\n",
       "      <td>Meg Cabot</td>\n",
       "      <td>2003</td>\n",
       "      <td>HarperTrophy</td>\n",
       "    </tr>\n",
       "    <tr>\n",
       "      <th>1302</th>\n",
       "      <td>0345307674</td>\n",
       "      <td>Return of the Jedi (Star Wars)</td>\n",
       "      <td>James Kahn</td>\n",
       "      <td>1983</td>\n",
       "      <td>Del Rey Books</td>\n",
       "    </tr>\n",
       "    <tr>\n",
       "      <th>1472</th>\n",
       "      <td>0671527215</td>\n",
       "      <td>Hitchhikers's Guide to the Galaxy</td>\n",
       "      <td>Douglas Adams</td>\n",
       "      <td>1984</td>\n",
       "      <td>Pocket</td>\n",
       "    </tr>\n",
       "  </tbody>\n",
       "</table>\n",
       "</div>"
      ],
      "text/plain": [
       "            ISBN                                          bookTitle  \\\n",
       "246   0151008116                                         Life of Pi   \n",
       "904   015216250X  So You Want to Be a Wizard: The First Book in ...   \n",
       "1000  0064472779                                  All-American Girl   \n",
       "1302  0345307674                     Return of the Jedi (Star Wars)   \n",
       "1472  0671527215                  Hitchhikers's Guide to the Galaxy   \n",
       "\n",
       "         bookAuthor  yearOfPublication           publisher  \n",
       "246     Yann Martel               2002            Harcourt  \n",
       "904     Diane Duane               2001  Magic Carpet Books  \n",
       "1000      Meg Cabot               2003        HarperTrophy  \n",
       "1302     James Kahn               1983       Del Rey Books  \n",
       "1472  Douglas Adams               1984              Pocket  "
      ]
     },
     "execution_count": 71,
     "metadata": {},
     "output_type": "execute_result"
    }
   ],
   "source": [
    "book_data.head()"
   ]
  },
  {
   "cell_type": "code",
   "execution_count": 72,
   "metadata": {},
   "outputs": [],
   "source": [
    "user_full_info = pd.merge(user_data, book_data, on='ISBN')"
   ]
  },
  {
   "cell_type": "code",
   "execution_count": 73,
   "metadata": {
    "scrolled": true
   },
   "outputs": [
    {
     "data": {
      "text/html": [
       "<div>\n",
       "<style scoped>\n",
       "    .dataframe tbody tr th:only-of-type {\n",
       "        vertical-align: middle;\n",
       "    }\n",
       "\n",
       "    .dataframe tbody tr th {\n",
       "        vertical-align: top;\n",
       "    }\n",
       "\n",
       "    .dataframe thead th {\n",
       "        text-align: right;\n",
       "    }\n",
       "</style>\n",
       "<table border=\"1\" class=\"dataframe\">\n",
       "  <thead>\n",
       "    <tr style=\"text-align: right;\">\n",
       "      <th></th>\n",
       "      <th>userID</th>\n",
       "      <th>ISBN</th>\n",
       "      <th>bookRating</th>\n",
       "      <th>bookTitle</th>\n",
       "      <th>bookAuthor</th>\n",
       "      <th>yearOfPublication</th>\n",
       "      <th>publisher</th>\n",
       "    </tr>\n",
       "  </thead>\n",
       "  <tbody>\n",
       "    <tr>\n",
       "      <th>0</th>\n",
       "      <td>2110</td>\n",
       "      <td>0060987529</td>\n",
       "      <td>7</td>\n",
       "      <td>Confessions of an Ugly Stepsister : A Novel</td>\n",
       "      <td>Gregory Maguire</td>\n",
       "      <td>2000</td>\n",
       "      <td>Regan Books</td>\n",
       "    </tr>\n",
       "    <tr>\n",
       "      <th>1</th>\n",
       "      <td>2110</td>\n",
       "      <td>0064472779</td>\n",
       "      <td>8</td>\n",
       "      <td>All-American Girl</td>\n",
       "      <td>Meg Cabot</td>\n",
       "      <td>2003</td>\n",
       "      <td>HarperTrophy</td>\n",
       "    </tr>\n",
       "    <tr>\n",
       "      <th>2</th>\n",
       "      <td>2110</td>\n",
       "      <td>0140022651</td>\n",
       "      <td>10</td>\n",
       "      <td>Journey to the Center of the Earth</td>\n",
       "      <td>Jules Verne</td>\n",
       "      <td>1965</td>\n",
       "      <td>Penguin Books</td>\n",
       "    </tr>\n",
       "    <tr>\n",
       "      <th>3</th>\n",
       "      <td>2110</td>\n",
       "      <td>0142302163</td>\n",
       "      <td>8</td>\n",
       "      <td>The Ghost Sitter</td>\n",
       "      <td>Peni R. Griffin</td>\n",
       "      <td>2002</td>\n",
       "      <td>Puffin Books</td>\n",
       "    </tr>\n",
       "    <tr>\n",
       "      <th>4</th>\n",
       "      <td>2110</td>\n",
       "      <td>0151008116</td>\n",
       "      <td>5</td>\n",
       "      <td>Life of Pi</td>\n",
       "      <td>Yann Martel</td>\n",
       "      <td>2002</td>\n",
       "      <td>Harcourt</td>\n",
       "    </tr>\n",
       "  </tbody>\n",
       "</table>\n",
       "</div>"
      ],
      "text/plain": [
       "   userID        ISBN  bookRating  \\\n",
       "0    2110  0060987529           7   \n",
       "1    2110  0064472779           8   \n",
       "2    2110  0140022651          10   \n",
       "3    2110  0142302163           8   \n",
       "4    2110  0151008116           5   \n",
       "\n",
       "                                     bookTitle       bookAuthor  \\\n",
       "0  Confessions of an Ugly Stepsister : A Novel  Gregory Maguire   \n",
       "1                            All-American Girl        Meg Cabot   \n",
       "2           Journey to the Center of the Earth      Jules Verne   \n",
       "3                             The Ghost Sitter  Peni R. Griffin   \n",
       "4                                   Life of Pi      Yann Martel   \n",
       "\n",
       "   yearOfPublication      publisher  \n",
       "0               2000    Regan Books  \n",
       "1               2003   HarperTrophy  \n",
       "2               1965  Penguin Books  \n",
       "3               2002   Puffin Books  \n",
       "4               2002       Harcourt  "
      ]
     },
     "execution_count": 73,
     "metadata": {},
     "output_type": "execute_result"
    }
   ],
   "source": [
    "user_full_info.head()"
   ]
  },
  {
   "cell_type": "markdown",
   "metadata": {},
   "source": [
    "### Get top 10 recommendations for above given userID from the books not already rated by that user"
   ]
  },
  {
   "cell_type": "code",
   "execution_count": 74,
   "metadata": {},
   "outputs": [],
   "source": [
    "not_rated_books = ratings[(ratings['userID']==2110) & (ratings['bookRating']==0)]['ISBN'].tolist()"
   ]
  },
  {
   "cell_type": "code",
   "execution_count": 75,
   "metadata": {},
   "outputs": [],
   "source": [
    "def get_user_rating_books_list(user_ratings):\n",
    "    books_list = []\n",
    "    for isbn, user_rating in user_ratings:\n",
    "        if(isbn in not_rated_books):\n",
    "            #print(isbn, user_rating)\n",
    "            books_list.append(isbn)\n",
    "    return books_list\n",
    "\n",
    "def get_top_k_books_list(books_list, k):\n",
    "    return books_list[:k]"
   ]
  },
  {
   "cell_type": "code",
   "execution_count": 76,
   "metadata": {},
   "outputs": [
    {
     "name": "stdout",
     "output_type": "stream",
     "text": [
      "Top 10 recommendations for userid : 2110\n",
      "ISBN ID : 0140298479\n",
      "ISBN ID : 0440901588\n",
      "ISBN ID : 0515133973\n",
      "ISBN ID : 0671740881\n",
      "ISBN ID : 0670820555\n",
      "ISBN ID : 0439164567\n",
      "ISBN ID : 0590010891\n",
      "ISBN ID : 0886774829\n",
      "ISBN ID : 0451149513\n",
      "ISBN ID : 0671517643\n"
     ]
    }
   ],
   "source": [
    "user_books_list = get_user_rating_books_list(user_ratings)\n",
    "top_10_recommondations = get_top_k_books_list(user_books_list, 10)\n",
    "print('Top 10 recommendations for userid : '+str(userID))\n",
    "for item in top_10_recommondations:\n",
    "    print('ISBN ID : {}'.format(str(item)))"
   ]
  },
  {
   "cell_type": "code",
   "execution_count": 77,
   "metadata": {},
   "outputs": [
    {
     "data": {
      "text/html": [
       "<div>\n",
       "<style scoped>\n",
       "    .dataframe tbody tr th:only-of-type {\n",
       "        vertical-align: middle;\n",
       "    }\n",
       "\n",
       "    .dataframe tbody tr th {\n",
       "        vertical-align: top;\n",
       "    }\n",
       "\n",
       "    .dataframe thead th {\n",
       "        text-align: right;\n",
       "    }\n",
       "</style>\n",
       "<table border=\"1\" class=\"dataframe\">\n",
       "  <thead>\n",
       "    <tr style=\"text-align: right;\">\n",
       "      <th></th>\n",
       "      <th>ISBN</th>\n",
       "      <th>bookTitle</th>\n",
       "      <th>bookAuthor</th>\n",
       "      <th>yearOfPublication</th>\n",
       "      <th>publisher</th>\n",
       "    </tr>\n",
       "  </thead>\n",
       "  <tbody>\n",
       "    <tr>\n",
       "      <th>2488</th>\n",
       "      <td>0140298479</td>\n",
       "      <td>Bridget Jones: The Edge of Reason</td>\n",
       "      <td>Helen Fielding</td>\n",
       "      <td>2001</td>\n",
       "      <td>Penguin Books</td>\n",
       "    </tr>\n",
       "    <tr>\n",
       "      <th>2659</th>\n",
       "      <td>0671740881</td>\n",
       "      <td>EVIL ONE (PHANTOM VALLEY 1) : EVIL ONE (Phanto...</td>\n",
       "      <td>Lynn Beach</td>\n",
       "      <td>1991</td>\n",
       "      <td>Aladdin</td>\n",
       "    </tr>\n",
       "    <tr>\n",
       "      <th>2685</th>\n",
       "      <td>0439164567</td>\n",
       "      <td>Shipwreck (Island, Book 1)</td>\n",
       "      <td>Gordon Korman</td>\n",
       "      <td>2001</td>\n",
       "      <td>Hyperion Books for Children</td>\n",
       "    </tr>\n",
       "    <tr>\n",
       "      <th>4287</th>\n",
       "      <td>0670820555</td>\n",
       "      <td>Spy Catcher: The Candid Autobiography of a Sen...</td>\n",
       "      <td>Peter Wright</td>\n",
       "      <td>1987</td>\n",
       "      <td>Penguin USA</td>\n",
       "    </tr>\n",
       "    <tr>\n",
       "      <th>6100</th>\n",
       "      <td>0671517643</td>\n",
       "      <td>LITTLE WOMEN</td>\n",
       "      <td>Louisa May Alcott</td>\n",
       "      <td>1994</td>\n",
       "      <td>Pocket</td>\n",
       "    </tr>\n",
       "    <tr>\n",
       "      <th>8468</th>\n",
       "      <td>0440901588</td>\n",
       "      <td>A Swiftly Tilting Planet</td>\n",
       "      <td>Madeleine L'Engle</td>\n",
       "      <td>1979</td>\n",
       "      <td>Laure Leaf</td>\n",
       "    </tr>\n",
       "    <tr>\n",
       "      <th>12151</th>\n",
       "      <td>0515133973</td>\n",
       "      <td>Midnight Bayou</td>\n",
       "      <td>Nora Roberts</td>\n",
       "      <td>2004</td>\n",
       "      <td>Jove Books</td>\n",
       "    </tr>\n",
       "    <tr>\n",
       "      <th>16225</th>\n",
       "      <td>0590010891</td>\n",
       "      <td>Star Wars Episode I: The Phantom Menace</td>\n",
       "      <td>Patricia C. Wrede</td>\n",
       "      <td>1999</td>\n",
       "      <td>Scholastic</td>\n",
       "    </tr>\n",
       "    <tr>\n",
       "      <th>16244</th>\n",
       "      <td>0451149513</td>\n",
       "      <td>It</td>\n",
       "      <td>Stephen King</td>\n",
       "      <td>1987</td>\n",
       "      <td>New Amer Library</td>\n",
       "    </tr>\n",
       "    <tr>\n",
       "      <th>16300</th>\n",
       "      <td>0886774829</td>\n",
       "      <td>Stronghold (Dragon Star, Book 1)</td>\n",
       "      <td>Melanie Rawn</td>\n",
       "      <td>1994</td>\n",
       "      <td>Daw Books</td>\n",
       "    </tr>\n",
       "  </tbody>\n",
       "</table>\n",
       "</div>"
      ],
      "text/plain": [
       "             ISBN                                          bookTitle  \\\n",
       "2488   0140298479                  Bridget Jones: The Edge of Reason   \n",
       "2659   0671740881  EVIL ONE (PHANTOM VALLEY 1) : EVIL ONE (Phanto...   \n",
       "2685   0439164567                         Shipwreck (Island, Book 1)   \n",
       "4287   0670820555  Spy Catcher: The Candid Autobiography of a Sen...   \n",
       "6100   0671517643                                       LITTLE WOMEN   \n",
       "8468   0440901588                           A Swiftly Tilting Planet   \n",
       "12151  0515133973                                     Midnight Bayou   \n",
       "16225  0590010891            Star Wars Episode I: The Phantom Menace   \n",
       "16244  0451149513                                                 It   \n",
       "16300  0886774829                   Stronghold (Dragon Star, Book 1)   \n",
       "\n",
       "              bookAuthor  yearOfPublication                    publisher  \n",
       "2488      Helen Fielding               2001                Penguin Books  \n",
       "2659          Lynn Beach               1991                      Aladdin  \n",
       "2685       Gordon Korman               2001  Hyperion Books for Children  \n",
       "4287        Peter Wright               1987                  Penguin USA  \n",
       "6100   Louisa May Alcott               1994                       Pocket  \n",
       "8468   Madeleine L'Engle               1979                   Laure Leaf  \n",
       "12151       Nora Roberts               2004                   Jove Books  \n",
       "16225  Patricia C. Wrede               1999                   Scholastic  \n",
       "16244       Stephen King               1987             New Amer Library  \n",
       "16300       Melanie Rawn               1994                    Daw Books  "
      ]
     },
     "execution_count": 77,
     "metadata": {},
     "output_type": "execute_result"
    }
   ],
   "source": [
    "books[books['ISBN'].isin(top_10_recommondations)]"
   ]
  }
 ],
 "metadata": {
  "kernelspec": {
   "display_name": "Python 3",
   "language": "python",
   "name": "python3"
  },
  "language_info": {
   "codemirror_mode": {
    "name": "ipython",
    "version": 3
   },
   "file_extension": ".py",
   "mimetype": "text/x-python",
   "name": "python",
   "nbconvert_exporter": "python",
   "pygments_lexer": "ipython3",
   "version": "3.7.3"
  }
 },
 "nbformat": 4,
 "nbformat_minor": 2
}
