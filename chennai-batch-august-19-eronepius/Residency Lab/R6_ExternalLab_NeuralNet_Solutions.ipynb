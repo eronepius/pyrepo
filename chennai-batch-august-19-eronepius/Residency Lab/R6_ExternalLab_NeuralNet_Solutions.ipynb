{
 "cells": [
  {
   "cell_type": "markdown",
   "metadata": {
    "colab_type": "text",
    "id": "YYk8NG3yOIT9"
   },
   "source": [
    "### A MNIST-like fashion product database\n",
    "\n",
    "In this, we classify the images into respective classes given in the dataset. We use a Neural Net and a Deep Neural Net in Keras to solve this and check the accuracy scores."
   ]
  },
  {
   "cell_type": "markdown",
   "metadata": {
    "colab_type": "text",
    "id": "tFO6PuxzOIT_"
   },
   "source": [
    "### Load tensorflow"
   ]
  },
  {
   "cell_type": "code",
   "execution_count": 1,
   "metadata": {
    "colab": {
     "base_uri": "https://localhost:8080/",
     "height": 34
    },
    "colab_type": "code",
    "executionInfo": {
     "elapsed": 1611,
     "status": "ok",
     "timestamp": 1581581482108,
     "user": {
      "displayName": "Anton E Pius",
      "photoUrl": "https://lh3.googleusercontent.com/a-/AAuE7mC2u0v0eXhwg0mCa4iUNAShzhPkke98WRPy6KANJQstHLaiwuBXes5lylqkZIZJXpkdh30WXzHDxgoU4ai-iv0CK_EAaLDU-cSviCe20JFvLHcEhGlYzNRq-CaUEnA1G0Tcy2zkzsd4489NvtStCI5yC7lw_o8yC4WD7jGMMmVaMO6k3vrmOxvBpxbjUehGTE5ECqkEjnzAk2stR5w8Cm6HoAsJWkLwQ8JqsbC5AnAbUwcKBE6Yx9H_mjhT_WSvohzLgCSRnqCCtNR5DYQ06oS4p1ybGTQb82r5-YdbHtSmGiXrXaq6w0XxeY6LUzFa7sveB0-oEyuhxVX0B6D568tPmJBPzleeRI-lDez4z0_xMZaTnbOHHVM5hHnPVam574u3OJhzMVIDiDfi-5XQDplmfFt-mgDEqaN9L3_iveAaSzH45fovPoWANWVK3JuT6J76ctlBMSXsXoMNM1k3Y-ca0kgL3awoEtug4dJCHSwrRYxm_EmNj-peGZYC4YHV2BxT-M3PHmjTAlQNAlZYUSu-5Y7d91zdn7wCUwz3PYoX2jNSVyvL16wny4sYdD0U64b_jF0eIvCEb1O_IqYqozNqKi3sEmWjNeHVNQi7CnEUuFHcpxV03A00j2F238Ot_u7fDfiCmwHJNHLa-lTL2tUfcDgSNVJtlKRKi5LqgN3R6Mi3OFqbCLnS5zBbvP8tCxnbG5iuPgBUbPCm2paJR5JMvESPxExuaKts4TIHUBCulv074VxiD5xxXv7Hr2k=s64",
      "userId": "00469409484524138550"
     },
     "user_tz": -330
    },
    "id": "mendiirABn4F",
    "outputId": "44c9967f-aa61-411b-b83a-f7ea25e1e737"
   },
   "outputs": [
    {
     "name": "stdout",
     "output_type": "stream",
     "text": [
      "TensorFlow 2.x selected.\n"
     ]
    }
   ],
   "source": [
    "%tensorflow_version 2.x"
   ]
  },
  {
   "cell_type": "code",
   "execution_count": 2,
   "metadata": {
    "colab": {
     "base_uri": "https://localhost:8080/",
     "height": 34
    },
    "colab_type": "code",
    "executionInfo": {
     "elapsed": 3427,
     "status": "ok",
     "timestamp": 1581581484013,
     "user": {
      "displayName": "Anton E Pius",
      "photoUrl": "https://lh3.googleusercontent.com/a-/AAuE7mC2u0v0eXhwg0mCa4iUNAShzhPkke98WRPy6KANJQstHLaiwuBXes5lylqkZIZJXpkdh30WXzHDxgoU4ai-iv0CK_EAaLDU-cSviCe20JFvLHcEhGlYzNRq-CaUEnA1G0Tcy2zkzsd4489NvtStCI5yC7lw_o8yC4WD7jGMMmVaMO6k3vrmOxvBpxbjUehGTE5ECqkEjnzAk2stR5w8Cm6HoAsJWkLwQ8JqsbC5AnAbUwcKBE6Yx9H_mjhT_WSvohzLgCSRnqCCtNR5DYQ06oS4p1ybGTQb82r5-YdbHtSmGiXrXaq6w0XxeY6LUzFa7sveB0-oEyuhxVX0B6D568tPmJBPzleeRI-lDez4z0_xMZaTnbOHHVM5hHnPVam574u3OJhzMVIDiDfi-5XQDplmfFt-mgDEqaN9L3_iveAaSzH45fovPoWANWVK3JuT6J76ctlBMSXsXoMNM1k3Y-ca0kgL3awoEtug4dJCHSwrRYxm_EmNj-peGZYC4YHV2BxT-M3PHmjTAlQNAlZYUSu-5Y7d91zdn7wCUwz3PYoX2jNSVyvL16wny4sYdD0U64b_jF0eIvCEb1O_IqYqozNqKi3sEmWjNeHVNQi7CnEUuFHcpxV03A00j2F238Ot_u7fDfiCmwHJNHLa-lTL2tUfcDgSNVJtlKRKi5LqgN3R6Mi3OFqbCLnS5zBbvP8tCxnbG5iuPgBUbPCm2paJR5JMvESPxExuaKts4TIHUBCulv074VxiD5xxXv7Hr2k=s64",
      "userId": "00469409484524138550"
     },
     "user_tz": -330
    },
    "id": "efNjNImfOIUC",
    "outputId": "8c77d145-6362-4597-f004-81aec1962d94"
   },
   "outputs": [
    {
     "name": "stdout",
     "output_type": "stream",
     "text": [
      "2.1.0\n"
     ]
    }
   ],
   "source": [
    "import tensorflow as tf\n",
    "print(tf.__version__)"
   ]
  },
  {
   "cell_type": "code",
   "execution_count": 3,
   "metadata": {
    "colab": {
     "base_uri": "https://localhost:8080/",
     "height": 34
    },
    "colab_type": "code",
    "executionInfo": {
     "elapsed": 3389,
     "status": "ok",
     "timestamp": 1581581484015,
     "user": {
      "displayName": "Anton E Pius",
      "photoUrl": "https://lh3.googleusercontent.com/a-/AAuE7mC2u0v0eXhwg0mCa4iUNAShzhPkke98WRPy6KANJQstHLaiwuBXes5lylqkZIZJXpkdh30WXzHDxgoU4ai-iv0CK_EAaLDU-cSviCe20JFvLHcEhGlYzNRq-CaUEnA1G0Tcy2zkzsd4489NvtStCI5yC7lw_o8yC4WD7jGMMmVaMO6k3vrmOxvBpxbjUehGTE5ECqkEjnzAk2stR5w8Cm6HoAsJWkLwQ8JqsbC5AnAbUwcKBE6Yx9H_mjhT_WSvohzLgCSRnqCCtNR5DYQ06oS4p1ybGTQb82r5-YdbHtSmGiXrXaq6w0XxeY6LUzFa7sveB0-oEyuhxVX0B6D568tPmJBPzleeRI-lDez4z0_xMZaTnbOHHVM5hHnPVam574u3OJhzMVIDiDfi-5XQDplmfFt-mgDEqaN9L3_iveAaSzH45fovPoWANWVK3JuT6J76ctlBMSXsXoMNM1k3Y-ca0kgL3awoEtug4dJCHSwrRYxm_EmNj-peGZYC4YHV2BxT-M3PHmjTAlQNAlZYUSu-5Y7d91zdn7wCUwz3PYoX2jNSVyvL16wny4sYdD0U64b_jF0eIvCEb1O_IqYqozNqKi3sEmWjNeHVNQi7CnEUuFHcpxV03A00j2F238Ot_u7fDfiCmwHJNHLa-lTL2tUfcDgSNVJtlKRKi5LqgN3R6Mi3OFqbCLnS5zBbvP8tCxnbG5iuPgBUbPCm2paJR5JMvESPxExuaKts4TIHUBCulv074VxiD5xxXv7Hr2k=s64",
      "userId": "00469409484524138550"
     },
     "user_tz": -330
    },
    "id": "TXErn4SWF-nk",
    "outputId": "4e36a23c-ca64-49a8-ba4f-fb97d7ad348c"
   },
   "outputs": [
    {
     "name": "stdout",
     "output_type": "stream",
     "text": [
      "3.6.9\n"
     ]
    }
   ],
   "source": [
    "from platform import python_version\n",
    "print(python_version())"
   ]
  },
  {
   "cell_type": "code",
   "execution_count": null,
   "metadata": {
    "colab": {},
    "colab_type": "code",
    "id": "l9C4aAIGOIUH"
   },
   "outputs": [],
   "source": [
    "tf.random.set_seed(45)"
   ]
  },
  {
   "cell_type": "markdown",
   "metadata": {
    "colab_type": "text",
    "id": "HcoZBStrOIUQ"
   },
   "source": [
    "### Collect Data"
   ]
  },
  {
   "cell_type": "code",
   "execution_count": 5,
   "metadata": {
    "colab": {
     "base_uri": "https://localhost:8080/",
     "height": 34
    },
    "colab_type": "code",
    "executionInfo": {
     "elapsed": 3331,
     "status": "ok",
     "timestamp": 1581581484019,
     "user": {
      "displayName": "Anton E Pius",
      "photoUrl": "https://lh3.googleusercontent.com/a-/AAuE7mC2u0v0eXhwg0mCa4iUNAShzhPkke98WRPy6KANJQstHLaiwuBXes5lylqkZIZJXpkdh30WXzHDxgoU4ai-iv0CK_EAaLDU-cSviCe20JFvLHcEhGlYzNRq-CaUEnA1G0Tcy2zkzsd4489NvtStCI5yC7lw_o8yC4WD7jGMMmVaMO6k3vrmOxvBpxbjUehGTE5ECqkEjnzAk2stR5w8Cm6HoAsJWkLwQ8JqsbC5AnAbUwcKBE6Yx9H_mjhT_WSvohzLgCSRnqCCtNR5DYQ06oS4p1ybGTQb82r5-YdbHtSmGiXrXaq6w0XxeY6LUzFa7sveB0-oEyuhxVX0B6D568tPmJBPzleeRI-lDez4z0_xMZaTnbOHHVM5hHnPVam574u3OJhzMVIDiDfi-5XQDplmfFt-mgDEqaN9L3_iveAaSzH45fovPoWANWVK3JuT6J76ctlBMSXsXoMNM1k3Y-ca0kgL3awoEtug4dJCHSwrRYxm_EmNj-peGZYC4YHV2BxT-M3PHmjTAlQNAlZYUSu-5Y7d91zdn7wCUwz3PYoX2jNSVyvL16wny4sYdD0U64b_jF0eIvCEb1O_IqYqozNqKi3sEmWjNeHVNQi7CnEUuFHcpxV03A00j2F238Ot_u7fDfiCmwHJNHLa-lTL2tUfcDgSNVJtlKRKi5LqgN3R6Mi3OFqbCLnS5zBbvP8tCxnbG5iuPgBUbPCm2paJR5JMvESPxExuaKts4TIHUBCulv074VxiD5xxXv7Hr2k=s64",
      "userId": "00469409484524138550"
     },
     "user_tz": -330
    },
    "id": "XA1WsFSeOIUS",
    "outputId": "dc1d1ada-2a3d-44b2-ffaa-6fd0a8111974"
   },
   "outputs": [
    {
     "name": "stderr",
     "output_type": "stream",
     "text": [
      "Using TensorFlow backend.\n"
     ]
    }
   ],
   "source": [
    "import keras"
   ]
  },
  {
   "cell_type": "code",
   "execution_count": null,
   "metadata": {
    "colab": {},
    "colab_type": "code",
    "id": "qnbx7TyQOIUY"
   },
   "outputs": [],
   "source": [
    "(X_train, y_train), (X_test, y_test) = keras.datasets.fashion_mnist.load_data()\n",
    "# X_train, X_test, y_train, y_test"
   ]
  },
  {
   "cell_type": "code",
   "execution_count": 7,
   "metadata": {
    "colab": {
     "base_uri": "https://localhost:8080/",
     "height": 34
    },
    "colab_type": "code",
    "executionInfo": {
     "elapsed": 3784,
     "status": "ok",
     "timestamp": 1581581484551,
     "user": {
      "displayName": "Anton E Pius",
      "photoUrl": "https://lh3.googleusercontent.com/a-/AAuE7mC2u0v0eXhwg0mCa4iUNAShzhPkke98WRPy6KANJQstHLaiwuBXes5lylqkZIZJXpkdh30WXzHDxgoU4ai-iv0CK_EAaLDU-cSviCe20JFvLHcEhGlYzNRq-CaUEnA1G0Tcy2zkzsd4489NvtStCI5yC7lw_o8yC4WD7jGMMmVaMO6k3vrmOxvBpxbjUehGTE5ECqkEjnzAk2stR5w8Cm6HoAsJWkLwQ8JqsbC5AnAbUwcKBE6Yx9H_mjhT_WSvohzLgCSRnqCCtNR5DYQ06oS4p1ybGTQb82r5-YdbHtSmGiXrXaq6w0XxeY6LUzFa7sveB0-oEyuhxVX0B6D568tPmJBPzleeRI-lDez4z0_xMZaTnbOHHVM5hHnPVam574u3OJhzMVIDiDfi-5XQDplmfFt-mgDEqaN9L3_iveAaSzH45fovPoWANWVK3JuT6J76ctlBMSXsXoMNM1k3Y-ca0kgL3awoEtug4dJCHSwrRYxm_EmNj-peGZYC4YHV2BxT-M3PHmjTAlQNAlZYUSu-5Y7d91zdn7wCUwz3PYoX2jNSVyvL16wny4sYdD0U64b_jF0eIvCEb1O_IqYqozNqKi3sEmWjNeHVNQi7CnEUuFHcpxV03A00j2F238Ot_u7fDfiCmwHJNHLa-lTL2tUfcDgSNVJtlKRKi5LqgN3R6Mi3OFqbCLnS5zBbvP8tCxnbG5iuPgBUbPCm2paJR5JMvESPxExuaKts4TIHUBCulv074VxiD5xxXv7Hr2k=s64",
      "userId": "00469409484524138550"
     },
     "user_tz": -330
    },
    "id": "UbiHj5YPOIUc",
    "outputId": "a6ad5375-fdde-430d-d78a-5cb7bd8cffe1"
   },
   "outputs": [
    {
     "name": "stdout",
     "output_type": "stream",
     "text": [
      "[9 2 1 1 6]\n"
     ]
    }
   ],
   "source": [
    "print(y_test[0:5])"
   ]
  },
  {
   "cell_type": "code",
   "execution_count": 8,
   "metadata": {
    "colab": {
     "base_uri": "https://localhost:8080/",
     "height": 34
    },
    "colab_type": "code",
    "executionInfo": {
     "elapsed": 3740,
     "status": "ok",
     "timestamp": 1581581484553,
     "user": {
      "displayName": "Anton E Pius",
      "photoUrl": "https://lh3.googleusercontent.com/a-/AAuE7mC2u0v0eXhwg0mCa4iUNAShzhPkke98WRPy6KANJQstHLaiwuBXes5lylqkZIZJXpkdh30WXzHDxgoU4ai-iv0CK_EAaLDU-cSviCe20JFvLHcEhGlYzNRq-CaUEnA1G0Tcy2zkzsd4489NvtStCI5yC7lw_o8yC4WD7jGMMmVaMO6k3vrmOxvBpxbjUehGTE5ECqkEjnzAk2stR5w8Cm6HoAsJWkLwQ8JqsbC5AnAbUwcKBE6Yx9H_mjhT_WSvohzLgCSRnqCCtNR5DYQ06oS4p1ybGTQb82r5-YdbHtSmGiXrXaq6w0XxeY6LUzFa7sveB0-oEyuhxVX0B6D568tPmJBPzleeRI-lDez4z0_xMZaTnbOHHVM5hHnPVam574u3OJhzMVIDiDfi-5XQDplmfFt-mgDEqaN9L3_iveAaSzH45fovPoWANWVK3JuT6J76ctlBMSXsXoMNM1k3Y-ca0kgL3awoEtug4dJCHSwrRYxm_EmNj-peGZYC4YHV2BxT-M3PHmjTAlQNAlZYUSu-5Y7d91zdn7wCUwz3PYoX2jNSVyvL16wny4sYdD0U64b_jF0eIvCEb1O_IqYqozNqKi3sEmWjNeHVNQi7CnEUuFHcpxV03A00j2F238Ot_u7fDfiCmwHJNHLa-lTL2tUfcDgSNVJtlKRKi5LqgN3R6Mi3OFqbCLnS5zBbvP8tCxnbG5iuPgBUbPCm2paJR5JMvESPxExuaKts4TIHUBCulv074VxiD5xxXv7Hr2k=s64",
      "userId": "00469409484524138550"
     },
     "user_tz": -330
    },
    "id": "wA_eroJGFfzL",
    "outputId": "2ab034b4-7b24-41bf-ac19-3b2c9fb2307c"
   },
   "outputs": [
    {
     "name": "stdout",
     "output_type": "stream",
     "text": [
      "[9 0 0 3 0]\n"
     ]
    }
   ],
   "source": [
    "print(y_train[0:5])"
   ]
  },
  {
   "cell_type": "markdown",
   "metadata": {
    "colab_type": "text",
    "id": "lDAYzkwyOIUj"
   },
   "source": [
    "### Convert both training and testing labels into one-hot vectors.\n",
    "\n",
    "**Hint:** check **tf.keras.utils.to_categorical()**"
   ]
  },
  {
   "cell_type": "code",
   "execution_count": null,
   "metadata": {
    "colab": {},
    "colab_type": "code",
    "id": "vBlfYlANOIUk"
   },
   "outputs": [],
   "source": [
    "y_train = tf.keras.utils.to_categorical(\n",
    "    y_train, num_classes=None,dtype='float32'\n",
    ")"
   ]
  },
  {
   "cell_type": "code",
   "execution_count": null,
   "metadata": {
    "colab": {},
    "colab_type": "code",
    "id": "F1Qkuv3ZD6_n"
   },
   "outputs": [],
   "source": [
    "y_test = tf.keras.utils.to_categorical(\n",
    "    y_test, num_classes=None,dtype='float32'\n",
    ")"
   ]
  },
  {
   "cell_type": "code",
   "execution_count": 11,
   "metadata": {
    "colab": {
     "base_uri": "https://localhost:8080/",
     "height": 119
    },
    "colab_type": "code",
    "executionInfo": {
     "elapsed": 3632,
     "status": "ok",
     "timestamp": 1581581484557,
     "user": {
      "displayName": "Anton E Pius",
      "photoUrl": "https://lh3.googleusercontent.com/a-/AAuE7mC2u0v0eXhwg0mCa4iUNAShzhPkke98WRPy6KANJQstHLaiwuBXes5lylqkZIZJXpkdh30WXzHDxgoU4ai-iv0CK_EAaLDU-cSviCe20JFvLHcEhGlYzNRq-CaUEnA1G0Tcy2zkzsd4489NvtStCI5yC7lw_o8yC4WD7jGMMmVaMO6k3vrmOxvBpxbjUehGTE5ECqkEjnzAk2stR5w8Cm6HoAsJWkLwQ8JqsbC5AnAbUwcKBE6Yx9H_mjhT_WSvohzLgCSRnqCCtNR5DYQ06oS4p1ybGTQb82r5-YdbHtSmGiXrXaq6w0XxeY6LUzFa7sveB0-oEyuhxVX0B6D568tPmJBPzleeRI-lDez4z0_xMZaTnbOHHVM5hHnPVam574u3OJhzMVIDiDfi-5XQDplmfFt-mgDEqaN9L3_iveAaSzH45fovPoWANWVK3JuT6J76ctlBMSXsXoMNM1k3Y-ca0kgL3awoEtug4dJCHSwrRYxm_EmNj-peGZYC4YHV2BxT-M3PHmjTAlQNAlZYUSu-5Y7d91zdn7wCUwz3PYoX2jNSVyvL16wny4sYdD0U64b_jF0eIvCEb1O_IqYqozNqKi3sEmWjNeHVNQi7CnEUuFHcpxV03A00j2F238Ot_u7fDfiCmwHJNHLa-lTL2tUfcDgSNVJtlKRKi5LqgN3R6Mi3OFqbCLnS5zBbvP8tCxnbG5iuPgBUbPCm2paJR5JMvESPxExuaKts4TIHUBCulv074VxiD5xxXv7Hr2k=s64",
      "userId": "00469409484524138550"
     },
     "user_tz": -330
    },
    "id": "_CTSYMmDD_Xs",
    "outputId": "61f48ff8-b3fb-4263-8cc6-50b31343ec44"
   },
   "outputs": [
    {
     "name": "stdout",
     "output_type": "stream",
     "text": [
      "(60000, 10)\n",
      "First 5 examples now are:  [[0. 0. 0. 0. 0. 0. 0. 0. 0. 1.]\n",
      " [1. 0. 0. 0. 0. 0. 0. 0. 0. 0.]\n",
      " [1. 0. 0. 0. 0. 0. 0. 0. 0. 0.]\n",
      " [0. 0. 0. 1. 0. 0. 0. 0. 0. 0.]\n",
      " [1. 0. 0. 0. 0. 0. 0. 0. 0. 0.]]\n"
     ]
    }
   ],
   "source": [
    "print(y_train.shape)\n",
    "print('First 5 examples now are: ', y_train[0:5])"
   ]
  },
  {
   "cell_type": "markdown",
   "metadata": {
    "colab_type": "text",
    "id": "FwhQ8e7VOIUw"
   },
   "source": [
    "### Visualize the data\n",
    "\n",
    "Plot first 10 images in the triaining set and their labels."
   ]
  },
  {
   "cell_type": "code",
   "execution_count": 12,
   "metadata": {
    "colab": {
     "base_uri": "https://localhost:8080/",
     "height": 163
    },
    "colab_type": "code",
    "executionInfo": {
     "elapsed": 5032,
     "status": "ok",
     "timestamp": 1581581485977,
     "user": {
      "displayName": "Anton E Pius",
      "photoUrl": "https://lh3.googleusercontent.com/a-/AAuE7mC2u0v0eXhwg0mCa4iUNAShzhPkke98WRPy6KANJQstHLaiwuBXes5lylqkZIZJXpkdh30WXzHDxgoU4ai-iv0CK_EAaLDU-cSviCe20JFvLHcEhGlYzNRq-CaUEnA1G0Tcy2zkzsd4489NvtStCI5yC7lw_o8yC4WD7jGMMmVaMO6k3vrmOxvBpxbjUehGTE5ECqkEjnzAk2stR5w8Cm6HoAsJWkLwQ8JqsbC5AnAbUwcKBE6Yx9H_mjhT_WSvohzLgCSRnqCCtNR5DYQ06oS4p1ybGTQb82r5-YdbHtSmGiXrXaq6w0XxeY6LUzFa7sveB0-oEyuhxVX0B6D568tPmJBPzleeRI-lDez4z0_xMZaTnbOHHVM5hHnPVam574u3OJhzMVIDiDfi-5XQDplmfFt-mgDEqaN9L3_iveAaSzH45fovPoWANWVK3JuT6J76ctlBMSXsXoMNM1k3Y-ca0kgL3awoEtug4dJCHSwrRYxm_EmNj-peGZYC4YHV2BxT-M3PHmjTAlQNAlZYUSu-5Y7d91zdn7wCUwz3PYoX2jNSVyvL16wny4sYdD0U64b_jF0eIvCEb1O_IqYqozNqKi3sEmWjNeHVNQi7CnEUuFHcpxV03A00j2F238Ot_u7fDfiCmwHJNHLa-lTL2tUfcDgSNVJtlKRKi5LqgN3R6Mi3OFqbCLnS5zBbvP8tCxnbG5iuPgBUbPCm2paJR5JMvESPxExuaKts4TIHUBCulv074VxiD5xxXv7Hr2k=s64",
      "userId": "00469409484524138550"
     },
     "user_tz": -330
    },
    "id": "DbO1x5LwtDfR",
    "outputId": "4a2d5bc8-8ac7-44d8-fc1e-3cdb87859ead"
   },
   "outputs": [
    {
     "data": {
      "image/png": "[encoded data removed]",
      "text/plain": [
       "<Figure size 1800x1800 with 10 Axes>"
      ]
     },
     "metadata": {
      "tags": []
     },
     "output_type": "display_data"
    }
   ],
   "source": [
    "import matplotlib.pyplot as plt\n",
    "import numpy\n",
    "fig = plt.figure(figsize=(25,25))\n",
    "fig.subplots_adjust(hspace=0.6, wspace=0.6)\n",
    "for i in range(1, 11):\n",
    "  ax = fig.add_subplot(1, 10, i)\n",
    "  ax.imshow(X_train[i-1], cmap=plt.get_cmap('gray'))\n",
    "  data = numpy.argmax(y_train[i-1], axis=None, out=None)\n",
    "  plt.xlabel(\"Label {}\".format(data), fontsize=18)"
   ]
  },
  {
   "cell_type": "markdown",
   "metadata": {
    "colab_type": "text",
    "id": "l4TbJGeSOIU4"
   },
   "source": [
    "### Build a neural Network with a cross entropy loss function and sgd optimizer in Keras. The output layer with 10 neurons as we have 10 classes."
   ]
  },
  {
   "cell_type": "code",
   "execution_count": null,
   "metadata": {
    "colab": {},
    "colab_type": "code",
    "id": "Ac06XZZTOIU6"
   },
   "outputs": [],
   "source": [
    "from tensorflow.keras.optimizers import SGD\n",
    "from tensorflow import keras\n",
    "opt = SGD(learning_rate=0.01)"
   ]
  },
  {
   "cell_type": "code",
   "execution_count": null,
   "metadata": {
    "colab": {},
    "colab_type": "code",
    "id": "h9S8Fp9PMFel"
   },
   "outputs": [],
   "source": [
    "from tensorflow.keras import layers\n",
    "model = tf.keras.models.Sequential([\n",
    "  tf.keras.layers.Flatten(input_shape=(28, 28)),\n",
    "  tf.keras.layers.Dense(128, activation='relu'),\n",
    "  tf.keras.layers.Dense(10, activation='softmax')\n",
    "])"
   ]
  },
  {
   "cell_type": "code",
   "execution_count": null,
   "metadata": {
    "colab": {},
    "colab_type": "code",
    "id": "FF5rq8uXMTxx"
   },
   "outputs": [],
   "source": [
    "model.compile(loss='categorical_crossentropy', optimizer=opt, metrics=['accuracy'])"
   ]
  },
  {
   "cell_type": "markdown",
   "metadata": {
    "colab_type": "text",
    "id": "3hQpLv3aOIU_"
   },
   "source": [
    "### Execute the model using model.fit()"
   ]
  },
  {
   "cell_type": "code",
   "execution_count": 16,
   "metadata": {
    "colab": {
     "base_uri": "https://localhost:8080/",
     "height": 731
    },
    "colab_type": "code",
    "executionInfo": {
     "elapsed": 14646,
     "status": "ok",
     "timestamp": 1581582066264,
     "user": {
      "displayName": "Anton E Pius",
      "photoUrl": "https://lh3.googleusercontent.com/a-/AAuE7mC2u0v0eXhwg0mCa4iUNAShzhPkke98WRPy6KANJQstHLaiwuBXes5lylqkZIZJXpkdh30WXzHDxgoU4ai-iv0CK_EAaLDU-cSviCe20JFvLHcEhGlYzNRq-CaUEnA1G0Tcy2zkzsd4489NvtStCI5yC7lw_o8yC4WD7jGMMmVaMO6k3vrmOxvBpxbjUehGTE5ECqkEjnzAk2stR5w8Cm6HoAsJWkLwQ8JqsbC5AnAbUwcKBE6Yx9H_mjhT_WSvohzLgCSRnqCCtNR5DYQ06oS4p1ybGTQb82r5-YdbHtSmGiXrXaq6w0XxeY6LUzFa7sveB0-oEyuhxVX0B6D568tPmJBPzleeRI-lDez4z0_xMZaTnbOHHVM5hHnPVam574u3OJhzMVIDiDfi-5XQDplmfFt-mgDEqaN9L3_iveAaSzH45fovPoWANWVK3JuT6J76ctlBMSXsXoMNM1k3Y-ca0kgL3awoEtug4dJCHSwrRYxm_EmNj-peGZYC4YHV2BxT-M3PHmjTAlQNAlZYUSu-5Y7d91zdn7wCUwz3PYoX2jNSVyvL16wny4sYdD0U64b_jF0eIvCEb1O_IqYqozNqKi3sEmWjNeHVNQi7CnEUuFHcpxV03A00j2F238Ot_u7fDfiCmwHJNHLa-lTL2tUfcDgSNVJtlKRKi5LqgN3R6Mi3OFqbCLnS5zBbvP8tCxnbG5iuPgBUbPCm2paJR5JMvESPxExuaKts4TIHUBCulv074VxiD5xxXv7Hr2k=s64",
      "userId": "00469409484524138550"
     },
     "user_tz": -330
    },
    "id": "O59C_-IgOIVB",
    "outputId": "d30046ca-51d4-4f13-b606-9e660056f0a0"
   },
   "outputs": [
    {
     "name": "stdout",
     "output_type": "stream",
     "text": [
      "Train on 60000 samples\n",
      "Epoch 1/20\n",
      "60000/60000 [==============================] - 4s 66us/sample - loss: 140.1907 - accuracy: 0.1040\n",
      "Epoch 2/20\n",
      "60000/60000 [==============================] - 4s 65us/sample - loss: 2.2778 - accuracy: 0.1111\n",
      "Epoch 3/20\n",
      "60000/60000 [==============================] - 4s 65us/sample - loss: 2.2394 - accuracy: 0.1304\n",
      "Epoch 4/20\n",
      "60000/60000 [==============================] - 4s 64us/sample - loss: 2.2947 - accuracy: 0.1050\n",
      "Epoch 5/20\n",
      "60000/60000 [==============================] - 4s 62us/sample - loss: 2.2661 - accuracy: 0.1150\n",
      "Epoch 6/20\n",
      "60000/60000 [==============================] - 4s 63us/sample - loss: 2.2308 - accuracy: 0.1334\n",
      "Epoch 7/20\n",
      "60000/60000 [==============================] - 4s 64us/sample - loss: 2.2084 - accuracy: 0.1432\n",
      "Epoch 8/20\n",
      "60000/60000 [==============================] - 4s 63us/sample - loss: 2.2037 - accuracy: 0.1439\n",
      "Epoch 9/20\n",
      "60000/60000 [==============================] - 4s 61us/sample - loss: 2.2491 - accuracy: 0.1268\n",
      "Epoch 10/20\n",
      "60000/60000 [==============================] - 4s 65us/sample - loss: 2.2093 - accuracy: 0.1378\n",
      "Epoch 11/20\n",
      "60000/60000 [==============================] - 4s 64us/sample - loss: 2.1926 - accuracy: 0.1454\n",
      "Epoch 12/20\n",
      "60000/60000 [==============================] - 4s 64us/sample - loss: 2.1925 - accuracy: 0.1450\n",
      "Epoch 13/20\n",
      "60000/60000 [==============================] - 4s 66us/sample - loss: 2.1818 - accuracy: 0.1525\n",
      "Epoch 14/20\n",
      "60000/60000 [==============================] - 4s 69us/sample - loss: 2.2185 - accuracy: 0.1393\n",
      "Epoch 15/20\n",
      "60000/60000 [==============================] - 4s 60us/sample - loss: 2.2264 - accuracy: 0.1407\n",
      "Epoch 16/20\n",
      "60000/60000 [==============================] - 4s 61us/sample - loss: 2.2211 - accuracy: 0.1325\n",
      "Epoch 17/20\n",
      "60000/60000 [==============================] - 4s 60us/sample - loss: 2.1934 - accuracy: 0.1467\n",
      "Epoch 18/20\n",
      "60000/60000 [==============================] - 4s 62us/sample - loss: 2.2062 - accuracy: 0.1409\n",
      "Epoch 19/20\n",
      "60000/60000 [==============================] - 4s 63us/sample - loss: 2.1729 - accuracy: 0.1571\n",
      "Epoch 20/20\n",
      "60000/60000 [==============================] - 4s 61us/sample - loss: 2.1745 - accuracy: 0.1532\n"
     ]
    },
    {
     "data": {
      "text/plain": [
       "<tensorflow.python.keras.callbacks.History at 0x7f0bc2749978>"
      ]
     },
     "execution_count": 16,
     "metadata": {
      "tags": []
     },
     "output_type": "execute_result"
    }
   ],
   "source": [
    "model.fit(X_train, y_train, epochs=20)"
   ]
  },
  {
   "cell_type": "markdown",
   "metadata": {
    "colab_type": "text",
    "id": "JdzDtGwDOIVF"
   },
   "source": [
    "### In the above Neural Network model add Batch Normalization layer after the input layer and repeat the steps."
   ]
  },
  {
   "cell_type": "code",
   "execution_count": null,
   "metadata": {
    "colab": {},
    "colab_type": "code",
    "id": "kndfpdidOIVI"
   },
   "outputs": [],
   "source": [
    "model = tf.keras.models.Sequential([\n",
    "  tf.keras.layers.Flatten(input_shape=(28, 28)),\n",
    "  tf.keras.layers.Dense(128, activation='relu'),\n",
    "  tf.keras.layers.BatchNormalization(),\n",
    "  tf.keras.layers.Dense(10, activation='softmax')\n",
    "])"
   ]
  },
  {
   "cell_type": "code",
   "execution_count": null,
   "metadata": {
    "colab": {},
    "colab_type": "code",
    "id": "0Sfo_OXDPScu"
   },
   "outputs": [],
   "source": [
    "model.compile(loss='categorical_crossentropy', optimizer=opt, metrics=['accuracy'])"
   ]
  },
  {
   "cell_type": "markdown",
   "metadata": {
    "colab_type": "text",
    "id": "mwk3T5LJOIVN"
   },
   "source": [
    "### Execute the model"
   ]
  },
  {
   "cell_type": "code",
   "execution_count": 19,
   "metadata": {
    "colab": {
     "base_uri": "https://localhost:8080/",
     "height": 1000
    },
    "colab_type": "code",
    "executionInfo": {
     "elapsed": 1088,
     "status": "ok",
     "timestamp": 1581582066268,
     "user": {
      "displayName": "Anton E Pius",
      "photoUrl": "https://lh3.googleusercontent.com/a-/AAuE7mC2u0v0eXhwg0mCa4iUNAShzhPkke98WRPy6KANJQstHLaiwuBXes5lylqkZIZJXpkdh30WXzHDxgoU4ai-iv0CK_EAaLDU-cSviCe20JFvLHcEhGlYzNRq-CaUEnA1G0Tcy2zkzsd4489NvtStCI5yC7lw_o8yC4WD7jGMMmVaMO6k3vrmOxvBpxbjUehGTE5ECqkEjnzAk2stR5w8Cm6HoAsJWkLwQ8JqsbC5AnAbUwcKBE6Yx9H_mjhT_WSvohzLgCSRnqCCtNR5DYQ06oS4p1ybGTQb82r5-YdbHtSmGiXrXaq6w0XxeY6LUzFa7sveB0-oEyuhxVX0B6D568tPmJBPzleeRI-lDez4z0_xMZaTnbOHHVM5hHnPVam574u3OJhzMVIDiDfi-5XQDplmfFt-mgDEqaN9L3_iveAaSzH45fovPoWANWVK3JuT6J76ctlBMSXsXoMNM1k3Y-ca0kgL3awoEtug4dJCHSwrRYxm_EmNj-peGZYC4YHV2BxT-M3PHmjTAlQNAlZYUSu-5Y7d91zdn7wCUwz3PYoX2jNSVyvL16wny4sYdD0U64b_jF0eIvCEb1O_IqYqozNqKi3sEmWjNeHVNQi7CnEUuFHcpxV03A00j2F238Ot_u7fDfiCmwHJNHLa-lTL2tUfcDgSNVJtlKRKi5LqgN3R6Mi3OFqbCLnS5zBbvP8tCxnbG5iuPgBUbPCm2paJR5JMvESPxExuaKts4TIHUBCulv074VxiD5xxXv7Hr2k=s64",
      "userId": "00469409484524138550"
     },
     "user_tz": -330
    },
    "id": "lrDKewSsPUjV",
    "outputId": "ba4c20d4-3d45-401e-b565-f7d7de591326"
   },
   "outputs": [
    {
     "name": "stdout",
     "output_type": "stream",
     "text": [
      "Train on 60000 samples\n",
      "Epoch 1/75\n",
      "60000/60000 [==============================] - 4s 71us/sample - loss: 0.5677 - accuracy: 0.8035\n",
      "Epoch 2/75\n",
      "60000/60000 [==============================] - 4s 67us/sample - loss: 0.4330 - accuracy: 0.8485\n",
      "Epoch 3/75\n",
      "60000/60000 [==============================] - 4s 68us/sample - loss: 0.4067 - accuracy: 0.8568\n",
      "Epoch 4/75\n",
      "60000/60000 [==============================] - 4s 67us/sample - loss: 0.3895 - accuracy: 0.8632\n",
      "Epoch 5/75\n",
      "60000/60000 [==============================] - 4s 67us/sample - loss: 0.3730 - accuracy: 0.8674\n",
      "Epoch 6/75\n",
      "60000/60000 [==============================] - 4s 68us/sample - loss: 0.3640 - accuracy: 0.8713\n",
      "Epoch 7/75\n",
      "60000/60000 [==============================] - 4s 67us/sample - loss: 0.3492 - accuracy: 0.8752\n",
      "Epoch 8/75\n",
      "60000/60000 [==============================] - 4s 67us/sample - loss: 0.3397 - accuracy: 0.8782\n",
      "Epoch 9/75\n",
      "60000/60000 [==============================] - 4s 67us/sample - loss: 0.3364 - accuracy: 0.8795\n",
      "Epoch 10/75\n",
      "60000/60000 [==============================] - 4s 66us/sample - loss: 0.3316 - accuracy: 0.8796\n",
      "Epoch 11/75\n",
      "60000/60000 [==============================] - 4s 66us/sample - loss: 0.3267 - accuracy: 0.8830\n",
      "Epoch 12/75\n",
      "60000/60000 [==============================] - 4s 65us/sample - loss: 0.3224 - accuracy: 0.8842\n",
      "Epoch 13/75\n",
      "60000/60000 [==============================] - 4s 68us/sample - loss: 0.3115 - accuracy: 0.8883\n",
      "Epoch 14/75\n",
      "60000/60000 [==============================] - 4s 67us/sample - loss: 0.3078 - accuracy: 0.8892\n",
      "Epoch 15/75\n",
      "60000/60000 [==============================] - 4s 67us/sample - loss: 0.2996 - accuracy: 0.8923\n",
      "Epoch 16/75\n",
      "60000/60000 [==============================] - 4s 74us/sample - loss: 0.2943 - accuracy: 0.8945\n",
      "Epoch 17/75\n",
      "60000/60000 [==============================] - 5s 77us/sample - loss: 0.2941 - accuracy: 0.8947\n",
      "Epoch 18/75\n",
      "60000/60000 [==============================] - 4s 74us/sample - loss: 0.2874 - accuracy: 0.8962\n",
      "Epoch 19/75\n",
      "60000/60000 [==============================] - 4s 67us/sample - loss: 0.2844 - accuracy: 0.8977\n",
      "Epoch 20/75\n",
      "60000/60000 [==============================] - 4s 73us/sample - loss: 0.2844 - accuracy: 0.8960\n",
      "Epoch 21/75\n",
      "60000/60000 [==============================] - 4s 70us/sample - loss: 0.2846 - accuracy: 0.8970\n",
      "Epoch 22/75\n",
      "60000/60000 [==============================] - 4s 70us/sample - loss: 0.2839 - accuracy: 0.8974\n",
      "Epoch 23/75\n",
      "60000/60000 [==============================] - 4s 69us/sample - loss: 0.2808 - accuracy: 0.8976\n",
      "Epoch 24/75\n",
      "60000/60000 [==============================] - 4s 68us/sample - loss: 0.2727 - accuracy: 0.9008\n",
      "Epoch 25/75\n",
      "60000/60000 [==============================] - 4s 67us/sample - loss: 0.2724 - accuracy: 0.9018\n",
      "Epoch 26/75\n",
      "60000/60000 [==============================] - 4s 69us/sample - loss: 0.2694 - accuracy: 0.9029\n",
      "Epoch 27/75\n",
      "60000/60000 [==============================] - 4s 68us/sample - loss: 0.2642 - accuracy: 0.9037\n",
      "Epoch 28/75\n",
      "60000/60000 [==============================] - 4s 69us/sample - loss: 0.2621 - accuracy: 0.9056\n",
      "Epoch 29/75\n",
      "60000/60000 [==============================] - 4s 69us/sample - loss: 0.2594 - accuracy: 0.9058\n",
      "Epoch 30/75\n",
      "60000/60000 [==============================] - 4s 70us/sample - loss: 0.2588 - accuracy: 0.9059\n",
      "Epoch 31/75\n",
      "60000/60000 [==============================] - 4s 70us/sample - loss: 0.2557 - accuracy: 0.9066\n",
      "Epoch 32/75\n",
      "60000/60000 [==============================] - 4s 69us/sample - loss: 0.2515 - accuracy: 0.9087\n",
      "Epoch 33/75\n",
      "60000/60000 [==============================] - 4s 69us/sample - loss: 0.2476 - accuracy: 0.9093\n",
      "Epoch 34/75\n",
      "60000/60000 [==============================] - 4s 68us/sample - loss: 0.2463 - accuracy: 0.9107\n",
      "Epoch 35/75\n",
      "60000/60000 [==============================] - 4s 71us/sample - loss: 0.2440 - accuracy: 0.9108\n",
      "Epoch 36/75\n",
      "60000/60000 [==============================] - 4s 71us/sample - loss: 0.2405 - accuracy: 0.9125\n",
      "Epoch 37/75\n",
      "60000/60000 [==============================] - 4s 68us/sample - loss: 0.2411 - accuracy: 0.9140\n",
      "Epoch 38/75\n",
      "60000/60000 [==============================] - 4s 69us/sample - loss: 0.2403 - accuracy: 0.9121\n",
      "Epoch 39/75\n",
      "60000/60000 [==============================] - 4s 67us/sample - loss: 0.2406 - accuracy: 0.9140\n",
      "Epoch 40/75\n",
      "60000/60000 [==============================] - 4s 69us/sample - loss: 0.2438 - accuracy: 0.9124\n",
      "Epoch 41/75\n",
      "60000/60000 [==============================] - 4s 67us/sample - loss: 0.2427 - accuracy: 0.9116\n",
      "Epoch 42/75\n",
      "60000/60000 [==============================] - 4s 70us/sample - loss: 0.2381 - accuracy: 0.9132\n",
      "Epoch 43/75\n",
      "60000/60000 [==============================] - 4s 68us/sample - loss: 0.2393 - accuracy: 0.9124\n",
      "Epoch 44/75\n",
      "60000/60000 [==============================] - 4s 68us/sample - loss: 0.2401 - accuracy: 0.9134\n",
      "Epoch 45/75\n",
      "60000/60000 [==============================] - 4s 68us/sample - loss: 0.2386 - accuracy: 0.9127\n",
      "Epoch 46/75\n",
      "60000/60000 [==============================] - 4s 67us/sample - loss: 0.2345 - accuracy: 0.9129\n",
      "Epoch 47/75\n",
      "60000/60000 [==============================] - 4s 67us/sample - loss: 0.2340 - accuracy: 0.9147\n",
      "Epoch 48/75\n",
      "60000/60000 [==============================] - 4s 67us/sample - loss: 0.2345 - accuracy: 0.9141\n",
      "Epoch 49/75\n",
      "60000/60000 [==============================] - 4s 68us/sample - loss: 0.2344 - accuracy: 0.9146\n",
      "Epoch 50/75\n",
      "60000/60000 [==============================] - 4s 69us/sample - loss: 0.2316 - accuracy: 0.9163\n",
      "Epoch 51/75\n",
      "60000/60000 [==============================] - 4s 69us/sample - loss: 0.2353 - accuracy: 0.9144\n",
      "Epoch 52/75\n",
      "60000/60000 [==============================] - 4s 67us/sample - loss: 0.2344 - accuracy: 0.9154\n",
      "Epoch 53/75\n",
      "60000/60000 [==============================] - 4s 67us/sample - loss: 0.2270 - accuracy: 0.9182\n",
      "Epoch 54/75\n",
      "60000/60000 [==============================] - 4s 66us/sample - loss: 0.2265 - accuracy: 0.9171\n",
      "Epoch 55/75\n",
      "60000/60000 [==============================] - 4s 66us/sample - loss: 0.2227 - accuracy: 0.9193\n",
      "Epoch 56/75\n",
      "60000/60000 [==============================] - 4s 67us/sample - loss: 0.2231 - accuracy: 0.9187\n",
      "Epoch 57/75\n",
      "60000/60000 [==============================] - 4s 68us/sample - loss: 0.2168 - accuracy: 0.9204\n",
      "Epoch 58/75\n",
      "60000/60000 [==============================] - 4s 67us/sample - loss: 0.2204 - accuracy: 0.9187\n",
      "Epoch 59/75\n",
      "60000/60000 [==============================] - 5s 76us/sample - loss: 0.2179 - accuracy: 0.9200\n",
      "Epoch 60/75\n",
      "60000/60000 [==============================] - 4s 69us/sample - loss: 0.2171 - accuracy: 0.9208\n",
      "Epoch 61/75\n",
      "60000/60000 [==============================] - 4s 71us/sample - loss: 0.2166 - accuracy: 0.9214\n",
      "Epoch 62/75\n",
      "60000/60000 [==============================] - 4s 69us/sample - loss: 0.2147 - accuracy: 0.9210\n",
      "Epoch 63/75\n",
      "60000/60000 [==============================] - 4s 70us/sample - loss: 0.2130 - accuracy: 0.9228\n",
      "Epoch 64/75\n",
      "60000/60000 [==============================] - 4s 72us/sample - loss: 0.2109 - accuracy: 0.9225\n",
      "Epoch 65/75\n",
      "60000/60000 [==============================] - 4s 70us/sample - loss: 0.2123 - accuracy: 0.9232\n",
      "Epoch 66/75\n",
      "60000/60000 [==============================] - 4s 70us/sample - loss: 0.2136 - accuracy: 0.9226\n",
      "Epoch 67/75\n",
      "60000/60000 [==============================] - 4s 69us/sample - loss: 0.2095 - accuracy: 0.9235\n",
      "Epoch 68/75\n",
      "60000/60000 [==============================] - 4s 70us/sample - loss: 0.2053 - accuracy: 0.9259\n",
      "Epoch 69/75\n",
      "60000/60000 [==============================] - 4s 72us/sample - loss: 0.2056 - accuracy: 0.9257\n",
      "Epoch 70/75\n",
      "60000/60000 [==============================] - 4s 68us/sample - loss: 0.2079 - accuracy: 0.9238\n",
      "Epoch 71/75\n",
      "60000/60000 [==============================] - 4s 69us/sample - loss: 0.2035 - accuracy: 0.9257\n",
      "Epoch 72/75\n",
      "60000/60000 [==============================] - 4s 67us/sample - loss: 0.1991 - accuracy: 0.9287\n",
      "Epoch 73/75\n",
      "60000/60000 [==============================] - 4s 67us/sample - loss: 0.1994 - accuracy: 0.9262\n",
      "Epoch 74/75\n",
      "60000/60000 [==============================] - 4s 68us/sample - loss: 0.1977 - accuracy: 0.9278\n",
      "Epoch 75/75\n",
      "60000/60000 [==============================] - 4s 67us/sample - loss: 0.1950 - accuracy: 0.9286\n"
     ]
    },
    {
     "data": {
      "text/plain": [
       "<tensorflow.python.keras.callbacks.History at 0x7f0bbf0bf828>"
      ]
     },
     "execution_count": 19,
     "metadata": {
      "tags": []
     },
     "output_type": "execute_result"
    }
   ],
   "source": [
    "model.fit(X_train, y_train, epochs=75)"
   ]
  },
  {
   "cell_type": "markdown",
   "metadata": {
    "colab_type": "text",
    "id": "Py-KwkmjOIVU"
   },
   "source": [
    "### Customize the learning rate to 0.001 in sgd optimizer and run the model"
   ]
  },
  {
   "cell_type": "code",
   "execution_count": null,
   "metadata": {
    "colab": {},
    "colab_type": "code",
    "id": "yLXUE9jWOIVV"
   },
   "outputs": [],
   "source": [
    "opt2 = SGD(learning_rate=0.001)"
   ]
  },
  {
   "cell_type": "code",
   "execution_count": null,
   "metadata": {
    "colab": {},
    "colab_type": "code",
    "id": "7ed_9Y-SUKvZ"
   },
   "outputs": [],
   "source": [
    "model1 = tf.keras.models.Sequential([\n",
    "  tf.keras.layers.Flatten(input_shape=(28, 28)),\n",
    "  tf.keras.layers.Dense(128, activation='relu'),\n",
    "  tf.keras.layers.BatchNormalization(),\n",
    "  tf.keras.layers.Dense(10, activation='softmax')\n",
    "])"
   ]
  },
  {
   "cell_type": "code",
   "execution_count": null,
   "metadata": {
    "colab": {},
    "colab_type": "code",
    "id": "pJUqA5T4OIVc"
   },
   "outputs": [],
   "source": [
    "model1.compile(loss='categorical_crossentropy', optimizer=opt, metrics=['accuracy'])"
   ]
  },
  {
   "cell_type": "code",
   "execution_count": 23,
   "metadata": {
    "colab": {
     "base_uri": "https://localhost:8080/",
     "height": 1000
    },
    "colab_type": "code",
    "executionInfo": {
     "elapsed": 604,
     "status": "ok",
     "timestamp": 1581582314383,
     "user": {
      "displayName": "Anton E Pius",
      "photoUrl": "https://lh3.googleusercontent.com/a-/AAuE7mC2u0v0eXhwg0mCa4iUNAShzhPkke98WRPy6KANJQstHLaiwuBXes5lylqkZIZJXpkdh30WXzHDxgoU4ai-iv0CK_EAaLDU-cSviCe20JFvLHcEhGlYzNRq-CaUEnA1G0Tcy2zkzsd4489NvtStCI5yC7lw_o8yC4WD7jGMMmVaMO6k3vrmOxvBpxbjUehGTE5ECqkEjnzAk2stR5w8Cm6HoAsJWkLwQ8JqsbC5AnAbUwcKBE6Yx9H_mjhT_WSvohzLgCSRnqCCtNR5DYQ06oS4p1ybGTQb82r5-YdbHtSmGiXrXaq6w0XxeY6LUzFa7sveB0-oEyuhxVX0B6D568tPmJBPzleeRI-lDez4z0_xMZaTnbOHHVM5hHnPVam574u3OJhzMVIDiDfi-5XQDplmfFt-mgDEqaN9L3_iveAaSzH45fovPoWANWVK3JuT6J76ctlBMSXsXoMNM1k3Y-ca0kgL3awoEtug4dJCHSwrRYxm_EmNj-peGZYC4YHV2BxT-M3PHmjTAlQNAlZYUSu-5Y7d91zdn7wCUwz3PYoX2jNSVyvL16wny4sYdD0U64b_jF0eIvCEb1O_IqYqozNqKi3sEmWjNeHVNQi7CnEUuFHcpxV03A00j2F238Ot_u7fDfiCmwHJNHLa-lTL2tUfcDgSNVJtlKRKi5LqgN3R6Mi3OFqbCLnS5zBbvP8tCxnbG5iuPgBUbPCm2paJR5JMvESPxExuaKts4TIHUBCulv074VxiD5xxXv7Hr2k=s64",
      "userId": "00469409484524138550"
     },
     "user_tz": -330
    },
    "id": "eraZKqirUTsX",
    "outputId": "541d0815-c6c7-43f6-d926-50849628b6bb"
   },
   "outputs": [
    {
     "name": "stdout",
     "output_type": "stream",
     "text": [
      "Train on 60000 samples\n",
      "Epoch 1/40\n",
      "60000/60000 [==============================] - 4s 67us/sample - loss: 0.1947 - accuracy: 0.9281\n",
      "Epoch 2/40\n",
      "60000/60000 [==============================] - 4s 67us/sample - loss: 0.1888 - accuracy: 0.9304\n",
      "Epoch 3/40\n",
      "60000/60000 [==============================] - 4s 67us/sample - loss: 0.1941 - accuracy: 0.9286\n",
      "Epoch 4/40\n",
      "60000/60000 [==============================] - 4s 68us/sample - loss: 0.1977 - accuracy: 0.9279\n",
      "Epoch 5/40\n",
      "60000/60000 [==============================] - 4s 69us/sample - loss: 0.1899 - accuracy: 0.9308\n",
      "Epoch 6/40\n",
      "60000/60000 [==============================] - 4s 67us/sample - loss: 0.1917 - accuracy: 0.9301\n",
      "Epoch 7/40\n",
      "60000/60000 [==============================] - 4s 67us/sample - loss: 0.1906 - accuracy: 0.9313\n",
      "Epoch 8/40\n",
      "60000/60000 [==============================] - 4s 66us/sample - loss: 0.1861 - accuracy: 0.9325\n",
      "Epoch 9/40\n",
      "60000/60000 [==============================] - 4s 67us/sample - loss: 0.1852 - accuracy: 0.9327\n",
      "Epoch 10/40\n",
      "60000/60000 [==============================] - 4s 66us/sample - loss: 0.1853 - accuracy: 0.9326\n",
      "Epoch 11/40\n",
      "60000/60000 [==============================] - 5s 75us/sample - loss: 0.1855 - accuracy: 0.9333\n",
      "Epoch 12/40\n",
      "60000/60000 [==============================] - 4s 67us/sample - loss: 0.1871 - accuracy: 0.9320\n",
      "Epoch 13/40\n",
      "60000/60000 [==============================] - 4s 68us/sample - loss: 0.1842 - accuracy: 0.9323\n",
      "Epoch 14/40\n",
      "60000/60000 [==============================] - 4s 68us/sample - loss: 0.1827 - accuracy: 0.9338\n",
      "Epoch 15/40\n",
      "60000/60000 [==============================] - 4s 69us/sample - loss: 0.1829 - accuracy: 0.9327\n",
      "Epoch 16/40\n",
      "60000/60000 [==============================] - 4s 71us/sample - loss: 0.1815 - accuracy: 0.9335\n",
      "Epoch 17/40\n",
      "60000/60000 [==============================] - 5s 75us/sample - loss: 0.1877 - accuracy: 0.9314\n",
      "Epoch 18/40\n",
      "60000/60000 [==============================] - 5s 78us/sample - loss: 0.1829 - accuracy: 0.9338\n",
      "Epoch 19/40\n",
      "60000/60000 [==============================] - 4s 69us/sample - loss: 0.1800 - accuracy: 0.9340\n",
      "Epoch 20/40\n",
      "60000/60000 [==============================] - 4s 67us/sample - loss: 0.1891 - accuracy: 0.9295\n",
      "Epoch 21/40\n",
      "60000/60000 [==============================] - 4s 69us/sample - loss: 0.1843 - accuracy: 0.9323\n",
      "Epoch 22/40\n",
      "60000/60000 [==============================] - 4s 67us/sample - loss: 0.1841 - accuracy: 0.9345\n",
      "Epoch 23/40\n",
      "60000/60000 [==============================] - 4s 67us/sample - loss: 0.1835 - accuracy: 0.9339\n",
      "Epoch 24/40\n",
      "60000/60000 [==============================] - 4s 67us/sample - loss: 0.1796 - accuracy: 0.9352\n",
      "Epoch 25/40\n",
      "60000/60000 [==============================] - 4s 69us/sample - loss: 0.1784 - accuracy: 0.9356\n",
      "Epoch 26/40\n",
      "60000/60000 [==============================] - 4s 67us/sample - loss: 0.1782 - accuracy: 0.9353\n",
      "Epoch 27/40\n",
      "60000/60000 [==============================] - 4s 67us/sample - loss: 0.1761 - accuracy: 0.9357\n",
      "Epoch 28/40\n",
      "60000/60000 [==============================] - 4s 68us/sample - loss: 0.1799 - accuracy: 0.9341\n",
      "Epoch 29/40\n",
      "60000/60000 [==============================] - 4s 67us/sample - loss: 0.1776 - accuracy: 0.9359\n",
      "Epoch 30/40\n",
      "60000/60000 [==============================] - 4s 67us/sample - loss: 0.1763 - accuracy: 0.9352\n",
      "Epoch 31/40\n",
      "60000/60000 [==============================] - 4s 68us/sample - loss: 0.1746 - accuracy: 0.9355\n",
      "Epoch 32/40\n",
      "60000/60000 [==============================] - 4s 67us/sample - loss: 0.1727 - accuracy: 0.9378\n",
      "Epoch 33/40\n",
      "60000/60000 [==============================] - 4s 69us/sample - loss: 0.1703 - accuracy: 0.9376\n",
      "Epoch 34/40\n",
      "60000/60000 [==============================] - 4s 68us/sample - loss: 0.1748 - accuracy: 0.9350\n",
      "Epoch 35/40\n",
      "60000/60000 [==============================] - 4s 67us/sample - loss: 0.1831 - accuracy: 0.9326\n",
      "Epoch 36/40\n",
      "60000/60000 [==============================] - 4s 68us/sample - loss: 0.1727 - accuracy: 0.9374\n",
      "Epoch 37/40\n",
      "60000/60000 [==============================] - 4s 66us/sample - loss: 0.1708 - accuracy: 0.9385\n",
      "Epoch 38/40\n",
      "60000/60000 [==============================] - 4s 67us/sample - loss: 0.1705 - accuracy: 0.9380\n",
      "Epoch 39/40\n",
      "60000/60000 [==============================] - 4s 66us/sample - loss: 0.1688 - accuracy: 0.9394\n",
      "Epoch 40/40\n",
      "60000/60000 [==============================] - 4s 69us/sample - loss: 0.1688 - accuracy: 0.9388\n"
     ]
    },
    {
     "data": {
      "text/plain": [
       "<tensorflow.python.keras.callbacks.History at 0x7f0bbef90c18>"
      ]
     },
     "execution_count": 23,
     "metadata": {
      "tags": []
     },
     "output_type": "execute_result"
    }
   ],
   "source": [
    "model.fit(X_train, y_train, epochs=40)"
   ]
  },
  {
   "cell_type": "markdown",
   "metadata": {
    "colab_type": "text",
    "id": "j9CSqKvpOIVk"
   },
   "source": [
    "### Build the Neural Network model with 3 Dense layers with 100,100,10 neurons respectively in each layer. Use cross entropy loss function and singmoid as activation in the hidden layers and softmax as activation function in the output layer. Use sgd optimizer with learning rate 0.03."
   ]
  },
  {
   "cell_type": "code",
   "execution_count": null,
   "metadata": {
    "colab": {},
    "colab_type": "code",
    "id": "GGAad54JOIVm"
   },
   "outputs": [],
   "source": [
    "opt2 = SGD(learning_rate=0.03)"
   ]
  },
  {
   "cell_type": "code",
   "execution_count": null,
   "metadata": {
    "colab": {},
    "colab_type": "code",
    "id": "MQ7oIymROIVp"
   },
   "outputs": [],
   "source": [
    "model2 =  tf.keras.models.Sequential([\n",
    "          tf.keras.layers.Flatten(input_shape=(28, 28)),\n",
    "          tf.keras.layers.BatchNormalization(),\n",
    "          tf.keras.layers.Dense(100, activation='relu'),\n",
    "          tf.keras.layers.Dense(100, activation='sigmoid'),\n",
    "          tf.keras.layers.Dense(10, activation='softmax')\n",
    "])"
   ]
  },
  {
   "cell_type": "code",
   "execution_count": null,
   "metadata": {
    "colab": {},
    "colab_type": "code",
    "id": "BiP7IL52OIVw"
   },
   "outputs": [],
   "source": [
    "model2.compile(loss='categorical_crossentropy', optimizer=opt2, metrics=['accuracy'])"
   ]
  },
  {
   "cell_type": "code",
   "execution_count": 27,
   "metadata": {
    "colab": {
     "base_uri": "https://localhost:8080/",
     "height": 1000
    },
    "colab_type": "code",
    "executionInfo": {
     "elapsed": 11789,
     "status": "ok",
     "timestamp": 1581582428769,
     "user": {
      "displayName": "Anton E Pius",
      "photoUrl": "https://lh3.googleusercontent.com/a-/AAuE7mC2u0v0eXhwg0mCa4iUNAShzhPkke98WRPy6KANJQstHLaiwuBXes5lylqkZIZJXpkdh30WXzHDxgoU4ai-iv0CK_EAaLDU-cSviCe20JFvLHcEhGlYzNRq-CaUEnA1G0Tcy2zkzsd4489NvtStCI5yC7lw_o8yC4WD7jGMMmVaMO6k3vrmOxvBpxbjUehGTE5ECqkEjnzAk2stR5w8Cm6HoAsJWkLwQ8JqsbC5AnAbUwcKBE6Yx9H_mjhT_WSvohzLgCSRnqCCtNR5DYQ06oS4p1ybGTQb82r5-YdbHtSmGiXrXaq6w0XxeY6LUzFa7sveB0-oEyuhxVX0B6D568tPmJBPzleeRI-lDez4z0_xMZaTnbOHHVM5hHnPVam574u3OJhzMVIDiDfi-5XQDplmfFt-mgDEqaN9L3_iveAaSzH45fovPoWANWVK3JuT6J76ctlBMSXsXoMNM1k3Y-ca0kgL3awoEtug4dJCHSwrRYxm_EmNj-peGZYC4YHV2BxT-M3PHmjTAlQNAlZYUSu-5Y7d91zdn7wCUwz3PYoX2jNSVyvL16wny4sYdD0U64b_jF0eIvCEb1O_IqYqozNqKi3sEmWjNeHVNQi7CnEUuFHcpxV03A00j2F238Ot_u7fDfiCmwHJNHLa-lTL2tUfcDgSNVJtlKRKi5LqgN3R6Mi3OFqbCLnS5zBbvP8tCxnbG5iuPgBUbPCm2paJR5JMvESPxExuaKts4TIHUBCulv074VxiD5xxXv7Hr2k=s64",
      "userId": "00469409484524138550"
     },
     "user_tz": -330
    },
    "id": "K07rwSDPaZVa",
    "outputId": "53a77c18-d7d9-4a54-c83d-15505a80d4b4"
   },
   "outputs": [
    {
     "name": "stdout",
     "output_type": "stream",
     "text": [
      "Train on 60000 samples\n",
      "Epoch 1/80\n",
      "60000/60000 [==============================] - 5s 81us/sample - loss: 0.6532 - accuracy: 0.7791\n",
      "Epoch 2/80\n",
      "60000/60000 [==============================] - 5s 78us/sample - loss: 0.4309 - accuracy: 0.8458\n",
      "Epoch 3/80\n",
      "60000/60000 [==============================] - 5s 78us/sample - loss: 0.3932 - accuracy: 0.8584\n",
      "Epoch 4/80\n",
      "60000/60000 [==============================] - 5s 87us/sample - loss: 0.3692 - accuracy: 0.8669\n",
      "Epoch 5/80\n",
      "60000/60000 [==============================] - 5s 78us/sample - loss: 0.3487 - accuracy: 0.8735\n",
      "Epoch 6/80\n",
      "60000/60000 [==============================] - 5s 80us/sample - loss: 0.3334 - accuracy: 0.8789\n",
      "Epoch 7/80\n",
      "60000/60000 [==============================] - 5s 81us/sample - loss: 0.3200 - accuracy: 0.8840\n",
      "Epoch 8/80\n",
      "60000/60000 [==============================] - 5s 79us/sample - loss: 0.3095 - accuracy: 0.8864\n",
      "Epoch 9/80\n",
      "60000/60000 [==============================] - 5s 78us/sample - loss: 0.3004 - accuracy: 0.8891\n",
      "Epoch 10/80\n",
      "60000/60000 [==============================] - 5s 77us/sample - loss: 0.2912 - accuracy: 0.8928\n",
      "Epoch 11/80\n",
      "60000/60000 [==============================] - 5s 78us/sample - loss: 0.2817 - accuracy: 0.8965\n",
      "Epoch 12/80\n",
      "60000/60000 [==============================] - 5s 78us/sample - loss: 0.2742 - accuracy: 0.8988\n",
      "Epoch 13/80\n",
      "60000/60000 [==============================] - 5s 79us/sample - loss: 0.2661 - accuracy: 0.9012\n",
      "Epoch 14/80\n",
      "60000/60000 [==============================] - 5s 78us/sample - loss: 0.2600 - accuracy: 0.9031\n",
      "Epoch 15/80\n",
      "60000/60000 [==============================] - 5s 78us/sample - loss: 0.2532 - accuracy: 0.9060\n",
      "Epoch 16/80\n",
      "60000/60000 [==============================] - 5s 78us/sample - loss: 0.2485 - accuracy: 0.9085\n",
      "Epoch 17/80\n",
      "60000/60000 [==============================] - 5s 79us/sample - loss: 0.2432 - accuracy: 0.9096\n",
      "Epoch 18/80\n",
      "60000/60000 [==============================] - 5s 77us/sample - loss: 0.2359 - accuracy: 0.9120\n",
      "Epoch 19/80\n",
      "60000/60000 [==============================] - 5s 80us/sample - loss: 0.2312 - accuracy: 0.9147\n",
      "Epoch 20/80\n",
      "60000/60000 [==============================] - 5s 79us/sample - loss: 0.2264 - accuracy: 0.9163\n",
      "Epoch 21/80\n",
      "60000/60000 [==============================] - 5s 78us/sample - loss: 0.2229 - accuracy: 0.9177\n",
      "Epoch 22/80\n",
      "60000/60000 [==============================] - 5s 77us/sample - loss: 0.2167 - accuracy: 0.9203\n",
      "Epoch 23/80\n",
      "60000/60000 [==============================] - 4s 75us/sample - loss: 0.2141 - accuracy: 0.9210\n",
      "Epoch 24/80\n",
      "60000/60000 [==============================] - 5s 80us/sample - loss: 0.2074 - accuracy: 0.9230\n",
      "Epoch 25/80\n",
      "60000/60000 [==============================] - 5s 80us/sample - loss: 0.2017 - accuracy: 0.9252\n",
      "Epoch 26/80\n",
      "60000/60000 [==============================] - 5s 78us/sample - loss: 0.2002 - accuracy: 0.9263\n",
      "Epoch 27/80\n",
      "60000/60000 [==============================] - 5s 76us/sample - loss: 0.1962 - accuracy: 0.9275\n",
      "Epoch 28/80\n",
      "60000/60000 [==============================] - 5s 78us/sample - loss: 0.1917 - accuracy: 0.9293\n",
      "Epoch 29/80\n",
      "60000/60000 [==============================] - 5s 77us/sample - loss: 0.1881 - accuracy: 0.9305\n",
      "Epoch 30/80\n",
      "60000/60000 [==============================] - 5s 77us/sample - loss: 0.1859 - accuracy: 0.9299\n",
      "Epoch 31/80\n",
      "60000/60000 [==============================] - 5s 76us/sample - loss: 0.1830 - accuracy: 0.9319\n",
      "Epoch 32/80\n",
      "60000/60000 [==============================] - 5s 79us/sample - loss: 0.1778 - accuracy: 0.9341\n",
      "Epoch 33/80\n",
      "60000/60000 [==============================] - 5s 83us/sample - loss: 0.1759 - accuracy: 0.9350\n",
      "Epoch 34/80\n",
      "60000/60000 [==============================] - 5s 77us/sample - loss: 0.1734 - accuracy: 0.9355\n",
      "Epoch 35/80\n",
      "60000/60000 [==============================] - 5s 76us/sample - loss: 0.1710 - accuracy: 0.9365\n",
      "Epoch 36/80\n",
      "60000/60000 [==============================] - 5s 76us/sample - loss: 0.1656 - accuracy: 0.9387\n",
      "Epoch 37/80\n",
      "60000/60000 [==============================] - 5s 78us/sample - loss: 0.1656 - accuracy: 0.9373\n",
      "Epoch 38/80\n",
      "60000/60000 [==============================] - 5s 78us/sample - loss: 0.1626 - accuracy: 0.9391\n",
      "Epoch 39/80\n",
      "60000/60000 [==============================] - 5s 77us/sample - loss: 0.1595 - accuracy: 0.9413\n",
      "Epoch 40/80\n",
      "60000/60000 [==============================] - 5s 77us/sample - loss: 0.1575 - accuracy: 0.9419\n",
      "Epoch 41/80\n",
      "60000/60000 [==============================] - 5s 78us/sample - loss: 0.1543 - accuracy: 0.9429\n",
      "Epoch 42/80\n",
      "60000/60000 [==============================] - 5s 78us/sample - loss: 0.1495 - accuracy: 0.9453\n",
      "Epoch 43/80\n",
      "60000/60000 [==============================] - 5s 78us/sample - loss: 0.1492 - accuracy: 0.9451\n",
      "Epoch 44/80\n",
      "60000/60000 [==============================] - 5s 75us/sample - loss: 0.1463 - accuracy: 0.9456\n",
      "Epoch 45/80\n",
      "60000/60000 [==============================] - 5s 79us/sample - loss: 0.1447 - accuracy: 0.9465\n",
      "Epoch 46/80\n",
      "60000/60000 [==============================] - 5s 87us/sample - loss: 0.1431 - accuracy: 0.9473\n",
      "Epoch 47/80\n",
      "60000/60000 [==============================] - 5s 84us/sample - loss: 0.1390 - accuracy: 0.9484\n",
      "Epoch 48/80\n",
      "60000/60000 [==============================] - 5s 75us/sample - loss: 0.1392 - accuracy: 0.9480\n",
      "Epoch 49/80\n",
      "60000/60000 [==============================] - 5s 75us/sample - loss: 0.1372 - accuracy: 0.9488\n",
      "Epoch 50/80\n",
      "60000/60000 [==============================] - 5s 75us/sample - loss: 0.1350 - accuracy: 0.9506\n",
      "Epoch 51/80\n",
      "60000/60000 [==============================] - 5s 76us/sample - loss: 0.1330 - accuracy: 0.9513\n",
      "Epoch 52/80\n",
      "60000/60000 [==============================] - 5s 75us/sample - loss: 0.1302 - accuracy: 0.9514\n",
      "Epoch 53/80\n",
      "60000/60000 [==============================] - 5s 77us/sample - loss: 0.1282 - accuracy: 0.9528\n",
      "Epoch 54/80\n",
      "60000/60000 [==============================] - 5s 77us/sample - loss: 0.1249 - accuracy: 0.9549\n",
      "Epoch 55/80\n",
      "60000/60000 [==============================] - 5s 76us/sample - loss: 0.1252 - accuracy: 0.9543\n",
      "Epoch 56/80\n",
      "60000/60000 [==============================] - 5s 76us/sample - loss: 0.1233 - accuracy: 0.9548\n",
      "Epoch 57/80\n",
      "60000/60000 [==============================] - 5s 85us/sample - loss: 0.1210 - accuracy: 0.9557\n",
      "Epoch 58/80\n",
      "60000/60000 [==============================] - 5s 87us/sample - loss: 0.1200 - accuracy: 0.9556\n",
      "Epoch 59/80\n",
      "60000/60000 [==============================] - 5s 78us/sample - loss: 0.1178 - accuracy: 0.9563\n",
      "Epoch 60/80\n",
      "60000/60000 [==============================] - 5s 78us/sample - loss: 0.1175 - accuracy: 0.9564\n",
      "Epoch 61/80\n",
      "60000/60000 [==============================] - 5s 77us/sample - loss: 0.1156 - accuracy: 0.9574\n",
      "Epoch 62/80\n",
      "60000/60000 [==============================] - 6s 103us/sample - loss: 0.1142 - accuracy: 0.9586\n",
      "Epoch 63/80\n",
      "60000/60000 [==============================] - 8s 130us/sample - loss: 0.1127 - accuracy: 0.9582\n",
      "Epoch 64/80\n",
      "60000/60000 [==============================] - 5s 77us/sample - loss: 0.1119 - accuracy: 0.9589\n",
      "Epoch 65/80\n",
      "60000/60000 [==============================] - 5s 78us/sample - loss: 0.1080 - accuracy: 0.9600\n",
      "Epoch 66/80\n",
      "60000/60000 [==============================] - 5s 76us/sample - loss: 0.1063 - accuracy: 0.9613\n",
      "Epoch 67/80\n",
      "60000/60000 [==============================] - 5s 76us/sample - loss: 0.1090 - accuracy: 0.9596\n",
      "Epoch 68/80\n",
      "60000/60000 [==============================] - 5s 76us/sample - loss: 0.1065 - accuracy: 0.9603\n",
      "Epoch 69/80\n",
      "60000/60000 [==============================] - 5s 77us/sample - loss: 0.1053 - accuracy: 0.9607\n",
      "Epoch 70/80\n",
      "60000/60000 [==============================] - 5s 77us/sample - loss: 0.1028 - accuracy: 0.9621\n",
      "Epoch 71/80\n",
      "60000/60000 [==============================] - 5s 76us/sample - loss: 0.1028 - accuracy: 0.9624\n",
      "Epoch 72/80\n",
      "60000/60000 [==============================] - 5s 76us/sample - loss: 0.0998 - accuracy: 0.9642\n",
      "Epoch 73/80\n",
      "60000/60000 [==============================] - 4s 74us/sample - loss: 0.0994 - accuracy: 0.9632\n",
      "Epoch 74/80\n",
      "60000/60000 [==============================] - 5s 77us/sample - loss: 0.0978 - accuracy: 0.9641\n",
      "Epoch 75/80\n",
      "60000/60000 [==============================] - 4s 74us/sample - loss: 0.0984 - accuracy: 0.9650\n",
      "Epoch 76/80\n",
      "60000/60000 [==============================] - 5s 78us/sample - loss: 0.0964 - accuracy: 0.9644\n",
      "Epoch 77/80\n",
      "60000/60000 [==============================] - 5s 76us/sample - loss: 0.0948 - accuracy: 0.9659\n",
      "Epoch 78/80\n",
      "60000/60000 [==============================] - 5s 77us/sample - loss: 0.0942 - accuracy: 0.9660\n",
      "Epoch 79/80\n",
      "60000/60000 [==============================] - 5s 77us/sample - loss: 0.0915 - accuracy: 0.9657\n",
      "Epoch 80/80\n",
      "60000/60000 [==============================] - 5s 76us/sample - loss: 0.0925 - accuracy: 0.9666\n"
     ]
    },
    {
     "data": {
      "text/plain": [
       "<tensorflow.python.keras.callbacks.History at 0x7f0bbef10a58>"
      ]
     },
     "execution_count": 27,
     "metadata": {
      "tags": []
     },
     "output_type": "execute_result"
    }
   ],
   "source": [
    "model2.fit(X_train, y_train, epochs=80)"
   ]
  },
  {
   "cell_type": "markdown",
   "metadata": {
    "colab_type": "text",
    "id": "Nr2YsZV0OIV0"
   },
   "source": [
    "## Review model"
   ]
  },
  {
   "cell_type": "code",
   "execution_count": 28,
   "metadata": {
    "colab": {
     "base_uri": "https://localhost:8080/",
     "height": 323
    },
    "colab_type": "code",
    "executionInfo": {
     "elapsed": 99,
     "status": "ok",
     "timestamp": 1581582428772,
     "user": {
      "displayName": "Anton E Pius",
      "photoUrl": "https://lh3.googleusercontent.com/a-/AAuE7mC2u0v0eXhwg0mCa4iUNAShzhPkke98WRPy6KANJQstHLaiwuBXes5lylqkZIZJXpkdh30WXzHDxgoU4ai-iv0CK_EAaLDU-cSviCe20JFvLHcEhGlYzNRq-CaUEnA1G0Tcy2zkzsd4489NvtStCI5yC7lw_o8yC4WD7jGMMmVaMO6k3vrmOxvBpxbjUehGTE5ECqkEjnzAk2stR5w8Cm6HoAsJWkLwQ8JqsbC5AnAbUwcKBE6Yx9H_mjhT_WSvohzLgCSRnqCCtNR5DYQ06oS4p1ybGTQb82r5-YdbHtSmGiXrXaq6w0XxeY6LUzFa7sveB0-oEyuhxVX0B6D568tPmJBPzleeRI-lDez4z0_xMZaTnbOHHVM5hHnPVam574u3OJhzMVIDiDfi-5XQDplmfFt-mgDEqaN9L3_iveAaSzH45fovPoWANWVK3JuT6J76ctlBMSXsXoMNM1k3Y-ca0kgL3awoEtug4dJCHSwrRYxm_EmNj-peGZYC4YHV2BxT-M3PHmjTAlQNAlZYUSu-5Y7d91zdn7wCUwz3PYoX2jNSVyvL16wny4sYdD0U64b_jF0eIvCEb1O_IqYqozNqKi3sEmWjNeHVNQi7CnEUuFHcpxV03A00j2F238Ot_u7fDfiCmwHJNHLa-lTL2tUfcDgSNVJtlKRKi5LqgN3R6Mi3OFqbCLnS5zBbvP8tCxnbG5iuPgBUbPCm2paJR5JMvESPxExuaKts4TIHUBCulv074VxiD5xxXv7Hr2k=s64",
      "userId": "00469409484524138550"
     },
     "user_tz": -330
    },
    "id": "h4ojW6-oOIV2",
    "outputId": "5f9bdccd-23d8-4e7f-83e5-bb913a99a8af"
   },
   "outputs": [
    {
     "name": "stdout",
     "output_type": "stream",
     "text": [
      "Model: \"sequential_3\"\n",
      "_________________________________________________________________\n",
      "Layer (type)                 Output Shape              Param #   \n",
      "=================================================================\n",
      "flatten_3 (Flatten)          (None, 784)               0         \n",
      "_________________________________________________________________\n",
      "batch_normalization_2 (Batch (None, 784)               3136      \n",
      "_________________________________________________________________\n",
      "dense_6 (Dense)              (None, 100)               78500     \n",
      "_________________________________________________________________\n",
      "dense_7 (Dense)              (None, 100)               10100     \n",
      "_________________________________________________________________\n",
      "dense_8 (Dense)              (None, 10)                1010      \n",
      "=================================================================\n",
      "Total params: 92,746\n",
      "Trainable params: 91,178\n",
      "Non-trainable params: 1,568\n",
      "_________________________________________________________________\n"
     ]
    }
   ],
   "source": [
    "model2.summary()"
   ]
  },
  {
   "cell_type": "markdown",
   "metadata": {
    "colab_type": "text",
    "id": "gfFGmbZLOIV5"
   },
   "source": [
    "### Run the model"
   ]
  },
  {
   "cell_type": "code",
   "execution_count": 29,
   "metadata": {
    "colab": {
     "base_uri": "https://localhost:8080/",
     "height": 238
    },
    "colab_type": "code",
    "executionInfo": {
     "elapsed": 72,
     "status": "ok",
     "timestamp": 1581582428777,
     "user": {
      "displayName": "Anton E Pius",
      "photoUrl": "https://lh3.googleusercontent.com/a-/AAuE7mC2u0v0eXhwg0mCa4iUNAShzhPkke98WRPy6KANJQstHLaiwuBXes5lylqkZIZJXpkdh30WXzHDxgoU4ai-iv0CK_EAaLDU-cSviCe20JFvLHcEhGlYzNRq-CaUEnA1G0Tcy2zkzsd4489NvtStCI5yC7lw_o8yC4WD7jGMMmVaMO6k3vrmOxvBpxbjUehGTE5ECqkEjnzAk2stR5w8Cm6HoAsJWkLwQ8JqsbC5AnAbUwcKBE6Yx9H_mjhT_WSvohzLgCSRnqCCtNR5DYQ06oS4p1ybGTQb82r5-YdbHtSmGiXrXaq6w0XxeY6LUzFa7sveB0-oEyuhxVX0B6D568tPmJBPzleeRI-lDez4z0_xMZaTnbOHHVM5hHnPVam574u3OJhzMVIDiDfi-5XQDplmfFt-mgDEqaN9L3_iveAaSzH45fovPoWANWVK3JuT6J76ctlBMSXsXoMNM1k3Y-ca0kgL3awoEtug4dJCHSwrRYxm_EmNj-peGZYC4YHV2BxT-M3PHmjTAlQNAlZYUSu-5Y7d91zdn7wCUwz3PYoX2jNSVyvL16wny4sYdD0U64b_jF0eIvCEb1O_IqYqozNqKi3sEmWjNeHVNQi7CnEUuFHcpxV03A00j2F238Ot_u7fDfiCmwHJNHLa-lTL2tUfcDgSNVJtlKRKi5LqgN3R6Mi3OFqbCLnS5zBbvP8tCxnbG5iuPgBUbPCm2paJR5JMvESPxExuaKts4TIHUBCulv074VxiD5xxXv7Hr2k=s64",
      "userId": "00469409484524138550"
     },
     "user_tz": -330
    },
    "id": "bIkbMEN5OIV7",
    "outputId": "3d8e666a-9295-4cd0-d11b-82ddda479e31"
   },
   "outputs": [
    {
     "data": {
      "text/plain": [
       "array([[9.5420667e-08, 6.8053134e-07, 8.6213169e-07, ..., 4.9421404e-05,\n",
       "        1.0438456e-07, 9.9993873e-01],\n",
       "       [4.8120237e-05, 6.2035674e-08, 9.9919730e-01, ..., 7.7426876e-08,\n",
       "        4.0516060e-10, 2.3734076e-07],\n",
       "       [8.2078934e-08, 9.9999976e-01, 4.9252482e-09, ..., 8.8783958e-10,\n",
       "        1.1731398e-10, 6.3722222e-10],\n",
       "       ...,\n",
       "       [3.3141896e-05, 1.0711743e-09, 3.5360285e-06, ..., 8.0740010e-09,\n",
       "        9.9995244e-01, 9.4855723e-10],\n",
       "       [1.1655677e-08, 9.9999881e-01, 1.5896507e-09, ..., 9.7733688e-09,\n",
       "        3.3074468e-09, 4.6677386e-08],\n",
       "       [1.7215473e-07, 1.9004739e-07, 3.9637489e-06, ..., 6.8506121e-04,\n",
       "        8.0229484e-07, 3.6362322e-05]], dtype=float32)"
      ]
     },
     "execution_count": 29,
     "metadata": {
      "tags": []
     },
     "output_type": "execute_result"
    }
   ],
   "source": [
    "model2.predict(X_test)"
   ]
  },
  {
   "cell_type": "code",
   "execution_count": 30,
   "metadata": {
    "colab": {
     "base_uri": "https://localhost:8080/",
     "height": 34
    },
    "colab_type": "code",
    "executionInfo": {
     "elapsed": 57,
     "status": "ok",
     "timestamp": 1581582428781,
     "user": {
      "displayName": "Anton E Pius",
      "photoUrl": "https://lh3.googleusercontent.com/a-/AAuE7mC2u0v0eXhwg0mCa4iUNAShzhPkke98WRPy6KANJQstHLaiwuBXes5lylqkZIZJXpkdh30WXzHDxgoU4ai-iv0CK_EAaLDU-cSviCe20JFvLHcEhGlYzNRq-CaUEnA1G0Tcy2zkzsd4489NvtStCI5yC7lw_o8yC4WD7jGMMmVaMO6k3vrmOxvBpxbjUehGTE5ECqkEjnzAk2stR5w8Cm6HoAsJWkLwQ8JqsbC5AnAbUwcKBE6Yx9H_mjhT_WSvohzLgCSRnqCCtNR5DYQ06oS4p1ybGTQb82r5-YdbHtSmGiXrXaq6w0XxeY6LUzFa7sveB0-oEyuhxVX0B6D568tPmJBPzleeRI-lDez4z0_xMZaTnbOHHVM5hHnPVam574u3OJhzMVIDiDfi-5XQDplmfFt-mgDEqaN9L3_iveAaSzH45fovPoWANWVK3JuT6J76ctlBMSXsXoMNM1k3Y-ca0kgL3awoEtug4dJCHSwrRYxm_EmNj-peGZYC4YHV2BxT-M3PHmjTAlQNAlZYUSu-5Y7d91zdn7wCUwz3PYoX2jNSVyvL16wny4sYdD0U64b_jF0eIvCEb1O_IqYqozNqKi3sEmWjNeHVNQi7CnEUuFHcpxV03A00j2F238Ot_u7fDfiCmwHJNHLa-lTL2tUfcDgSNVJtlKRKi5LqgN3R6Mi3OFqbCLnS5zBbvP8tCxnbG5iuPgBUbPCm2paJR5JMvESPxExuaKts4TIHUBCulv074VxiD5xxXv7Hr2k=s64",
      "userId": "00469409484524138550"
     },
     "user_tz": -330
    },
    "id": "5qb90pQ1fwDh",
    "outputId": "badbe45f-ad64-40a3-c636-be408dce6cb0"
   },
   "outputs": [
    {
     "data": {
      "text/plain": [
       "array([9, 2, 1, ..., 8, 1, 5])"
      ]
     },
     "execution_count": 30,
     "metadata": {
      "tags": []
     },
     "output_type": "execute_result"
    }
   ],
   "source": [
    "model2.predict_classes(X_test)"
   ]
  }
 ],
 "metadata": {
  "colab": {
   "collapsed_sections": [],
   "machine_shape": "hm",
   "name": "R6_ExternalLab_NeuralNet_Solutions.ipynb",
   "provenance": []
  },
  "kernelspec": {
   "display_name": "Python 3",
   "language": "python",
   "name": "python3"
  },
  "language_info": {
   "codemirror_mode": {
    "name": "ipython",
    "version": 3
   },
   "file_extension": ".py",
   "mimetype": "text/x-python",
   "name": "python",
   "nbconvert_exporter": "python",
   "pygments_lexer": "ipython3",
   "version": "3.7.3"
  }
 },
 "nbformat": 4,
 "nbformat_minor": 4
}
