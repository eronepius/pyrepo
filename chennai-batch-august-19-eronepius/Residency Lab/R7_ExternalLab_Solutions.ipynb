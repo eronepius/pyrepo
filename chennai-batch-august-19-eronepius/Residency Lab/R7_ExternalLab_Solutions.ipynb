{
  "nbformat": 4,
  "nbformat_minor": 0,
  "metadata": {
    "colab": {
      "name": "R7_ExternalLab_Solutions.ipynb",
      "provenance": [],
      "collapsed_sections": [],
      "machine_shape": "hm"
    },
    "kernelspec": {
      "display_name": "Python 3",
      "language": "python",
      "name": "python3"
    },
    "language_info": {
      "codemirror_mode": {
        "name": "ipython",
        "version": 3
      },
      "file_extension": ".py",
      "mimetype": "text/x-python",
      "name": "python",
      "nbconvert_exporter": "python",
      "pygments_lexer": "ipython3",
      "version": "3.7.0"
    }
  },
  "cells": [
    {
      "cell_type": "markdown",
      "metadata": {
        "colab_type": "text",
        "id": "4WH1Pr4KQlCh"
      },
      "source": [
        "### Build a DNN using Keras with `RELU` and `ADAM`"
      ]
    },
    {
      "cell_type": "markdown",
      "metadata": {
        "colab_type": "text",
        "id": "TbvI8LqlQlCl"
      },
      "source": [
        "#### Load tensorflow"
      ]
    },
    {
      "cell_type": "code",
      "metadata": {
        "id": "N39U8D2s43yI",
        "colab_type": "code",
        "outputId": "de3e8aad-3930-4ddd-a518-71651b249f11",
        "colab": {
          "base_uri": "https://localhost:8080/",
          "height": 35
        }
      },
      "source": [
        "#magic line to use tensorflow2.x\n",
        "%tensorflow_version 2.x"
      ],
      "execution_count": 1,
      "outputs": [
        {
          "output_type": "stream",
          "text": [
            "TensorFlow 2.x selected.\n"
          ],
          "name": "stdout"
        }
      ]
    },
    {
      "cell_type": "code",
      "metadata": {
        "colab_type": "code",
        "id": "SPW-a-qYQlCp",
        "outputId": "fe7683e9-947f-4085-9ff3-3cbfc9cb6427",
        "colab": {
          "base_uri": "https://localhost:8080/",
          "height": 35
        }
      },
      "source": [
        "import tensorflow\n",
        "print(tensorflow.__version__)"
      ],
      "execution_count": 2,
      "outputs": [
        {
          "output_type": "stream",
          "text": [
            "2.1.0\n"
          ],
          "name": "stdout"
        }
      ]
    },
    {
      "cell_type": "markdown",
      "metadata": {
        "colab_type": "text",
        "id": "74cQBsi5QlCw"
      },
      "source": [
        "#### Collect Fashion mnist data from tf.keras.datasets "
      ]
    },
    {
      "cell_type": "code",
      "metadata": {
        "colab_type": "code",
        "id": "wVWy0oDTr2Kj",
        "colab": {}
      },
      "source": [
        "from tensorflow.keras import datasets"
      ],
      "execution_count": 0,
      "outputs": []
    },
    {
      "cell_type": "code",
      "metadata": {
        "id": "5oPfbVnt6Gma",
        "colab_type": "code",
        "colab": {}
      },
      "source": [
        "\n",
        "(X_train, y_train), (X_test, y_test) = datasets.fashion_mnist.load_data()"
      ],
      "execution_count": 0,
      "outputs": []
    },
    {
      "cell_type": "code",
      "metadata": {
        "id": "HmUubXCt9IW1",
        "colab_type": "code",
        "outputId": "4f9959ad-cdbd-4062-f1c0-f9799f54993d",
        "colab": {
          "base_uri": "https://localhost:8080/",
          "height": 35
        }
      },
      "source": [
        "X_train.shape"
      ],
      "execution_count": 5,
      "outputs": [
        {
          "output_type": "execute_result",
          "data": {
            "text/plain": [
              "(60000, 28, 28)"
            ]
          },
          "metadata": {
            "tags": []
          },
          "execution_count": 5
        }
      ]
    },
    {
      "cell_type": "markdown",
      "metadata": {
        "colab_type": "text",
        "id": "no7aWYZyQlC1"
      },
      "source": [
        "#### Change train and test labels into one-hot vectors"
      ]
    },
    {
      "cell_type": "code",
      "metadata": {
        "colab_type": "code",
        "id": "UX6otc4wQlC2",
        "colab": {}
      },
      "source": [
        "from tensorflow.keras.utils import to_categorical\n",
        "\n",
        "y_train = to_categorical(y_train, num_classes=10,dtype='float64')\n",
        "\n",
        "y_test = to_categorical(y_test, num_classes=10, dtype='float64')"
      ],
      "execution_count": 0,
      "outputs": []
    },
    {
      "cell_type": "markdown",
      "metadata": {
        "colab_type": "text",
        "id": "QjNrRTdoQlC5"
      },
      "source": [
        "#### Build the Graph"
      ]
    },
    {
      "cell_type": "markdown",
      "metadata": {
        "colab_type": "text",
        "id": "CDJ9DHVNQlC7"
      },
      "source": [
        "#### Initialize model, reshape & normalize data"
      ]
    },
    {
      "cell_type": "code",
      "metadata": {
        "id": "0X4D13XV8ohI",
        "colab_type": "code",
        "colab": {}
      },
      "source": [
        "# Normalizing the pixels\n",
        "\n",
        "X_train = X_train/255\n",
        "X_test = X_test/255"
      ],
      "execution_count": 0,
      "outputs": []
    },
    {
      "cell_type": "code",
      "metadata": {
        "id": "vXEDqH7B82Lc",
        "colab_type": "code",
        "colab": {}
      },
      "source": [
        "# reshaping the data as 28 x 28 x 1\n",
        "w, h = 28, 28\n",
        "X_train = X_train.reshape(X_train.shape[0], w, h, 1)\n",
        "X_test = X_test.reshape(X_test.shape[0], w, h, 1)"
      ],
      "execution_count": 0,
      "outputs": []
    },
    {
      "cell_type": "code",
      "metadata": {
        "id": "IIW-I-xzAFJB",
        "colab_type": "code",
        "colab": {}
      },
      "source": [
        "#Clear any previous model from memory\n",
        "import tensorflow\n",
        "tensorflow.keras.backend.clear_session()"
      ],
      "execution_count": 0,
      "outputs": []
    },
    {
      "cell_type": "code",
      "metadata": {
        "colab_type": "code",
        "id": "pCDQs_g1QlC8",
        "colab": {}
      },
      "source": [
        "from tensorflow.keras import models, layers\n",
        "\n",
        "model = models.Sequential()"
      ],
      "execution_count": 0,
      "outputs": []
    },
    {
      "cell_type": "markdown",
      "metadata": {
        "colab_type": "text",
        "id": "kBGwTTilQlDD"
      },
      "source": [
        "#### Add two fully connected layers with 200 and 100 neurons respectively with `relu` activations. Add a dropout layer with `p=0.25`"
      ]
    },
    {
      "cell_type": "code",
      "metadata": {
        "colab_type": "code",
        "id": "IXbfpfOzQlDF",
        "colab": {}
      },
      "source": [
        "model.add(layers.Flatten(input_shape=(28, 28, 1)))\n",
        "model.add(layers.Dense(200, activation='relu'))\n",
        "model.add(layers.BatchNormalization())\n",
        "model.add(layers.Dense(100, activation='relu'))\n",
        "model.add(layers.Dropout(.25))"
      ],
      "execution_count": 0,
      "outputs": []
    },
    {
      "cell_type": "markdown",
      "metadata": {
        "colab_type": "text",
        "id": "5I8f5otcQlDJ"
      },
      "source": [
        "### Add the output layer with a fully connected layer with 10 neurons with `softmax` activation. Use `categorical_crossentropy` loss and `adam` optimizer and train the network. And, report the final validation."
      ]
    },
    {
      "cell_type": "code",
      "metadata": {
        "id": "IlUj8kQD_DWP",
        "colab_type": "code",
        "colab": {}
      },
      "source": [
        "model.add(layers.Dense(10, activation='softmax'))"
      ],
      "execution_count": 0,
      "outputs": []
    },
    {
      "cell_type": "code",
      "metadata": {
        "id": "rfe_3CCl_DSN",
        "colab_type": "code",
        "colab": {}
      },
      "source": [
        "model.compile(optimizer='adam', loss='categorical_crossentropy', metrics=['accuracy'])"
      ],
      "execution_count": 0,
      "outputs": []
    },
    {
      "cell_type": "code",
      "metadata": {
        "id": "ptePqhfU_XVh",
        "colab_type": "code",
        "outputId": "f42362bf-68c8-44d1-e58a-4fab8fd3e7c4",
        "colab": {
          "base_uri": "https://localhost:8080/",
          "height": 1000
        }
      },
      "source": [
        "history =  model.fit(X_train,y_train, epochs=50, validation_data=(X_test, y_test), batch_size=1024)"
      ],
      "execution_count": 14,
      "outputs": [
        {
          "output_type": "stream",
          "text": [
            "Train on 60000 samples, validate on 10000 samples\n",
            "Epoch 1/50\n",
            "60000/60000 [==============================] - 2s 27us/sample - loss: 0.7018 - accuracy: 0.7613 - val_loss: 0.9161 - val_accuracy: 0.7526\n",
            "Epoch 2/50\n",
            "60000/60000 [==============================] - 1s 18us/sample - loss: 0.4222 - accuracy: 0.8513 - val_loss: 0.6045 - val_accuracy: 0.8262\n",
            "Epoch 3/50\n",
            "60000/60000 [==============================] - 1s 18us/sample - loss: 0.3648 - accuracy: 0.8701 - val_loss: 0.4704 - val_accuracy: 0.8540\n",
            "Epoch 4/50\n",
            "60000/60000 [==============================] - 1s 18us/sample - loss: 0.3341 - accuracy: 0.8790 - val_loss: 0.4084 - val_accuracy: 0.8638\n",
            "Epoch 5/50\n",
            "60000/60000 [==============================] - 1s 18us/sample - loss: 0.3154 - accuracy: 0.8859 - val_loss: 0.3836 - val_accuracy: 0.8694\n",
            "Epoch 6/50\n",
            "60000/60000 [==============================] - 1s 18us/sample - loss: 0.2945 - accuracy: 0.8935 - val_loss: 0.3607 - val_accuracy: 0.8662\n",
            "Epoch 7/50\n",
            "60000/60000 [==============================] - 1s 18us/sample - loss: 0.2804 - accuracy: 0.8968 - val_loss: 0.3509 - val_accuracy: 0.8740\n",
            "Epoch 8/50\n",
            "60000/60000 [==============================] - 1s 18us/sample - loss: 0.2695 - accuracy: 0.9010 - val_loss: 0.3579 - val_accuracy: 0.8714\n",
            "Epoch 9/50\n",
            "60000/60000 [==============================] - 1s 18us/sample - loss: 0.2588 - accuracy: 0.9043 - val_loss: 0.3582 - val_accuracy: 0.8704\n",
            "Epoch 10/50\n",
            "60000/60000 [==============================] - 1s 18us/sample - loss: 0.2518 - accuracy: 0.9075 - val_loss: 0.3358 - val_accuracy: 0.8791\n",
            "Epoch 11/50\n",
            "60000/60000 [==============================] - 1s 18us/sample - loss: 0.2390 - accuracy: 0.9113 - val_loss: 0.3686 - val_accuracy: 0.8750\n",
            "Epoch 12/50\n",
            "60000/60000 [==============================] - 1s 18us/sample - loss: 0.2322 - accuracy: 0.9148 - val_loss: 0.3491 - val_accuracy: 0.8794\n",
            "Epoch 13/50\n",
            "60000/60000 [==============================] - 1s 18us/sample - loss: 0.2215 - accuracy: 0.9191 - val_loss: 0.3452 - val_accuracy: 0.8817\n",
            "Epoch 14/50\n",
            "60000/60000 [==============================] - 1s 18us/sample - loss: 0.2163 - accuracy: 0.9194 - val_loss: 0.3909 - val_accuracy: 0.8698\n",
            "Epoch 15/50\n",
            "60000/60000 [==============================] - 1s 18us/sample - loss: 0.2097 - accuracy: 0.9218 - val_loss: 0.3604 - val_accuracy: 0.8791\n",
            "Epoch 16/50\n",
            "60000/60000 [==============================] - 1s 18us/sample - loss: 0.2036 - accuracy: 0.9235 - val_loss: 0.3529 - val_accuracy: 0.8820\n",
            "Epoch 17/50\n",
            "60000/60000 [==============================] - 1s 18us/sample - loss: 0.1948 - accuracy: 0.9264 - val_loss: 0.3675 - val_accuracy: 0.8784\n",
            "Epoch 18/50\n",
            "60000/60000 [==============================] - 1s 18us/sample - loss: 0.1925 - accuracy: 0.9285 - val_loss: 0.3472 - val_accuracy: 0.8808\n",
            "Epoch 19/50\n",
            "60000/60000 [==============================] - 1s 18us/sample - loss: 0.1834 - accuracy: 0.9323 - val_loss: 0.3544 - val_accuracy: 0.8838\n",
            "Epoch 20/50\n",
            "60000/60000 [==============================] - 1s 18us/sample - loss: 0.1802 - accuracy: 0.9324 - val_loss: 0.3773 - val_accuracy: 0.8789\n",
            "Epoch 21/50\n",
            "60000/60000 [==============================] - 1s 18us/sample - loss: 0.1736 - accuracy: 0.9343 - val_loss: 0.3505 - val_accuracy: 0.8876\n",
            "Epoch 22/50\n",
            "60000/60000 [==============================] - 1s 18us/sample - loss: 0.1685 - accuracy: 0.9364 - val_loss: 0.4945 - val_accuracy: 0.8486\n",
            "Epoch 23/50\n",
            "60000/60000 [==============================] - 1s 18us/sample - loss: 0.1666 - accuracy: 0.9374 - val_loss: 0.3508 - val_accuracy: 0.8856\n",
            "Epoch 24/50\n",
            "60000/60000 [==============================] - 1s 18us/sample - loss: 0.1634 - accuracy: 0.9382 - val_loss: 0.3806 - val_accuracy: 0.8794\n",
            "Epoch 25/50\n",
            "60000/60000 [==============================] - 1s 18us/sample - loss: 0.1563 - accuracy: 0.9404 - val_loss: 0.3728 - val_accuracy: 0.8846\n",
            "Epoch 26/50\n",
            "60000/60000 [==============================] - 1s 18us/sample - loss: 0.1566 - accuracy: 0.9401 - val_loss: 0.4087 - val_accuracy: 0.8799\n",
            "Epoch 27/50\n",
            "60000/60000 [==============================] - 1s 18us/sample - loss: 0.1489 - accuracy: 0.9437 - val_loss: 0.3717 - val_accuracy: 0.8809\n",
            "Epoch 28/50\n",
            "60000/60000 [==============================] - 1s 18us/sample - loss: 0.1433 - accuracy: 0.9462 - val_loss: 0.3964 - val_accuracy: 0.8763\n",
            "Epoch 29/50\n",
            "60000/60000 [==============================] - 1s 18us/sample - loss: 0.1430 - accuracy: 0.9459 - val_loss: 0.3913 - val_accuracy: 0.8715\n",
            "Epoch 30/50\n",
            "60000/60000 [==============================] - 1s 18us/sample - loss: 0.1408 - accuracy: 0.9470 - val_loss: 0.4127 - val_accuracy: 0.8762\n",
            "Epoch 31/50\n",
            "60000/60000 [==============================] - 1s 18us/sample - loss: 0.1330 - accuracy: 0.9495 - val_loss: 0.4007 - val_accuracy: 0.8791\n",
            "Epoch 32/50\n",
            "60000/60000 [==============================] - 1s 18us/sample - loss: 0.1327 - accuracy: 0.9491 - val_loss: 0.4508 - val_accuracy: 0.8787\n",
            "Epoch 33/50\n",
            "60000/60000 [==============================] - 1s 18us/sample - loss: 0.1292 - accuracy: 0.9519 - val_loss: 0.4640 - val_accuracy: 0.8737\n",
            "Epoch 34/50\n",
            "60000/60000 [==============================] - 1s 18us/sample - loss: 0.1302 - accuracy: 0.9503 - val_loss: 0.4262 - val_accuracy: 0.8779\n",
            "Epoch 35/50\n",
            "60000/60000 [==============================] - 1s 18us/sample - loss: 0.1291 - accuracy: 0.9499 - val_loss: 0.4063 - val_accuracy: 0.8815\n",
            "Epoch 36/50\n",
            "60000/60000 [==============================] - 1s 18us/sample - loss: 0.1208 - accuracy: 0.9538 - val_loss: 0.4869 - val_accuracy: 0.8682\n",
            "Epoch 37/50\n",
            "60000/60000 [==============================] - 1s 18us/sample - loss: 0.1192 - accuracy: 0.9549 - val_loss: 0.4511 - val_accuracy: 0.8758\n",
            "Epoch 38/50\n",
            "60000/60000 [==============================] - 1s 18us/sample - loss: 0.1194 - accuracy: 0.9541 - val_loss: 0.4265 - val_accuracy: 0.8798\n",
            "Epoch 39/50\n",
            "60000/60000 [==============================] - 1s 18us/sample - loss: 0.1125 - accuracy: 0.9577 - val_loss: 0.4366 - val_accuracy: 0.8865\n",
            "Epoch 40/50\n",
            "60000/60000 [==============================] - 1s 18us/sample - loss: 0.1120 - accuracy: 0.9571 - val_loss: 0.4279 - val_accuracy: 0.8824\n",
            "Epoch 41/50\n",
            "60000/60000 [==============================] - 1s 18us/sample - loss: 0.1104 - accuracy: 0.9567 - val_loss: 0.4905 - val_accuracy: 0.8656\n",
            "Epoch 42/50\n",
            "60000/60000 [==============================] - 1s 18us/sample - loss: 0.1111 - accuracy: 0.9571 - val_loss: 0.4943 - val_accuracy: 0.8776\n",
            "Epoch 43/50\n",
            "60000/60000 [==============================] - 1s 18us/sample - loss: 0.1101 - accuracy: 0.9580 - val_loss: 0.4701 - val_accuracy: 0.8828\n",
            "Epoch 44/50\n",
            "60000/60000 [==============================] - 1s 18us/sample - loss: 0.1040 - accuracy: 0.9605 - val_loss: 0.4588 - val_accuracy: 0.8842\n",
            "Epoch 45/50\n",
            "60000/60000 [==============================] - 1s 18us/sample - loss: 0.1051 - accuracy: 0.9598 - val_loss: 0.4735 - val_accuracy: 0.8839\n",
            "Epoch 46/50\n",
            "60000/60000 [==============================] - 1s 18us/sample - loss: 0.1000 - accuracy: 0.9620 - val_loss: 0.4466 - val_accuracy: 0.8878\n",
            "Epoch 47/50\n",
            "60000/60000 [==============================] - 1s 18us/sample - loss: 0.0975 - accuracy: 0.9629 - val_loss: 0.4787 - val_accuracy: 0.8787\n",
            "Epoch 48/50\n",
            "60000/60000 [==============================] - 1s 18us/sample - loss: 0.0952 - accuracy: 0.9637 - val_loss: 0.4745 - val_accuracy: 0.8838\n",
            "Epoch 49/50\n",
            "60000/60000 [==============================] - 1s 18us/sample - loss: 0.0904 - accuracy: 0.9657 - val_loss: 0.4607 - val_accuracy: 0.8820\n",
            "Epoch 50/50\n",
            "60000/60000 [==============================] - 1s 18us/sample - loss: 0.0913 - accuracy: 0.9652 - val_loss: 0.5551 - val_accuracy: 0.8651\n"
          ],
          "name": "stdout"
        }
      ]
    },
    {
      "cell_type": "code",
      "metadata": {
        "id": "dVk6cPpa_v0d",
        "colab_type": "code",
        "outputId": "86e434de-ee0b-4840-da13-3b2fcab2a093",
        "colab": {
          "base_uri": "https://localhost:8080/",
          "height": 573
        }
      },
      "source": [
        "import matplotlib.pyplot as plt\n",
        "plt.plot(history.history['accuracy'])\n",
        "plt.plot(history.history['val_accuracy'])\n",
        "plt.title('Model accuracy')\n",
        "plt.ylabel('Accuracy')\n",
        "plt.xlabel('Epoch')\n",
        "plt.legend(['Train', 'Test'], loc='upper left')\n",
        "plt.show()\n",
        "\n",
        "\n",
        "# Plot training & validation loss values\n",
        "plt.plot(history.history['loss'])\n",
        "plt.plot(history.history['val_loss'])\n",
        "plt.title('Model loss')\n",
        "plt.ylabel('Loss')\n",
        "plt.xlabel('Epoch')\n",
        "plt.legend(['Train', 'Test'], loc='upper left')\n",
        "plt.show()"
      ],
      "execution_count": 15,
      "outputs": [
        {
          "output_type": "display_data",
          "data": {
            "image/png": "[encoded data removed]",
            "text/plain": [
              "<Figure size 432x288 with 1 Axes>"
            ]
          },
          "metadata": {
            "tags": []
          }
        },
        {
          "output_type": "display_data",
          "data": {
            "image/png": "[encoded data removed]",
            "text/plain": [
              "<Figure size 432x288 with 1 Axes>"
            ]
          },
          "metadata": {
            "tags": []
          }
        }
      ]
    },
    {
      "cell_type": "markdown",
      "metadata": {
        "id": "H8B2wz9hcxfZ",
        "colab_type": "text"
      },
      "source": [
        "1.   From the training we can see that the model is overfitting with a training accuracy of 96%, however the validation accuracy is at 86%.\n",
        "2.   From the above, we understand that the model is not actually generalization to the real time data.\n",
        "3.   Also, the model trained is only capable of predicting a new data when the data show is as similar as the data in the training set, eg. the view angle, the image width, the image shift, flip, etc\n",
        "4. To generalize the model we need to train the model with more data of the same images in different orientations/view angle/flip/width and many more. \n"
      ]
    },
    {
      "cell_type": "code",
      "metadata": {
        "id": "e2I--Rmwllyj",
        "colab_type": "code",
        "colab": {
          "base_uri": "https://localhost:8080/",
          "height": 104
        },
        "outputId": "e343a800-c960-4d08-cf1a-4f7a7cdf68c0"
      },
      "source": [
        "score = model.evaluate(X_test, y_test)\n",
        "\n",
        "print('Evaluation on Test set before ImageDataGeneration:\\n')\n",
        "print('Loss: {:.4f}'.format(score[0]))\n",
        "print('Accuracy: {:.4f}'.format(score[1]))"
      ],
      "execution_count": 16,
      "outputs": [
        {
          "output_type": "stream",
          "text": [
            "10000/10000 [==============================] - 0s 49us/sample - loss: 0.5551 - accuracy: 0.8651\n",
            "Evaluation on Test set before ImageDataGeneration:\n",
            "\n",
            "Loss: 0.5551\n",
            "Accuracy: 0.8651\n"
          ],
          "name": "stdout"
        }
      ]
    },
    {
      "cell_type": "code",
      "metadata": {
        "id": "8E0zOX46NBF6",
        "colab_type": "code",
        "colab": {}
      },
      "source": [
        "# trying ImageDataGenerator\n",
        "from tensorflow.keras.preprocessing.image import ImageDataGenerator\n",
        "\n",
        "datagen1 = ImageDataGenerator(\n",
        "        rotation_range = 15,  # randomly rotate images in the range (degrees, 0 to 180)\n",
        "        zoom_range = 0.1, # Randomly zoom image \n",
        "        shear_range = 0.3,# shear angle in counter-clockwise direction in degrees  \n",
        "        width_shift_range=0.08,  # randomly shift images horizontally (fraction of total width)\n",
        "        height_shift_range=0.08,  # randomly shift images vertically (fraction of total height)\n",
        "        vertical_flip=False,\n",
        "        horizontal_flip=True) "
      ],
      "execution_count": 0,
      "outputs": []
    },
    {
      "cell_type": "markdown",
      "metadata": {
        "id": "Jb6GUp31fD3K",
        "colab_type": "text"
      },
      "source": [
        "1.  ImageDataGenerator is a function that can manipulate the data on differert fronts.\n",
        "2. We manipulate the existing minst-fashion dataset, and change the orientaion, flip and other aspects of the image.\n",
        "3. Using that manipulated images we train the model again to check if the model is generalizating to the new data in production."
      ]
    },
    {
      "cell_type": "code",
      "metadata": {
        "id": "kSjyu7OeRQg8",
        "colab_type": "code",
        "colab": {}
      },
      "source": [
        "datagen1.fit(X_train)"
      ],
      "execution_count": 0,
      "outputs": []
    },
    {
      "cell_type": "code",
      "metadata": {
        "id": "s7AqSS-MRS7T",
        "colab_type": "code",
        "colab": {
          "base_uri": "https://localhost:8080/",
          "height": 89
        },
        "outputId": "b000bb2d-e513-4b0c-a8ba-733143bf3b68"
      },
      "source": [
        "from matplotlib import pyplot as plt\n",
        "gen = datagen1.flow(X_train[10:11], batch_size=1)\n",
        "for i in range(1, 6):\n",
        "    plt.subplot(1,5,i)\n",
        "    plt.axis(\"off\")\n",
        "    plt.imshow(gen.next().squeeze(), cmap='gray')\n",
        "    plt.plot()\n",
        "plt.show()"
      ],
      "execution_count": 30,
      "outputs": [
        {
          "output_type": "display_data",
          "data": {
            "image/png": "[encoded data removed]",
            "text/plain": [
              "<Figure size 432x288 with 5 Axes>"
            ]
          },
          "metadata": {
            "tags": []
          }
        }
      ]
    },
    {
      "cell_type": "code",
      "metadata": {
        "id": "OSfgjs-YRhKf",
        "colab_type": "code",
        "colab": {
          "base_uri": "https://localhost:8080/",
          "height": 1000
        },
        "outputId": "8389b6ab-af2e-42aa-b103-49ba01b5be8c"
      },
      "source": [
        "history = model.fit_generator(datagen1.flow(X_train, y_train, batch_size = 128), epochs = 40, \n",
        "                              validation_data = (X_test, y_test), verbose=2, \n",
        "                              steps_per_epoch=X_train.shape[0] // 128)"
      ],
      "execution_count": 31,
      "outputs": [
        {
          "output_type": "stream",
          "text": [
            "WARNING:tensorflow:sample_weight modes were coerced from\n",
            "  ...\n",
            "    to  \n",
            "  ['...']\n",
            "Train for 468 steps, validate on 10000 samples\n",
            "Epoch 1/40\n",
            "468/468 - 15s - loss: 0.6097 - accuracy: 0.7771 - val_loss: 0.4444 - val_accuracy: 0.8400\n",
            "Epoch 2/40\n",
            "468/468 - 15s - loss: 0.5527 - accuracy: 0.7928 - val_loss: 0.4520 - val_accuracy: 0.8317\n",
            "Epoch 3/40\n",
            "468/468 - 15s - loss: 0.5399 - accuracy: 0.7982 - val_loss: 0.4433 - val_accuracy: 0.8313\n",
            "Epoch 4/40\n",
            "468/468 - 15s - loss: 0.5278 - accuracy: 0.8007 - val_loss: 0.4355 - val_accuracy: 0.8420\n",
            "Epoch 5/40\n",
            "468/468 - 15s - loss: 0.5156 - accuracy: 0.8071 - val_loss: 0.4249 - val_accuracy: 0.8420\n",
            "Epoch 6/40\n",
            "468/468 - 15s - loss: 0.5106 - accuracy: 0.8087 - val_loss: 0.4236 - val_accuracy: 0.8438\n",
            "Epoch 7/40\n",
            "468/468 - 15s - loss: 0.5065 - accuracy: 0.8082 - val_loss: 0.4445 - val_accuracy: 0.8322\n",
            "Epoch 8/40\n",
            "468/468 - 15s - loss: 0.5028 - accuracy: 0.8129 - val_loss: 0.4089 - val_accuracy: 0.8480\n",
            "Epoch 9/40\n",
            "468/468 - 15s - loss: 0.4994 - accuracy: 0.8133 - val_loss: 0.4153 - val_accuracy: 0.8424\n",
            "Epoch 10/40\n",
            "468/468 - 15s - loss: 0.4927 - accuracy: 0.8148 - val_loss: 0.4116 - val_accuracy: 0.8421\n",
            "Epoch 11/40\n",
            "468/468 - 15s - loss: 0.4885 - accuracy: 0.8178 - val_loss: 0.4213 - val_accuracy: 0.8380\n",
            "Epoch 12/40\n",
            "468/468 - 15s - loss: 0.4872 - accuracy: 0.8171 - val_loss: 0.4107 - val_accuracy: 0.8518\n",
            "Epoch 13/40\n",
            "468/468 - 15s - loss: 0.4837 - accuracy: 0.8177 - val_loss: 0.3933 - val_accuracy: 0.8552\n",
            "Epoch 14/40\n",
            "468/468 - 15s - loss: 0.4824 - accuracy: 0.8182 - val_loss: 0.4067 - val_accuracy: 0.8488\n",
            "Epoch 15/40\n",
            "468/468 - 15s - loss: 0.4821 - accuracy: 0.8208 - val_loss: 0.3983 - val_accuracy: 0.8525\n",
            "Epoch 16/40\n",
            "468/468 - 15s - loss: 0.4765 - accuracy: 0.8224 - val_loss: 0.3966 - val_accuracy: 0.8540\n",
            "Epoch 17/40\n",
            "468/468 - 15s - loss: 0.4778 - accuracy: 0.8203 - val_loss: 0.3928 - val_accuracy: 0.8581\n",
            "Epoch 18/40\n",
            "468/468 - 15s - loss: 0.4749 - accuracy: 0.8214 - val_loss: 0.3829 - val_accuracy: 0.8554\n",
            "Epoch 19/40\n",
            "468/468 - 15s - loss: 0.4769 - accuracy: 0.8224 - val_loss: 0.3743 - val_accuracy: 0.8593\n",
            "Epoch 20/40\n",
            "468/468 - 15s - loss: 0.4696 - accuracy: 0.8244 - val_loss: 0.3868 - val_accuracy: 0.8565\n",
            "Epoch 21/40\n",
            "468/468 - 15s - loss: 0.4739 - accuracy: 0.8246 - val_loss: 0.3882 - val_accuracy: 0.8575\n",
            "Epoch 22/40\n",
            "468/468 - 15s - loss: 0.4676 - accuracy: 0.8272 - val_loss: 0.4013 - val_accuracy: 0.8533\n",
            "Epoch 23/40\n",
            "468/468 - 15s - loss: 0.4664 - accuracy: 0.8250 - val_loss: 0.3844 - val_accuracy: 0.8580\n",
            "Epoch 24/40\n",
            "468/468 - 15s - loss: 0.4632 - accuracy: 0.8278 - val_loss: 0.3928 - val_accuracy: 0.8568\n",
            "Epoch 25/40\n",
            "468/468 - 15s - loss: 0.4656 - accuracy: 0.8245 - val_loss: 0.3728 - val_accuracy: 0.8636\n",
            "Epoch 26/40\n",
            "468/468 - 15s - loss: 0.4588 - accuracy: 0.8282 - val_loss: 0.3691 - val_accuracy: 0.8620\n",
            "Epoch 27/40\n",
            "468/468 - 15s - loss: 0.4599 - accuracy: 0.8290 - val_loss: 0.3890 - val_accuracy: 0.8577\n",
            "Epoch 28/40\n",
            "468/468 - 15s - loss: 0.4603 - accuracy: 0.8263 - val_loss: 0.3911 - val_accuracy: 0.8559\n",
            "Epoch 29/40\n",
            "468/468 - 15s - loss: 0.4587 - accuracy: 0.8290 - val_loss: 0.3959 - val_accuracy: 0.8513\n",
            "Epoch 30/40\n",
            "468/468 - 15s - loss: 0.4555 - accuracy: 0.8292 - val_loss: 0.3766 - val_accuracy: 0.8609\n",
            "Epoch 31/40\n",
            "468/468 - 15s - loss: 0.4550 - accuracy: 0.8291 - val_loss: 0.4090 - val_accuracy: 0.8485\n",
            "Epoch 32/40\n",
            "468/468 - 15s - loss: 0.4572 - accuracy: 0.8283 - val_loss: 0.3860 - val_accuracy: 0.8586\n",
            "Epoch 33/40\n",
            "468/468 - 15s - loss: 0.4557 - accuracy: 0.8293 - val_loss: 0.3784 - val_accuracy: 0.8605\n",
            "Epoch 34/40\n",
            "468/468 - 15s - loss: 0.4505 - accuracy: 0.8312 - val_loss: 0.3788 - val_accuracy: 0.8583\n",
            "Epoch 35/40\n",
            "468/468 - 15s - loss: 0.4539 - accuracy: 0.8299 - val_loss: 0.3773 - val_accuracy: 0.8592\n",
            "Epoch 36/40\n",
            "468/468 - 15s - loss: 0.4471 - accuracy: 0.8332 - val_loss: 0.3682 - val_accuracy: 0.8629\n",
            "Epoch 37/40\n",
            "468/468 - 15s - loss: 0.4481 - accuracy: 0.8330 - val_loss: 0.3803 - val_accuracy: 0.8616\n",
            "Epoch 38/40\n",
            "468/468 - 15s - loss: 0.4535 - accuracy: 0.8302 - val_loss: 0.3849 - val_accuracy: 0.8559\n",
            "Epoch 39/40\n",
            "468/468 - 15s - loss: 0.4464 - accuracy: 0.8330 - val_loss: 0.3824 - val_accuracy: 0.8580\n",
            "Epoch 40/40\n",
            "468/468 - 15s - loss: 0.4465 - accuracy: 0.8330 - val_loss: 0.3779 - val_accuracy: 0.8602\n"
          ],
          "name": "stdout"
        }
      ]
    },
    {
      "cell_type": "markdown",
      "metadata": {
        "id": "ut5Ct9dzk7zO",
        "colab_type": "text"
      },
      "source": [
        "1.   Once the data is manipulated with ImageDataGenerator, we fit it on top of the existing trained model to generalize it to the production data\n",
        "2.   The model yields satisfing results of giving a validation accuracy of 86%.\n",
        "\n"
      ]
    },
    {
      "cell_type": "code",
      "metadata": {
        "id": "kwz4TDsUURd1",
        "colab_type": "code",
        "colab": {
          "base_uri": "https://localhost:8080/",
          "height": 573
        },
        "outputId": "7a2ba0ff-071b-4d3b-adf4-11b8405799fa"
      },
      "source": [
        "import matplotlib.pyplot as plt\n",
        "plt.plot(history.history['accuracy'])\n",
        "plt.plot(history.history['val_accuracy'])\n",
        "plt.title('Model accuracy')\n",
        "plt.ylabel('Accuracy')\n",
        "plt.xlabel('Epoch')\n",
        "plt.legend(['Train', 'Test'], loc='upper left')\n",
        "plt.show()\n",
        "\n",
        "\n",
        "# Plot training & validation loss values\n",
        "plt.plot(history.history['loss'])\n",
        "plt.plot(history.history['val_loss'])\n",
        "plt.title('Model loss')\n",
        "plt.ylabel('Loss')\n",
        "plt.xlabel('Epoch')\n",
        "plt.legend(['Train', 'Test'], loc='upper left')\n",
        "plt.show()"
      ],
      "execution_count": 32,
      "outputs": [
        {
          "output_type": "display_data",
          "data": {
            "image/png": "[encoded data removed]",
            "text/plain": [
              "<Figure size 432x288 with 1 Axes>"
            ]
          },
          "metadata": {
            "tags": []
          }
        },
        {
          "output_type": "display_data",
          "data": {
            "image/png": "[encoded data removed]",
            "text/plain": [
              "<Figure size 432x288 with 1 Axes>"
            ]
          },
          "metadata": {
            "tags": []
          }
        }
      ]
    },
    {
      "cell_type": "code",
      "metadata": {
        "id": "Nig2BNa3n0sE",
        "colab_type": "code",
        "colab": {
          "base_uri": "https://localhost:8080/",
          "height": 69
        },
        "outputId": "889dcf60-2bd1-4dc7-d290-0a13a2752e70"
      },
      "source": [
        "score = model.evaluate(X_test, y_test)\n",
        "\n",
        "print('Loss: {:.4f}'.format(score[0]))\n",
        "print('Accuracy: {:.4f}'.format(score[1]))"
      ],
      "execution_count": 33,
      "outputs": [
        {
          "output_type": "stream",
          "text": [
            "10000/10000 [==============================] - 0s 47us/sample - loss: 0.3779 - accuracy: 0.8602\n",
            "Loss: 0.3779\n",
            "Accuracy: 0.8602\n"
          ],
          "name": "stdout"
        }
      ]
    },
    {
      "cell_type": "markdown",
      "metadata": {
        "id": "eATiW5dJuFor",
        "colab_type": "text"
      },
      "source": [
        "Summary\n",
        "\n",
        "---\n",
        "\n",
        "\n",
        "1.   We read the data from inbuilt dataset in keras.\n",
        "2.   We converted the target data into numerical categories.\n",
        "3.   We starndardized the pixels of the feature variables.\n",
        "4.   We build the ANN with two dense layer of 200 and 100 neurons. Add a BatchNormalization inbetween.\n",
        "5.   The model is overfitting since the accuracy with the training data is more than the validation accuracy.\n",
        "6.   We have to generalize the model so that it can predict right even when the images are changed interms of orientation, view point and flips.\n",
        "7.   We create a ImageDataGenerator object and fit the training data.\n",
        "8.   On top of the model we created we fit the manipulated images so that we generalize the model to predict better in the production.\n",
        "9.   In the generalized model we have a Test Accuracy of 86%, where as the training accuracy was just 83%.\n",
        "\n"
      ]
    }
  ]
}