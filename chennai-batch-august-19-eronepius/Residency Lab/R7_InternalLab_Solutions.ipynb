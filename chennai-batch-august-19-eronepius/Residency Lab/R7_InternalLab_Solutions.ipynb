{
  "nbformat": 4,
  "nbformat_minor": 0,
  "metadata": {
    "colab": {
      "name": "R7_InternalLab_Solutions.ipynb",
      "provenance": [],
      "collapsed_sections": []
    },
    "kernelspec": {
      "name": "python3",
      "display_name": "Python 3"
    },
    "accelerator": "GPU"
  },
  "cells": [
    {
      "cell_type": "markdown",
      "metadata": {
        "id": "MyfMmMnPJjvn",
        "colab_type": "text"
      },
      "source": [
        "## Train a simple convnet on the Fashion MNIST dataset"
      ]
    },
    {
      "cell_type": "markdown",
      "metadata": {
        "id": "zjcGOJhcJjvp",
        "colab_type": "text"
      },
      "source": [
        "In this, we will see how to deal with image data and train a convnet for image classification task."
      ]
    },
    {
      "cell_type": "markdown",
      "metadata": {
        "id": "jR0Pl2XjJjvq",
        "colab_type": "text"
      },
      "source": [
        "### Load the  `fashion_mnist`  dataset\n",
        "\n",
        "** Use keras.datasets to load the dataset **"
      ]
    },
    {
      "cell_type": "code",
      "metadata": {
        "id": "Qr75v_UYJjvs",
        "colab_type": "code",
        "outputId": "48afd261-ca04-4d2f-8cc5-494c53f4b406",
        "colab": {
          "base_uri": "https://localhost:8080/",
          "height": 220
        }
      },
      "source": [
        "from keras.datasets import fashion_mnist\n",
        "(x_train, y_train), (x_test, y_test) = fashion_mnist.load_data()"
      ],
      "execution_count": 1,
      "outputs": [
        {
          "output_type": "stream",
          "text": [
            "Using TensorFlow backend.\n"
          ],
          "name": "stderr"
        },
        {
          "output_type": "display_data",
          "data": {
            "text/html": [
              "<p style=\"color: red;\">\n",
              "The default version of TensorFlow in Colab will soon switch to TensorFlow 2.x.<br>\n",
              "We recommend you <a href=\"https://www.tensorflow.org/guide/migrate\" target=\"_blank\">upgrade</a> now \n",
              "or ensure your notebook will continue to use TensorFlow 1.x via the <code>%tensorflow_version 1.x</code> magic:\n",
              "<a href=\"https://colab.research.google.com/notebooks/tensorflow_version.ipynb\" target=\"_blank\">more info</a>.</p>\n"
            ],
            "text/plain": [
              "<IPython.core.display.HTML object>"
            ]
          },
          "metadata": {
            "tags": []
          }
        },
        {
          "output_type": "stream",
          "text": [
            "Downloading data from http://fashion-mnist.s3-website.eu-central-1.amazonaws.com/train-labels-idx1-ubyte.gz\n",
            "32768/29515 [=================================] - 0s 0us/step\n",
            "Downloading data from http://fashion-mnist.s3-website.eu-central-1.amazonaws.com/train-images-idx3-ubyte.gz\n",
            "26427392/26421880 [==============================] - 0s 0us/step\n",
            "Downloading data from http://fashion-mnist.s3-website.eu-central-1.amazonaws.com/t10k-labels-idx1-ubyte.gz\n",
            "8192/5148 [===============================================] - 0s 0us/step\n",
            "Downloading data from http://fashion-mnist.s3-website.eu-central-1.amazonaws.com/t10k-images-idx3-ubyte.gz\n",
            "4423680/4422102 [==============================] - 0s 0us/step\n"
          ],
          "name": "stdout"
        }
      ]
    },
    {
      "cell_type": "markdown",
      "metadata": {
        "id": "hTI42-0qJjvw",
        "colab_type": "text"
      },
      "source": [
        "### Find no.of samples are there in training and test datasets"
      ]
    },
    {
      "cell_type": "code",
      "metadata": {
        "id": "g2sf67VoJjvx",
        "colab_type": "code",
        "outputId": "23225f36-4667-46ba-fe8a-28ac5c87e49f",
        "colab": {
          "base_uri": "https://localhost:8080/",
          "height": 69
        }
      },
      "source": [
        "print(\"No of samples in training and test data:\\n Training : {} \\n Test: {}\".format(x_train.shape[0],x_test.shape[0]))"
      ],
      "execution_count": 2,
      "outputs": [
        {
          "output_type": "stream",
          "text": [
            "No of samples in training and test data:\n",
            " Training : 60000 \n",
            " Test: 10000\n"
          ],
          "name": "stdout"
        }
      ]
    },
    {
      "cell_type": "markdown",
      "metadata": {
        "id": "WytT2eRnJjv4",
        "colab_type": "text"
      },
      "source": [
        "### Find dimensions of an image in the dataset"
      ]
    },
    {
      "cell_type": "code",
      "metadata": {
        "id": "XycQGBSGJjv5",
        "colab_type": "code",
        "outputId": "d1d88789-fb85-4851-d1f3-f9299f86fbba",
        "colab": {
          "base_uri": "https://localhost:8080/",
          "height": 35
        }
      },
      "source": [
        "print(\"Dimensions of the Images are {} X {}.\".format(x_train.shape[1], x_train.shape[2]))"
      ],
      "execution_count": 3,
      "outputs": [
        {
          "output_type": "stream",
          "text": [
            "Dimensions of the Images are 28 X 28.\n"
          ],
          "name": "stdout"
        }
      ]
    },
    {
      "cell_type": "markdown",
      "metadata": {
        "id": "5jtdZ7RqJjv8",
        "colab_type": "text"
      },
      "source": [
        "### Convert train and test labels to one hot vectors\n",
        "\n",
        "** check `keras.utils.to_categorical()` **"
      ]
    },
    {
      "cell_type": "code",
      "metadata": {
        "id": "sAD3q5I6Jjv9",
        "colab_type": "code",
        "colab": {}
      },
      "source": [
        "from tensorflow.keras.utils import to_categorical\n",
        "y_train = to_categorical(\n",
        "    y_train,\n",
        "    num_classes=10,\n",
        "    dtype='float64'\n",
        ")"
      ],
      "execution_count": 0,
      "outputs": []
    },
    {
      "cell_type": "code",
      "metadata": {
        "id": "hjbZvzr5aC3X",
        "colab_type": "code",
        "colab": {
          "base_uri": "https://localhost:8080/",
          "height": 35
        },
        "outputId": "f59d4fd0-3340-42dd-89ed-543831855a5b"
      },
      "source": [
        "y_train.shape"
      ],
      "execution_count": 5,
      "outputs": [
        {
          "output_type": "execute_result",
          "data": {
            "text/plain": [
              "(60000, 10)"
            ]
          },
          "metadata": {
            "tags": []
          },
          "execution_count": 5
        }
      ]
    },
    {
      "cell_type": "code",
      "metadata": {
        "id": "mgHSCXy3JjwA",
        "colab_type": "code",
        "colab": {}
      },
      "source": [
        "y_test = to_categorical(\n",
        "    y_test,\n",
        "    num_classes=10,\n",
        "    dtype='float32'\n",
        ")"
      ],
      "execution_count": 0,
      "outputs": []
    },
    {
      "cell_type": "code",
      "metadata": {
        "id": "Zzea3Zh5r-ko",
        "colab_type": "code",
        "colab": {
          "base_uri": "https://localhost:8080/",
          "height": 35
        },
        "outputId": "536af8d8-67ee-41c1-a5b5-70cb02e8da72"
      },
      "source": [
        "y_test.shape"
      ],
      "execution_count": 19,
      "outputs": [
        {
          "output_type": "execute_result",
          "data": {
            "text/plain": [
              "(10000, 10)"
            ]
          },
          "metadata": {
            "tags": []
          },
          "execution_count": 19
        }
      ]
    },
    {
      "cell_type": "markdown",
      "metadata": {
        "id": "xO5BRBzBJjwD",
        "colab_type": "text"
      },
      "source": [
        "### Normalize both the train and test image data from 0-255 to 0-1"
      ]
    },
    {
      "cell_type": "code",
      "metadata": {
        "id": "3fUQpMHxJjwE",
        "colab_type": "code",
        "colab": {}
      },
      "source": [
        "X_train = x_train/255\n",
        "X_test =  x_test/255"
      ],
      "execution_count": 0,
      "outputs": []
    },
    {
      "cell_type": "markdown",
      "metadata": {
        "id": "da5-DwgrJjwM",
        "colab_type": "text"
      },
      "source": [
        "### Reshape the data from 28x28 to 28x28x1 to match input dimensions in Conv2D layer in keras"
      ]
    },
    {
      "cell_type": "code",
      "metadata": {
        "id": "LPGVQ-JJJjwN",
        "colab_type": "code",
        "colab": {}
      },
      "source": [
        "w, h = 28, 28\n",
        "X_train = X_train.reshape(X_train.shape[0], w, h, 1)\n",
        "X_test = X_test.reshape(X_test.shape[0], w, h, 1)"
      ],
      "execution_count": 0,
      "outputs": []
    },
    {
      "cell_type": "code",
      "metadata": {
        "id": "4gFEg-UoWAE_",
        "colab_type": "code",
        "colab": {
          "base_uri": "https://localhost:8080/",
          "height": 52
        },
        "outputId": "dd0ef3dd-b9dd-4227-ccdd-e9e50c6847b3"
      },
      "source": [
        "print(X_train.shape)\n",
        "print(X_test.shape)"
      ],
      "execution_count": 22,
      "outputs": [
        {
          "output_type": "stream",
          "text": [
            "(60000, 28, 28, 1)\n",
            "(10000, 28, 28, 1)\n"
          ],
          "name": "stdout"
        }
      ]
    },
    {
      "cell_type": "markdown",
      "metadata": {
        "id": "OFRRTJq8JjwQ",
        "colab_type": "text"
      },
      "source": [
        "### Import the necessary layers from keras to build the model"
      ]
    },
    {
      "cell_type": "code",
      "metadata": {
        "id": "bbDYcb-jW6AR",
        "colab_type": "code",
        "colab": {}
      },
      "source": [
        "#Clear any previous model from memory\n",
        "import tensorflow\n",
        "tensorflow.keras.backend.clear_session()"
      ],
      "execution_count": 0,
      "outputs": []
    },
    {
      "cell_type": "code",
      "metadata": {
        "id": "dWTZYnKSJjwR",
        "colab_type": "code",
        "colab": {}
      },
      "source": [
        "from tensorflow.keras import datasets, layers, models"
      ],
      "execution_count": 0,
      "outputs": []
    },
    {
      "cell_type": "markdown",
      "metadata": {
        "id": "C18AoS7eJjwU",
        "colab_type": "text"
      },
      "source": [
        "### Build a model \n",
        "\n",
        "** with 2 Conv layers having `32 3*3 filters` in both convolutions with `relu activations` and `flatten` before passing the feature map into 2 fully connected layers (or Dense Layers) having 128 and 10 neurons with `relu` and `softmax` activations respectively. Now, using `categorical_crossentropy` loss with `adam` optimizer train the model with early stopping `patience=5` and no.of `epochs=10`. **"
      ]
    },
    {
      "cell_type": "code",
      "metadata": {
        "id": "DORCLgSwJjwV",
        "colab_type": "code",
        "colab": {}
      },
      "source": [
        "model = models.Sequential()\n",
        "model.add(layers.Conv2D(32, (3, 3), activation='relu', input_shape=(w, h, 1)))\n",
        "model.add(layers.Conv2D(32, (3, 3), activation='relu'))  \n",
        "model.add(layers.Flatten())\n",
        "model.add(layers.Dense(128,activation='relu'))\n",
        "model.add(layers.Dense(10, activation='softmax'))"
      ],
      "execution_count": 0,
      "outputs": []
    },
    {
      "cell_type": "code",
      "metadata": {
        "id": "Pe7Hh52oYNfu",
        "colab_type": "code",
        "colab": {}
      },
      "source": [
        "model.compile(optimizer='adam', loss='categorical_crossentropy', metrics=['accuracy'])"
      ],
      "execution_count": 0,
      "outputs": []
    },
    {
      "cell_type": "code",
      "metadata": {
        "id": "-2WRnnZaZacE",
        "colab_type": "code",
        "colab": {}
      },
      "source": [
        "earlystopping = tensorflow.keras.callbacks.EarlyStopping(monitor='loss',\n",
        "                              min_delta=0,\n",
        "                              patience=5,\n",
        "                              verbose=0, mode='auto')"
      ],
      "execution_count": 0,
      "outputs": []
    },
    {
      "cell_type": "code",
      "metadata": {
        "id": "1B9tyho_Yrqt",
        "colab_type": "code",
        "colab": {
          "base_uri": "https://localhost:8080/",
          "height": 381
        },
        "outputId": "177df897-7218-4aa0-ad9d-79a816fe0d42"
      },
      "source": [
        "history = model.fit(X_train, y_train, epochs=10, validation_data=(X_test, y_test), callbacks=[earlystopping])"
      ],
      "execution_count": 39,
      "outputs": [
        {
          "output_type": "stream",
          "text": [
            "Train on 60000 samples, validate on 10000 samples\n",
            "Epoch 1/10\n",
            "60000/60000 [==============================] - 8s 131us/sample - loss: 0.3712 - acc: 0.8679 - val_loss: 0.2841 - val_acc: 0.8948\n",
            "Epoch 2/10\n",
            "60000/60000 [==============================] - 8s 127us/sample - loss: 0.2300 - acc: 0.9157 - val_loss: 0.2785 - val_acc: 0.8994\n",
            "Epoch 3/10\n",
            "60000/60000 [==============================] - 8s 129us/sample - loss: 0.1679 - acc: 0.9376 - val_loss: 0.2546 - val_acc: 0.9145\n",
            "Epoch 4/10\n",
            "60000/60000 [==============================] - 8s 128us/sample - loss: 0.1155 - acc: 0.9567 - val_loss: 0.2732 - val_acc: 0.9141\n",
            "Epoch 5/10\n",
            "60000/60000 [==============================] - 8s 129us/sample - loss: 0.0774 - acc: 0.9714 - val_loss: 0.3272 - val_acc: 0.9125\n",
            "Epoch 6/10\n",
            "60000/60000 [==============================] - 8s 127us/sample - loss: 0.0526 - acc: 0.9807 - val_loss: 0.3402 - val_acc: 0.9159\n",
            "Epoch 7/10\n",
            "60000/60000 [==============================] - 8s 127us/sample - loss: 0.0355 - acc: 0.9871 - val_loss: 0.3943 - val_acc: 0.9096\n",
            "Epoch 8/10\n",
            "60000/60000 [==============================] - 8s 128us/sample - loss: 0.0299 - acc: 0.9895 - val_loss: 0.4275 - val_acc: 0.9088\n",
            "Epoch 9/10\n",
            "60000/60000 [==============================] - 8s 130us/sample - loss: 0.0228 - acc: 0.9919 - val_loss: 0.4771 - val_acc: 0.9138\n",
            "Epoch 10/10\n",
            "60000/60000 [==============================] - 8s 127us/sample - loss: 0.0175 - acc: 0.9940 - val_loss: 0.5727 - val_acc: 0.9092\n"
          ],
          "name": "stdout"
        }
      ]
    },
    {
      "cell_type": "code",
      "metadata": {
        "id": "TaM3IFlvnToM",
        "colab_type": "code",
        "colab": {
          "base_uri": "https://localhost:8080/",
          "height": 573
        },
        "outputId": "475370bd-4bea-49ac-c9b0-9b8b4c31643a"
      },
      "source": [
        "import matplotlib.pyplot as plt\n",
        "plt.plot(history.history['acc'])\n",
        "plt.plot(history.history['val_acc'])\n",
        "plt.title('Model accuracy')\n",
        "plt.ylabel('Accuracy')\n",
        "plt.xlabel('Epoch')\n",
        "plt.legend(['Train', 'Test'], loc='upper left')\n",
        "plt.show()\n",
        "\n",
        "\n",
        "# Plot training & validation loss values\n",
        "plt.plot(history.history['loss'])\n",
        "plt.plot(history.history['val_loss'])\n",
        "plt.title('Model loss')\n",
        "plt.ylabel('Loss')\n",
        "plt.xlabel('Epoch')\n",
        "plt.legend(['Train', 'Test'], loc='upper left')\n",
        "plt.show()"
      ],
      "execution_count": 40,
      "outputs": [
        {
          "output_type": "display_data",
          "data": {
            "image/png": "[encoded data removed]",
            "text/plain": [
              "<Figure size 432x288 with 1 Axes>"
            ]
          },
          "metadata": {
            "tags": []
          }
        },
        {
          "output_type": "display_data",
          "data": {
            "image/png": "[encoded data removed]",
            "text/plain": [
              "<Figure size 432x288 with 1 Axes>"
            ]
          },
          "metadata": {
            "tags": []
          }
        }
      ]
    },
    {
      "cell_type": "markdown",
      "metadata": {
        "id": "ju69vKdIJjwX",
        "colab_type": "text"
      },
      "source": [
        "### Now, to the above model add `max` pooling layer of `filter size 2x2` and `dropout` layer with `p=0.25` after the 2 conv layers and run the model"
      ]
    },
    {
      "cell_type": "code",
      "metadata": {
        "id": "L2hAP94vJjwY",
        "colab_type": "code",
        "colab": {}
      },
      "source": [
        "model1 = models.Sequential()\n",
        "model1.add(layers.Conv2D(32, (3, 3), activation='relu', input_shape=(w, h, 1)))\n",
        "model1.add(layers.Conv2D(32, (3, 3), activation='relu')) \n",
        "model1.add(layers.MaxPooling2D((2, 2)))\n",
        "model1.add(layers.Dropout(.25)) \n",
        "model1.add(layers.Flatten())\n",
        "model1.add(layers.Dense(128,activation='relu'))\n",
        "model1.add(layers.Dense(10, activation='softmax'))"
      ],
      "execution_count": 0,
      "outputs": []
    },
    {
      "cell_type": "code",
      "metadata": {
        "id": "9rALu0O2d5JS",
        "colab_type": "code",
        "colab": {}
      },
      "source": [
        "model1.compile(optimizer='adam', loss='categorical_crossentropy', metrics=['accuracy'])"
      ],
      "execution_count": 0,
      "outputs": []
    },
    {
      "cell_type": "code",
      "metadata": {
        "id": "aAjtc0X5d7GR",
        "colab_type": "code",
        "colab": {
          "base_uri": "https://localhost:8080/",
          "height": 381
        },
        "outputId": "9180cf2c-9059-4e31-b735-60fca465677b"
      },
      "source": [
        "history = model1.fit(X_train, y_train, epochs=10,validation_data=(X_test, y_test), callbacks=[earlystopping])"
      ],
      "execution_count": 43,
      "outputs": [
        {
          "output_type": "stream",
          "text": [
            "Train on 60000 samples, validate on 10000 samples\n",
            "Epoch 1/10\n",
            "60000/60000 [==============================] - 8s 125us/sample - loss: 0.3912 - acc: 0.8593 - val_loss: 0.3092 - val_acc: 0.8870\n",
            "Epoch 2/10\n",
            "60000/60000 [==============================] - 8s 126us/sample - loss: 0.2560 - acc: 0.9058 - val_loss: 0.2571 - val_acc: 0.9045\n",
            "Epoch 3/10\n",
            "60000/60000 [==============================] - 7s 123us/sample - loss: 0.2107 - acc: 0.9219 - val_loss: 0.2513 - val_acc: 0.9100\n",
            "Epoch 4/10\n",
            "60000/60000 [==============================] - 7s 123us/sample - loss: 0.1769 - acc: 0.9345 - val_loss: 0.2325 - val_acc: 0.9144\n",
            "Epoch 5/10\n",
            "60000/60000 [==============================] - 7s 123us/sample - loss: 0.1499 - acc: 0.9444 - val_loss: 0.2369 - val_acc: 0.9164\n",
            "Epoch 6/10\n",
            "60000/60000 [==============================] - 8s 125us/sample - loss: 0.1267 - acc: 0.9525 - val_loss: 0.2256 - val_acc: 0.9210\n",
            "Epoch 7/10\n",
            "60000/60000 [==============================] - 7s 122us/sample - loss: 0.1102 - acc: 0.9581 - val_loss: 0.2392 - val_acc: 0.9239\n",
            "Epoch 8/10\n",
            "60000/60000 [==============================] - 8s 129us/sample - loss: 0.0912 - acc: 0.9654 - val_loss: 0.2575 - val_acc: 0.9207\n",
            "Epoch 9/10\n",
            "60000/60000 [==============================] - 7s 123us/sample - loss: 0.0814 - acc: 0.9694 - val_loss: 0.2756 - val_acc: 0.9218\n",
            "Epoch 10/10\n",
            "60000/60000 [==============================] - 8s 127us/sample - loss: 0.0695 - acc: 0.9740 - val_loss: 0.2916 - val_acc: 0.9203\n"
          ],
          "name": "stdout"
        }
      ]
    },
    {
      "cell_type": "code",
      "metadata": {
        "id": "E8fM-uD-oTKJ",
        "colab_type": "code",
        "colab": {
          "base_uri": "https://localhost:8080/",
          "height": 573
        },
        "outputId": "d2835034-f9ff-48be-edb9-a5671f8631b1"
      },
      "source": [
        "import matplotlib.pyplot as plt\n",
        "plt.plot(history.history['acc'])\n",
        "plt.plot(history.history['val_acc'])\n",
        "plt.title('Model accuracy')\n",
        "plt.ylabel('Accuracy')\n",
        "plt.xlabel('Epoch')\n",
        "plt.legend(['Train', 'Test'], loc='upper left')\n",
        "plt.show()\n",
        "\n",
        "\n",
        "\n",
        "# Plot training & validation loss values\n",
        "plt.plot(history.history['loss'])\n",
        "plt.plot(history.history['val_loss'])\n",
        "plt.title('Model loss')\n",
        "plt.ylabel('Loss')\n",
        "plt.xlabel('Epoch')\n",
        "plt.legend(['Train', 'Test'], loc='upper left')\n",
        "plt.show()"
      ],
      "execution_count": 44,
      "outputs": [
        {
          "output_type": "display_data",
          "data": {
            "image/png": "[encoded data removed]",
            "text/plain": [
              "<Figure size 432x288 with 1 Axes>"
            ]
          },
          "metadata": {
            "tags": []
          }
        },
        {
          "output_type": "display_data",
          "data": {
            "image/png": "[encoded data removed]",
            "text/plain": [
              "<Figure size 432x288 with 1 Axes>"
            ]
          },
          "metadata": {
            "tags": []
          }
        }
      ]
    },
    {
      "cell_type": "markdown",
      "metadata": {
        "id": "lGTA3bfEJjwa",
        "colab_type": "text"
      },
      "source": [
        "### Now, to the above model, lets add Data Augmentation "
      ]
    },
    {
      "cell_type": "markdown",
      "metadata": {
        "id": "F6gX8n5SJjwb",
        "colab_type": "text"
      },
      "source": [
        "### Import the ImageDataGenrator from keras and fit the training images"
      ]
    },
    {
      "cell_type": "code",
      "metadata": {
        "id": "Cbz4uHBuJjwc",
        "colab_type": "code",
        "colab": {}
      },
      "source": [
        "from tensorflow.keras.preprocessing.image import ImageDataGenerator\n",
        "datagen = ImageDataGenerator(\n",
        "    featurewise_center=True,\n",
        "    featurewise_std_normalization=True,\n",
        "    rotation_range=50,\n",
        "    width_shift_range=0.3,\n",
        "    height_shift_range=0.2,\n",
        "    horizontal_flip=False)"
      ],
      "execution_count": 0,
      "outputs": []
    },
    {
      "cell_type": "markdown",
      "metadata": {
        "id": "pl-8dOo7Jjwf",
        "colab_type": "text"
      },
      "source": [
        "#### Showing 5 versions of the first image in training dataset using image datagenerator.flow()"
      ]
    },
    {
      "cell_type": "code",
      "metadata": {
        "id": "E9pOtUw8foed",
        "colab_type": "code",
        "colab": {
          "base_uri": "https://localhost:8080/",
          "height": 179
        },
        "outputId": "09c64cea-2434-433a-ad32-98db78d06e70"
      },
      "source": [
        "from matplotlib import pyplot as plt\n",
        "gen = datagen.flow(X_train[0:1], batch_size=1)\n",
        "for i in range(1, 6):\n",
        "    plt.subplot(1,5,i)\n",
        "    plt.axis(\"off\")\n",
        "    plt.imshow(gen.next().squeeze(), cmap='gray')\n",
        "    plt.plot()\n",
        "plt.show()"
      ],
      "execution_count": 46,
      "outputs": [
        {
          "output_type": "stream",
          "text": [
            "/usr/local/lib/python3.6/dist-packages/keras_preprocessing/image/image_data_generator.py:716: UserWarning: This ImageDataGenerator specifies `featurewise_center`, but it hasn't been fit on any training data. Fit it first by calling `.fit(numpy_data)`.\n",
            "  warnings.warn('This ImageDataGenerator specifies '\n",
            "/usr/local/lib/python3.6/dist-packages/keras_preprocessing/image/image_data_generator.py:724: UserWarning: This ImageDataGenerator specifies `featurewise_std_normalization`, but it hasn't been fit on any training data. Fit it first by calling `.fit(numpy_data)`.\n",
            "  warnings.warn('This ImageDataGenerator specifies '\n"
          ],
          "name": "stderr"
        },
        {
          "output_type": "display_data",
          "data": {
            "image/png": "[encoded data removed]",
            "text/plain": [
              "<Figure size 432x288 with 5 Axes>"
            ]
          },
          "metadata": {
            "tags": []
          }
        }
      ]
    },
    {
      "cell_type": "markdown",
      "metadata": {
        "id": "dmPl5yE8Jjwm",
        "colab_type": "text"
      },
      "source": [
        "### Run the above model using fit_generator()"
      ]
    },
    {
      "cell_type": "code",
      "metadata": {
        "id": "44ZnDdJYJjwn",
        "colab_type": "code",
        "colab": {
          "base_uri": "https://localhost:8080/",
          "height": 800
        },
        "outputId": "f5a97011-1d4e-458e-a9be-511ad66099f4"
      },
      "source": [
        "history = model.fit_generator(datagen.flow(X_train, y_train), validation_data=(X_test, y_test), epochs=10)"
      ],
      "execution_count": 48,
      "outputs": [
        {
          "output_type": "stream",
          "text": [
            "Epoch 1/10\n",
            "  16/1875 [..............................] - ETA: 20s - loss: 3.8779 - acc: 0.1641"
          ],
          "name": "stdout"
        },
        {
          "output_type": "stream",
          "text": [
            "/usr/local/lib/python3.6/dist-packages/keras_preprocessing/image/image_data_generator.py:716: UserWarning: This ImageDataGenerator specifies `featurewise_center`, but it hasn't been fit on any training data. Fit it first by calling `.fit(numpy_data)`.\n",
            "  warnings.warn('This ImageDataGenerator specifies '\n",
            "/usr/local/lib/python3.6/dist-packages/keras_preprocessing/image/image_data_generator.py:724: UserWarning: This ImageDataGenerator specifies `featurewise_std_normalization`, but it hasn't been fit on any training data. Fit it first by calling `.fit(numpy_data)`.\n",
            "  warnings.warn('This ImageDataGenerator specifies '\n"
          ],
          "name": "stderr"
        },
        {
          "output_type": "stream",
          "text": [
            "1871/1875 [============================>.] - ETA: 0s - loss: 1.3468 - acc: 0.5102Epoch 1/10\n",
            "10000/1875 [================================================================================================================================================================] - 1s 105us/sample - loss: 0.7737 - acc: 0.7479\n",
            "1875/1875 [==============================] - 21s 11ms/step - loss: 1.3461 - acc: 0.5106 - val_loss: 0.7142 - val_acc: 0.7479\n",
            "Epoch 2/10\n",
            "1874/1875 [============================>.] - ETA: 0s - loss: 0.8383 - acc: 0.6914Epoch 1/10\n",
            "10000/1875 [================================================================================================================================================================] - 1s 108us/sample - loss: 0.7225 - acc: 0.7434\n",
            "1875/1875 [==============================] - 21s 11ms/step - loss: 0.8383 - acc: 0.6914 - val_loss: 0.7443 - val_acc: 0.7434\n",
            "Epoch 3/10\n",
            "1873/1875 [============================>.] - ETA: 0s - loss: 0.7389 - acc: 0.7268Epoch 1/10\n",
            "10000/1875 [================================================================================================================================================================] - 1s 111us/sample - loss: 0.6686 - acc: 0.7799\n",
            "1875/1875 [==============================] - 21s 11ms/step - loss: 0.7389 - acc: 0.7268 - val_loss: 0.6102 - val_acc: 0.7799\n",
            "Epoch 4/10\n",
            "1872/1875 [============================>.] - ETA: 0s - loss: 0.6817 - acc: 0.7476Epoch 1/10\n",
            "10000/1875 [================================================================================================================================================================] - 1s 106us/sample - loss: 0.7028 - acc: 0.8033\n",
            "1875/1875 [==============================] - 22s 12ms/step - loss: 0.6817 - acc: 0.7476 - val_loss: 0.5715 - val_acc: 0.8033\n",
            "Epoch 5/10\n",
            "1872/1875 [============================>.] - ETA: 0s - loss: 0.6505 - acc: 0.7579Epoch 1/10\n",
            "10000/1875 [================================================================================================================================================================] - 1s 107us/sample - loss: 0.4652 - acc: 0.8161\n",
            "1875/1875 [==============================] - 21s 11ms/step - loss: 0.6504 - acc: 0.7580 - val_loss: 0.5371 - val_acc: 0.8161\n",
            "Epoch 6/10\n",
            "1874/1875 [============================>.] - ETA: 0s - loss: 0.6219 - acc: 0.7697Epoch 1/10\n",
            "10000/1875 [================================================================================================================================================================] - 1s 104us/sample - loss: 0.4384 - acc: 0.8220\n",
            "1875/1875 [==============================] - 21s 11ms/step - loss: 0.6219 - acc: 0.7697 - val_loss: 0.5124 - val_acc: 0.8220\n",
            "Epoch 7/10\n",
            "1870/1875 [============================>.] - ETA: 0s - loss: 0.5992 - acc: 0.7785Epoch 1/10\n",
            "10000/1875 [================================================================================================================================================================] - 1s 110us/sample - loss: 0.4445 - acc: 0.8307\n",
            "1875/1875 [==============================] - 21s 11ms/step - loss: 0.5996 - acc: 0.7783 - val_loss: 0.4892 - val_acc: 0.8307\n",
            "Epoch 8/10\n",
            "1872/1875 [============================>.] - ETA: 0s - loss: 0.5793 - acc: 0.7857Epoch 1/10\n",
            "10000/1875 [================================================================================================================================================================] - 1s 107us/sample - loss: 0.4972 - acc: 0.8237\n",
            "1875/1875 [==============================] - 21s 11ms/step - loss: 0.5793 - acc: 0.7858 - val_loss: 0.5079 - val_acc: 0.8237\n",
            "Epoch 9/10\n",
            "1872/1875 [============================>.] - ETA: 0s - loss: 0.5640 - acc: 0.7939Epoch 1/10\n",
            "10000/1875 [================================================================================================================================================================] - 1s 110us/sample - loss: 0.4701 - acc: 0.8227\n",
            "1875/1875 [==============================] - 21s 11ms/step - loss: 0.5641 - acc: 0.7938 - val_loss: 0.5236 - val_acc: 0.8227\n",
            "Epoch 10/10\n",
            "1873/1875 [============================>.] - ETA: 0s - loss: 0.5530 - acc: 0.7973Epoch 1/10\n",
            "10000/1875 [================================================================================================================================================================] - 1s 109us/sample - loss: 0.5511 - acc: 0.8222\n",
            "1875/1875 [==============================] - 21s 11ms/step - loss: 0.5531 - acc: 0.7973 - val_loss: 0.5099 - val_acc: 0.8222\n"
          ],
          "name": "stdout"
        }
      ]
    },
    {
      "cell_type": "code",
      "metadata": {
        "id": "McQxxbUppkHG",
        "colab_type": "code",
        "colab": {
          "base_uri": "https://localhost:8080/",
          "height": 573
        },
        "outputId": "f964b583-5e6b-4843-a2dc-10f1268807c6"
      },
      "source": [
        "plt.plot(history.history['acc'])\n",
        "plt.plot(history.history['val_acc'])\n",
        "plt.title('Model accuracy')\n",
        "plt.ylabel('Accuracy')\n",
        "plt.xlabel('Epoch')\n",
        "plt.legend(['Train', 'Test'], loc='upper left')\n",
        "plt.show()\n",
        "\n",
        "\n",
        "\n",
        "# Plot training & validation loss values\n",
        "plt.plot(history.history['loss'])\n",
        "plt.plot(history.history['val_loss'])\n",
        "plt.title('Model loss')\n",
        "plt.ylabel('Loss')\n",
        "plt.xlabel('Epoch')\n",
        "plt.legend(['Train', 'Test'], loc='upper left')\n",
        "plt.show()"
      ],
      "execution_count": 49,
      "outputs": [
        {
          "output_type": "display_data",
          "data": {
            "image/png": "[encoded data removed]",
            "text/plain": [
              "<Figure size 432x288 with 1 Axes>"
            ]
          },
          "metadata": {
            "tags": []
          }
        },
        {
          "output_type": "display_data",
          "data": {
            "image/png": "[encoded data removed]",
            "text/plain": [
              "<Figure size 432x288 with 1 Axes>"
            ]
          },
          "metadata": {
            "tags": []
          }
        }
      ]
    },
    {
      "cell_type": "code",
      "metadata": {
        "id": "oVZGUrKskuEd",
        "colab_type": "code",
        "colab": {
          "base_uri": "https://localhost:8080/",
          "height": 1000
        },
        "outputId": "de0db3d0-983b-4af9-e404-05717ddf6ee6"
      },
      "source": [
        "history = model1.fit_generator(datagen.flow(X_train, y_train),steps_per_epoch=len(x_train) / 32, validation_data=(X_test, y_test), epochs=25)"
      ],
      "execution_count": 51,
      "outputs": [
        {
          "output_type": "stream",
          "text": [
            "Epoch 1/25\n",
            "  19/1875 [..............................] - ETA: 18s - loss: 3.2048 - acc: 0.1908"
          ],
          "name": "stdout"
        },
        {
          "output_type": "stream",
          "text": [
            "/usr/local/lib/python3.6/dist-packages/keras_preprocessing/image/image_data_generator.py:716: UserWarning: This ImageDataGenerator specifies `featurewise_center`, but it hasn't been fit on any training data. Fit it first by calling `.fit(numpy_data)`.\n",
            "  warnings.warn('This ImageDataGenerator specifies '\n",
            "/usr/local/lib/python3.6/dist-packages/keras_preprocessing/image/image_data_generator.py:724: UserWarning: This ImageDataGenerator specifies `featurewise_std_normalization`, but it hasn't been fit on any training data. Fit it first by calling `.fit(numpy_data)`.\n",
            "  warnings.warn('This ImageDataGenerator specifies '\n"
          ],
          "name": "stderr"
        },
        {
          "output_type": "stream",
          "text": [
            "1871/1875 [============================>.] - ETA: 0s - loss: 1.0972 - acc: 0.6014Epoch 1/25\n",
            "10000/1875 [================================================================================================================================================================] - 1s 101us/sample - loss: 0.5410 - acc: 0.7698\n",
            "1875/1875 [==============================] - 20s 11ms/step - loss: 1.0964 - acc: 0.6016 - val_loss: 0.6026 - val_acc: 0.7698\n",
            "Epoch 2/25\n",
            "1871/1875 [============================>.] - ETA: 0s - loss: 0.7750 - acc: 0.7141Epoch 1/25\n",
            "10000/1875 [================================================================================================================================================================] - 1s 103us/sample - loss: 0.4950 - acc: 0.7982\n",
            "1875/1875 [==============================] - 20s 11ms/step - loss: 0.7749 - acc: 0.7142 - val_loss: 0.5520 - val_acc: 0.7982\n",
            "Epoch 3/25\n",
            "1869/1875 [============================>.] - ETA: 0s - loss: 0.6960 - acc: 0.7424Epoch 1/25\n",
            "10000/1875 [================================================================================================================================================================] - 1s 103us/sample - loss: 0.4520 - acc: 0.8035\n",
            "1875/1875 [==============================] - 20s 11ms/step - loss: 0.6956 - acc: 0.7425 - val_loss: 0.5347 - val_acc: 0.8035\n",
            "Epoch 4/25\n",
            "1870/1875 [============================>.] - ETA: 0s - loss: 0.6470 - acc: 0.7617Epoch 1/25\n",
            "10000/1875 [================================================================================================================================================================] - 1s 100us/sample - loss: 0.4089 - acc: 0.8312\n",
            "1875/1875 [==============================] - 20s 11ms/step - loss: 0.6469 - acc: 0.7618 - val_loss: 0.4672 - val_acc: 0.8312\n",
            "Epoch 5/25\n",
            "1870/1875 [============================>.] - ETA: 0s - loss: 0.6163 - acc: 0.7734Epoch 1/25\n",
            "10000/1875 [================================================================================================================================================================] - 1s 100us/sample - loss: 0.4507 - acc: 0.8393\n",
            "1875/1875 [==============================] - 20s 11ms/step - loss: 0.6162 - acc: 0.7735 - val_loss: 0.4514 - val_acc: 0.8393\n",
            "Epoch 6/25\n",
            "1872/1875 [============================>.] - ETA: 0s - loss: 0.5877 - acc: 0.7838Epoch 1/25\n",
            "10000/1875 [================================================================================================================================================================] - 1s 99us/sample - loss: 0.4345 - acc: 0.8091\n",
            "1875/1875 [==============================] - 20s 11ms/step - loss: 0.5876 - acc: 0.7838 - val_loss: 0.5289 - val_acc: 0.8091\n",
            "Epoch 7/25\n",
            "1873/1875 [============================>.] - ETA: 0s - loss: 0.5673 - acc: 0.7899Epoch 1/25\n",
            "10000/1875 [================================================================================================================================================================] - 1s 102us/sample - loss: 0.3965 - acc: 0.8282\n",
            "1875/1875 [==============================] - 19s 10ms/step - loss: 0.5672 - acc: 0.7900 - val_loss: 0.4661 - val_acc: 0.8282\n",
            "Epoch 8/25\n",
            "1874/1875 [============================>.] - ETA: 0s - loss: 0.5587 - acc: 0.7939Epoch 1/25\n",
            "10000/1875 [================================================================================================================================================================] - 1s 102us/sample - loss: 0.3943 - acc: 0.8341\n",
            "1875/1875 [==============================] - 20s 10ms/step - loss: 0.5586 - acc: 0.7939 - val_loss: 0.4543 - val_acc: 0.8341\n",
            "Epoch 9/25\n",
            "1870/1875 [============================>.] - ETA: 0s - loss: 0.5417 - acc: 0.8009Epoch 1/25\n",
            "10000/1875 [================================================================================================================================================================] - 1s 103us/sample - loss: 0.4268 - acc: 0.8254\n",
            "1875/1875 [==============================] - 19s 10ms/step - loss: 0.5416 - acc: 0.8008 - val_loss: 0.4850 - val_acc: 0.8254\n",
            "Epoch 10/25\n",
            "1872/1875 [============================>.] - ETA: 0s - loss: 0.5251 - acc: 0.8076Epoch 1/25\n",
            "10000/1875 [================================================================================================================================================================] - 1s 100us/sample - loss: 0.4284 - acc: 0.8259\n",
            "1875/1875 [==============================] - 19s 10ms/step - loss: 0.5251 - acc: 0.8075 - val_loss: 0.4850 - val_acc: 0.8259\n",
            "Epoch 11/25\n",
            "1869/1875 [============================>.] - ETA: 0s - loss: 0.5214 - acc: 0.8079Epoch 1/25\n",
            "10000/1875 [================================================================================================================================================================] - 1s 99us/sample - loss: 0.3869 - acc: 0.8467\n",
            "1875/1875 [==============================] - 20s 10ms/step - loss: 0.5216 - acc: 0.8079 - val_loss: 0.4279 - val_acc: 0.8467\n",
            "Epoch 12/25\n",
            "1869/1875 [============================>.] - ETA: 0s - loss: 0.5102 - acc: 0.8110Epoch 1/25\n",
            "10000/1875 [================================================================================================================================================================] - 1s 103us/sample - loss: 0.4439 - acc: 0.8544\n",
            "1875/1875 [==============================] - 19s 10ms/step - loss: 0.5107 - acc: 0.8109 - val_loss: 0.4125 - val_acc: 0.8544\n",
            "Epoch 13/25\n",
            "1869/1875 [============================>.] - ETA: 0s - loss: 0.5062 - acc: 0.8140Epoch 1/25\n",
            "10000/1875 [================================================================================================================================================================] - 1s 98us/sample - loss: 0.4481 - acc: 0.8286\n",
            "1875/1875 [==============================] - 19s 10ms/step - loss: 0.5062 - acc: 0.8140 - val_loss: 0.5023 - val_acc: 0.8286\n",
            "Epoch 14/25\n",
            "1871/1875 [============================>.] - ETA: 0s - loss: 0.5009 - acc: 0.8157Epoch 1/25\n",
            "10000/1875 [================================================================================================================================================================] - 1s 102us/sample - loss: 0.4593 - acc: 0.8320\n",
            "1875/1875 [==============================] - 20s 11ms/step - loss: 0.5010 - acc: 0.8156 - val_loss: 0.4736 - val_acc: 0.8320\n",
            "Epoch 15/25\n",
            "1869/1875 [============================>.] - ETA: 0s - loss: 0.4892 - acc: 0.8196Epoch 1/25\n",
            "10000/1875 [================================================================================================================================================================] - 1s 96us/sample - loss: 0.4311 - acc: 0.8389\n",
            "1875/1875 [==============================] - 20s 10ms/step - loss: 0.4894 - acc: 0.8195 - val_loss: 0.4661 - val_acc: 0.8389\n",
            "Epoch 16/25\n",
            "1869/1875 [============================>.] - ETA: 0s - loss: 0.4888 - acc: 0.8190Epoch 1/25\n",
            "10000/1875 [================================================================================================================================================================] - 1s 98us/sample - loss: 0.3444 - acc: 0.8535\n",
            "1875/1875 [==============================] - 20s 11ms/step - loss: 0.4890 - acc: 0.8190 - val_loss: 0.4247 - val_acc: 0.8535\n",
            "Epoch 17/25\n",
            "1869/1875 [============================>.] - ETA: 0s - loss: 0.4875 - acc: 0.8208Epoch 1/25\n",
            "10000/1875 [================================================================================================================================================================] - 1s 101us/sample - loss: 0.3794 - acc: 0.8474\n",
            "1875/1875 [==============================] - 20s 11ms/step - loss: 0.4876 - acc: 0.8207 - val_loss: 0.4205 - val_acc: 0.8474\n",
            "Epoch 18/25\n",
            "1873/1875 [============================>.] - ETA: 0s - loss: 0.4826 - acc: 0.8232Epoch 1/25\n",
            "10000/1875 [================================================================================================================================================================] - 1s 94us/sample - loss: 0.3752 - acc: 0.8401\n",
            "1875/1875 [==============================] - 20s 10ms/step - loss: 0.4828 - acc: 0.8231 - val_loss: 0.4369 - val_acc: 0.8401\n",
            "Epoch 19/25\n",
            "1872/1875 [============================>.] - ETA: 0s - loss: 0.4764 - acc: 0.8259Epoch 1/25\n",
            "10000/1875 [================================================================================================================================================================] - 1s 100us/sample - loss: 0.3517 - acc: 0.8469\n",
            "1875/1875 [==============================] - 20s 10ms/step - loss: 0.4765 - acc: 0.8259 - val_loss: 0.4385 - val_acc: 0.8469\n",
            "Epoch 20/25\n",
            "1874/1875 [============================>.] - ETA: 0s - loss: 0.4747 - acc: 0.8265Epoch 1/25\n",
            "10000/1875 [================================================================================================================================================================] - 1s 98us/sample - loss: 0.4744 - acc: 0.8483\n",
            "1875/1875 [==============================] - 20s 11ms/step - loss: 0.4747 - acc: 0.8265 - val_loss: 0.4385 - val_acc: 0.8483\n",
            "Epoch 21/25\n",
            "1874/1875 [============================>.] - ETA: 0s - loss: 0.4640 - acc: 0.8292Epoch 1/25\n",
            "10000/1875 [================================================================================================================================================================] - 1s 95us/sample - loss: 0.3482 - acc: 0.8412\n",
            "1875/1875 [==============================] - 19s 10ms/step - loss: 0.4639 - acc: 0.8292 - val_loss: 0.4474 - val_acc: 0.8412\n",
            "Epoch 22/25\n",
            "1869/1875 [============================>.] - ETA: 0s - loss: 0.4662 - acc: 0.8290Epoch 1/25\n",
            "10000/1875 [================================================================================================================================================================] - 1s 98us/sample - loss: 0.3899 - acc: 0.8507\n",
            "1875/1875 [==============================] - 19s 10ms/step - loss: 0.4661 - acc: 0.8289 - val_loss: 0.4237 - val_acc: 0.8507\n",
            "Epoch 23/25\n",
            "1871/1875 [============================>.] - ETA: 0s - loss: 0.4631 - acc: 0.8302Epoch 1/25\n",
            "10000/1875 [================================================================================================================================================================] - 1s 96us/sample - loss: 0.3312 - acc: 0.8622\n",
            "1875/1875 [==============================] - 19s 10ms/step - loss: 0.4630 - acc: 0.8303 - val_loss: 0.3972 - val_acc: 0.8622\n",
            "Epoch 24/25\n",
            "1870/1875 [============================>.] - ETA: 0s - loss: 0.4618 - acc: 0.8306Epoch 1/25\n",
            "10000/1875 [================================================================================================================================================================] - 1s 97us/sample - loss: 0.3515 - acc: 0.8481\n",
            "1875/1875 [==============================] - 19s 10ms/step - loss: 0.4617 - acc: 0.8306 - val_loss: 0.4375 - val_acc: 0.8481\n",
            "Epoch 25/25\n",
            "1872/1875 [============================>.] - ETA: 0s - loss: 0.4561 - acc: 0.8321Epoch 1/25\n",
            "10000/1875 [================================================================================================================================================================] - 1s 96us/sample - loss: 0.3910 - acc: 0.8571\n",
            "1875/1875 [==============================] - 19s 10ms/step - loss: 0.4560 - acc: 0.8321 - val_loss: 0.4116 - val_acc: 0.8571\n"
          ],
          "name": "stdout"
        }
      ]
    },
    {
      "cell_type": "code",
      "metadata": {
        "id": "CUcBC3sdyDJe",
        "colab_type": "code",
        "colab": {
          "base_uri": "https://localhost:8080/",
          "height": 573
        },
        "outputId": "20f6275c-e3db-4cc1-f532-21952a2aff44"
      },
      "source": [
        "plt.plot(history.history['acc'])\n",
        "plt.plot(history.history['val_acc'])\n",
        "plt.title('Model accuracy')\n",
        "plt.ylabel('Accuracy')\n",
        "plt.xlabel('Epoch')\n",
        "plt.legend(['Train', 'Test'], loc='upper left')\n",
        "plt.show()\n",
        "\n",
        "\n",
        "\n",
        "# Plot training & validation loss values\n",
        "plt.plot(history.history['loss'])\n",
        "plt.plot(history.history['val_loss'])\n",
        "plt.title('Model loss')\n",
        "plt.ylabel('Loss')\n",
        "plt.xlabel('Epoch')\n",
        "plt.legend(['Train', 'Test'], loc='upper left')\n",
        "plt.show()"
      ],
      "execution_count": 52,
      "outputs": [
        {
          "output_type": "display_data",
          "data": {
            "image/png": "[encoded data removed]",
            "text/plain": [
              "<Figure size 432x288 with 1 Axes>"
            ]
          },
          "metadata": {
            "tags": []
          }
        },
        {
          "output_type": "display_data",
          "data": {
            "image/png": "[encoded data removed]",
            "text/plain": [
              "<Figure size 432x288 with 1 Axes>"
            ]
          },
          "metadata": {
            "tags": []
          }
        }
      ]
    },
    {
      "cell_type": "markdown",
      "metadata": {
        "id": "MwQQW5iOJjwq",
        "colab_type": "text"
      },
      "source": [
        "###  Report the final train and validation accuracy"
      ]
    },
    {
      "cell_type": "code",
      "metadata": {
        "id": "c1SrtBEPJjwq",
        "colab_type": "code",
        "colab": {
          "base_uri": "https://localhost:8080/",
          "height": 35
        },
        "outputId": "8ba17d43-efc9-48e6-e5b3-975da890d851"
      },
      "source": [
        "evals = model1.evaluate(X_test, y_test)"
      ],
      "execution_count": 55,
      "outputs": [
        {
          "output_type": "stream",
          "text": [
            "10000/10000 [==============================] - 1s 69us/sample - loss: 0.4117 - acc: 0.8571\n"
          ],
          "name": "stdout"
        }
      ]
    },
    {
      "cell_type": "code",
      "metadata": {
        "id": "ZBwVWNQC2qZD",
        "colab_type": "code",
        "colab": {
          "base_uri": "https://localhost:8080/",
          "height": 52
        },
        "outputId": "942ef2a3-8b2f-4336-d58c-69bd46375df9"
      },
      "source": [
        "print(\"Training Accuracy : {} %\".format(history.history['acc'][10] *100))\n",
        "print(\"Validation Accuracy : {} %\".format(evals[1] * 100))"
      ],
      "execution_count": 69,
      "outputs": [
        {
          "output_type": "stream",
          "text": [
            "Training Accuracy : 80.79000115394592 %\n",
            "Validation Accuracy : 85.71000099182129 %\n"
          ],
          "name": "stdout"
        }
      ]
    },
    {
      "cell_type": "markdown",
      "metadata": {
        "id": "8KXqmUDW2rM1",
        "colab_type": "text"
      },
      "source": [
        "## **DATA AUGMENTATION ON CIFAR10 DATASET**"
      ]
    },
    {
      "cell_type": "markdown",
      "metadata": {
        "id": "8mja6OgQ3L18",
        "colab_type": "text"
      },
      "source": [
        "One of the best ways to improve the performance of a Deep Learning model is to add more data to the training set. Aside from gathering more instances from the wild that are representative of the distinction task, we want to develop a set of methods that enhance the data we already have. There are many ways to augment existing datasets and produce more robust models. In the image domain, these are done to utilize the full power of the convolutional neural network, which is able to capture translational invariance. This translational invariance is what makes image recognition such a difficult task in the first place. You want the dataset to be representative of the many different positions, angles, lightings, and miscellaneous distortions that are of interest to the vision task."
      ]
    },
    {
      "cell_type": "markdown",
      "metadata": {
        "id": "6HzVTPUM3WZJ",
        "colab_type": "text"
      },
      "source": [
        "### **Import neessary libraries for data augmentation**"
      ]
    },
    {
      "cell_type": "code",
      "metadata": {
        "id": "PPM558TX4KMb",
        "colab_type": "code",
        "colab": {}
      },
      "source": [
        "from tensorflow.keras.preprocessing.image import ImageDataGenerator"
      ],
      "execution_count": 0,
      "outputs": []
    },
    {
      "cell_type": "markdown",
      "metadata": {
        "id": "W6hicLwP4SqY",
        "colab_type": "text"
      },
      "source": [
        "### **Load CIFAR10 dataset**"
      ]
    },
    {
      "cell_type": "code",
      "metadata": {
        "id": "NQ1WzrXd4WNk",
        "colab_type": "code",
        "colab": {
          "base_uri": "https://localhost:8080/",
          "height": 52
        },
        "outputId": "c0c30710-4462-4af2-c406-6c1d37628532"
      },
      "source": [
        "from keras import datasets\n",
        "(x_train, y_train), (x_test, y_test) = datasets.cifar10.load_data()"
      ],
      "execution_count": 71,
      "outputs": [
        {
          "output_type": "stream",
          "text": [
            "Downloading data from https://www.cs.toronto.edu/~kriz/cifar-10-python.tar.gz\n",
            "170500096/170498071 [==============================] - 6s 0us/step\n"
          ],
          "name": "stdout"
        }
      ]
    },
    {
      "cell_type": "markdown",
      "metadata": {
        "id": "JN3vYYhK4W0u",
        "colab_type": "text"
      },
      "source": [
        "### **Create a data_gen funtion to genererator with image rotation,shifting image horizontally and vertically with random flip horizontally.**"
      ]
    },
    {
      "cell_type": "code",
      "metadata": {
        "id": "Txyd8XWU2e4D",
        "colab_type": "code",
        "colab": {}
      },
      "source": [
        "x_train = x_train/255"
      ],
      "execution_count": 0,
      "outputs": []
    },
    {
      "cell_type": "code",
      "metadata": {
        "id": "JJbekTKi4cmM",
        "colab_type": "code",
        "colab": {}
      },
      "source": [
        "data_gen = ImageDataGenerator(\n",
        "    rotation_range=75,\n",
        "    height_shift_range=[1.,2.,3.,4.,5.,6.,7.,8.,9.],\n",
        "    width_shift_range=[1.,2.,3.,4.,5.,6.,7.,8.,9.],\n",
        "    horizontal_flip=True,\n",
        ")"
      ],
      "execution_count": 0,
      "outputs": []
    },
    {
      "cell_type": "markdown",
      "metadata": {
        "id": "e-SLtUhC4dK2",
        "colab_type": "text"
      },
      "source": [
        "### **Prepare/fit the generator.**"
      ]
    },
    {
      "cell_type": "code",
      "metadata": {
        "id": "CSw8Bv2_4hb0",
        "colab_type": "code",
        "colab": {}
      },
      "source": [
        "data_gen.fit(x_train)"
      ],
      "execution_count": 0,
      "outputs": []
    },
    {
      "cell_type": "markdown",
      "metadata": {
        "id": "gYyF-P8O4jQ8",
        "colab_type": "text"
      },
      "source": [
        "### **Generate 5 images for 1 of the image of CIFAR10 train dataset.**"
      ]
    },
    {
      "cell_type": "code",
      "metadata": {
        "id": "mXug4z234mwQ",
        "colab_type": "code",
        "colab": {
          "base_uri": "https://localhost:8080/",
          "height": 89
        },
        "outputId": "1f2597b2-8b9a-44f4-a390-10306979fd40"
      },
      "source": [
        "from matplotlib import pyplot as plt\n",
        "gen = data_gen.flow(x_train[4:5], batch_size=1)\n",
        "for i in range(1, 6):\n",
        "    plt.subplot(1,5,i)\n",
        "    plt.axis(\"off\")\n",
        "    plt.imshow(gen.next().squeeze(), cmap='gray')\n",
        "    plt.plot()\n",
        "plt.show()"
      ],
      "execution_count": 88,
      "outputs": [
        {
          "output_type": "display_data",
          "data": {
            "image/png": "[encoded data removed]",
            "text/plain": [
              "<Figure size 432x288 with 5 Axes>"
            ]
          },
          "metadata": {
            "tags": []
          }
        }
      ]
    },
    {
      "cell_type": "code",
      "metadata": {
        "id": "SjllInaW2ZHz",
        "colab_type": "code",
        "colab": {}
      },
      "source": [
        ""
      ],
      "execution_count": 0,
      "outputs": []
    }
  ]
}