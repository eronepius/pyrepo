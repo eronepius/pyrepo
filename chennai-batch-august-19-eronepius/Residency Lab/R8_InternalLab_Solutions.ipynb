{
  "nbformat": 4,
  "nbformat_minor": 0,
  "metadata": {
    "accelerator": "GPU",
    "colab": {
      "name": "R8_InternalLab_Solutions.ipynb",
      "provenance": [],
      "collapsed_sections": []
    },
    "kernelspec": {
      "display_name": "Python 3",
      "language": "python",
      "name": "python3"
    },
    "language_info": {
      "codemirror_mode": {
        "name": "ipython",
        "version": 3
      },
      "file_extension": ".py",
      "mimetype": "text/x-python",
      "name": "python",
      "nbconvert_exporter": "python",
      "pygments_lexer": "ipython3",
      "version": "3.7.1"
    }
  },
  "cells": [
    {
      "cell_type": "markdown",
      "metadata": {
        "colab_type": "text",
        "id": "FU-HwvIdH0M-"
      },
      "source": [
        "# Sentiment analysis \n",
        "\n",
        "The objective of the second problem is to perform Sentiment analysis from the tweets collected from the users targeted at various mobile devices.\n",
        "Based on the tweet posted by a user (text), we will classify if the sentiment of the user targeted at a particular mobile device is positive or not."
      ]
    },
    {
      "cell_type": "markdown",
      "metadata": {
        "id": "aIWWfNks5sYa",
        "colab_type": "text"
      },
      "source": [
        "## Question 1"
      ]
    },
    {
      "cell_type": "markdown",
      "metadata": {
        "colab_type": "text",
        "id": "nAQDiZHRH0M_"
      },
      "source": [
        "### Read the data\n",
        "- read tweets.csv\n",
        "- use latin encoding if it gives encoding error while loading"
      ]
    },
    {
      "cell_type": "code",
      "metadata": {
        "id": "idHQD6BIJSpL",
        "colab_type": "code",
        "colab": {}
      },
      "source": [
        "%tensorflow_version 2.x\n",
        "import tensorflow\n",
        "import numpy as np\n",
        "\n",
        "\n",
        "import warnings\n",
        "warnings.filterwarnings(\"ignore\")"
      ],
      "execution_count": 1,
      "outputs": []
    },
    {
      "cell_type": "code",
      "metadata": {
        "id": "BnFcRvBUIUv3",
        "colab_type": "code",
        "colab": {
          "base_uri": "https://localhost:8080/",
          "height": 35
        },
        "outputId": "fbc1aa11-5d3c-47d7-864b-2ae0325cdca3"
      },
      "source": [
        "from google.colab import drive\n",
        "drive.mount('/content/Anton', force_remount=True)"
      ],
      "execution_count": 2,
      "outputs": [
        {
          "output_type": "stream",
          "text": [
            "Mounted at /content/Anton\n"
          ],
          "name": "stdout"
        }
      ]
    },
    {
      "cell_type": "code",
      "metadata": {
        "id": "HFGT1zfPIj1K",
        "colab_type": "code",
        "colab": {
          "base_uri": "https://localhost:8080/",
          "height": 35
        },
        "outputId": "864df033-f43a-499d-8e2c-e7d449d42123"
      },
      "source": [
        "import os\n",
        "print(os.getcwd())"
      ],
      "execution_count": 3,
      "outputs": [
        {
          "output_type": "stream",
          "text": [
            "/content\n"
          ],
          "name": "stdout"
        }
      ]
    },
    {
      "cell_type": "code",
      "metadata": {
        "id": "B1sdb9giImDM",
        "colab_type": "code",
        "colab": {
          "base_uri": "https://localhost:8080/",
          "height": 35
        },
        "outputId": "3426bffb-1340-4c79-f03c-9c36a3a8007c"
      },
      "source": [
        "project_path = \"/content/Anton/My Drive/Colab Notebooks/NLP/Lab8/\"\n",
        "os.chdir(project_path)\n",
        "print(os.getcwd())"
      ],
      "execution_count": 4,
      "outputs": [
        {
          "output_type": "stream",
          "text": [
            "/content/Anton/My Drive/Colab Notebooks/NLP/Lab8\n"
          ],
          "name": "stdout"
        }
      ]
    },
    {
      "cell_type": "code",
      "metadata": {
        "colab_type": "code",
        "id": "3eXGIe-SH0NA",
        "colab": {}
      },
      "source": [
        "import pandas as pd\n",
        "df= pd.read_csv('tweets.csv',encoding = \"ISO-8859-1\")"
      ],
      "execution_count": 5,
      "outputs": []
    },
    {
      "cell_type": "code",
      "metadata": {
        "id": "PHhkG9O4I4ty",
        "colab_type": "code",
        "colab": {
          "base_uri": "https://localhost:8080/",
          "height": 35
        },
        "outputId": "0a61ceca-583a-4c6c-9378-1eb0aa0e9dd9"
      },
      "source": [
        "df.shape"
      ],
      "execution_count": 6,
      "outputs": [
        {
          "output_type": "execute_result",
          "data": {
            "text/plain": [
              "(9093, 3)"
            ]
          },
          "metadata": {
            "tags": []
          },
          "execution_count": 6
        }
      ]
    },
    {
      "cell_type": "markdown",
      "metadata": {
        "id": "39pqw0aE5sYe",
        "colab_type": "text"
      },
      "source": [
        "### Drop null values\n",
        "- drop all the rows with null values"
      ]
    },
    {
      "cell_type": "code",
      "metadata": {
        "id": "BF_69oyI5sYf",
        "colab_type": "code",
        "colab": {}
      },
      "source": [
        "df1 = df[~df.isna().any(axis=1)]"
      ],
      "execution_count": 7,
      "outputs": []
    },
    {
      "cell_type": "code",
      "metadata": {
        "id": "ho_UUgcUI64j",
        "colab_type": "code",
        "colab": {
          "base_uri": "https://localhost:8080/",
          "height": 35
        },
        "outputId": "b792f1f8-1869-4d68-a602-9d1a94f5c652"
      },
      "source": [
        "df1.shape"
      ],
      "execution_count": 8,
      "outputs": [
        {
          "output_type": "execute_result",
          "data": {
            "text/plain": [
              "(3291, 3)"
            ]
          },
          "metadata": {
            "tags": []
          },
          "execution_count": 8
        }
      ]
    },
    {
      "cell_type": "markdown",
      "metadata": {
        "id": "0bm4bDiy5sYg",
        "colab_type": "text"
      },
      "source": [
        "### Print the dataframe\n",
        "- print initial 5 rows of the data\n",
        "- use df.head()"
      ]
    },
    {
      "cell_type": "code",
      "metadata": {
        "scrolled": true,
        "id": "ceSlvAVa5sYh",
        "colab_type": "code",
        "colab": {
          "base_uri": "https://localhost:8080/",
          "height": 202
        },
        "outputId": "2c0cf4bc-801b-4871-a55c-fd2b27957b0b"
      },
      "source": [
        "df1.head()"
      ],
      "execution_count": 9,
      "outputs": [
        {
          "output_type": "execute_result",
          "data": {
            "text/html": [
              "<div>\n",
              "<style scoped>\n",
              "    .dataframe tbody tr th:only-of-type {\n",
              "        vertical-align: middle;\n",
              "    }\n",
              "\n",
              "    .dataframe tbody tr th {\n",
              "        vertical-align: top;\n",
              "    }\n",
              "\n",
              "    .dataframe thead th {\n",
              "        text-align: right;\n",
              "    }\n",
              "</style>\n",
              "<table border=\"1\" class=\"dataframe\">\n",
              "  <thead>\n",
              "    <tr style=\"text-align: right;\">\n",
              "      <th></th>\n",
              "      <th>tweet_text</th>\n",
              "      <th>emotion_in_tweet_is_directed_at</th>\n",
              "      <th>is_there_an_emotion_directed_at_a_brand_or_product</th>\n",
              "    </tr>\n",
              "  </thead>\n",
              "  <tbody>\n",
              "    <tr>\n",
              "      <th>0</th>\n",
              "      <td>.@wesley83 I have a 3G iPhone. After 3 hrs twe...</td>\n",
              "      <td>iPhone</td>\n",
              "      <td>Negative emotion</td>\n",
              "    </tr>\n",
              "    <tr>\n",
              "      <th>1</th>\n",
              "      <td>@jessedee Know about @fludapp ? Awesome iPad/i...</td>\n",
              "      <td>iPad or iPhone App</td>\n",
              "      <td>Positive emotion</td>\n",
              "    </tr>\n",
              "    <tr>\n",
              "      <th>2</th>\n",
              "      <td>@swonderlin Can not wait for #iPad 2 also. The...</td>\n",
              "      <td>iPad</td>\n",
              "      <td>Positive emotion</td>\n",
              "    </tr>\n",
              "    <tr>\n",
              "      <th>3</th>\n",
              "      <td>@sxsw I hope this year's festival isn't as cra...</td>\n",
              "      <td>iPad or iPhone App</td>\n",
              "      <td>Negative emotion</td>\n",
              "    </tr>\n",
              "    <tr>\n",
              "      <th>4</th>\n",
              "      <td>@sxtxstate great stuff on Fri #SXSW: Marissa M...</td>\n",
              "      <td>Google</td>\n",
              "      <td>Positive emotion</td>\n",
              "    </tr>\n",
              "  </tbody>\n",
              "</table>\n",
              "</div>"
            ],
            "text/plain": [
              "                                          tweet_text  ... is_there_an_emotion_directed_at_a_brand_or_product\n",
              "0  .@wesley83 I have a 3G iPhone. After 3 hrs twe...  ...                                   Negative emotion\n",
              "1  @jessedee Know about @fludapp ? Awesome iPad/i...  ...                                   Positive emotion\n",
              "2  @swonderlin Can not wait for #iPad 2 also. The...  ...                                   Positive emotion\n",
              "3  @sxsw I hope this year's festival isn't as cra...  ...                                   Negative emotion\n",
              "4  @sxtxstate great stuff on Fri #SXSW: Marissa M...  ...                                   Positive emotion\n",
              "\n",
              "[5 rows x 3 columns]"
            ]
          },
          "metadata": {
            "tags": []
          },
          "execution_count": 9
        }
      ]
    },
    {
      "cell_type": "markdown",
      "metadata": {
        "id": "jcWfPVqG5sYi",
        "colab_type": "text"
      },
      "source": [
        "## Question 2"
      ]
    },
    {
      "cell_type": "markdown",
      "metadata": {
        "id": "JBbAeip_5sYj",
        "colab_type": "text"
      },
      "source": [
        "### Preprocess data\n",
        "- convert all text to lowercase - use .lower()\n",
        "- select only numbers, alphabets, and #+_ from text - use re.sub()\n",
        "- strip all the text - use .strip()\n",
        "    - this is for removing extra spaces"
      ]
    },
    {
      "cell_type": "code",
      "metadata": {
        "id": "tXEH3_KaJII9",
        "colab_type": "code",
        "colab": {}
      },
      "source": [
        "import re"
      ],
      "execution_count": 10,
      "outputs": []
    },
    {
      "cell_type": "code",
      "metadata": {
        "id": "PE4Bn_YT5sYj",
        "colab_type": "code",
        "colab": {}
      },
      "source": [
        "df1 = df1.applymap(lambda s: s.lower())\n",
        "df1 = df1.applymap(lambda s: re.sub('[^0-9a-z #+_]',' ',s))\n",
        "df1 = df1.applymap(lambda s: s.strip())"
      ],
      "execution_count": 11,
      "outputs": []
    },
    {
      "cell_type": "markdown",
      "metadata": {
        "id": "QlMvbtrK5sYl",
        "colab_type": "text"
      },
      "source": [
        "print dataframe"
      ]
    },
    {
      "cell_type": "code",
      "metadata": {
        "id": "afocjaUn5sYm",
        "colab_type": "code",
        "colab": {
          "base_uri": "https://localhost:8080/",
          "height": 202
        },
        "outputId": "3cef4c4f-38bb-4996-c3e3-16d703fdae3c"
      },
      "source": [
        "df1.head()"
      ],
      "execution_count": 12,
      "outputs": [
        {
          "output_type": "execute_result",
          "data": {
            "text/html": [
              "<div>\n",
              "<style scoped>\n",
              "    .dataframe tbody tr th:only-of-type {\n",
              "        vertical-align: middle;\n",
              "    }\n",
              "\n",
              "    .dataframe tbody tr th {\n",
              "        vertical-align: top;\n",
              "    }\n",
              "\n",
              "    .dataframe thead th {\n",
              "        text-align: right;\n",
              "    }\n",
              "</style>\n",
              "<table border=\"1\" class=\"dataframe\">\n",
              "  <thead>\n",
              "    <tr style=\"text-align: right;\">\n",
              "      <th></th>\n",
              "      <th>tweet_text</th>\n",
              "      <th>emotion_in_tweet_is_directed_at</th>\n",
              "      <th>is_there_an_emotion_directed_at_a_brand_or_product</th>\n",
              "    </tr>\n",
              "  </thead>\n",
              "  <tbody>\n",
              "    <tr>\n",
              "      <th>0</th>\n",
              "      <td>wesley83 i have a 3g iphone  after 3 hrs tweet...</td>\n",
              "      <td>iphone</td>\n",
              "      <td>negative emotion</td>\n",
              "    </tr>\n",
              "    <tr>\n",
              "      <th>1</th>\n",
              "      <td>jessedee know about  fludapp   awesome ipad ip...</td>\n",
              "      <td>ipad or iphone app</td>\n",
              "      <td>positive emotion</td>\n",
              "    </tr>\n",
              "    <tr>\n",
              "      <th>2</th>\n",
              "      <td>swonderlin can not wait for #ipad 2 also  they...</td>\n",
              "      <td>ipad</td>\n",
              "      <td>positive emotion</td>\n",
              "    </tr>\n",
              "    <tr>\n",
              "      <th>3</th>\n",
              "      <td>sxsw i hope this year s festival isn t as cras...</td>\n",
              "      <td>ipad or iphone app</td>\n",
              "      <td>negative emotion</td>\n",
              "    </tr>\n",
              "    <tr>\n",
              "      <th>4</th>\n",
              "      <td>sxtxstate great stuff on fri #sxsw  marissa ma...</td>\n",
              "      <td>google</td>\n",
              "      <td>positive emotion</td>\n",
              "    </tr>\n",
              "  </tbody>\n",
              "</table>\n",
              "</div>"
            ],
            "text/plain": [
              "                                          tweet_text  ... is_there_an_emotion_directed_at_a_brand_or_product\n",
              "0  wesley83 i have a 3g iphone  after 3 hrs tweet...  ...                                   negative emotion\n",
              "1  jessedee know about  fludapp   awesome ipad ip...  ...                                   positive emotion\n",
              "2  swonderlin can not wait for #ipad 2 also  they...  ...                                   positive emotion\n",
              "3  sxsw i hope this year s festival isn t as cras...  ...                                   negative emotion\n",
              "4  sxtxstate great stuff on fri #sxsw  marissa ma...  ...                                   positive emotion\n",
              "\n",
              "[5 rows x 3 columns]"
            ]
          },
          "metadata": {
            "tags": []
          },
          "execution_count": 12
        }
      ]
    },
    {
      "cell_type": "markdown",
      "metadata": {
        "id": "bcTUnvtg5sYn",
        "colab_type": "text"
      },
      "source": [
        "## Question 3"
      ]
    },
    {
      "cell_type": "markdown",
      "metadata": {
        "id": "4gnaeSXZ5sYo",
        "colab_type": "text"
      },
      "source": [
        "### Preprocess data\n",
        "- in column \"is_there_an_emotion_directed_at_a_brand_or_product\"\n",
        "    - select only those rows where value equal to \"positive emotion\" or \"negative emotion\"\n",
        "- find the value counts of \"positive emotion\" and \"negative emotion\""
      ]
    },
    {
      "cell_type": "code",
      "metadata": {
        "id": "nLewJh_35sYp",
        "colab_type": "code",
        "colab": {
          "base_uri": "https://localhost:8080/",
          "height": 35
        },
        "outputId": "84511a4e-550e-41f7-df19-8040b00eeedf"
      },
      "source": [
        "df1['is_there_an_emotion_directed_at_a_brand_or_product'].nunique()"
      ],
      "execution_count": 13,
      "outputs": [
        {
          "output_type": "execute_result",
          "data": {
            "text/plain": [
              "4"
            ]
          },
          "metadata": {
            "tags": []
          },
          "execution_count": 13
        }
      ]
    },
    {
      "cell_type": "code",
      "metadata": {
        "id": "3VFYB4eh5sYr",
        "colab_type": "code",
        "colab": {
          "base_uri": "https://localhost:8080/",
          "height": 52
        },
        "outputId": "a42d5c39-fb15-4c1c-d705-73a1ef643ed2"
      },
      "source": [
        "df1['is_there_an_emotion_directed_at_a_brand_or_product'].unique()"
      ],
      "execution_count": 14,
      "outputs": [
        {
          "output_type": "execute_result",
          "data": {
            "text/plain": [
              "array(['negative emotion', 'positive emotion',\n",
              "       'no emotion toward brand or product', 'i can t tell'], dtype=object)"
            ]
          },
          "metadata": {
            "tags": []
          },
          "execution_count": 14
        }
      ]
    },
    {
      "cell_type": "code",
      "metadata": {
        "id": "H4PxzHcnJtVR",
        "colab_type": "code",
        "colab": {}
      },
      "source": [
        "df2 = df1[(df1['is_there_an_emotion_directed_at_a_brand_or_product'] == 'negative emotion') | \n",
        "          (df1['is_there_an_emotion_directed_at_a_brand_or_product'] == 'positive emotion')]"
      ],
      "execution_count": 15,
      "outputs": []
    },
    {
      "cell_type": "code",
      "metadata": {
        "id": "dB7_OddNJu7D",
        "colab_type": "code",
        "colab": {
          "base_uri": "https://localhost:8080/",
          "height": 141
        },
        "outputId": "e2ee96be-a5ca-499c-90cd-acc96a12037d"
      },
      "source": [
        "df2.groupby(['is_there_an_emotion_directed_at_a_brand_or_product']).count()"
      ],
      "execution_count": 16,
      "outputs": [
        {
          "output_type": "execute_result",
          "data": {
            "text/html": [
              "<div>\n",
              "<style scoped>\n",
              "    .dataframe tbody tr th:only-of-type {\n",
              "        vertical-align: middle;\n",
              "    }\n",
              "\n",
              "    .dataframe tbody tr th {\n",
              "        vertical-align: top;\n",
              "    }\n",
              "\n",
              "    .dataframe thead th {\n",
              "        text-align: right;\n",
              "    }\n",
              "</style>\n",
              "<table border=\"1\" class=\"dataframe\">\n",
              "  <thead>\n",
              "    <tr style=\"text-align: right;\">\n",
              "      <th></th>\n",
              "      <th>tweet_text</th>\n",
              "      <th>emotion_in_tweet_is_directed_at</th>\n",
              "    </tr>\n",
              "    <tr>\n",
              "      <th>is_there_an_emotion_directed_at_a_brand_or_product</th>\n",
              "      <th></th>\n",
              "      <th></th>\n",
              "    </tr>\n",
              "  </thead>\n",
              "  <tbody>\n",
              "    <tr>\n",
              "      <th>negative emotion</th>\n",
              "      <td>519</td>\n",
              "      <td>519</td>\n",
              "    </tr>\n",
              "    <tr>\n",
              "      <th>positive emotion</th>\n",
              "      <td>2672</td>\n",
              "      <td>2672</td>\n",
              "    </tr>\n",
              "  </tbody>\n",
              "</table>\n",
              "</div>"
            ],
            "text/plain": [
              "                                                    tweet_text  emotion_in_tweet_is_directed_at\n",
              "is_there_an_emotion_directed_at_a_brand_or_product                                             \n",
              "negative emotion                                           519                              519\n",
              "positive emotion                                          2672                             2672"
            ]
          },
          "metadata": {
            "tags": []
          },
          "execution_count": 16
        }
      ]
    },
    {
      "cell_type": "markdown",
      "metadata": {
        "id": "6icGcVTE5sYz",
        "colab_type": "text"
      },
      "source": [
        "## Question 4"
      ]
    },
    {
      "cell_type": "markdown",
      "metadata": {
        "id": "Rg0rSepj5sYz",
        "colab_type": "text"
      },
      "source": [
        "### Encode labels\n",
        "- in column \"is_there_an_emotion_directed_at_a_brand_or_product\"\n",
        "    - change \"positive emotion\" to 1\n",
        "    - change \"negative emotion\" to 0\n",
        "- use map function to replace values"
      ]
    },
    {
      "cell_type": "code",
      "metadata": {
        "colab_type": "code",
        "id": "YftKwFv7H0N9",
        "colab": {}
      },
      "source": [
        "di={'negative emotion':1, 'positive emotion':0}\n",
        "\n",
        "df2['is_there_an_emotion_directed_at_a_brand_or_product'] = df2['is_there_an_emotion_directed_at_a_brand_or_product'].map(di)"
      ],
      "execution_count": 17,
      "outputs": []
    },
    {
      "cell_type": "code",
      "metadata": {
        "id": "evjBjcSHTQMF",
        "colab_type": "code",
        "colab": {
          "base_uri": "https://localhost:8080/",
          "height": 202
        },
        "outputId": "c4727330-a4ea-410e-e1e7-352d831f7887"
      },
      "source": [
        "df2.head()"
      ],
      "execution_count": 18,
      "outputs": [
        {
          "output_type": "execute_result",
          "data": {
            "text/html": [
              "<div>\n",
              "<style scoped>\n",
              "    .dataframe tbody tr th:only-of-type {\n",
              "        vertical-align: middle;\n",
              "    }\n",
              "\n",
              "    .dataframe tbody tr th {\n",
              "        vertical-align: top;\n",
              "    }\n",
              "\n",
              "    .dataframe thead th {\n",
              "        text-align: right;\n",
              "    }\n",
              "</style>\n",
              "<table border=\"1\" class=\"dataframe\">\n",
              "  <thead>\n",
              "    <tr style=\"text-align: right;\">\n",
              "      <th></th>\n",
              "      <th>tweet_text</th>\n",
              "      <th>emotion_in_tweet_is_directed_at</th>\n",
              "      <th>is_there_an_emotion_directed_at_a_brand_or_product</th>\n",
              "    </tr>\n",
              "  </thead>\n",
              "  <tbody>\n",
              "    <tr>\n",
              "      <th>0</th>\n",
              "      <td>wesley83 i have a 3g iphone  after 3 hrs tweet...</td>\n",
              "      <td>iphone</td>\n",
              "      <td>1</td>\n",
              "    </tr>\n",
              "    <tr>\n",
              "      <th>1</th>\n",
              "      <td>jessedee know about  fludapp   awesome ipad ip...</td>\n",
              "      <td>ipad or iphone app</td>\n",
              "      <td>0</td>\n",
              "    </tr>\n",
              "    <tr>\n",
              "      <th>2</th>\n",
              "      <td>swonderlin can not wait for #ipad 2 also  they...</td>\n",
              "      <td>ipad</td>\n",
              "      <td>0</td>\n",
              "    </tr>\n",
              "    <tr>\n",
              "      <th>3</th>\n",
              "      <td>sxsw i hope this year s festival isn t as cras...</td>\n",
              "      <td>ipad or iphone app</td>\n",
              "      <td>1</td>\n",
              "    </tr>\n",
              "    <tr>\n",
              "      <th>4</th>\n",
              "      <td>sxtxstate great stuff on fri #sxsw  marissa ma...</td>\n",
              "      <td>google</td>\n",
              "      <td>0</td>\n",
              "    </tr>\n",
              "  </tbody>\n",
              "</table>\n",
              "</div>"
            ],
            "text/plain": [
              "                                          tweet_text  ... is_there_an_emotion_directed_at_a_brand_or_product\n",
              "0  wesley83 i have a 3g iphone  after 3 hrs tweet...  ...                                                  1\n",
              "1  jessedee know about  fludapp   awesome ipad ip...  ...                                                  0\n",
              "2  swonderlin can not wait for #ipad 2 also  they...  ...                                                  0\n",
              "3  sxsw i hope this year s festival isn t as cras...  ...                                                  1\n",
              "4  sxtxstate great stuff on fri #sxsw  marissa ma...  ...                                                  0\n",
              "\n",
              "[5 rows x 3 columns]"
            ]
          },
          "metadata": {
            "tags": []
          },
          "execution_count": 18
        }
      ]
    },
    {
      "cell_type": "markdown",
      "metadata": {
        "id": "sC1qSe3h5sY2",
        "colab_type": "text"
      },
      "source": [
        "## Question 5"
      ]
    },
    {
      "cell_type": "markdown",
      "metadata": {
        "id": "aWlAN_Ts5sY2",
        "colab_type": "text"
      },
      "source": [
        "### Get feature and label\n",
        "- get column \"tweet_text\" as feature\n",
        "- get column \"is_there_an_emotion_directed_at_a_brand_or_product\" as label"
      ]
    },
    {
      "cell_type": "code",
      "metadata": {
        "id": "9A3sOZzR5sY4",
        "colab_type": "code",
        "colab": {}
      },
      "source": [
        "X = df2['tweet_text']\n",
        "y = df2['is_there_an_emotion_directed_at_a_brand_or_product']"
      ],
      "execution_count": 19,
      "outputs": []
    },
    {
      "cell_type": "markdown",
      "metadata": {
        "colab_type": "text",
        "id": "3YErwYLCH0N_"
      },
      "source": [
        "### Create train and test data\n",
        "- use train_test_split to get train and test set\n",
        "- set a random_state\n",
        "- test_size: 0.25"
      ]
    },
    {
      "cell_type": "code",
      "metadata": {
        "colab_type": "code",
        "id": "lNkwrGgEH0OA",
        "colab": {}
      },
      "source": [
        "from sklearn.model_selection import train_test_split\n",
        "\n",
        "X_train, X_test, y_train, y_test = train_test_split(X, y, test_size=0.25, random_state=40)"
      ],
      "execution_count": 20,
      "outputs": []
    },
    {
      "cell_type": "markdown",
      "metadata": {
        "id": "gMok2IX35sY8",
        "colab_type": "text"
      },
      "source": [
        "## Question 6"
      ]
    },
    {
      "cell_type": "markdown",
      "metadata": {
        "id": "dSqYjPuT5sY8",
        "colab_type": "text"
      },
      "source": [
        "### Vectorize data\n",
        "- create document-term matrix\n",
        "- use CountVectorizer()\n",
        "    - ngram_range: (1, 2)\n",
        "    - stop_words: 'english'\n",
        "    - min_df: 2   \n",
        "- do fit_transform on X_train\n",
        "- do transform on X_test"
      ]
    },
    {
      "cell_type": "code",
      "metadata": {
        "id": "bb9PnnqT5sY8",
        "colab_type": "code",
        "colab": {
          "base_uri": "https://localhost:8080/",
          "height": 55
        },
        "outputId": "6d91703d-c177-4635-baf3-65768f9ed3b7"
      },
      "source": [
        "from sklearn.feature_extraction.text import CountVectorizer\n",
        "\n",
        "vectorizer = CountVectorizer(min_df=2, stop_words='english', ngram_range=(1, 2))\n",
        "X_train_p = vectorizer.fit_transform(X_train)\n",
        "print(vectorizer.get_feature_names())"
      ],
      "execution_count": 21,
      "outputs": [
        {
          "output_type": "stream",
          "text": [
            "['000', '03', '10', '10 attendees', '100', '10x', '11', '11ntc', '11ntc sxsw', '12', '12 months', '12b', '12b miles', '13', '14', '14 day', '15', '15 details', '15 hard', '15 minute', '150', '150 million', '1500', '1500 macbook', '15k', '15k newsapps', '1986', '1st', '1st day', '1st prize', '20', '20 min', '2011', '2011 computing', '2011 link', '2011 mention', '2011 novelty', '2011 weekend', '22', '22 tracks', '24', '24 amp', '24 hours', '24 stream', '25', '2day', '2nd', '2nd place', '2nd prize', '2s', '2s sxsw', '30', '30 line', '30pm', '32', '35', '35 million', '36', '37', '3d', '3d buildings', '3d xml', '3g', '3g 64gb', '3g iphone', '3x', '3x speedup', '40', '40 google', '40min', '40min sxsw', '4chan', '4g', '4g austin', '4sq', '4sq sxsw', '4square', '5pm', '64gb', '64gb wifi', '64gig', '64gig wifi', '65', '65 link', '6th', '6th amp', '6th congress', '6th st', '6th time', '70', '70 went', '75', '80s', '89', '89 startups', '911tweets', '911tweets panel', '96', '96 apple', 'aapl', 'aapl open', 'able', 'absolutely', 'abt', 'acc', 'acc ballroom', 'access', 'accessible', 'accessory', 'accesssxsw', 'aclu', 'aclu google', 'acquired', 'acquired 89', 'action', 'action link', 'action showcase', 'actions', 'actions world', 'actual', 'actually', 'ad', 'ad insertion', 'add', 'added', 'added clean', 'addicts', 'admit', 'admit apple', 'admits', 'adoption', 'advertising', 'advisory', 'advisory board', 'agileagency', 'agileagency sxsw', 'ago', 'agree', 'agree mention', 'agree sxsw', 'agreed', 'ah', 'ahead', 'ahhh', 'ain', 'air', 'airline', 'airline mentioned', 'airport', 'airports', 'aka', 'aka band', 'alarm', 'alarm google', 'alex', 'allow', 'allowing', 'alternate', 'alternate routes', 'amazing', 'amazing sxsw', 'amazing vector', 'amazing way', 'amazingly', 'amazingly easy', 'america', 'america quot', 'america user', 'amigos', 'amigos don', 'amp', 'amp android', 'amp apple', 'amp best', 'amp bing', 'amp bring', 'amp check', 'amp congress', 'amp droid', 'amp fast', 'amp foursquare', 'amp google', 'amp ipad', 'amp iphone', 'amp light', 'amp live', 'amp mention', 'amp new', 'amp panel', 'amp person', 'amp phone', 'amp physical', 'amp releasing', 'amp start', 'amp succeed', 'amp sxsw', 'amp track', 'analytics', 'andoid', 'andoid app', 'android', 'android app', 'android apps', 'android available', 'android camera', 'android choice', 'android dev', 'android flaming', 'android iphone', 'android just', 'android link', 'android looking', 'android market', 'android marketplace', 'android meetup', 'android party', 'android phone', 'android phones', 'android sxsw', 'android tablet', 'androidsxsw', 'androidsxsw sxsw', 'announce', 'announce music', 'announced', 'announcing', 'announcing great', 'answer', 'anti', 'anybody', 'anymore', 'anymore quot', 'api', 'apis', 'app', 'app amp', 'app android', 'app available', 'app awesome', 'app barroom', 'app bizzy', 'app built', 'app change', 'app comes', 'app download', 'app featured', 'app free', 'app freespeech', 'app highlight', 'app hitlantis', 'app holler', 'app ipad', 'app iphone', 'app just', 'app killing', 'app kyping', 'app link', 'app live', 'app madebymany', 'app mention', 'app moonbot', 'app nice', 'app overlay', 'app quot', 'app really', 'app rockin', 'app rt', 'app schedules', 'app share', 'app song', 'app store', 'app sxsw', 'app sxswi', 'app team', 'app thanks', 'app unreal', 'app updates', 'app use', 'app week', 'app won', 'app yr', 'apparently', 'appears', 'appears trending', 'apple', 'apple amp', 'apple app', 'apple austin', 'apple autocorrect', 'apple begins', 'apple built', 'apple comes', 'apple continued', 'apple credit', 'apple devices', 'apple drumroll', 'apple effective', 'apple elegant', 'apple fan', 'apple fanboy', 'apple fanboys', 'apple fans', 'apple far', 'apple gap', 'apple gives', 'apple google', 'apple great', 'apple greatest', 'apple ipad', 'apple ipad2', 'apple ipod', 'apple joy', 'apple keeping', 'apple knows', 'apple like', 'apple likes', 'apple link', 'apple listened', 'apple makes', 'apple marketing', 'apple mention', 'apple open', 'apple opened', 'apple opening', 'apple opens', 'apple pagemaker', 'apple played', 'apple pop', 'apple popup', 'apple products', 'apple puts', 'apple quot', 'apple really', 'apple saves', 'apple schools', 'apple set', 'apple sets', 'apple setting', 'apple smart', 'apple smartphone', 'apple store', 'apple stores', 'apple stuff', 'apple survival', 'apple sxsw', 'apple tablet', 'apple taking', 'apple temporary', 'apple wins', 'appleatxdt', 'application', 'application link', 'appolicious', 'appolicious app', 'appreciate', 'approval', 'apps', 'apps cluttering', 'apps connected', 'apps fades', 'apps grooving', 'apps ipad', 'apps iphone', 'apps ll', 'apps make', 'apps mention', 'apps rock', 'apps speech', 'apps sxsw', 'apps tv', 'arduino', 'arduino android', 'aren', 'aren apps', 'arg', 'arrived', 'art', 'art interactive', 'art museums', 'art project', 'article', 'article sxsw', 'artist', 'artist link', 'artists', 'artists quot', 'ask', 'asked', 'asleep', 'ass', 'assisted', 'assisted quot', 'att', 'attendees', 'attendees blame', 'attendees course', 'attendees ipad2', 'attendees mac', 'attending', 'attention', 'attracting', 'atx', 'audience', 'audio', 'augmented', 'augmented reality', 'aus', 'aus sxsw', 'austin', 'austin apple', 'austin bbq', 'austin bound', 'austin city', 'austin convention', 'austin details', 'austin eats', 'austin guide', 'austin igottagetit', 'austin ipad', 'austin iphone', 'austin just', 'austin link', 'austin mention', 'austin nerds', 'austin open', 'austin pics', 'austin pop', 'austin sell', 'austin selling', 'austin swarms', 'austin sxsw', 'austin tacos', 'austin texas', 'austin tx', 'autocorrect', 'autocorrect weird', 'autocorrects', 'autocorrects idiocy', 'available', 'available android', 'available iphone', 'available link', 'available online', 'avoid', 'avoid traffic', 'aw', 'aw sxsw', 'awards', 'awards thanks', 'aware', 'away', 'away ipad', 'awesome', 'awesome austin', 'awesome easier', 'awesome got', 'awesome integration', 'awesome ipad', 'awesome iphone', 'awesome link', 'awesome new', 'awesome rt', 'awesome sxsw', 'awesome using', 'awesomely', 'awesomely rad', 'awesomeness', 'awesomeness apple', 'awkward', 'baby', 'background', 'background need', 'backup', 'backup charger', 'bad', 'badge', 'badgeless', 'badgeless event', 'badges', 'bag', 'bajillions', 'bajillions ipad2s', 'ballroom', 'band', 'band michael', 'bands', 'bands food', 'bank', 'banking', 'bankinnovation', 'banks', 'bar', 'bar sxsw', 'barely', 'barroom', 'barroom brawls', 'barry', 'barry diller', 'barrydiller', 'barrydiller sxsw', 'bars', 'based', 'based amp', 'based quot', 'based tools', 'basically', 'bat', 'bat bar', 'battery', 'battery life', 'battery sxsw', 'batterykiller', 'batterykiller sxsw', 'battle', 'bavcid', 'bavcid sxsw', 'bb', 'bbq', 'bbq iphone', 'bbq sxsw', 'bc', 'beach', 'beat', 'beat free', 'beautiful', 'beautiful day', 'beautiful elegant', 'beautifully', 'beautifully smart', 'bed', 'beer', 'begins', 'begins apple', 'begins sxsw', 'believe', 'believe god', 'belinsky', 'belinsky 911tweets', 'beluga', 'beluga iphone', 'best', 'best andoid', 'best butt', 'best buy', 'best ipad', 'best route', 'best swag', 'best sxsw', 'best thing', 'bestappever', 'bestappever sxsw', 'bet', 'bet lot', 'bet sell', 'beta', 'beta testing', 'better', 'better barry', 'better hisxsw', 'better ipad', 'better quot', 'better rest', 'better serve', 'better sxsw', 'better time', 'bettersearch', 'bettersearch bing', 'big', 'big chunky', 'big line', 'big news', 'big social', 'big sxsw', 'bigger', 'bigger ipad', 'bigger sxsw', 'biggest', 'billion', 'billion pixel', 'bing', 'bing amp', 'bing bettersearch', 'bing session', 'bing shot', 'bing sxsw', 'bing website', 'bit', 'bit jealous', 'bit ly', 'biz', 'biz ipad2', 'bizzy', 'bizzy quot', 'bizzy using', 'black', 'blackberry', 'blackberry party', 'blame', 'blame microsoft', 'block', 'block sxsw', 'block week', 'blocks', 'blocks long', 'blog', 'blog post', 'blogger', 'blogger update', 'blogging', 'blogging ipad', 'blogs', 'blogs link', 'bloody', 'blows', 'blue', 'bnet', 'bnet biz', 'board', 'board link', 'book', 'book ipad', 'book killer', 'books', 'booth', 'booth enter', 'booth sxsw', 'booyah', 'booyah rt', 'bored', 'bored keynote', 'born', 'bought', 'bought ipad', 'bought lunch', 'bound', 'bound apple', 'bout', 'boxes', 'boxes electronics', 'boyfriend', 'boyfriend aw', 'brain', 'brain search', 'brand', 'brand focuses', 'brands', 'brawls', 'brawls instead', 'break', 'break old', 'breakdown', 'breakdown sxsw', 'breakout', 'brick', 'brick austin', 'brilliance', 'brilliant', 'brilliant apple', 'brilliant idea', 'brilliant rt', 'brilliant sxsw', 'bring', 'bring hot', 'bring ipad', 'bring trucks', 'bringing', 'british', 'broadcastr', 'broadcastr bestappever', 'broadfeed', 'broken', 'brought', 'brought google', 'browse', 'browse events', 'browser', 'browser iphone', 'browserwars', 'bt', 'bt sxsw', 'build', 'building', 'building congress', 'building netflix', 'building sxsw', 'buildings', 'built', 'built html5', 'built sxsw', 'burn', 'burn sxsw', 'business', 'business apple', 'business vs', 'busy', 'busy sxsw', 'butt', 'butt sxsw', 'button', 'button heat', 'butts', 'butts sxsw', 'buy', 'buy 14', 'buy ipad', 'buy ipad2', 'buy new', 'buy rt', 'buyers', 'buyers report', 'buying', 'buying ipad', 'buzz', 'buzz link', 'buzz quot', 'buzz sxsw', 'cab', 'calendar', 'calendar ur', 'california', 'called', 'called circles', 'called zms', 'cam', 'cam default', 'came', 'camera', 'camera sxsw', 'cameras', 'cameras rigeur', 'canada', 'canada 2nd', 'canvas', 'canvas library', 'capture', 'capture device', 'car', 'card', 'care', 'caring', 'caring business', 'carry', 'case', 'case boyfriend', 'case catch', 'case ipad', 'case mention', 'case sxsw', 'case zazzlesxsw', 'cases', 'cases rad', 'cash', 'cashmore', 'cashmore ipad', 'cashmore think', 'catch', 'catch sxsw', 'catching', 'cause', 'cbatsxsw', 'cc', 'cc mention', 'celebrate', 'celebrating', 'center', 'center today', 'ceo', 'ceo mention', 'cera', 'cera ready', 'ch', 'ch sxsw', 'chain', 'chance', 'chance win', 'change', 'change broadcastr', 'changed', 'changes', 'changes gowalla', 'changing', 'charge', 'charge iphone', 'charged', 'charger', 'charger iphone', 'charging', 'charging iphone', 'charity', 'charity apple', 'check', 'check googletv', 'check holler', 'check latest', 'check link', 'check mention', 'check new', 'check rt', 'check sxsw', 'checking', 'checking ipad', 'checkins', 'checkins sxsw', 'cheeky', 'cheeky app', 'cheers', 'chevy', 'chevy cruze', 'chevysmc', 'chic', 'chic fashion', 'chief', 'chief talent', 'choice', 'choice awards', 'choice sxsw', 'chris', 'christmas', 'chunky', 'chunky elements', 'circle', 'circles', 'circles coming', 'circles google', 'circles link', 'circles lucky', 'circles possibly', 'circles previews', 'circles quot', 'circles real', 'circles social', 'circles sxsw', 'circles today', 'city', 'city end', 'city guide', 'clarity', 'clarity trumps', 'clark', 'clark hate', 'classiest', 'classiest fascist', 'clean', 'clean title', 'clear', 'clear points', 'clearly', 'clever', 'clever apple', 'clicked', 'clicked location', 'client', 'clients', 'close', 'closely', 'clothes', 'cloud', 'cluttering', 'cluttering handset', 'cnet', 'cnet blogs', 'cnet news', 'cnn', 'cnnmoney', 'cnnmoney sxsw', 'code', 'code link', 'coffee', 'collection', 'collection egomaniacs', 'collectively', 'collectively saving', 'colors', 'com', 'com best', 'com interactive', 'com link', 'com sxsw', 'come', 'come day', 'come link', 'come mention', 'come party', 'come playsxsw', 'come sxsw', 'comes', 'comes cool', 'coming', 'coming ipad', 'coming probably', 'coming sxsw', 'coming tonight', 'comment', 'comment uosxsw', 'comments', 'communication', 'communication showcased', 'community', 'community human', 'community ipad', 'companies', 'company', 'company america', 'company rt', 'compatible', 'compatible maybe', 'complete', 'completely', 'computer', 'computer choice', 'computing', 'computing device', 'concept', 'concept sxsw', 'concert', 'conf', 'conf hours', 'conference', 'conference link', 'conferences', 'conferences events', 'conferences quot', 'confirmed', 'confirmed apple', 'congrats', 'congrats iphone', 'congrats kenny', 'congrats mention', 'congrats rt', 'congrats sxsw', 'congress', 'congress austin', 'congress ipad', 'congress signs', 'congress sxsw', 'connect', 'connect digital', 'connected', 'connected tv', 'connectedtv', 'connectedtv fascinating', 'constant', 'constant ipad', 'consultation', 'consumer', 'consumerization', 'cont', 'cont link', 'contact', 'contact group', 'content', 'content today', 'contest', 'contextual', 'contextual discovery', 'continued', 'continued existence', 'continued survival', 'continues', 'continuous', 'control', 'convention', 'convention center', 'conversation', 'convinced', 'convinced upgrade', 'cool', 'cool app', 'cool apple', 'cool free', 'cool heatmap', 'cool iphone', 'cool link', 'cool means', 'cool rt', 'cool song', 'cool stuff', 'cool sxsw', 'cool technology', 'cooler', 'cooler lame', 'coolest', 'coordinate', 'coordinate sxsw4japan', 'cord', 'core', 'core sxsw', 'corner', 'corner 6th', 'correct', 'couch', 'couldn', 'couldn happen', 'couple', 'course', 'course link', 'courtesy', 'cover', 'covered', 'covered sxsw', 'cpa', 'cpa model', 'crashes', 'crashing', 'crashy', 'crashy year', 'crazy', 'crazy long', 'cream', 'creating', 'creating dynamic', 'credit', 'credit fixing', 'crew', 'crowd', 'crowd austin', 'crowd swarms', 'crowd sxsw', 'crowded', 'crowdsourcing', 'crowley', 'crowley cashmore', 'crowley gets', 'cruze', 'cruze losers', 'csr', 'csr reporting', 'cunning', 'cunning apple', 'cursor', 'custom', 'custom iphone', 'custom mention', 'customer', 'customer service', 'customer waiting', 'customers', 'customers sxsw', 'cute', 'daily', 'daily grape', 'daily sxsw', 'damn', 'dan', 'dang', 'dang sxsw', 'dangerous', 'dark', 'dark party', 'data', 'data google', 'data sxsw', 'dawn', 'dawn ipad', 'day', 'day apple', 'day austin', 'day business', 'day driven', 'day exhibit', 'day finding', 'day good', 'day google', 'day lp', 'day mention', 'day return', 'day sxsw', 'days', 'days great', 'days ipad', 'days sxsw', 'dead', 'dead need', 'deadly', 'deal', 'deals', 'dear', 'dear mention', 'death', 'debating', 'debut', 'debut sxsw', 'debuting', 'debuts', 'decide', 'decided', 'decided la', 'decided need', 'decision', 'def', 'default', 'default video', 'definitely', 'definitely iphone', 'delegates', 'delegates link', 'delegates mention', 'delete', 'deleting', 'delicious', 'delicious mobile', 'delightful', 'delightful like', 'delivered', 'delivery', 'demo', 'demo google', 'demo horrible', 'demo ing', 'demo league', 'demo meet', 'demo mention', 'demoed', 'demonstrate', 'demonstrate social', 'demonstrates', 'demonstrates pause', 'denies', 'denies launch', 'dennis', 'dennis crowley', 'density', 'density tap', 'design', 'design big', 'design good', 'design headaches', 'design ipad', 'design malady', 'design panel', 'design principles', 'design sxsw', 'designing', 'designing ipad', 'desktop', 'destroyed', 'destroyed lt', 'details', 'details ipad', 'details link', 'details revealed', 'dev', 'dev house', 'dev meetup', 'developed', 'developed ipad', 'developer', 'developers', 'development', 'device', 'device beautiful', 'device bigger', 'device sxsw', 'devices', 'devs', 'did', 'did hear', 'didn', 'didn ipad', 'die', 'different', 'digital', 'digital amp', 'digital delegates', 'dilemma', 'dilemma link', 'diller', 'diller says', 'diller sxsw', 'directors', 'disappointed', 'discover', 'discover new', 'discovered', 'discovery', 'discovr', 'discovr available', 'discovr iphone', 'discuss', 'discuss new', 'disney', 'display', 'disruptive', 'disruptive innovation', 'dj', 'dj mention', 'dl', 'doc', 'doc mention', 'dock', 'docs', 'does', 'does apple', 'does ipad', 'doesn', 'doesn work', 'dogs', 'dogs sxsw', 'doing', 'doing disruptive', 'doing sxsw', 'doing work', 'dokobots', 'domo', 'don', 'don conferences', 'don forget', 'don know', 'don mention', 'don need', 'don think', 'dont', 'doodle', 'doodles', 'door', 'door sxsw', 'double', 'doubt', 'douche', 'download', 'download app', 'download earthhour', 'download sxsw', 'downloaded', 'downloads', 'downtown', 'downtown apple', 'downtown austin', 'drag', 'drag drop', 'draw', 'draw picture', 'dreams', 'drink', 'drink free', 'drinks', 'drinks mention', 'drive', 'drive 12b', 'driven', 'driven google', 'drivers', 'drivers time', 'drivers years', 'drivers yrs', 'drives', 'drives decision', 'driving', 'droid', 'drooling', 'drop', 'drop store', 'dropped', 'dropping', 'drowning', 'drumroll', 'drumroll mention', 'dt', 'dude', 'dynamic', 'dynamic google', 'dynamic video', 'early', 'early day', 'early help', 'earplugs', 'earth', 'earth engine', 'earthhour', 'earthquake', 'earthquake ipad', 'easeljs', 'easeljs favorite', 'easier', 'easier browse', 'easy', 'easy details', 'eat', 'eat um', 'eats', 'eats bbq', 'edtech', 'edtech sxsw', 'effective', 'effective h264', 'efficient', 'effing', 'effing hubby', 'effort', 'egomaniacs', 'egomaniacs history', 'elbow', 'elbow hate', 'electronics', 'electronics awesome', 'elegant', 'elegant apple', 'elegant fascist', 'elements', 'elements generous', 'embarrassed', 'embarrassed iphone', 'emc', 'emc booth', 'emotional', 'emotional thing', 'employees', 'enchantment', 'enchantment mention', 'enchantment sxsw', 'end', 'end sxsw', 'energy', 'engagement', 'engine', 'enjoy', 'enjoying', 'enjoying changes', 'enjoying ipad', 'enjoying ipad2', 'enjoying sxsw', 'enjoys', 'enjoys spanking', 'enter', 'enter link', 'enter win', 'enterprise', 'enterprise strategy', 'entire', 'entire inventory', 'entirely', 'entry', 'entry amazingly', 'environment', 'envy', 'envy roof', 'epic', 'ers', 'ers rt', 'esp', 'especially', 'essential', 'etch', 'etch sketch', 'event', 'event free', 'events', 'events ipad', 'events link', 'events today', 'eventseekr', 'eventseekr app', 'everybody', 'everyday', 'everyday sxsw', 'evidence', 'evo', 'ex', 'example', 'example good', 'examples', 'excellent', 'excellent way', 'excited', 'excited hls', 'excited know', 'excited meet', 'excited sxsw', 'exciting', 'exciting things', 'exclusive', 'exclusive apple', 'exclusive shot', 'exhibit', 'exhibit hall', 'exist', 'existence', 'existence god', 'exists', 'exists awesome', 'expect', 'expect google', 'expected', 'expecting', 'expensive', 'expensive seo', 'experience', 'experience complete', 'experience sxsw', 'experiment', 'experts', 'experts cnet', 'experts link', 'experts quot', 'experts sxsw', 'experts thousands', 'explanation', 'explanation apple', 'exploiting', 'exploiting apple', 'explorer', 'explorer app', 'extra', 'extraordinary', 'extraordinary hackers', 'eyeballed', 'eyeballed ip4', 'fab5', 'fabulous', 'face', 'facebook', 'facebook google', 'facebook killer', 'facing', 'factor', 'fades', 'fades fast', 'fail', 'fail link', 'fail sxsw', 'failed', 'failed willpower', 'fair', 'false', 'false alarm', 'fam', 'fam showing', 'fan', 'fan just', 'fanboy', 'fanboys', 'fanboys link', 'fandango', 'fandango karaoke', 'fandango tkts', 'fans', 'fans peek', 'fantastic', 'far', 'far apple', 'far best', 'far computer', 'far super', 'farmers', 'fascinating', 'fascist', 'fascist company', 'fashion', 'fashion item', 'fast', 'fast digital', 'fast fun', 'fast mention', 'fast rt', 'fast society', 'fast sxsw', 'faster', 'fav', 'fav sxsw', 'fave', 'fave ipad', 'favorite', 'favorite canvas', 'fb', 'fb page', 'fear', 'fear sxsw', 'feature', 'feature gives', 'featured', 'featured artists', 'featured sxsw', 'features', 'features v5', 'featuring', 'feel', 'feel like', 'feeling', 'feelings', 'fell', 'fell asleep', 'fellow', 'fest', 'festival', 'festival explorer', 'festival isn', 'fi', 'field', 'field trip', 'fight', 'figure', 'film', 'filmaster', 'filming', 'filming ipad', 'finally', 'finally iphone', 'finder', 'finding', 'finding best', 'finding enjoying', 'fine', 'fingers', 'firstworldproblems', 'fishing', 'fists', 'fix', 'fixing', 'fixing christmas', 'flaming', 'flaming skulls', 'flash', 'flash apple', 'flash looks', 'flash mobs', 'flight', 'flights', 'flip', 'flip cam', 'flipboard', 'flipboard platform', 'flipboard sxsw', 'floor', 'flying', 'focus', 'focus getting', 'focuses', 'focuses purpose', 'fogo', 'fogo ch', 'folks', 'folks sxsw', 'follow', 'followers', 'fonts', 'food', 'food art', 'foodspotting', 'foot', 'footage', 'forbes', 'forbes sxsw', 'force', 'forget', 'forget march', 'forget nfl', 'forgot', 'forgot sxsw', 'forgotten', 'form', 'formula', 'forward', 'forward delicious', 'forward learning', 'forward seeing', 'forward smcdallas', 'foursquare', 'foursquare sleeves', 'foursquare sxsw', 'foursquare yelp', 'freak', 'free', 'free austin', 'free beer', 'free coffee', 'free daily', 'free drinks', 'free food', 'free google', 'free ipad', 'free iphone', 'free itunes', 'free limited', 'free link', 'free lp', 'free march', 'free pi', 'free sxsw', 'free texting', 'freespeech', 'freespeech mention', 'fresh', 'fri', 'friday', 'friday austin', 'friend', 'friendly', 'friends', 'friends city', 'frostwire', 'frostwire android', 'frothy', 'frothy startups', 'fruit', 'ft', 'fuck', 'fuck iphone', 'fucking', 'fuel', 'fuel link', 'fully', 'fun', 'fun creating', 'fun future', 'fun google', 'fun interactive', 'fun mention', 'fun sxsw', 'function', 'fundraising', 'fundraising kiosk', 'funny', 'funny moment', 'fusion', 'fusion tables', 'future', 'future conferences', 'future google', 'future networks', 'future sxsw', 'futuremf', 'futuremf trajan', 'fwd', 'fwd ipad', 'g03mzb', 'gadget', 'gadgets', 'galaxy', 'game', 'game launches', 'game sxsw', 'games', 'gap', 'gap mention', 'gave', 'gave ipad', 'geek', 'geek power', 'geek spring', 'geek start', 'geek sxsw', 'geeking', 'geekout', 'geeks', 'geeks need', 'generous', 'generous space', 'genius', 'genius apple', 'genius link', 'geo', 'geolocation', 'geolocation amp', 'gets', 'gets apple', 'gets ipad', 'gets tax', 'getting', 'getting ipad2', 'getting ready', 'getting shinmy', 'giant', 'giddy', 'giddy announce', 'gift', 'girl', 'giveaway', 'giveaway coming', 'gives', 'gives alternate', 'gives charity', 'gives room', 'giving', 'giving away', 'giving free', 'glad', 'glass', 'god', 'god explanation', 'god quot', 'god rt', 'god sxsw', 'goers', 'goes', 'goes sale', 'goin', 'goin sxsw', 'going', 'going busy', 'going sxsw', 'gold', 'gold gym', 'gonna', 'gonna focus', 'gonna miss', 'good', 'good artist', 'good crowd', 'good flash', 'good idea', 'good info', 'good job', 'good luck', 'good news', 'good sxsw', 'good times', 'good ui', 'good work', 'goodness', 'goog', 'google', 'google aclu', 'google amp', 'google analytics', 'google announcing', 'google art', 'google bing', 'google booth', 'google buzz', 'google calendar', 'google circle', 'google circles', 'google connect', 'google denies', 'google destroyed', 'google did', 'google doc', 'google docs', 'google doodle', 'google doodles', 'google earth', 'google handing', 'google hotpot', 'google incapable', 'google industry', 'google isn', 'google labs', 'google latitude', 'google launch', 'google launched', 'google launching', 'google league', 'google link', 'google location', 'google logos', 'google looks', 'google lost', 'google map', 'google maps', 'google marissa', 'google mayer', 'google mention', 'google mobile', 'google needs', 'google new', 'google nexus', 'google party', 'google people', 'google pic', 'google places', 'google planning', 'google presentation', 'google preview', 'google product', 'google products', 'google quot', 'google reader', 'google right', 'google route', 'google saving', 'google saying', 'google says', 'google search', 'google set', 'google social', 'google sponsored', 'google street', 'google sxsw', 'google takes', 'google theatre', 'google tonight', 'google tv', 'google tweet', 'google verizon', 'google vs', 'google web', 'google win', 'googledoodle', 'googledoodle sxsw', 'googlemaps', 'googlemaps mobile', 'googletv', 'googletv ipad', 'got', 'got exciting', 'got free', 'got ipad', 'got lot', 'got shiny', 'got turkey', 'got vmware', 'gotta', 'gotta link', 'gotta love', 'gowalla', 'gowalla android', 'gowalla link', 'gowalla wins', 'gps', 'grab', 'grabbed', 'gram', 'gram app', 'gram cheeky', 'gram ipad', 'grand', 'grape', 'grape app', 'graph', 'graph protocol', 'grateful', 'great', 'great community', 'great day', 'great features', 'great idea', 'great ipad', 'great job', 'great panel', 'great presentation', 'great session', 'great social', 'great stuff', 'great sxsw', 'great talk', 'great time', 'great virtual', 'great work', 'greatest', 'greatest collection', 'grooving', 'grooving sxsw', 'group', 'group mention', 'group texting', 'groupme', 'groups', 'growing', 'grrr', 'grrr sxsw', 'gsd', 'gsd amp', 'gsdm', 'gsdm google', 'gsdm sxsw', 'gswsxsw', 'gt', 'gt gt', 'gt link', 'gt rt', 'gt tag', 'guard', 'guard enjoying', 'guards', 'guess', 'guess won', 'guide', 'guide austin', 'guide iphone', 'guilty', 'gun', 'gun mention', 'guy', 'guy kawasaki', 'guykawasaki', 'guykawasaki sxsw', 'guys', 'guys sxsw', 'gym', 'h264', 'h264 maybe', 'h2o', 'ha', 'ha rt', 'hackers', 'hackers cool', 'hackers events', 'haha', 'haha awesomely', 'haha rt', 'hairy', 'hairy butts', 'half', 'halfway', 'hall', 'hall open', 'hand', 'hand held', 'handing', 'handing free', 'handle', 'hands', 'hands thing', 'handset', 'hang', 'hanging', 'hanging mention', 'happen', 'happen iphone', 'happen sxsw', 'happened', 'happily', 'happy', 'happy dev', 'happy hour', 'happy nfl', 'happy sxsw', 'happydance', 'hard', 'hard beat', 'hard time', 'hashtags', 'hate', 'hate ipad', 'haven', 'haven seen', 'having', 'having fun', 'having great', 'having hard', 'having ipad', 'having meetings', 'having really', 'having trouble', 'hawk', 'hawk ipad', 'hcsm', 'head', 'head iphone', 'headaches', 'headaches quot', 'headaches sxsw', 'headaches tablet', 'headed', 'headed sxsw', 'heading', 'heading austin', 'heading free', 'heading sxsw', 'heads', 'heads sxsw', 'hear', 'hear apple', 'hear mention', 'heard', 'heard apple', 'heard don', 'heard google', 'heard weekend', 'heart', 'heat', 'heat million', 'heat tracker', 'heatmap', 'heatmap iphone', 'heats', 'heats fast', 'heavenly', 'heavenly aka', 'heavier', 'heavier laptop', 'heck', 'held', 'held sxsw', 'hell', 'hell sxsw', 'hello', 'hello holler', 'help', 'help prep', 'helps', 'hey', 'hey apple', 'hey lucky', 'hey mention', 'hey sxsw', 'hey taariq', 'hey tweeps', 'hey vufinders', 'high', 'higher', 'higher margin', 'highlight', 'highlight sxsw', 'highlights', 'hilarious', 'hilton', 'hipster', 'hipster geek', 'hipsters', 'history', 'history quot', 'hisxsw', 'hisxsw sxsw', 'hit', 'hitlantis', 'hitlantis com', 'hitlantis ipad', 'hive', 'hive think', 'hls', 'hls dynamic', 'hmm', 'hmm ipad', 'hmm sxsw', 'hmmm', 'hobo', 'hobo shotgun', 'hold', 'hold new', 'holding', 'holding ipad', 'holla', 'holla rt', 'holler', 'holler gram', 'hollergram', 'hollergram app', 'hollergram ipad', 'hollergram sxsw', 'holy', 'holy smokes', 'home', 'honesty', 'hoo', 'hoo mention', 'hook', 'hootsuite', 'hope', 'hope having', 'hope year', 'hopes', 'hoping', 'hoping ll', 'horrible', 'horrible terrible', 'hot', 'hot just', 'hot pot', 'hot spots', 'hotel', 'hotpot', 'hotpot integrated', 'hotpot rate', 'hotpot sxsw', 'hotpot watch', 'hotpot yelp', 'hour', 'hour line', 'hour semantic', 'hour tonight', 'hours', 'house', 'house google', 'howdy', 'howdy texas', 'hrs', 'hrs tweeting', 'htdfim', 'htdfim hollergram', 'html5', 'html5 flash', 'html5 shirt', 'http', 'http bit', 'hubby', 'hubby line', 'huge', 'huge win', 'human', 'human solution', 'hunts', 'hunts link', 'hyatt', 'i41h53', 'ical', 'ical amp', 'ice', 'ice cream', 'idea', 'idea google', 'idea rt', 'idiocy', 'idiocy ogilvynotes', 'ie9', 'ignore', 'ignore quot', 'igottagetit', 'il', 'imacs', 'imacs brilliant', 'image', 'image starry', 'images', 'images jcpenney', 'images macys', 'immersive', 'impact', 'important', 'impressed', 'impression', 'impressive', 'impressive integration', 'impressive lines', 'impromptu', 'impromptu parties', 'improve', 'improvement', 'improvement worth', 'impulse', 'impulsive', 'incapable', 'incapable doing', 'incl', 'incl billion', 'includes', 'includes uberguide', 'including', 'including drag', 'including emotional', 'including google', 'including tim', 'industry', 'industry party', 'infektd', 'influence', 'info', 'info link', 'info mention', 'info nike', 'info songs', 'informal', 'informal unscientific', 'ing', 'ing google', 'innotribe', 'innovate', 'innovation', 'innovation acquired', 'innovators', 'insane', 'insanely', 'insertion', 'insertion tv', 'inside', 'inside google', 'insider', 'insider guide', 'insights', 'insights tapworthy', 'inspiring', 'instagram', 'installed', 'installed sxsw', 'instant', 'instead', 'instead fists', 'instead link', 'instead sxsw', 'integrated', 'integrated rating', 'integration', 'integration link', 'integration personalized', 'intelligent', 'interact', 'interactive', 'interactive book', 'interactive link', 'interactive live', 'interactive maps', 'interested', 'interesting', 'interesting new', 'interesting rt', 'interface', 'interface sxsw', 'interfaces', 'interfaces new', 'international', 'internet', 'interview', 'interview mention', 'intimate', 'intro', 'inventory', 'inventory justsaying', 'investors', 'investors propping', 'invite', 'ios', 'ios android', 'ios tweetdeck', 'ip4', 'ipad', 'ipad 2s', 'ipad 3g', 'ipad 40min', 'ipad acquired', 'ipad amp', 'ipad android', 'ipad app', 'ipad apple', 'ipad apps', 'ipad art', 'ipad austin', 'ipad available', 'ipad awesome', 'ipad barrydiller', 'ipad better', 'ipad boxes', 'ipad button', 'ipad case', 'ipad cases', 'ipad come', 'ipad coming', 'ipad content', 'ipad cool', 'ipad cooler', 'ipad courtesy', 'ipad day', 'ipad design', 'ipad display', 'ipad dj', 'ipad download', 'ipad draw', 'ipad elbow', 'ipad envy', 'ipad forgot', 'ipad free', 'ipad game', 'ipad giveaway', 'ipad goes', 'ipad going', 'ipad great', 'ipad hand', 'ipad hipster', 'ipad interface', 'ipad interfaces', 'ipad ipad', 'ipad ipad2', 'ipad iphone', 'ipad just', 'ipad kick', 'ipad kinda', 'ipad launch', 'ipad like', 'ipad line', 'ipad link', 'ipad ll', 'ipad look', 'ipad looked', 'ipad lounge', 'ipad magazine', 'ipad march', 'ipad mention', 'ipad minor', 'ipad mobile', 'ipad money', 'ipad news', 'ipad ordered', 'ipad owners', 'ipad pass', 'ipad person', 'ipad photos', 'ipad physical', 'ipad point', 'ipad pop', 'ipad pretty', 'ipad pure', 'ipad quibids', 'ipad quite', 'ipad quot', 'ipad ready', 'ipad release', 'ipad resulting', 'ipad review', 'ipad right', 'ipad rt', 'ipad sale', 'ipad sales', 'ipad session', 'ipad set', 'ipad sold', 'ipad someones', 'ipad south', 'ipad stock', 'ipad store', 'ipad sxsw', 'ipad tablet', 'ipad takes', 'ipad taking', 'ipad time', 'ipad tomorrow', 'ipad unsix', 'ipad upgrade', 'ipad usguys', 'ipad wait', 'ipad webdoc', 'ipad website', 'ipad week', 'ipad white', 'ipad women', 'ipad worry', 'ipad yeah', 'ipad year', 'ipad yes', 'ipad2', 'ipad2 apple', 'ipad2 austin', 'ipad2 cc', 'ipad2 come', 'ipad2 cool', 'ipad2 later', 'ipad2 launch', 'ipad2 link', 'ipad2 love', 'ipad2 media', 'ipad2 mention', 'ipad2 pop', 'ipad2 popup', 'ipad2 release', 'ipad2 replacing', 'ipad2 sxsw', 'ipad2 today', 'ipad2 woohoo', 'ipad2s', 'ipad2s sxsw', 'ipads', 'ipads check', 'ipads link', 'ipads sxsw', 'ipads teach', 'iphone', 'iphone 96', 'iphone amigos', 'iphone amp', 'iphone android', 'iphone app', 'iphone application', 'iphone apps', 'iphone available', 'iphone awesome', 'iphone battery', 'iphone blackberry', 'iphone called', 'iphone cameras', 'iphone case', 'iphone cases', 'iphone ceo', 'iphone charger', 'iphone charging', 'iphone cool', 'iphone developer', 'iphone drives', 'iphone droid', 'iphone free', 'iphone game', 'iphone geolocation', 'iphone guide', 'iphone hand', 'iphone hilarious', 'iphone hrs', 'iphone ical', 'iphone ipad', 'iphone ipod', 'iphone just', 'iphone kicking', 'iphone laptop', 'iphone light', 'iphone link', 'iphone mention', 'iphone new', 'iphone nokia', 'iphone plus', 'iphone quot', 'iphone rt', 'iphone safari', 'iphone scavenger', 'iphone started', 'iphone sxsw', 'iphone tell', 'iphone thanks', 'iphone thankyouecon', 'iphone use', 'iphone useful', 'iphone users', 'iphone usguys', 'iphone vs', 'iphone4', 'iphones', 'ipod', 'ipod iphone', 'ironic', 'ironic tee', 'isn', 'isn crashy', 'isn ipad', 'isn social', 'issue', 'item', 'item year', 'itunes', 'itunes app', 'itunes austin', 'itunes link', 'itunes sxsw', 'janecek', 'janecek microsoft', 'japan', 'japan earthquake', 'japan quake', 'japan relief', 'japan sxsw', 'japanese', 'jcpenney', 'jcpenney images', 'jealous', 'jealous sxsw', 'jeans', 'jk', 'job', 'job mention', 'job protecting', 'jobs', 'join', 'join link', 'joke', 'jonathan', 'jonathan zaggle', 'josh', 'josh clark', 'joy', 'joy sxsw', 'jr', 'js', 'juice', 'juice pack', 'juicepack', 'jump', 'just', 'just 15k', 'just added', 'just announced', 'just bought', 'just clicked', 'just data', 'just gave', 'just got', 'just held', 'just installed', 'just ipad', 'just kidding', 'just launched', 'just left', 'just like', 'just look', 'just picked', 'just read', 'just saw', 'just shat', 'just showed', 'just sxsw', 'just synced', 'just time', 'just took', 'just used', 'just visit', 'just walked', 'just want', 'just won', 'justsaying', 'kara', 'kara swisher', 'karaoke', 'karaoke 1st', 'kawasaki', 'kawasaki delightful', 'kawasaki quot', 'kawasaki thisisdare', 'keeping', 'keeping ipad2', 'kek', 'kenny', 'kenny enjoys', 'keyboard', 'keynote', 'keynote sxsw', 'kick', 'kick ass', 'kick time', 'kicking', 'kicking hairy', 'kid', 'kidding', 'kidding good', 'kids', 'kids museums', 'kill', 'killcommunity', 'killcommunity room', 'killer', 'killer impressive', 'killer ipad', 'killer photoes', 'killer supposedly', 'killers', 'killing', 'killing austin', 'killing sxsw', 'kind', 'kinda', 'kinda cool', 'kinda embarrassed', 'kindle', 'kiosk', 'kiosk japan', 'kit', 'knew', 'know', 'know apple', 'know going', 'know google', 'know means', 'know mention', 'know original', 'know sxsw', 'known', 'knows', 'kyping', 'kyping iphone', 'la', 'la instead', 'labs', 'lame', 'lame iphone', 'laptop', 'laptop amp', 'laptop ipad', 'laptop sxsw', 'laptops', 'late', 'late night', 'late sxsw', 'later', 'later today', 'latest', 'latest stream', 'latest version', 'latitude', 'launch', 'launch apple', 'launch bit', 'launch circles', 'launch day', 'launch downtown', 'launch google', 'launch link', 'launch ludicon', 'launch major', 'launch mention', 'launch new', 'launch social', 'launch sxsw', 'launch today', 'launched', 'launched sxsw', 'launches', 'launches iphone', 'launches new', 'launching', 'launching sxsw', 'law', 'lax', 'lax heading', 'lbs', 'league', 'league extraordinary', 'leanstartup', 'leanstartup amp', 'leanstartup sxsw', 'learn', 'learned', 'learning', 'leave', 'leaving', 'left', 'left brain', 'left sxsw', 'let', 'let make', 'let sxsw', 'lets', 'letting', 'level', 'library', 'library sxsw', 'library tv', 'life', 'life coming', 'life sxsw', 'light', 'light saber', 'lighters', 'lighters rock', 'like', 'like 1986', 'like apple', 'like aren', 'like geek', 'like going', 'like google', 'like ipad', 'like lighters', 'like money', 'like rt', 'like street', 'like sxsw', 'like walking', 'like web', 'like world', 'likeability', 'likeability virgin', 'likes', 'likes pay', 'liking', 'limited', 'limited time', 'line', 'line 6th', 'line apple', 'line austin', 'line block', 'line buy', 'line growing', 'line ipad', 'line ipad2', 'line like', 'line mention', 'line moving', 'line outside', 'line pop', 'line sxsw', 'line wife', 'lines', 'lines sxsw', 'lining', 'link', 'link 3x', 'link aapl', 'link android', 'link apple', 'link austin', 'link bands', 'link bnet', 'link brilliant', 'link built', 'link cc', 'link did', 'link excited', 'link google', 'link hollergram', 'link ipad', 'link ipad2', 'link iphone', 'link itunes', 'link like', 'link link', 'link lt', 'link mashable', 'link mention', 'link photo', 'link played', 'link rt', 'link seo', 'link socialmedia', 'link sxsw', 'link sxswh', 'link sxswi', 'link tc', 'link tech', 'link tech_news', 'link technology', 'link tip', 'link travel', 'link wssxsw', 'linking', 'links', 'lisa', 'list', 'list sxsw', 'listened', 'listened temp', 'listening', 'listening google', 'literally', 'little', 'live', 'live iphone', 'live link', 'live music', 'live stream', 'live sxsw', 'live video', 'lives', 'living', 'll', 'll able', 'll austin', 'll bet', 'll forget', 'll make', 'll need', 'll showing', 'll sxsw', 'll tell', 'll use', 'll using', 'll win', 'load', 'localmind', 'location', 'location based', 'location data', 'location leanstartup', 'locations', 'lockout', 'lockout right', 'logo', 'logos', 'lol', 'lol rt', 'lol sxsw', 'lonely', 'lonely job', 'lonely planet', 'long', 'long days', 'long line', 'long lines', 'long sxsw', 'long term', 'longer', 'look', 'look happy', 'look new', 'look sxsw', 'look weird', 'look zomg', 'looked', 'looked like', 'looking', 'looking forward', 'looking fwd', 'looks', 'looks awesome', 'looks great', 'looks interesting', 'looks like', 'looks technical', 'lose', 'lose hour', 'losers', 'losers investors', 'lost', 'lost sxsw', 'lost way', 'lot', 'lot better', 'lot nerds', 'lots', 'lots ipad', 'louisiana', 'louisiana cool', 'lounge', 'lounge sxsw', 'love', 'love apple', 'love google', 'love mention', 'love new', 'love place', 'love rt', 'love sxsw', 'loved', 'lovely', 'lovely review', 'lovin', 'loving', 'loving new', 'loyalty', 'lp', 'lp austin', 'lt', 'lt android', 'lt guess', 'lt lt', 'lt title', 'luck', 'luck sxsw', 'lucky', 'lucky dogs', 'lucky folks', 'ludicon', 'ludicon based', 'lugging', 'lugging laptop', 'lunch', 'lunch line', 'lustre', 'lustre pearl', 'lxh', 'ly', 'ly g03mzb', 'ly htdfim', 'lying', 'lying signal', 'mac', 'mac ipad', 'macbook', 'macbook air', 'macbook ipad', 'macbook pro', 'machine', 'machines', 'machines mystery', 'macys', 'macys trashy', 'madebymany', 'madebymany http', 'madness', 'mae', 'magazine', 'magazines', 'maggie', 'maggie mae', 'magic', 'magic iphone', 'magnet', 'magnet game', 'magnetic', 'magnetic cover', 'mags', 'major', 'major dilemma', 'major new', 'make', 'make custom', 'make iphone', 'make sense', 'make sxsw', 'makes', 'makes happy', 'makeshift', 'makeshift apple', 'making', 'making sxsw', 'malady', 'malady ipad', 'mall', 'man', 'man need', 'manage', 'management', 'management iphone', 'map', 'map usage', 'mappers', 'mappers entry', 'mapping', 'mapquest', 'maps', 'maps 150', 'maps interesting', 'maps mention', 'maps mobile', 'maps navigation', 'maps phone', 'maps rerouted', 'maps route', 'maps saves', 'maps street', 'maps sxsw', 'maps usage', 'maps use', 'maps users', 'march', 'march 15', 'march 2011', 'margin', 'margin cpa', 'marissa', 'marissa mayer', 'marissagoogle', 'marissagoogle sxsw', 'mark', 'mark belinsky', 'market', 'market getting', 'market link', 'market opportunity', 'marketing', 'marketing experts', 'marketing link', 'marketplace', 'marketplace hot', 'mashable', 'mashable link', 'matt', 'matter', 'maybe', 'maybe need', 'maybe year', 'mayer', 'mayer discuss', 'mayer google', 'mayer keynote', 'mayer location', 'mayer quot', 'mayer sales', 'mayer speak', 'mayer sxsw', 'mccannsxsw', 'mean', 'means', 'means watch', 'means winning', 'meant', 'media', 'meet', 'meet mention', 'meet sxsw', 'meeting', 'meetings', 'meetings line', 'meetup', 'megastore', 'megastore sxsw', 'memolane', 'memories', 'mention', 'mention 10', 'mention 150', 'mention 24', 'mention 40', 'mention aapl', 'mention acc', 'mention advisory', 'mention amp', 'mention android', 'mention app', 'mention apple', 'mention apps', 'mention austin', 'mention awesome', 'mention batterykiller', 'mention begins', 'mention best', 'mention big', 'mention blackberry', 'mention book', 'mention bored', 'mention bt', 'mention case', 'mention cc', 'mention charge', 'mention charging', 'mention check', 'mention client', 'mention come', 'mention confirmed', 'mention congrats', 'mention cool', 'mention dark', 'mention day', 'mention decided', 'mention demonstrates', 'mention details', 'mention developed', 'mention did', 'mention diller', 'mention domo', 'mention don', 'mention download', 'mention enchantment', 'mention excited', 'mention false', 'mention fam', 'mention feeling', 'mention finally', 'mention flipboard', 'mention fogo', 'mention free', 'mention fun', 'mention game', 'mention getting', 'mention giving', 'mention glad', 'mention going', 'mention good', 'mention google', 'mention got', 'mention great', 'mention ha', 'mention hand', 'mention hanging', 'mention having', 'mention head', 'mention heading', 'mention heard', 'mention hello', 'mention hey', 'mention hollergram', 'mention hope', 'mention hot', 'mention interesting', 'mention ipad', 'mention ipad2', 'mention iphone', 'mention ironic', 'mention jealous', 'mention just', 'mention killer', 'mention know', 'mention launch', 'mention leanstartup', 'mention life', 'mention line', 'mention link', 'mention live', 'mention living', 'mention ll', 'mention lol', 'mention lonely', 'mention look', 'mention looking', 'mention looks', 'mention lots', 'mention love', 'mention lt', 'mention maggie', 'mention marissa', 'mention mention', 'mention need', 'mention new', 'mention news', 'mention nice', 'mention official', 'mention oh', 'mention omitting', 'mention opposite', 'mention party', 'mention peter', 'mention psych', 'mention putting', 'mention quot', 'mention random', 'mention really', 'mention release', 'mention retiring', 'mention roll', 'mention rt', 'mention rumor', 'mention sadly', 'mention said', 'mention saw', 'mention says', 'mention second', 'mention security', 'mention seen', 'mention smart', 'mention smartphone', 'mention social', 'mention speakeasy', 'mention stop', 'mention store', 'mention sweet', 'mention sxsw', 'mention sxswbuffalo', 'mention table', 'mention talk', 'mention talking', 'mention team', 'mention tech', 'mention temp', 'mention thank', 'mention thanks', 'mention think', 'mention time', 'mention totally', 'mention updated', 'mention used', 'mention ve', 'mention video', 'mention w00t', 'mention wait', 'mention win', 'mention winning', 'mention woke', 'mention won', 'mention wow', 'mention wrote', 'mention yes', 'mention zazzlsxsw', 'mentioned', 'mentioned guy', 'messaging', 'messaging platform', 'met', 'met team', 'michael', 'michael cera', 'microsoft', 'microsoft apple', 'microsoft gives', 'midnight', 'midnight sxsw', 'mike', 'mike tyson', 'miles', 'miles day', 'miles year', 'million', 'million miles', 'million mobile', 'million suns', 'million users', 'min', 'mind', 'minor', 'minor improvement', 'minor step', 'mint', 'mint com', 'minute', 'minutes', 'minutes til', 'miss', 'miss mention', 'missed', 'missing', 'mistakes', 'mistakes building', 'mktg', 'mobile', 'mobile 3d', 'mobile 4g', 'mobile apps', 'mobile compatible', 'mobile devices', 'mobile google', 'mobile link', 'mobile looks', 'mobile maps', 'mobile pretty', 'mobile space', 'mobile sxsw', 'mobile topnews', 'mobile users', 'mobilefarm', 'mobilefarm sxsw', 'mobs', 'mobs hive', 'mode', 'model', 'model future', 'model vs', 'mom', 'moment', 'moment sxsw', 'monday', 'money', 'money burn', 'money japan', 'money sxsw', 'monopoly', 'month', 'months', 'months says', 'moonbot', 'moonbot studios', 'mophie', 'mophie juice', 'morning', 'morning link', 'morning sxsw', 'morphie', 'mosaicxm', 'motorola', 'movie', 'movies', 'moving', 'moving daily', 'mp', 'mr', 'mr heavenly', 'mt', 'mullenweg', 'murphy', 'murphy usa', 'museums', 'museums world', 'music', 'music app', 'music iphone', 'music link', 'music sampler', 'music sxsw', 'music withme', 'musicviz', 'mypov', 'mypov winner', 'mystery', 'mystery boxes', 'native', 'navigating', 'navigation', 'navigation assisted', 'navigation jr', 'navigation schemas', 'near', 'near sxsw', 'need', 'need austin', 'need break', 'need buy', 'need ipad', 'need patch', 'need social', 'need sxsw', 'need upgrade', 'need win', 'needs', 'needs way', 'nerd', 'nerds', 'nerds sxsw', 'nerds town', 'netflix', 'netflix iphone', 'network', 'network called', 'network circles', 'network quot', 'network sxsw', 'networks', 'networks just', 'new', 'new android', 'new app', 'new blog', 'new buyers', 'new design', 'new features', 'new google', 'new ipad', 'new ipad2', 'new ipads', 'new iphone', 'new mention', 'new music', 'new navigation', 'new old', 'new post', 'new product', 'new products', 'new quot', 'new social', 'new sxsw', 'new toy', 'new ubersocial', 'new update', 'new version', 'new video', 'new web', 'new whrrl', 'new york', 'newest', 'newest ios', 'news', 'news apps', 'news austin', 'news link', 'news sxsw', 'newsapps', 'newsapps sxsw', 'nexus', 'nexus phone', 'nfl', 'nfl does', 'nfl lockout', 'nice', 'nice apple', 'nice link', 'nice mention', 'nice rt', 'nice sxsw', 'nice work', 'nicely', 'night', 'night dang', 'night fishing', 'night sxsw', 'nike', 'nike sneakers', 'nokia', 'nokia pushsnowboarding', 'non', 'noon', 'note', 'notes', 'notes sxsw', 'novelty', 'novelty ipad', 'npr', 'npr music', 'nten', 'nten 11ntc', 'number', 'number sxswi', 'nuts', 'nyt', 'nyt app', 'object', 'object survive', 'object tagging', 'observation', 'observation apple', 'observer', 'obsolete', 'obviously', 'obviously want', 'offer', 'offers', 'officer', 'officer apple', 'official', 'official people', 'official sxsw', 'officially', 'officially sxsw', 'ogilvy', 'ogilvy autocorrects', 'ogilvynotes', 'ogilvynotes sxsw', 'oh', 'oh apple', 'oh god', 'ok', 'ok presenters', 'okay', 'old', 'old ipads', 'old things', 'omg', 'omitting', 'omitting flash', 'online', 'online ordering', 'open', 'open graph', 'open late', 'open pop', 'open popup', 'open sxsw', 'open temp', 'open temporary', 'open til', 'openbeta', 'openbeta vip', 'opened', 'opened pop', 'opening', 'opening apple', 'opening downtown', 'opening pop', 'opening popup', 'opening sxsw', 'opening temp', 'opening temporary', 'opens', 'opens pop', 'opportunity', 'opportunity ignore', 'opposite', 'opposite sides', 'options', 'order', 'ordered', 'ordering', 'ordering urs', 'organic', 'organizing', 'original', 'original content', 'ossum', 'ouch', 'outlet', 'outside', 'outside apple', 'outside sxsw', 'overheard', 'overheard sxsw', 'overlay', 'overlay foursquare', 'overload', 'overwhelming', 'owners', 'owners hold', 'owns', 'pac', 'pac man', 'pack', 'packed', 'packing', 'page', 'page info', 'pagemaker', 'pagemaker saved', 'pages', 'paid', 'panel', 'panel dennis', 'panel good', 'panel ipad', 'panel like', 'panel sxsw', 'panels', 'papasangre', 'parties', 'parties impulsive', 'parties sxsw', 'party', 'party apple', 'party best', 'party blackberry', 'party calendar', 'party come', 'party details', 'party don', 'party good', 'party google', 'party kinda', 'party like', 'party link', 'party maggie', 'party mention', 'party party', 'party sxsw', 'party tonight', 'party wed', 'pass', 'pass mobile', 'passes', 'past', 'past 12', 'past week', 'patch', 'patch mention', 'pause', 'pause video', 'pay', 'pay apple', 'pc', 'pearl', 'peek', 'peek space', 'peeps', 'pen', 'people', 'people apple', 'people demo', 'people doing', 'people obviously', 'people people', 'people standing', 'people sxsw', 'people using', 'people work', 'perfect', 'perfectly', 'performance', 'performance sxsw', 'permanent', 'person', 'person friends', 'person just', 'person sxsw', 'person tell', 'personal', 'personalized', 'personalized recommendations', 'personalized recos', 'peter', 'peter cashmore', 'phone', 'phone doing', 'phone google', 'phone sxsw', 'phones', 'photo', 'photo just', 'photoes', 'photoes iphone', 'photos', 'photos just', 'physical', 'physical messaging', 'physical worlds', 'pi', 'pi day', 'pi pi', 'pic', 'pic link', 'pic sxsw', 'pick', 'pick ipad', 'pick spot', 'picked', 'picked ipad', 'picked mention', 'pics', 'pics gowalla', 'picture', 'picture good', 'picture link', 'pictures', 'pictures ipad', 'piece', 'pitch', 'pitch fail', 'pixel', 'pixel image', 'place', 'place days', 'place fandango', 'places', 'places hotpot', 'plan', 'plan schedule', 'plane', 'plane sxsw', 'planet', 'planet releases', 'planning', 'planning launch', 'plans', 'plans google', 'platform', 'platform holler', 'platform iphone', 'play', 'play android', 'played', 'played apple', 'player', 'player pick', 'players', 'playhopskoch', 'playhopskoch apple', 'playing', 'playsxsw', 'plenty', 'plug', 'plugin', 'plugin stations', 'plus', 'plus source', 'pm', 'pm sxsw', 'pnid', 'pnid sxsw', 'pocket', 'podcast', 'point', 'point line', 'point yes', 'points', 'points sxsw', 'policy', 'policy imacs', 'politics', 'politics html5', 'pop', 'pop apple', 'pop fundraising', 'pop mention', 'pop quot', 'pop retail', 'pop shop', 'pop store', 'pop sxsw', 'popular', 'popup', 'popup apple', 'popup austin', 'popup quot', 'popup shop', 'popup store', 'popupstore', 'portable', 'positive', 'positive actions', 'positive sxsw', 'possible', 'possible launch', 'possible sxsw', 'possibly', 'possibly today', 'post', 'post mention', 'pot', 'pot google', 'potential', 'potentially', 'potentially higher', 'poursite', 'poursite sxsw', 'power', 'power link', 'powermat', 'ppl', 'pr', 'pre', 'pre sxsw', 'prefer', 'prep', 'prep sxsw', 'prepared', 'present', 'presentation', 'presentation google', 'presentation mayer', 'presentation mention', 'presentation sxsw', 'presenters', 'presenters using', 'preso', 'pressure', 'pretty', 'pretty amazing', 'pretty cool', 'pretty excited', 'pretty sure', 'preview', 'preview new', 'previews', 'previews far', 'principles', 'principles tapworthy', 'priorities', 'privacy', 'privacy location', 'prize', 'prize useful', 'prize yr', 'prizes', 'pro', 'pro ipad', 'probably', 'probably good', 'probably link', 'producers', 'product', 'product apple', 'products', 'products including', 'professionals', 'professionals tonight', 'profits', 'project', 'project google', 'project great', 'project like', 'promo', 'promotion', 'promotion chevysmc', 'proof', 'propping', 'propping frothy', 'props', 'protecting', 'protecting ipad', 'protecting users', 'protip', 'protocol', 'protocol added', 'psych', 'psych sxsw', 'public', 'publishers', 'pull', 'pulling', 'purchase', 'purchase ipad', 'purchased', 'pure', 'pure unadulterated', 'purpose', 'purpose object', 'push', 'pushsnowboarding', 'pushsnowboarding sxsw', 'puts', 'putting', 'putting gun', 'qagb', 'qr', 'qr code', 'quake', 'quality', 'quality trumps', 'quantity', 'quantity tapworthy', 'question', 'question amp', 'queue', 'quibids', 'quibids custom', 'quick', 'quicker', 'quickly', 'quit', 'quite', 'quite scene', 'quot', 'quot amazing', 'quot apple', 'quot believe', 'quot big', 'quot bizzy', 'quot check', 'quot circles', 'quot classiest', 'quot cool', 'quot explanation', 'quot facebook', 'quot feature', 'quot flash', 'quot flipboard', 'quot gave', 'quot google', 'quot got', 'quot haha', 'quot having', 'quot ipad', 'quot iphone', 'quot just', 'quot link', 'quot marissa', 'quot mark', 'quot market', 'quot mention', 'quot mobile', 'quot new', 'quot oh', 'quot panel', 'quot party', 'quot pop', 'quot popup', 'quot product', 'quot protecting', 'quot quot', 'quot reason', 'quot route', 'quot rt', 'quot store', 'quot sxsw', 'quot thing', 'quot think', 'quot uses', 'rad', 'rad ipad', 'rad ready', 'raises', 'random', 'random apple', 'rank', 'ranking', 'rankings', 'rate', 'rate restaurants', 'rating', 'rating recommendation', 'read', 'read apple', 'read google', 'reader', 'reader iphone', 'readership', 'readership quot', 'ready', 'ready poursite', 'ready rock', 'ready stop', 'ready sxsw', 'real', 'real time', 'reality', 'realize', 'realized', 'really', 'really cool', 'really don', 'really enjoying', 'really fast', 'really finding', 'really great', 'really need', 'really nice', 'really want', 'reason', 'reason google', 'recap', 'recharge', 'recipe', 'recommendation', 'recommendation android', 'recommendations', 'recommendations really', 'recommendations sxsw', 'recommends', 'record', 'record video', 'recos', 'recos eat', 'recreated', 'refrigerator', 'refrigerator magnet', 'registers', 'regular', 'reilly', 'reily', 'reily say', 'release', 'release ipad', 'released', 'releases', 'releases free', 'releasing', 'releasing background', 'relevant', 'relief', 'relief don', 'relief effort', 'remaining', 'remove', 'rendering', 'replacement', 'replacing', 'replacing flip', 'report', 'report link', 'reporting', 'reporting janecek', 'rerouted', 'rerouted images', 'research', 'respect', 'response', 'rest', 'rest link', 'restaurants', 'restaurants personalized', 'restraunts', 'restraunts comment', 'resulting', 'resulting shameless', 'results', 'retail', 'retail store', 'retail stores', 'retiring', 'retiring wine', 'retrollect', 'return', 'return policy', 'revealed', 'revealed link', 'review', 'review better', 'review forbes', 'reward', 'rewards', 'ridiculous', 'rigeur', 'right', 'right brain', 'right gonna', 'right sxsw', 'rise', 'rise_austin', 'rise_austin dead', 'robot', 'robot wars', 'robots', 'rock', 'rock bat', 'rock concert', 'rock sxsw', 'rockin', 'rockin signing', 'rocks', 'roll', 'roll tractor', 'roof', 'roof thanks', 'room', 'room iphone', 'room sxsw', 'route', 'route quot', 'route sxsw', 'route traffic', 'routes', 'routes avoid', 'rsvp', 'rt', 'rt haha', 'rt mention', 'rt sxsw', 'rules', 'rules sxsw', 'rumor', 'rumor apple', 'rumor google', 'rumors', 'rumors apple', 'run', 'running', 'saatchiny', 'saber', 'saber app', 'sad', 'sadly', 'sadly wasn', 'safari', 'safari doesn', 'said', 'sale', 'sale friday', 'sales', 'sales pitch', 'sales sxsw', 'salon', 'sampler', 'sampler itunes', 'samsung', 'samsung people', 'sandwiched', 'sandwiched iphone', 'sauce', 'save', 'savebrands', 'savebrands sxsw', 'saved', 'saved apple', 'saves', 'saves sxsw', 'saves users', 'saveustechies', 'saveustechies sxsw', 'saving', 'saving drivers', 'saving ipad', 'saving users', 'saw', 'saw lax', 'saw ossum', 'saw preview', 'say', 'say exists', 'say yes', 'saying', 'saying easeljs', 'says', 'says google', 'says mayer', 'says mention', 'says sxsw', 'scale', 'scan', 'scarborough', 'scarborough building', 'scarbrough', 'scarbrough building', 'scavenger', 'scavenger hunts', 'scene', 'scene geek', 'scenes', 'schedule', 'schedule android', 'schedule heavier', 'scheduled', 'schedules', 'scheduling', 'schemas', 'school', 'schools', 'schools marketing', 'schwag', 'score', 'screen', 'sea', 'search', 'search engine', 'search google', 'search potentially', 'search probably', 'search sxsw', 'search useful', 'searches', 'seats', 'seats sxsw', 'second', 'second day', 'secret', 'secret new', 'security', 'security guard', 'security guards', 'seeing', 'seeing amp', 'seeing demo', 'seeing ipad', 'seen', 'seen apple', 'seen impressive', 'seen sxsw', 'self', 'sell', 'sell bajillions', 'sell entire', 'sell ipad', 'sell ipad2', 'sell ipads', 'sell new', 'selling', 'selling early', 'selling ipad', 'selling ipad2', 'sells', 'sem', 'sem googlemaps', 'semantic', 'semantic web', 'send', 'sense', 'seo', 'seo consultation', 'seo open', 'seo sem', 'seriously', 'seriously sxsw', 'serve', 'serve inside', 'serve readership', 'service', 'services', 'session', 'session ipad', 'session mention', 'session sxsw', 'sessions', 'sessions ipad', 'set', 'set list', 'set open', 'set place', 'set pop', 'set sxsw', 'set temporary', 'sets', 'sets 000', 'sets temporary', 'setting', 'setting pop', 'setting temporary', 'shades', 'shameless', 'shameless promotion', 'share', 'share photos', 'sharing', 'shat', 'shell', 'shell 1500', 'shinmy', 'shinmy new', 'shiny', 'shiny new', 'shirt', 'shirt google', 'shit', 'shit thanks', 'shitty', 'shoot', 'shop', 'shop core', 'shop link', 'shop mention', 'shop scarbrough', 'shop sxsw', 'shops', 'short', 'shot', 'shot exploiting', 'shot success', 'shot sxsw', 'shotgun', 'shoulder', 'shout', 'showcase', 'showcase new', 'showcased', 'showcased sxsw', 'showed', 'showed cool', 'showing', 'showing ipad', 'showing new', 'showing sxsw', 'shows', 'sick', 'sides', 'sides killcommunity', 'sigh', 'sigh sxsw', 'sign', 'signal', 'signal say', 'signal strength', 'signing', 'signing talented', 'signs', 'signs point', 'silly', 'simple', 'simple idea', 'single', 'site', 'site coming', 'sites', 'sitting', 'sixth', 'sketch', 'skulls', 'skulls link', 'skyfire', 'skyfire browser', 'slated', 'slated pop', 'sleeves', 'sleeves sxsw', 'slides', 'small', 'smart', 'smart apple', 'smart company', 'smart phone', 'smart phones', 'smart rt', 'smart simple', 'smartphone', 'smartphone breakdown', 'smartphone rules', 'smartphone ve', 'smartthings', 'smcdallas', 'smcdallas pre', 'smileyparty', 'smokes', 'smokes ipad2', 'sneakers', 'sneakers performance', 'social', 'social apps', 'social media', 'social network', 'social proof', 'social search', 'social sxsw', 'social technical', 'socially', 'socialmedia', 'socialmedia tech', 'society', 'society launches', 'socks', 'software', 'sold', 'sold 64gig', 'sold 70', 'sold retail', 'solo', 'solution', 'solution quot', 'solutions', 'solutions great', 'someones', 'someones gotta', 'song', 'song explorer', 'song info', 'songs', 'songs 24', 'sony', 'sony xperia', 'soo', 'soon', 'sorry', 'sound', 'sound voice', 'sounding', 'sounds', 'sounds awesome', 'source', 'source code', 'south', 'south southwest', 'southby', 'southwest', 'southwest interactive', 'southwest sxsw', 'space', 'space buzz', 'space clarity', 'space slated', 'spanking', 'spanking new', 'spazmatics', 'speak', 'speak quot', 'speakeasy', 'speaks', 'special', 'speech', 'speech therapy', 'speedup', 'speedup object', 'spend', 'spent', 'spin', 'sponsored', 'sponsored cont', 'sponsored happy', 'sponsored mashable', 'spot', 'spot ipad', 'spots', 'spotted', 'spotted sxsw', 'spring', 'spring break', 'square', 'srsly', 'st', 'stage', 'stand', 'stand line', 'standing', 'standing line', 'staring', 'starry', 'starry night', 'start', 'start chic', 'start impromptu', 'started', 'started lying', 'starting', 'startup', 'startupbus', 'startups', 'startups enterprise', 'startups years', 'stations', 'stations sxsw', 'stay', 'stay contact', 'stay tuned', 'steampunk', 'steampunk time', 'step', 'step tell', 'steve', 'steve jobs', 'stock', 'stole', 'stop', 'stop emc', 'stop let', 'stop sxsw', 'stop tomorrow', 'store', 'store 6th', 'store amp', 'store android', 'store appears', 'store apple', 'store austin', 'store chevy', 'store come', 'store coming', 'store days', 'store downtown', 'store going', 'store includes', 'store ipad', 'store ipad2', 'store ipads', 'store just', 'store killing', 'store launch', 'store line', 'store link', 'store mall', 'store management', 'store mention', 'store near', 'store open', 'store opening', 'store opens', 'store quot', 'store set', 'store sold', 'store sxsw', 'store today', 'store tomorrow', 'store week', 'store wish', 'stores', 'stores sxsw', 'stories', 'story', 'strategy', 'strategy sxsw', 'stream', 'stream apple', 'stream isn', 'stream live', 'streaming', 'streaming just', 'streaming sxsw', 'streaming time', 'streams', 'street', 'street view', 'streetview', 'strength', 'strong', 'structured', 'structured search', 'struggle', 'struggle sxsw', 'stuck', 'studios', 'studios louisiana', 'stuff', 'stuff like', 'stuff sxsw', 'stumbling', 'stumbling lost', 'stupid', 'style', 'succeed', 'succeed google', 'success', 'success google', 'success structured', 'success sxsw', 'successful', 'suck', 'sucks', 'sucks sxsw', 'suggest', 'suggestions', 'sun', 'sunday', 'sunglasses', 'sunny', 'suns', 'suns tapworthy', 'super', 'super fast', 'super happy', 'super positive', 'supply', 'support', 'support link', 'supposedly', 'supposedly mention', 'sure', 'sure download', 'sure ll', 'surely', 'surprise', 'surprise apple', 'surprise customer', 'surrounded', 'survival', 'survival existence', 'survival kit', 'survive', 'survive amp', 'survive sxsw', 'suspense', 'swag', 'swag thanks', 'swarms', 'swarms ipad', 'sweet', 'sweet apple', 'swisher', 'swisher sxsw', 'switch', 'sxflip', 'sxflip sxsw', 'sxsh', 'sxsw', 'sxsw 10', 'sxsw 2011', 'sxsw 6th', 'sxsw action', 'sxsw amazing', 'sxsw amp', 'sxsw android', 'sxsw app', 'sxsw apple', 'sxsw apps', 'sxsw attendees', 'sxsw atx', 'sxsw austin', 'sxsw awesomeness', 'sxsw band', 'sxsw best', 'sxsw bet', 'sxsw beta', 'sxsw bring', 'sxsw cbatsxsw', 'sxsw cc', 'sxsw check', 'sxsw cnet', 'sxsw cnn', 'sxsw com', 'sxsw come', 'sxsw coming', 'sxsw comments', 'sxsw conf', 'sxsw conference', 'sxsw connectedtv', 'sxsw cont', 'sxsw cool', 'sxsw crowd', 'sxsw csr', 'sxsw day', 'sxsw definitely', 'sxsw delegates', 'sxsw did', 'sxsw didn', 'sxsw diller', 'sxsw discover', 'sxsw does', 'sxsw doesn', 'sxsw don', 'sxsw download', 'sxsw easier', 'sxsw enchantment', 'sxsw ers', 'sxsw excellent', 'sxsw experience', 'sxsw fail', 'sxsw far', 'sxsw featured', 'sxsw festival', 'sxsw folks', 'sxsw free', 'sxsw fun', 'sxsw geek', 'sxsw gets', 'sxsw giddy', 'sxsw going', 'sxsw good', 'sxsw google', 'sxsw got', 'sxsw gps', 'sxsw great', 'sxsw gsdm', 'sxsw gt', 'sxsw hands', 'sxsw happydance', 'sxsw hope', 'sxsw http', 'sxsw huge', 'sxsw il', 'sxsw including', 'sxsw insider', 'sxsw interactive', 'sxsw ipad', 'sxsw ipad2', 'sxsw ipads', 'sxsw iphone', 'sxsw just', 'sxsw kek', 'sxsw keynote', 'sxsw like', 'sxsw line', 'sxsw link', 'sxsw ll', 'sxsw looking', 'sxsw love', 'sxsw lt', 'sxsw lxh', 'sxsw macbook', 'sxsw make', 'sxsw making', 'sxsw man', 'sxsw mappers', 'sxsw marissa', 'sxsw means', 'sxsw memolane', 'sxsw mention', 'sxsw mistakes', 'sxsw mobile', 'sxsw model', 'sxsw mosaicxm', 'sxsw music', 'sxsw musicviz', 'sxsw need', 'sxsw new', 'sxsw newsapps', 'sxsw nice', 'sxsw panel', 'sxsw parties', 'sxsw party', 'sxsw past', 'sxsw peeps', 'sxsw people', 'sxsw pic', 'sxsw plans', 'sxsw pnid', 'sxsw pop', 'sxsw popup', 'sxsw popupstore', 'sxsw possible', 'sxsw poursite', 'sxsw prepared', 'sxsw presentation', 'sxsw pretty', 'sxsw qagb', 'sxsw quot', 'sxsw really', 'sxsw release', 'sxsw rt', 'sxsw rumor', 'sxsw seeing', 'sxsw seen', 'sxsw sell', 'sxsw session', 'sxsw set', 'sxsw silly', 'sxsw smartthings', 'sxsw socialmedia', 'sxsw soon', 'sxsw sponsored', 'sxsw stay', 'sxsw stop', 'sxsw store', 'sxsw stream', 'sxsw style', 'sxsw sucks', 'sxsw sure', 'sxsw sxsw', 'sxsw sxswchi', 'sxsw sxswi', 'sxsw sxtxstate', 'sxsw taking', 'sxsw talk', 'sxsw tapworthy', 'sxsw tech', 'sxsw thank', 'sxsw thanks', 'sxsw things', 'sxsw tmsxsw', 'sxsw today', 'sxsw tomorrow', 'sxsw trade', 'sxsw tradeshow', 'sxsw tuesday', 'sxsw tweets', 'sxsw updates', 'sxsw use', 'sxsw using', 'sxsw vb', 'sxsw video', 'sxsw visit', 'sxsw want', 'sxsw wearing', 'sxsw web3', 'sxsw week', 'sxsw went', 'sxsw wife', 'sxsw win', 'sxsw winning', 'sxsw wins', 'sxsw wish', 'sxsw year', 'sxsw zazzlesxsw', 'sxsw2011', 'sxsw4japan', 'sxsw4japan relief', 'sxswbuffalo', 'sxswbuffalo lounge', 'sxswchi', 'sxswchi link', 'sxswh', 'sxswi', 'sxswi innotribe', 'sxswi link', 'sxswi mention', 'sxswi sxsw', 'sxswmobileapps', 'sxswmoot', 'sxswmoot sxsw', 'sxtxstate', 'sync', 'synced', 'synced ipad2', 'syncs', 'taariq', 'taariq howdy', 'table', 'tables', 'tablet', 'tablet morning', 'tablet sxsw', 'tablets', 'tacos', 'tacos super', 'tag', 'tag instead', 'tag websites', 'tagging', 'tagging outside', 'taken', 'takes', 'takes action', 'takes sxsw', 'taking', 'taking notes', 'taking old', 'taking photos', 'taking pictures', 'taking sxsw', 'talent', 'talent community', 'talent officer', 'talented', 'talented professionals', 'talk', 'talk demo', 'talk mention', 'talk sxsw', 'talked', 'talking', 'talking ipad', 'talks', 'tap', 'tap quality', 'tap quantity', 'tapworthy', 'tapworthy hisxsw', 'tapworthy ipad', 'tapworthy sxsw', 'tapworthy useful', 'taught', 'tax', 'tax write', 'taxi', 'taxi magic', 'tc', 'tc apple', 'teach', 'teach america', 'teaching', 'team', 'team android', 'team gsdm', 'team set', 'tech', 'tech apple', 'tech begins', 'tech ipad2', 'tech nerds', 'tech_news', 'tech_news apple', 'technews', 'technical', 'technical quot', 'technical solutions', 'technology', 'technology couldn', 'technology don', 'technology heard', 'technology mobile', 'tee', 'tee usurped', 'tell', 'tell know', 'tell people', 'tell quot', 'tell seats', 'tells', 'temp', 'temp apple', 'temp store', 'temporary', 'temporary apple', 'temporary austin', 'temporary megastore', 'temporary store', 'tempted', 'term', 'term sxsw', 'terms', 'terrible', 'terrible google', 'test', 'testing', 'testing interactive', 'texas', 'texas fav', 'texas sxsw', 'text', 'texting', 'texting app', 'texting war', 'thank', 'thanks', 'thanks apple', 'thanks google', 'thanks mention', 'thanks person', 'thanks sxsw', 'thankyouecon', 'thankyouecon sxsw', 'theatre', 'theatre ok', 'theirs', 'theme', 'therapy', 'therapy communication', 'thing', 'thing ipad', 'thing sxsw', 'thing ve', 'things', 'things browserwars', 'things ll', 'think', 'think apple', 'think effing', 'think foursquare', 'think google', 'think ipad', 'think ll', 'think quot', 'think speak', 'think sxsw', 'thinking', 'thinks', 'thisisdare', 'thisisdare sxsw', 'thought', 'thought sxsw', 'thoughts', 'thousands', 'thousands town', 'thrilled', 'thrilled chief', 'throwing', 'thx', 'ticket', 'tigerblood', 'til', 'til android', 'til midnight', 'tim', 'tim reilly', 'tim reily', 'time', 'time check', 'time day', 'time fuel', 'time ipad2', 'time link', 'time machines', 'time mention', 'time sxsw', 'time tech', 'time tweeting', 'time users', 'timely', 'times', 'times sxsw', 'timing', 'tiny', 'tip', 'tip mention', 'title', 'title gt', 'title tag', 'tkts', 'tkts useless', 'tmsxsw', 'today', 'today apple', 'today big', 'today link', 'today mention', 'today sxsw', 'today sxswi', 'today thanks', 'today world', 'tomorrow', 'tomorrow apple', 'tomorrow link', 'tomorrow sxsw', 'ton', 'tonight', 'tonight google', 'tonight great', 'tonight person', 'tonight rt', 'tonight sxsw', 'tons', 'took', 'tools', 'tools past', 'topnews', 'total', 'totally', 'totally agree', 'touch', 'touchingstories', 'tough', 'town', 'town demonstrate', 'town sxsw', 'toy', 'track', 'track goin', 'tracker', 'tracker cool', 'tracks', 'tractor', 'tractor trailer', 'trade', 'trade failed', 'traded', 'tradeshow', 'tradeshow demo', 'tradeshow sxsw', 'traffic', 'traffic collectively', 'traffic saving', 'traffic sxsw', 'trailer', 'trailer ipads', 'trajan', 'trajan google', 'transparency', 'trashy', 'trashy restraunts', 'travel', 'trend', 'trending', 'trending sxsw', 'tried', 'tried new', 'trip', 'trip kids', 'tron', 'trouble', 'trucks', 'trucks signal', 'true', 'true rt', 'trumps', 'trumps density', 'trumps tap', 'trustworthiness', 'trustworthiness zappos', 'try', 'trying', 'tshirt', 'tsunami', 'tuesday', 'tuesday 15', 'tumblr', 'tumblr com', 'tuned', 'turkey', 'turkey rt', 'turn', 'turn ipad', 'turning', 'tv', 'tv demo', 'tv experience', 'tv google', 'tv moving', 'tv quot', 'tv working', 'tweeps', 'tweet', 'tweet quot', 'tweetdeck', 'tweetdeck unstable', 'tweeted', 'tweeting', 'tweeting new', 'tweeting rise_austin', 'tweeting sxsw', 'tweeting using', 'tweets', 'tweetup', 'tweetup thanks', 'twit', 'twit live', 'twitter', 'twitter app', 'tx', 'type', 'typing', 'typing ipad', 'tyson', 'uberguide', 'uberguide sxsw', 'ubersocial', 'ubersocial iphone', 'ui', 'ui insights', 'um', 'um think', 'umm', 'umm mention', 'umshini', 'umshini wam', 'unadulterated', 'unadulterated awesome', 'underneath', 'underway', 'unique', 'unless', 'unless money', 'unofficial', 'unofficial sxsw', 'unpack', 'unreal', 'unreal just', 'unscientific', 'unscientific observation', 'unsix', 'unsix tweetup', 'unstable', 'unstable nten', 'unveiling', 'uosxsw', 'uosxsw sxsw', 'update', 'update google', 'update iphone', 'update mention', 'updated', 'updated iphone', 'updated npr', 'updates', 'updates iphone', 'upgrade', 'upgrade ipad', 'upgrade newest', 'upgrade plugin', 'ups', 'ur', 'ur iphone', 'urs', 'urs sxsw', 'usa', 'usa better', 'usage', 'usage mobile', 'use', 'use google', 'use ipad', 'use mobile', 'use sxsw', 'use time', 'used', 'used ipad', 'useful', 'useful brick', 'useful clear', 'useful info', 'useful ipad', 'useless', 'useless canada', 'user', 'user gets', 'users', 'users 40', 'users drive', 'users mention', 'users mobile', 'users privacy', 'users struggle', 'users sxsw', 'users years', 'users yrs', 'uses', 'uses windows', 'usguys', 'usguys sxsw', 'using', 'using check', 'using google', 'using ipad', 'using iphone', 'using mention', 'using south', 'ustream', 'ustream skyfire', 'usurped', 'usurped ipad', 'utter', 'ux', 'uxdes', 'uxdes sxsw', 'v2', 'v5', 'v5 sxsw', 'valley', 'valuable', 'valuable device', 'vb', 'vb mention', 've', 've eyeballed', 've got', 've having', 've heard', 've seen', 've used', 'vector', 'vector based', 'vegas', 'verizon', 'verizon iphone', 'version', 'version google', 'version mention', 'version mobile', 'versions', 'video', 'video ad', 'video capture', 'video ipad', 'video link', 'video new', 'video player', 'video streaming', 'view', 'view art', 'view car', 'viewed', 'views', 'vinh', 'vip', 'vip badge', 'virgin', 'virgin product', 'virtual', 'virtual field', 'visit', 'visit fb', 'visiting', 'visual', 'visualization', 'vmware', 'vmware talent', 'voice', 'voice shot', 'voluntarily', 'voluntarily quot', 'vs', 'vs bing', 'vs google', 'vs users', 'vufinders', 'vufinders awesome', 'w00t', 'w00t mention', 'wait', 'wait anymore', 'wait ipad', 'wait ipad2', 'wait line', 'wait samsung', 'wait til', 'waited', 'waiting', 'waiting line', 'waiting outside', 'walk', 'walked', 'walking', 'walking apple', 'walking sxsw', 'wam', 'wanna', 'want', 'want demo', 'want ipad', 'want ipad2', 'want iphone', 'want shell', 'want sxsw', 'want win', 'wanted', 'wants', 'war', 'war heats', 'wars', 'wars steampunk', 'wasn', 'wasted', 'wasted time', 'watch', 'watch ustream', 'watch yelp', 'watched', 'watching', 'water', 'way', 'way apple', 'way caring', 'way coordinate', 'way serve', 'way sxsw', 'wearing', 'wearing openbeta', 'weather', 'web', 'web apps', 'web austin', 'web fonts', 'web industry', 'web site', 'web3', 'web3 saatchiny', 'webdoc', 'webdoc com', 'website', 'website ranking', 'website rankings', 'websites', 'websites seo', 'webvisions', 'wed', 'wed hoping', 'week', 'week early', 'week long', 'week major', 'week popup', 'week sxsw', 'weekend', 'weekend japan', 'weekend sxsw', 'weird', 'weird ogilvy', 'weird sxsw', 'welcome', 'went', 'went new', 'white', 'white ipad', 'whoa', 'whrrl', 'whrrl app', 'wi', 'wi fi', 'wife', 'wife iphone', 'wife number', 'wifi', 'wifi sxsw', 'wifi white', 'wild', 'willing', 'willpower', 'willpower check', 'win', 'win awesome', 'win free', 'win ipad', 'win long', 'win sony', 'win sxsw', 'windows', 'windows voluntarily', 'wine', 'wine library', 'winner', 'winner popup', 'winning', 'winning mention', 'winning quot', 'winning shit', 'winning sxsw', 'winning tigerblood', 'wins', 'wins best', 'wins ipad', 'wins mention', 'wins rt', 'wins sxsw', 'wired', 'wireless', 'wish', 'wish austin', 'wish purchase', 'wishing', 'withme', 'withme android', 'wjchat', 'woah', 'woah expect', 'woke', 'woke sandwiched', 'woman', 'women', 'women hands', 'won', 'won 2nd', 'won awesome', 'won html5', 'won ipad', 'won sxsw', 'wonder', 'wonder apple', 'wondering', 'woo', 'woo hoo', 'woohoo', 'woohoo rt', 'woot', 'word', 'wordpress', 'words', 'work', 'work agileagency', 'work fun', 'work google', 'work ipad', 'work people', 'work sxsw', 'worked', 'working', 'working ipad', 'working ipad2', 'working sxsw', 'works', 'works google', 'world', 'world download', 'world edtech', 'world expensive', 'world incl', 'world ipad', 'worlds', 'worlds mobile', 'worry', 'worry link', 'worst', 'worth', 'worth unless', 'wouldn', 'wow', 'wow apple', 'wow mention', 'write', 'write buy', 'wrong', 'wrote', 'wrote hollergram', 'wssxsw', 'www', 'xml', 'xoom', 'xoom link', 'xperia', 'xperia play', 'ya', 'yall', 'yay', 'yay rt', 'yeah', 'year', 'year festival', 'year google', 'year including', 'year ipad', 'year iphone', 'year old', 'year sxsw', 'years', 'years day', 'years mention', 'years time', 'yelp', 'yelp covered', 'yelp killer', 'yelp sxsw', 'yep', 'yes', 'yes gowalla', 'yes link', 'yes sxsw', 'yes updated', 'yesterday', 'york', 'york times', 'youtube', 'yr', 'yr fandango', 'yr iphone', 'yrs', 'yrs day', 'yup', 'yup rt', 'zaarly', 'zaggle', 'zaggle showed', 'zappos', 'zazzlesxsw', 'zazzlesxsw sxsw', 'zazzlesxsw sxswi', 'zazzlsxsw', 'zazzlsxsw ll', 'zero', 'zms', 'zms mention', 'zombies', 'zomg', 'zomg mention', 'zoom']\n"
          ],
          "name": "stdout"
        }
      ]
    },
    {
      "cell_type": "code",
      "metadata": {
        "id": "UoWgNDDIWKIb",
        "colab_type": "code",
        "colab": {}
      },
      "source": [
        "X_test_p = vectorizer.transform(X_test)"
      ],
      "execution_count": 22,
      "outputs": []
    },
    {
      "cell_type": "markdown",
      "metadata": {
        "id": "qanDXve15sY_",
        "colab_type": "text"
      },
      "source": [
        "## Question 7"
      ]
    },
    {
      "cell_type": "markdown",
      "metadata": {
        "id": "uMaRNFkV5sY_",
        "colab_type": "text"
      },
      "source": [
        "### Select classifier logistic regression\n",
        "- use logistic regression for predicting sentiment of the given tweet\n",
        "- initialize classifier"
      ]
    },
    {
      "cell_type": "code",
      "metadata": {
        "id": "GT3dNgB55sZA",
        "colab_type": "code",
        "colab": {}
      },
      "source": [
        "from sklearn.linear_model import LogisticRegression\n",
        "\n",
        "clf = LogisticRegression(random_state=0)"
      ],
      "execution_count": 23,
      "outputs": []
    },
    {
      "cell_type": "markdown",
      "metadata": {
        "id": "pqQ6_HX35sZD",
        "colab_type": "text"
      },
      "source": [
        "### Fit the classifer\n",
        "- fit logistic regression classifier"
      ]
    },
    {
      "cell_type": "code",
      "metadata": {
        "id": "EIzvnNkq5sZD",
        "colab_type": "code",
        "colab": {
          "base_uri": "https://localhost:8080/",
          "height": 104
        },
        "outputId": "d047f190-8b40-4050-8af5-56f784a6c666"
      },
      "source": [
        "clf.fit(X_train_p, y_train)"
      ],
      "execution_count": 24,
      "outputs": [
        {
          "output_type": "execute_result",
          "data": {
            "text/plain": [
              "LogisticRegression(C=1.0, class_weight=None, dual=False, fit_intercept=True,\n",
              "                   intercept_scaling=1, l1_ratio=None, max_iter=100,\n",
              "                   multi_class='auto', n_jobs=None, penalty='l2',\n",
              "                   random_state=0, solver='lbfgs', tol=0.0001, verbose=0,\n",
              "                   warm_start=False)"
            ]
          },
          "metadata": {
            "tags": []
          },
          "execution_count": 24
        }
      ]
    },
    {
      "cell_type": "code",
      "metadata": {
        "id": "TYw0DuXDXnGm",
        "colab_type": "code",
        "colab": {
          "base_uri": "https://localhost:8080/",
          "height": 35
        },
        "outputId": "03d961e1-ba86-4a24-9382-33bd877e047f"
      },
      "source": [
        "print(clf.score(X_test_p, y_test) * 100)"
      ],
      "execution_count": 25,
      "outputs": [
        {
          "output_type": "stream",
          "text": [
            "88.84711779448622\n"
          ],
          "name": "stdout"
        }
      ]
    },
    {
      "cell_type": "markdown",
      "metadata": {
        "id": "SZpMsYQF5sZF",
        "colab_type": "text"
      },
      "source": [
        "## Question 8"
      ]
    },
    {
      "cell_type": "markdown",
      "metadata": {
        "id": "KGnQnUww5sZF",
        "colab_type": "text"
      },
      "source": [
        "### Select classifier naive bayes\n",
        "- use naive bayes for predicting sentiment of the given tweet\n",
        "- initialize classifier\n",
        "- use MultinomialNB"
      ]
    },
    {
      "cell_type": "code",
      "metadata": {
        "colab_type": "code",
        "id": "2AbVYssaH0OE",
        "colab": {}
      },
      "source": [
        "from sklearn.naive_bayes import MultinomialNB\n",
        "\n",
        "clf1 = MultinomialNB()"
      ],
      "execution_count": 26,
      "outputs": []
    },
    {
      "cell_type": "markdown",
      "metadata": {
        "id": "QEaG942m5sZI",
        "colab_type": "text"
      },
      "source": [
        "### Fit the classifer\n",
        "- fit naive bayes classifier"
      ]
    },
    {
      "cell_type": "code",
      "metadata": {
        "id": "rLwRBj1R5sZI",
        "colab_type": "code",
        "colab": {
          "base_uri": "https://localhost:8080/",
          "height": 35
        },
        "outputId": "8f3b46e4-6e2c-4cd4-83d3-39064d82e909"
      },
      "source": [
        "clf1.fit(X_train_p.todense(), y_train)"
      ],
      "execution_count": 27,
      "outputs": [
        {
          "output_type": "execute_result",
          "data": {
            "text/plain": [
              "MultinomialNB(alpha=1.0, class_prior=None, fit_prior=True)"
            ]
          },
          "metadata": {
            "tags": []
          },
          "execution_count": 27
        }
      ]
    },
    {
      "cell_type": "code",
      "metadata": {
        "id": "UThSv5g9YR8p",
        "colab_type": "code",
        "colab": {
          "base_uri": "https://localhost:8080/",
          "height": 35
        },
        "outputId": "20b1ff06-d13a-4a61-c0fa-d3a54641d12f"
      },
      "source": [
        "print(clf1.score(X_test_p, y_test))"
      ],
      "execution_count": 28,
      "outputs": [
        {
          "output_type": "stream",
          "text": [
            "0.8796992481203008\n"
          ],
          "name": "stdout"
        }
      ]
    },
    {
      "cell_type": "markdown",
      "metadata": {
        "id": "A7mgwYDJ5sZM",
        "colab_type": "text"
      },
      "source": [
        "## Question 9"
      ]
    },
    {
      "cell_type": "markdown",
      "metadata": {
        "id": "sZkA3tce5sZN",
        "colab_type": "text"
      },
      "source": [
        "### Make predictions on logistic regression\n",
        "- use your trained logistic regression model to make predictions on X_test"
      ]
    },
    {
      "cell_type": "code",
      "metadata": {
        "id": "l3f0M1ch5sZO",
        "colab_type": "code",
        "colab": {}
      },
      "source": [
        "predection = clf.predict(X_test_p)"
      ],
      "execution_count": 29,
      "outputs": []
    },
    {
      "cell_type": "markdown",
      "metadata": {
        "id": "lrIxjMUB5sZQ",
        "colab_type": "text"
      },
      "source": [
        "### Make predictions on naive bayes\n",
        "- use your trained naive bayes model to make predictions on X_test\n",
        "- use a different variable name to store predictions so that they are kept separately"
      ]
    },
    {
      "cell_type": "code",
      "metadata": {
        "id": "ZSQnwyLU5sZQ",
        "colab_type": "code",
        "colab": {}
      },
      "source": [
        "predection1 = clf1.predict(X_test_p)"
      ],
      "execution_count": 30,
      "outputs": []
    },
    {
      "cell_type": "markdown",
      "metadata": {
        "id": "rwXQUE7b5sZS",
        "colab_type": "text"
      },
      "source": [
        "## Question 10"
      ]
    },
    {
      "cell_type": "markdown",
      "metadata": {
        "id": "E6SITIE75sZT",
        "colab_type": "text"
      },
      "source": [
        "### Calculate accuracy of logistic regression\n",
        "- check accuracy of logistic regression classifer\n",
        "- use sklearn.metrics.accuracy_score"
      ]
    },
    {
      "cell_type": "code",
      "metadata": {
        "colab_type": "code",
        "id": "clv2X0kKH0Ok",
        "colab": {
          "base_uri": "https://localhost:8080/",
          "height": 35
        },
        "outputId": "2ebe6029-83cb-444b-d8da-fb5f979d3b66"
      },
      "source": [
        "from sklearn.metrics import accuracy_score\n",
        "\n",
        "\n",
        "acc = accuracy_score(y_test, predection) *100\n",
        "print(\"Accuracy using LogisticRegression {}\".format(float(str(round(acc, 2)))))"
      ],
      "execution_count": 31,
      "outputs": [
        {
          "output_type": "stream",
          "text": [
            "Accuracy using LogisticRegression 88.85\n"
          ],
          "name": "stdout"
        }
      ]
    },
    {
      "cell_type": "markdown",
      "metadata": {
        "id": "1Fd_Gnd05sZV",
        "colab_type": "text"
      },
      "source": [
        "### Calculate accuracy of naive bayes\n",
        "- check accuracy of naive bayes classifer\n",
        "- use sklearn.metrics.accuracy_score"
      ]
    },
    {
      "cell_type": "code",
      "metadata": {
        "colab_type": "code",
        "id": "d32uBpHi5sZW",
        "colab": {
          "base_uri": "https://localhost:8080/",
          "height": 35
        },
        "outputId": "ca4d7e78-0321-4b55-d042-766ba3222a8e"
      },
      "source": [
        "acc1 = accuracy_score(y_test, predection1) *100\n",
        "print(\"Accuracy using naive_bayes.MultinomialNB {}\".format(float(str(round(acc1, 2)))))"
      ],
      "execution_count": 32,
      "outputs": [
        {
          "output_type": "stream",
          "text": [
            "Accuracy using naive_bayes.MultinomialNB 87.97\n"
          ],
          "name": "stdout"
        }
      ]
    },
    {
      "cell_type": "markdown",
      "metadata": {
        "id": "YjYL9m_EiKhE",
        "colab_type": "text"
      },
      "source": [
        "###Classification Report"
      ]
    },
    {
      "cell_type": "code",
      "metadata": {
        "id": "hudgg6vriqQN",
        "colab_type": "code",
        "colab": {
          "base_uri": "https://localhost:8080/",
          "height": 191
        },
        "outputId": "6c9ebe86-8405-4d7e-a5e6-738a356c3fb1"
      },
      "source": [
        "from sklearn.metrics import classification_report\n",
        "\n",
        "print(\"Classification report for LogisticRegression\")\n",
        "print(classification_report(y_test , predection))"
      ],
      "execution_count": 37,
      "outputs": [
        {
          "output_type": "stream",
          "text": [
            "Classification report for LogisticRegression\n",
            "              precision    recall  f1-score   support\n",
            "\n",
            "           0       0.90      0.98      0.94       675\n",
            "           1       0.78      0.38      0.51       123\n",
            "\n",
            "    accuracy                           0.89       798\n",
            "   macro avg       0.84      0.68      0.73       798\n",
            "weighted avg       0.88      0.89      0.87       798\n",
            "\n"
          ],
          "name": "stdout"
        }
      ]
    },
    {
      "cell_type": "code",
      "metadata": {
        "id": "jeutw2yKiNyA",
        "colab_type": "code",
        "colab": {
          "base_uri": "https://localhost:8080/",
          "height": 191
        },
        "outputId": "b386d5cc-6faf-4994-9cad-a74a6fe1d10a"
      },
      "source": [
        "from sklearn.metrics import classification_report\n",
        "\n",
        "print(\"Classification report for naive_bayes.MultinomialNB Classifier\")\n",
        "print(classification_report(y_test , predection1))"
      ],
      "execution_count": 36,
      "outputs": [
        {
          "output_type": "stream",
          "text": [
            "Classification report for naive_bayes.MultinomialNB Classifier\n",
            "              precision    recall  f1-score   support\n",
            "\n",
            "           0       0.90      0.97      0.93       675\n",
            "           1       0.70      0.39      0.50       123\n",
            "\n",
            "    accuracy                           0.88       798\n",
            "   macro avg       0.80      0.68      0.72       798\n",
            "weighted avg       0.87      0.88      0.87       798\n",
            "\n"
          ],
          "name": "stdout"
        }
      ]
    }
  ]
}