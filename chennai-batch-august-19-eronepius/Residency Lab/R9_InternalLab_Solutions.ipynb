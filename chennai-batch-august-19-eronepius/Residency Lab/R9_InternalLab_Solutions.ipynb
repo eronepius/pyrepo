{
  "nbformat": 4,
  "nbformat_minor": 0,
  "metadata": {
    "colab": {
      "name": "R9_InternalLab_Solutions.ipynb",
      "provenance": [],
      "collapsed_sections": []
    },
    "kernelspec": {
      "name": "python3",
      "display_name": "Python 3"
    }
  },
  "cells": [
    {
      "cell_type": "markdown",
      "metadata": {
        "id": "vXE926qT0jHg",
        "colab_type": "text"
      },
      "source": [
        "# Time series prediction using LSTM"
      ]
    },
    {
      "cell_type": "markdown",
      "metadata": {
        "id": "54u8ql4Z4kBE",
        "colab_type": "text"
      },
      "source": [
        "## Dataset\n",
        "- Daily minimum temperatures in Melbourne, Australia, 1981-1990\n",
        "- Units: Degrees Celcius"
      ]
    },
    {
      "cell_type": "markdown",
      "metadata": {
        "id": "IPkYyOzY77yl",
        "colab_type": "text"
      },
      "source": [
        "## Question 1"
      ]
    },
    {
      "cell_type": "markdown",
      "metadata": {
        "id": "aXEOY69f8B9d",
        "colab_type": "text"
      },
      "source": [
        "### Load the data\n",
        "- load daily-minimum-temperatures-in-me.csv"
      ]
    },
    {
      "cell_type": "code",
      "metadata": {
        "id": "yRend4dCYr3i",
        "colab_type": "code",
        "colab": {
          "base_uri": "https://localhost:8080/",
          "height": 35
        },
        "outputId": "8d4db663-0b7b-4cb4-ffdc-34dfa1be8634"
      },
      "source": [
        "from google.colab import drive\n",
        "drive.mount('/content/Anton', force_remount=True)"
      ],
      "execution_count": 1,
      "outputs": [
        {
          "output_type": "stream",
          "text": [
            "Mounted at /content/Anton\n"
          ],
          "name": "stdout"
        }
      ]
    },
    {
      "cell_type": "code",
      "metadata": {
        "id": "LA7R2II8-Jxh",
        "colab_type": "code",
        "colab": {
          "base_uri": "https://localhost:8080/",
          "height": 35
        },
        "outputId": "6fdc9f4d-5aaa-4eac-f55a-3c2bc0eea169"
      },
      "source": [
        "import os\n",
        "\n",
        "project_path = \"/content/Anton/My Drive/Colab Notebooks/NLP/Sequence Model Using NLP/\"\n",
        "os.chdir(project_path)\n",
        "print(os.getcwd())"
      ],
      "execution_count": 2,
      "outputs": [
        {
          "output_type": "stream",
          "text": [
            "/content/Anton/My Drive/Colab Notebooks/NLP/Sequence Model Using NLP\n"
          ],
          "name": "stdout"
        }
      ]
    },
    {
      "cell_type": "code",
      "metadata": {
        "id": "fVgKorqWY3O3",
        "colab_type": "code",
        "colab": {}
      },
      "source": [
        "import pandas as pd\n",
        "df = pd.read_csv(os.path.join(project_path,'daily-minimum-temperatures-in-me.csv'))"
      ],
      "execution_count": 3,
      "outputs": []
    },
    {
      "cell_type": "markdown",
      "metadata": {
        "id": "pWcMgg69-T6k",
        "colab_type": "text"
      },
      "source": [
        "### Print the data\n",
        "- First 5 rows only"
      ]
    },
    {
      "cell_type": "code",
      "metadata": {
        "id": "SM828gT_-Ra2",
        "colab_type": "code",
        "colab": {
          "base_uri": "https://localhost:8080/",
          "height": 202
        },
        "outputId": "7234cfa4-a752-4a95-e804-f2a68f71dacb"
      },
      "source": [
        "df.head()"
      ],
      "execution_count": 4,
      "outputs": [
        {
          "output_type": "execute_result",
          "data": {
            "text/html": [
              "<div>\n",
              "<style scoped>\n",
              "    .dataframe tbody tr th:only-of-type {\n",
              "        vertical-align: middle;\n",
              "    }\n",
              "\n",
              "    .dataframe tbody tr th {\n",
              "        vertical-align: top;\n",
              "    }\n",
              "\n",
              "    .dataframe thead th {\n",
              "        text-align: right;\n",
              "    }\n",
              "</style>\n",
              "<table border=\"1\" class=\"dataframe\">\n",
              "  <thead>\n",
              "    <tr style=\"text-align: right;\">\n",
              "      <th></th>\n",
              "      <th>Date</th>\n",
              "      <th>Temperature</th>\n",
              "    </tr>\n",
              "  </thead>\n",
              "  <tbody>\n",
              "    <tr>\n",
              "      <th>0</th>\n",
              "      <td>1981-01-01</td>\n",
              "      <td>20.7</td>\n",
              "    </tr>\n",
              "    <tr>\n",
              "      <th>1</th>\n",
              "      <td>1981-01-02</td>\n",
              "      <td>17.9</td>\n",
              "    </tr>\n",
              "    <tr>\n",
              "      <th>2</th>\n",
              "      <td>1981-01-03</td>\n",
              "      <td>18.8</td>\n",
              "    </tr>\n",
              "    <tr>\n",
              "      <th>3</th>\n",
              "      <td>1981-01-04</td>\n",
              "      <td>14.6</td>\n",
              "    </tr>\n",
              "    <tr>\n",
              "      <th>4</th>\n",
              "      <td>1981-01-05</td>\n",
              "      <td>15.8</td>\n",
              "    </tr>\n",
              "  </tbody>\n",
              "</table>\n",
              "</div>"
            ],
            "text/plain": [
              "         Date  Temperature\n",
              "0  1981-01-01         20.7\n",
              "1  1981-01-02         17.9\n",
              "2  1981-01-03         18.8\n",
              "3  1981-01-04         14.6\n",
              "4  1981-01-05         15.8"
            ]
          },
          "metadata": {
            "tags": []
          },
          "execution_count": 4
        }
      ]
    },
    {
      "cell_type": "markdown",
      "metadata": {
        "id": "JGnWESz9BKx8",
        "colab_type": "text"
      },
      "source": [
        "### Set index column\n",
        "- Set the DataFrame index using \"Date\" column"
      ]
    },
    {
      "cell_type": "code",
      "metadata": {
        "id": "nFrbd_vd-eZP",
        "colab_type": "code",
        "colab": {}
      },
      "source": [
        "df.set_index('Date', inplace=True)"
      ],
      "execution_count": 5,
      "outputs": []
    },
    {
      "cell_type": "markdown",
      "metadata": {
        "id": "sS7IVXq7B1P1",
        "colab_type": "text"
      },
      "source": [
        "## Question 2"
      ]
    },
    {
      "cell_type": "markdown",
      "metadata": {
        "id": "PcgAOybZCc5-",
        "colab_type": "text"
      },
      "source": [
        "### Check the total count of null values in the data"
      ]
    },
    {
      "cell_type": "code",
      "metadata": {
        "id": "UTMe5jdCCj4k",
        "colab_type": "code",
        "colab": {
          "base_uri": "https://localhost:8080/",
          "height": 52
        },
        "outputId": "84eb3271-f168-4709-d660-ae6ad94dbdaa"
      },
      "source": [
        "df.isnull().sum()"
      ],
      "execution_count": 6,
      "outputs": [
        {
          "output_type": "execute_result",
          "data": {
            "text/plain": [
              "Temperature    0\n",
              "dtype: int64"
            ]
          },
          "metadata": {
            "tags": []
          },
          "execution_count": 6
        }
      ]
    },
    {
      "cell_type": "markdown",
      "metadata": {
        "id": "Ua-AeW2YC3kY",
        "colab_type": "text"
      },
      "source": [
        "### Drop all the rows with null values\n",
        "- use dropna() method"
      ]
    },
    {
      "cell_type": "code",
      "metadata": {
        "id": "9l9UeA6YC8RV",
        "colab_type": "code",
        "colab": {}
      },
      "source": [
        "df.dropna(inplace=True)"
      ],
      "execution_count": 7,
      "outputs": []
    },
    {
      "cell_type": "markdown",
      "metadata": {
        "id": "SJam5Ho-DHK7",
        "colab_type": "text"
      },
      "source": [
        "## Question 3"
      ]
    },
    {
      "cell_type": "markdown",
      "metadata": {
        "id": "3esUPJAMDzCJ",
        "colab_type": "text"
      },
      "source": [
        "### Describe your dataframe\n",
        "- use describe() method"
      ]
    },
    {
      "cell_type": "code",
      "metadata": {
        "id": "uhH8OwGVELyH",
        "colab_type": "code",
        "colab": {
          "base_uri": "https://localhost:8080/",
          "height": 294
        },
        "outputId": "85b8557c-9ff4-4822-f292-25bfd41bc122"
      },
      "source": [
        "df.describe()"
      ],
      "execution_count": 8,
      "outputs": [
        {
          "output_type": "execute_result",
          "data": {
            "text/html": [
              "<div>\n",
              "<style scoped>\n",
              "    .dataframe tbody tr th:only-of-type {\n",
              "        vertical-align: middle;\n",
              "    }\n",
              "\n",
              "    .dataframe tbody tr th {\n",
              "        vertical-align: top;\n",
              "    }\n",
              "\n",
              "    .dataframe thead th {\n",
              "        text-align: right;\n",
              "    }\n",
              "</style>\n",
              "<table border=\"1\" class=\"dataframe\">\n",
              "  <thead>\n",
              "    <tr style=\"text-align: right;\">\n",
              "      <th></th>\n",
              "      <th>Temperature</th>\n",
              "    </tr>\n",
              "  </thead>\n",
              "  <tbody>\n",
              "    <tr>\n",
              "      <th>count</th>\n",
              "      <td>3650.000000</td>\n",
              "    </tr>\n",
              "    <tr>\n",
              "      <th>mean</th>\n",
              "      <td>11.177753</td>\n",
              "    </tr>\n",
              "    <tr>\n",
              "      <th>std</th>\n",
              "      <td>4.071837</td>\n",
              "    </tr>\n",
              "    <tr>\n",
              "      <th>min</th>\n",
              "      <td>0.000000</td>\n",
              "    </tr>\n",
              "    <tr>\n",
              "      <th>25%</th>\n",
              "      <td>8.300000</td>\n",
              "    </tr>\n",
              "    <tr>\n",
              "      <th>50%</th>\n",
              "      <td>11.000000</td>\n",
              "    </tr>\n",
              "    <tr>\n",
              "      <th>75%</th>\n",
              "      <td>14.000000</td>\n",
              "    </tr>\n",
              "    <tr>\n",
              "      <th>max</th>\n",
              "      <td>26.300000</td>\n",
              "    </tr>\n",
              "  </tbody>\n",
              "</table>\n",
              "</div>"
            ],
            "text/plain": [
              "       Temperature\n",
              "count  3650.000000\n",
              "mean     11.177753\n",
              "std       4.071837\n",
              "min       0.000000\n",
              "25%       8.300000\n",
              "50%      11.000000\n",
              "75%      14.000000\n",
              "max      26.300000"
            ]
          },
          "metadata": {
            "tags": []
          },
          "execution_count": 8
        }
      ]
    },
    {
      "cell_type": "markdown",
      "metadata": {
        "id": "bizrToFMB4ix",
        "colab_type": "text"
      },
      "source": [
        "### Plot the dataframe\n",
        "- use plot() method"
      ]
    },
    {
      "cell_type": "code",
      "metadata": {
        "id": "rNiXK6YZB30N",
        "colab_type": "code",
        "colab": {
          "base_uri": "https://localhost:8080/",
          "height": 459
        },
        "outputId": "c345bf6b-cc02-4f21-f91c-39fdb69e95aa"
      },
      "source": [
        "df.plot(figsize=(20,7))"
      ],
      "execution_count": 9,
      "outputs": [
        {
          "output_type": "execute_result",
          "data": {
            "text/plain": [
              "<matplotlib.axes._subplots.AxesSubplot at 0x7f066c843358>"
            ]
          },
          "metadata": {
            "tags": []
          },
          "execution_count": 9
        },
        {
          "output_type": "display_data",
          "data": {
            "image/png": "[encoded data removed]",
            "text/plain": [
              "<Figure size 1440x504 with 1 Axes>"
            ]
          },
          "metadata": {
            "tags": [],
            "needs_background": "light"
          }
        }
      ]
    },
    {
      "cell_type": "markdown",
      "metadata": {
        "id": "OtI9ZGJqE1lh",
        "colab_type": "text"
      },
      "source": [
        "### Get representation of the distribution of data using histogram\n",
        "- use hist() method"
      ]
    },
    {
      "cell_type": "code",
      "metadata": {
        "id": "qan611HdE9nR",
        "colab_type": "code",
        "colab": {
          "base_uri": "https://localhost:8080/",
          "height": 479
        },
        "outputId": "956bd187-7d1b-43bb-e829-546c7bbba681"
      },
      "source": [
        "df.hist(figsize=(20,7))"
      ],
      "execution_count": 10,
      "outputs": [
        {
          "output_type": "execute_result",
          "data": {
            "text/plain": [
              "array([[<matplotlib.axes._subplots.AxesSubplot object at 0x7f066c7884a8>]],\n",
              "      dtype=object)"
            ]
          },
          "metadata": {
            "tags": []
          },
          "execution_count": 10
        },
        {
          "output_type": "display_data",
          "data": {
            "image/png": "[encoded data removed]",
            "text/plain": [
              "<Figure size 1440x504 with 1 Axes>"
            ]
          },
          "metadata": {
            "tags": [],
            "needs_background": "light"
          }
        }
      ]
    },
    {
      "cell_type": "markdown",
      "metadata": {
        "id": "D8VDVRisHAsH",
        "colab_type": "text"
      },
      "source": [
        "### Check minimum and maximum temperature\n",
        "- use min() and max() methods"
      ]
    },
    {
      "cell_type": "code",
      "metadata": {
        "id": "xlwlVtRfG_qX",
        "colab_type": "code",
        "colab": {
          "base_uri": "https://localhost:8080/",
          "height": 35
        },
        "outputId": "75968267-5733-4c6e-f73a-c046b1e22ad9"
      },
      "source": [
        "print(\"Min temperature recorded {}.\".format(df.min()[0]))"
      ],
      "execution_count": 11,
      "outputs": [
        {
          "output_type": "stream",
          "text": [
            "Min temperature recorded 0.0.\n"
          ],
          "name": "stdout"
        }
      ]
    },
    {
      "cell_type": "code",
      "metadata": {
        "id": "abO5iWWAFFCJ",
        "colab_type": "code",
        "colab": {
          "base_uri": "https://localhost:8080/",
          "height": 35
        },
        "outputId": "b199645a-b168-472c-e544-07ed8698db36"
      },
      "source": [
        "print(\"Maximum temperature recorded {}.\".format(df.max()[0]))"
      ],
      "execution_count": 12,
      "outputs": [
        {
          "output_type": "stream",
          "text": [
            "Maximum temperature recorded 26.3.\n"
          ],
          "name": "stdout"
        }
      ]
    },
    {
      "cell_type": "markdown",
      "metadata": {
        "id": "qTjD3zhSI_BD",
        "colab_type": "text"
      },
      "source": [
        "## Question 4"
      ]
    },
    {
      "cell_type": "markdown",
      "metadata": {
        "id": "QSDmmRxBMOO7",
        "colab_type": "text"
      },
      "source": [
        "### Split the dataset into training and testing\n",
        "- training data: 75%\n",
        "- testing data: 25%"
      ]
    },
    {
      "cell_type": "code",
      "metadata": {
        "id": "dVuviKokeAV4",
        "colab_type": "code",
        "colab": {}
      },
      "source": [
        "from sklearn.model_selection import train_test_split as tts\n",
        "\n",
        "train, test = tts(df, shuffle=False, test_size=0.25, random_state=23)"
      ],
      "execution_count": 13,
      "outputs": []
    },
    {
      "cell_type": "code",
      "metadata": {
        "id": "aZL8gXygbpni",
        "colab_type": "code",
        "colab": {
          "base_uri": "https://localhost:8080/",
          "height": 35
        },
        "outputId": "bd1dba81-5eca-4c76-94bd-0ddf2ace829e"
      },
      "source": [
        "train.shape"
      ],
      "execution_count": 14,
      "outputs": [
        {
          "output_type": "execute_result",
          "data": {
            "text/plain": [
              "(2737, 1)"
            ]
          },
          "metadata": {
            "tags": []
          },
          "execution_count": 14
        }
      ]
    },
    {
      "cell_type": "code",
      "metadata": {
        "id": "MyzRixeEbsiR",
        "colab_type": "code",
        "colab": {
          "base_uri": "https://localhost:8080/",
          "height": 35
        },
        "outputId": "d0de2897-5215-469a-e798-07008fd6816e"
      },
      "source": [
        "test.shape"
      ],
      "execution_count": 15,
      "outputs": [
        {
          "output_type": "execute_result",
          "data": {
            "text/plain": [
              "(913, 1)"
            ]
          },
          "metadata": {
            "tags": []
          },
          "execution_count": 15
        }
      ]
    },
    {
      "cell_type": "markdown",
      "metadata": {
        "id": "eEgBn5JkKwrZ",
        "colab_type": "text"
      },
      "source": [
        "### Normalize the data\n",
        "- normalize temperature values using MinMaxScaler\n",
        "- feature_range: 0-1\n",
        "- fit MinMaxScaler on train data and transform it\n",
        "  - use fit_transform() method\n",
        "- transform test data using MinMaxScaler object\n",
        "  - use transform() method"
      ]
    },
    {
      "cell_type": "code",
      "metadata": {
        "id": "OqDcm7tbI19Z",
        "colab_type": "code",
        "colab": {}
      },
      "source": [
        "from sklearn.preprocessing import MinMaxScaler as mms\n",
        "\n",
        "scaler = mms(feature_range=(0, 1))\n",
        "train_sc = scaler.fit_transform(train)\n",
        "test_sc = scaler.transform(test)"
      ],
      "execution_count": 16,
      "outputs": []
    },
    {
      "cell_type": "markdown",
      "metadata": {
        "id": "4HjbO8gRQ3M1",
        "colab_type": "text"
      },
      "source": [
        "### Print scaled train and test data\n",
        "- print only first 5 values"
      ]
    },
    {
      "cell_type": "code",
      "metadata": {
        "id": "U_WDZwKxRBRx",
        "colab_type": "code",
        "colab": {
          "base_uri": "https://localhost:8080/",
          "height": 139
        },
        "outputId": "bc2cf3f9-9a79-4bcd-90dd-766fb37392c5"
      },
      "source": [
        "print(\"First 5 values of scaled train data \\n\")\n",
        "train_sc[0:5]"
      ],
      "execution_count": 17,
      "outputs": [
        {
          "output_type": "stream",
          "text": [
            "First 5 values of scaled train data \n",
            "\n"
          ],
          "name": "stdout"
        },
        {
          "output_type": "execute_result",
          "data": {
            "text/plain": [
              "array([[0.78707224],\n",
              "       [0.68060837],\n",
              "       [0.7148289 ],\n",
              "       [0.55513308],\n",
              "       [0.60076046]])"
            ]
          },
          "metadata": {
            "tags": []
          },
          "execution_count": 17
        }
      ]
    },
    {
      "cell_type": "code",
      "metadata": {
        "id": "vYlwALHrRGcX",
        "colab_type": "code",
        "colab": {
          "base_uri": "https://localhost:8080/",
          "height": 139
        },
        "outputId": "8aad2749-c184-47ed-d41b-02d23fa60811"
      },
      "source": [
        "print(\"First 5 values of scaled test data\\n\")\n",
        "test_sc[0:5]"
      ],
      "execution_count": 18,
      "outputs": [
        {
          "output_type": "stream",
          "text": [
            "First 5 values of scaled test data\n",
            "\n"
          ],
          "name": "stdout"
        },
        {
          "output_type": "execute_result",
          "data": {
            "text/plain": [
              "array([[0.22813688],\n",
              "       [0.22053232],\n",
              "       [0.18631179],\n",
              "       [0.19011407],\n",
              "       [0.31939163]])"
            ]
          },
          "metadata": {
            "tags": []
          },
          "execution_count": 18
        }
      ]
    },
    {
      "cell_type": "markdown",
      "metadata": {
        "id": "JB5lHp94RQWY",
        "colab_type": "text"
      },
      "source": [
        "## Question 5"
      ]
    },
    {
      "cell_type": "markdown",
      "metadata": {
        "id": "kVqNUf00RSiv",
        "colab_type": "text"
      },
      "source": [
        "### Create sequential data\n",
        "Map the temperature at a particular day 'd' to the temperature at day t\n",
        "'d+n', where n is any number you define.\n",
        "\n",
        "For example: to map temperatures of consecutive days, use d+1, i.e. lookback = 1\n",
        "- Below function takes data as input and returns sequential data.\n",
        "- X as features and y as labels"
      ]
    },
    {
      "cell_type": "code",
      "metadata": {
        "id": "AtxhXruAWws-",
        "colab_type": "code",
        "colab": {}
      },
      "source": [
        "import numpy as np\n",
        "def create_seq_data(data, lookback=1):\n",
        "  X, y = list(), list()\n",
        "  \n",
        "  for day in range((len(data)-lookback)):\n",
        "    X.append(data[day: day+lookback, 0])\n",
        "    y.append(data[day+lookback, 0])\n",
        "  return np.array(X), np.array(y)"
      ],
      "execution_count": 19,
      "outputs": []
    },
    {
      "cell_type": "markdown",
      "metadata": {
        "id": "VMBJpuDQJzcG",
        "colab_type": "text"
      },
      "source": [
        "### Use the above function to create train and test sets\n",
        "- Get X_train and y_train\n",
        "- Get X_test and y_test\n",
        "- lookback = 1"
      ]
    },
    {
      "cell_type": "code",
      "metadata": {
        "id": "Uq6GGmJ0Zqem",
        "colab_type": "code",
        "colab": {}
      },
      "source": [
        "X_train, y_train = create_seq_data(train_sc, 1)\n",
        "X_test, y_test = create_seq_data(test_sc, 1)"
      ],
      "execution_count": 20,
      "outputs": []
    },
    {
      "cell_type": "markdown",
      "metadata": {
        "id": "-E2iixEfK0Px",
        "colab_type": "text"
      },
      "source": [
        "### Reshape the data\n",
        "- Reshape X_train and X_test\n",
        "- use np.reshape() method\n",
        "- this is to be done to make the data ready for input in model"
      ]
    },
    {
      "cell_type": "code",
      "metadata": {
        "id": "X3qhXEqoZxQ3",
        "colab_type": "code",
        "colab": {}
      },
      "source": [
        "X_train = np.reshape(X_train, (X_train.shape[0], X_train.shape[1], 1))\n",
        "X_test = np.reshape(X_test, (X_test.shape[0], X_test.shape[1], 1))"
      ],
      "execution_count": 21,
      "outputs": []
    },
    {
      "cell_type": "markdown",
      "metadata": {
        "id": "zKZ8SALZcuNB",
        "colab_type": "text"
      },
      "source": [
        "### Print shape of data\n",
        "- print shape of X_train and X_test"
      ]
    },
    {
      "cell_type": "code",
      "metadata": {
        "id": "OSg_rbP6c_HI",
        "colab_type": "code",
        "colab": {
          "base_uri": "https://localhost:8080/",
          "height": 35
        },
        "outputId": "08fc0778-d53a-4f40-bc0b-7acb941b858c"
      },
      "source": [
        "X_train.shape"
      ],
      "execution_count": 22,
      "outputs": [
        {
          "output_type": "execute_result",
          "data": {
            "text/plain": [
              "(2736, 1, 1)"
            ]
          },
          "metadata": {
            "tags": []
          },
          "execution_count": 22
        }
      ]
    },
    {
      "cell_type": "code",
      "metadata": {
        "id": "E792lsq_o_je",
        "colab_type": "code",
        "colab": {
          "base_uri": "https://localhost:8080/",
          "height": 35
        },
        "outputId": "36a5063b-8aa7-4e1a-872f-cc79098dfec9"
      },
      "source": [
        "X_test.shape"
      ],
      "execution_count": 23,
      "outputs": [
        {
          "output_type": "execute_result",
          "data": {
            "text/plain": [
              "(912, 1, 1)"
            ]
          },
          "metadata": {
            "tags": []
          },
          "execution_count": 23
        }
      ]
    },
    {
      "cell_type": "markdown",
      "metadata": {
        "id": "emGjaYZ5dfRq",
        "colab_type": "text"
      },
      "source": [
        "## Question 6"
      ]
    },
    {
      "cell_type": "markdown",
      "metadata": {
        "id": "7fk2Ze24dsXw",
        "colab_type": "text"
      },
      "source": [
        "### Define sequential model\n",
        "- initialize a Sequential model\n",
        "- add an LSTM layer\n",
        "  - units: 10\n",
        "  - stateful: True\n",
        "  - pass a `batch_input_shape` argument to your layer\n",
        "  - batch_input_shape: (batch_size, look_back, 1)\n",
        "    - batch_size: 1\n",
        "    - look_back: 1\n",
        "- add Dense layer with 1 neuron"
      ]
    },
    {
      "cell_type": "code",
      "metadata": {
        "id": "eXU6UNt4dhJz",
        "colab_type": "code",
        "colab": {}
      },
      "source": [
        "from tensorflow.keras.models import Sequential\n",
        "from tensorflow.keras.layers import Dense, LSTM\n",
        "batch_size = 1\n",
        "look_back = 1\n",
        "\n",
        "model = Sequential()\n",
        "model.add(LSTM(32,batch_input_shape = (batch_size,look_back,1),stateful = True))\n",
        "model.add(Dense(1, activation='sigmoid'))"
      ],
      "execution_count": 24,
      "outputs": []
    },
    {
      "cell_type": "markdown",
      "metadata": {
        "id": "cLymvPFzEQSp",
        "colab_type": "text"
      },
      "source": [
        "## Question 7"
      ]
    },
    {
      "cell_type": "markdown",
      "metadata": {
        "id": "AZmlvbcMrCTh",
        "colab_type": "text"
      },
      "source": [
        "### compile your model\n",
        "- loss: mean_squared_error\n",
        "- optimizer: adam"
      ]
    },
    {
      "cell_type": "code",
      "metadata": {
        "id": "TrcHrSdtg62Q",
        "colab_type": "code",
        "colab": {}
      },
      "source": [
        "from tensorflow.keras.metrics import MeanSquaredError\n",
        "model.compile(optimizer='adam', loss='mean_squared_error', metrics=[MeanSquaredError()])"
      ],
      "execution_count": 25,
      "outputs": []
    },
    {
      "cell_type": "markdown",
      "metadata": {
        "id": "WWAoHdFurJN5",
        "colab_type": "text"
      },
      "source": [
        "### summarize your model\n",
        "- use summary() method"
      ]
    },
    {
      "cell_type": "code",
      "metadata": {
        "id": "UlIaCMtBrPU2",
        "colab_type": "code",
        "colab": {
          "base_uri": "https://localhost:8080/",
          "height": 225
        },
        "outputId": "a8f9f19b-67b7-4150-b642-9ecf1972d725"
      },
      "source": [
        "model.summary()"
      ],
      "execution_count": 26,
      "outputs": [
        {
          "output_type": "stream",
          "text": [
            "Model: \"sequential\"\n",
            "_________________________________________________________________\n",
            "Layer (type)                 Output Shape              Param #   \n",
            "=================================================================\n",
            "lstm (LSTM)                  (1, 32)                   4352      \n",
            "_________________________________________________________________\n",
            "dense (Dense)                (1, 1)                    33        \n",
            "=================================================================\n",
            "Total params: 4,385\n",
            "Trainable params: 4,385\n",
            "Non-trainable params: 0\n",
            "_________________________________________________________________\n"
          ],
          "name": "stdout"
        }
      ]
    },
    {
      "cell_type": "markdown",
      "metadata": {
        "id": "dq5a3i6uEcJI",
        "colab_type": "text"
      },
      "source": [
        "## Question 8"
      ]
    },
    {
      "cell_type": "markdown",
      "metadata": {
        "id": "0Ca3CFhOrf83",
        "colab_type": "text"
      },
      "source": [
        "### fit your model\n",
        "- epochs: 50\n",
        "- batch_size: 1"
      ]
    },
    {
      "cell_type": "code",
      "metadata": {
        "id": "BbuB-XGPhH6h",
        "colab_type": "code",
        "colab": {
          "base_uri": "https://localhost:8080/",
          "height": 1000
        },
        "outputId": "4973bf07-6e99-43df-cfa6-d5ba92b61c91"
      },
      "source": [
        "history = model.fit(X_train, y_train, epochs=50, batch_size=1, validation_data=(X_test, y_test))"
      ],
      "execution_count": 27,
      "outputs": [
        {
          "output_type": "stream",
          "text": [
            "Epoch 1/50\n",
            "2736/2736 [==============================] - 5s 2ms/step - loss: 0.0145 - mean_squared_error: 0.0145 - val_loss: 0.0122 - val_mean_squared_error: 0.0122\n",
            "Epoch 2/50\n",
            "2736/2736 [==============================] - 5s 2ms/step - loss: 0.0103 - mean_squared_error: 0.0103 - val_loss: 0.0118 - val_mean_squared_error: 0.0118\n",
            "Epoch 3/50\n",
            "2736/2736 [==============================] - 5s 2ms/step - loss: 0.0103 - mean_squared_error: 0.0103 - val_loss: 0.0111 - val_mean_squared_error: 0.0111\n",
            "Epoch 4/50\n",
            "2736/2736 [==============================] - 5s 2ms/step - loss: 0.0101 - mean_squared_error: 0.0101 - val_loss: 0.0116 - val_mean_squared_error: 0.0116\n",
            "Epoch 5/50\n",
            "2736/2736 [==============================] - 5s 2ms/step - loss: 0.0102 - mean_squared_error: 0.0102 - val_loss: 0.0114 - val_mean_squared_error: 0.0114\n",
            "Epoch 6/50\n",
            "2736/2736 [==============================] - 4s 2ms/step - loss: 0.0101 - mean_squared_error: 0.0101 - val_loss: 0.0126 - val_mean_squared_error: 0.0126\n",
            "Epoch 7/50\n",
            "2736/2736 [==============================] - 4s 2ms/step - loss: 0.0101 - mean_squared_error: 0.0101 - val_loss: 0.0096 - val_mean_squared_error: 0.0096\n",
            "Epoch 8/50\n",
            "2736/2736 [==============================] - 5s 2ms/step - loss: 0.0101 - mean_squared_error: 0.0101 - val_loss: 0.0094 - val_mean_squared_error: 0.0094\n",
            "Epoch 9/50\n",
            "2736/2736 [==============================] - 5s 2ms/step - loss: 0.0101 - mean_squared_error: 0.0101 - val_loss: 0.0092 - val_mean_squared_error: 0.0092\n",
            "Epoch 10/50\n",
            "2736/2736 [==============================] - 5s 2ms/step - loss: 0.0101 - mean_squared_error: 0.0101 - val_loss: 0.0093 - val_mean_squared_error: 0.0093\n",
            "Epoch 11/50\n",
            "2736/2736 [==============================] - 5s 2ms/step - loss: 0.0101 - mean_squared_error: 0.0101 - val_loss: 0.0092 - val_mean_squared_error: 0.0092\n",
            "Epoch 12/50\n",
            "2736/2736 [==============================] - 5s 2ms/step - loss: 0.0100 - mean_squared_error: 0.0100 - val_loss: 0.0094 - val_mean_squared_error: 0.0094\n",
            "Epoch 13/50\n",
            "2736/2736 [==============================] - 5s 2ms/step - loss: 0.0101 - mean_squared_error: 0.0101 - val_loss: 0.0096 - val_mean_squared_error: 0.0096\n",
            "Epoch 14/50\n",
            "2736/2736 [==============================] - 4s 2ms/step - loss: 0.0100 - mean_squared_error: 0.0100 - val_loss: 0.0092 - val_mean_squared_error: 0.0092\n",
            "Epoch 15/50\n",
            "2736/2736 [==============================] - 5s 2ms/step - loss: 0.0100 - mean_squared_error: 0.0100 - val_loss: 0.0092 - val_mean_squared_error: 0.0092\n",
            "Epoch 16/50\n",
            "2736/2736 [==============================] - 4s 2ms/step - loss: 0.0100 - mean_squared_error: 0.0100 - val_loss: 0.0095 - val_mean_squared_error: 0.0095\n",
            "Epoch 17/50\n",
            "2736/2736 [==============================] - 5s 2ms/step - loss: 0.0100 - mean_squared_error: 0.0100 - val_loss: 0.0093 - val_mean_squared_error: 0.0093\n",
            "Epoch 18/50\n",
            "2736/2736 [==============================] - 4s 2ms/step - loss: 0.0100 - mean_squared_error: 0.0100 - val_loss: 0.0098 - val_mean_squared_error: 0.0098\n",
            "Epoch 19/50\n",
            "2736/2736 [==============================] - 5s 2ms/step - loss: 0.0099 - mean_squared_error: 0.0099 - val_loss: 0.0093 - val_mean_squared_error: 0.0093\n",
            "Epoch 20/50\n",
            "2736/2736 [==============================] - 5s 2ms/step - loss: 0.0100 - mean_squared_error: 0.0100 - val_loss: 0.0091 - val_mean_squared_error: 0.0091\n",
            "Epoch 21/50\n",
            "2736/2736 [==============================] - 5s 2ms/step - loss: 0.0100 - mean_squared_error: 0.0100 - val_loss: 0.0094 - val_mean_squared_error: 0.0094\n",
            "Epoch 22/50\n",
            "2736/2736 [==============================] - 5s 2ms/step - loss: 0.0099 - mean_squared_error: 0.0099 - val_loss: 0.0097 - val_mean_squared_error: 0.0097\n",
            "Epoch 23/50\n",
            "2736/2736 [==============================] - 5s 2ms/step - loss: 0.0100 - mean_squared_error: 0.0100 - val_loss: 0.0095 - val_mean_squared_error: 0.0095\n",
            "Epoch 24/50\n",
            "2736/2736 [==============================] - 5s 2ms/step - loss: 0.0100 - mean_squared_error: 0.0100 - val_loss: 0.0094 - val_mean_squared_error: 0.0094\n",
            "Epoch 25/50\n",
            "2736/2736 [==============================] - 5s 2ms/step - loss: 0.0099 - mean_squared_error: 0.0099 - val_loss: 0.0092 - val_mean_squared_error: 0.0092\n",
            "Epoch 26/50\n",
            "2736/2736 [==============================] - 5s 2ms/step - loss: 0.0100 - mean_squared_error: 0.0100 - val_loss: 0.0095 - val_mean_squared_error: 0.0095\n",
            "Epoch 27/50\n",
            "2736/2736 [==============================] - 5s 2ms/step - loss: 0.0099 - mean_squared_error: 0.0099 - val_loss: 0.0097 - val_mean_squared_error: 0.0097\n",
            "Epoch 28/50\n",
            "2736/2736 [==============================] - 4s 2ms/step - loss: 0.0099 - mean_squared_error: 0.0099 - val_loss: 0.0091 - val_mean_squared_error: 0.0091\n",
            "Epoch 29/50\n",
            "2736/2736 [==============================] - 4s 2ms/step - loss: 0.0098 - mean_squared_error: 0.0098 - val_loss: 0.0091 - val_mean_squared_error: 0.0091\n",
            "Epoch 30/50\n",
            "2736/2736 [==============================] - 4s 2ms/step - loss: 0.0099 - mean_squared_error: 0.0099 - val_loss: 0.0092 - val_mean_squared_error: 0.0092\n",
            "Epoch 31/50\n",
            "2736/2736 [==============================] - 5s 2ms/step - loss: 0.0099 - mean_squared_error: 0.0099 - val_loss: 0.0095 - val_mean_squared_error: 0.0095\n",
            "Epoch 32/50\n",
            "2736/2736 [==============================] - 5s 2ms/step - loss: 0.0099 - mean_squared_error: 0.0099 - val_loss: 0.0101 - val_mean_squared_error: 0.0101\n",
            "Epoch 33/50\n",
            "2736/2736 [==============================] - 4s 2ms/step - loss: 0.0099 - mean_squared_error: 0.0099 - val_loss: 0.0093 - val_mean_squared_error: 0.0093\n",
            "Epoch 34/50\n",
            "2736/2736 [==============================] - 4s 2ms/step - loss: 0.0099 - mean_squared_error: 0.0099 - val_loss: 0.0100 - val_mean_squared_error: 0.0100\n",
            "Epoch 35/50\n",
            "2736/2736 [==============================] - 4s 2ms/step - loss: 0.0100 - mean_squared_error: 0.0100 - val_loss: 0.0095 - val_mean_squared_error: 0.0095\n",
            "Epoch 36/50\n",
            "2736/2736 [==============================] - 4s 2ms/step - loss: 0.0099 - mean_squared_error: 0.0099 - val_loss: 0.0094 - val_mean_squared_error: 0.0094\n",
            "Epoch 37/50\n",
            "2736/2736 [==============================] - 5s 2ms/step - loss: 0.0099 - mean_squared_error: 0.0099 - val_loss: 0.0095 - val_mean_squared_error: 0.0095\n",
            "Epoch 38/50\n",
            "2736/2736 [==============================] - 5s 2ms/step - loss: 0.0099 - mean_squared_error: 0.0099 - val_loss: 0.0092 - val_mean_squared_error: 0.0092\n",
            "Epoch 39/50\n",
            "2736/2736 [==============================] - 5s 2ms/step - loss: 0.0099 - mean_squared_error: 0.0099 - val_loss: 0.0093 - val_mean_squared_error: 0.0093\n",
            "Epoch 40/50\n",
            "2736/2736 [==============================] - 4s 2ms/step - loss: 0.0099 - mean_squared_error: 0.0099 - val_loss: 0.0093 - val_mean_squared_error: 0.0093\n",
            "Epoch 41/50\n",
            "2736/2736 [==============================] - 4s 2ms/step - loss: 0.0099 - mean_squared_error: 0.0099 - val_loss: 0.0091 - val_mean_squared_error: 0.0091\n",
            "Epoch 42/50\n",
            "2736/2736 [==============================] - 4s 2ms/step - loss: 0.0099 - mean_squared_error: 0.0099 - val_loss: 0.0094 - val_mean_squared_error: 0.0094\n",
            "Epoch 43/50\n",
            "2736/2736 [==============================] - 4s 2ms/step - loss: 0.0099 - mean_squared_error: 0.0099 - val_loss: 0.0092 - val_mean_squared_error: 0.0092\n",
            "Epoch 44/50\n",
            "2736/2736 [==============================] - 4s 2ms/step - loss: 0.0099 - mean_squared_error: 0.0099 - val_loss: 0.0094 - val_mean_squared_error: 0.0094\n",
            "Epoch 45/50\n",
            "2736/2736 [==============================] - 4s 2ms/step - loss: 0.0099 - mean_squared_error: 0.0099 - val_loss: 0.0096 - val_mean_squared_error: 0.0096\n",
            "Epoch 46/50\n",
            "2736/2736 [==============================] - 5s 2ms/step - loss: 0.0098 - mean_squared_error: 0.0098 - val_loss: 0.0093 - val_mean_squared_error: 0.0093\n",
            "Epoch 47/50\n",
            "2736/2736 [==============================] - 5s 2ms/step - loss: 0.0099 - mean_squared_error: 0.0099 - val_loss: 0.0091 - val_mean_squared_error: 0.0091\n",
            "Epoch 48/50\n",
            "2736/2736 [==============================] - 5s 2ms/step - loss: 0.0099 - mean_squared_error: 0.0099 - val_loss: 0.0099 - val_mean_squared_error: 0.0099\n",
            "Epoch 49/50\n",
            "2736/2736 [==============================] - 4s 2ms/step - loss: 0.0098 - mean_squared_error: 0.0098 - val_loss: 0.0092 - val_mean_squared_error: 0.0092\n",
            "Epoch 50/50\n",
            "2736/2736 [==============================] - 4s 2ms/step - loss: 0.0099 - mean_squared_error: 0.0099 - val_loss: 0.0093 - val_mean_squared_error: 0.0093\n"
          ],
          "name": "stdout"
        }
      ]
    },
    {
      "cell_type": "markdown",
      "metadata": {
        "id": "hqRlEmbjEqyG",
        "colab_type": "text"
      },
      "source": [
        "## Question 9"
      ]
    },
    {
      "cell_type": "markdown",
      "metadata": {
        "id": "12IhOtvUHJBF",
        "colab_type": "text"
      },
      "source": [
        "### make predictions on train data\n",
        "- use predict() method\n",
        "  - batch_size: 1\n",
        "- store predictions in a variable"
      ]
    },
    {
      "cell_type": "code",
      "metadata": {
        "id": "iXWuJikQHURm",
        "colab_type": "code",
        "colab": {}
      },
      "source": [
        "trainpred = model.predict(X_train, batch_size = 1)"
      ],
      "execution_count": 28,
      "outputs": []
    },
    {
      "cell_type": "code",
      "metadata": {
        "id": "RguWAds9vhVh",
        "colab_type": "code",
        "colab": {
          "base_uri": "https://localhost:8080/",
          "height": 191
        },
        "outputId": "4ea2a6f5-5ab8-4af0-de79-e6c981a7af46"
      },
      "source": [
        "trainpred[:10]"
      ],
      "execution_count": 29,
      "outputs": [
        {
          "output_type": "execute_result",
          "data": {
            "text/plain": [
              "array([[0.66117257],\n",
              "       [0.60059035],\n",
              "       [0.6276524 ],\n",
              "       [0.52140343],\n",
              "       [0.5585169 ],\n",
              "       [0.5549359 ],\n",
              "       [0.5554033 ],\n",
              "       [0.5946442 ],\n",
              "       [0.68224764],\n",
              "       [0.64899904]], dtype=float32)"
            ]
          },
          "metadata": {
            "tags": []
          },
          "execution_count": 29
        }
      ]
    },
    {
      "cell_type": "markdown",
      "metadata": {
        "id": "XxxWOa-PsieH",
        "colab_type": "text"
      },
      "source": [
        "### reset model state\n",
        "- if you are using stateful=True in your model then you should call reset_states every time, when you want to make consecutive model calls independent.\n",
        "- use reset_states() method"
      ]
    },
    {
      "cell_type": "code",
      "metadata": {
        "id": "ZdV5_F1Eo8SY",
        "colab_type": "code",
        "colab": {}
      },
      "source": [
        "model.reset_states()"
      ],
      "execution_count": 30,
      "outputs": []
    },
    {
      "cell_type": "markdown",
      "metadata": {
        "colab_type": "text",
        "id": "KAhziPVBJD0u"
      },
      "source": [
        "### make predictions on test data\n",
        "- use predict() method\n",
        "  - batch_size: 1\n",
        "- store predictions in a variable"
      ]
    },
    {
      "cell_type": "code",
      "metadata": {
        "id": "HuHopEXNJU_y",
        "colab_type": "code",
        "colab": {}
      },
      "source": [
        "testpred = model.predict(X_test, batch_size=1)"
      ],
      "execution_count": 31,
      "outputs": []
    },
    {
      "cell_type": "code",
      "metadata": {
        "id": "CNbUKt9bvmtV",
        "colab_type": "code",
        "colab": {
          "base_uri": "https://localhost:8080/",
          "height": 191
        },
        "outputId": "150607a6-4922-4ee1-ffd6-cd16edec8e49"
      },
      "source": [
        "testpred[:10]"
      ],
      "execution_count": 32,
      "outputs": [
        {
          "output_type": "execute_result",
          "data": {
            "text/plain": [
              "array([[0.40121958],\n",
              "       [0.3453395 ],\n",
              "       [0.28853422],\n",
              "       [0.27591977],\n",
              "       [0.36923558],\n",
              "       [0.47763819],\n",
              "       [0.48627082],\n",
              "       [0.43520823],\n",
              "       [0.29851422],\n",
              "       [0.3241409 ]], dtype=float32)"
            ]
          },
          "metadata": {
            "tags": []
          },
          "execution_count": 32
        }
      ]
    },
    {
      "cell_type": "markdown",
      "metadata": {
        "id": "pO81E-fsJruD",
        "colab_type": "text"
      },
      "source": [
        "## Question 10"
      ]
    },
    {
      "cell_type": "markdown",
      "metadata": {
        "id": "RImBG7sCtnlb",
        "colab_type": "text"
      },
      "source": [
        "### Inverse train predictions and true labels\n",
        "- use your MinMaxSclarer object\n",
        "- use inverse_transform() method"
      ]
    },
    {
      "cell_type": "code",
      "metadata": {
        "id": "xXfce41cqN-h",
        "colab_type": "code",
        "colab": {}
      },
      "source": [
        "trainpred_label = scaler.inverse_transform(trainpred)"
      ],
      "execution_count": 44,
      "outputs": []
    },
    {
      "cell_type": "code",
      "metadata": {
        "id": "n_9D94L90UFX",
        "colab_type": "code",
        "colab": {}
      },
      "source": [
        "traintrue_label = scaler.inverse_transform([y_train])\n",
        "traintrue_label = traintrue_label.T"
      ],
      "execution_count": 45,
      "outputs": []
    },
    {
      "cell_type": "markdown",
      "metadata": {
        "colab_type": "text",
        "id": "5fWSzk8cuPbp"
      },
      "source": [
        "### Inverse test predictions and true labels\n",
        "- use your MinMaxSclarer object\n",
        "- use inverse_transform() method"
      ]
    },
    {
      "cell_type": "code",
      "metadata": {
        "colab_type": "code",
        "id": "nVJ1wMupuPbu",
        "colab": {}
      },
      "source": [
        "testpred_label = scaler.inverse_transform(testpred)"
      ],
      "execution_count": 46,
      "outputs": []
    },
    {
      "cell_type": "code",
      "metadata": {
        "id": "5zbjXXg90hEn",
        "colab_type": "code",
        "colab": {}
      },
      "source": [
        "testtrue_label = scaler.inverse_transform([y_test])\n",
        "testtrue_label = testtrue_label.T"
      ],
      "execution_count": 47,
      "outputs": []
    },
    {
      "cell_type": "markdown",
      "metadata": {
        "id": "VtowvAItJv6c",
        "colab_type": "text"
      },
      "source": [
        "### Evaluate train predictions\n",
        "- calculate RMSE\n",
        "- RMSE = sqrt(mean_squared_error(true_labels, predicted_labels))\n",
        "- use sqrt() and mean_squared_error() method\n",
        "- print training RMSE"
      ]
    },
    {
      "cell_type": "code",
      "metadata": {
        "id": "GjXbis_bJ9GL",
        "colab_type": "code",
        "colab": {
          "base_uri": "https://localhost:8080/",
          "height": 35
        },
        "outputId": "28cffb32-d646-4fe8-9d5b-cebcc10f7176"
      },
      "source": [
        "from sklearn.metrics import mean_squared_error\n",
        "train_RMSE = np.sqrt(mean_squared_error(traintrue_label, trainpred_label))\n",
        "print(train_RMSE)"
      ],
      "execution_count": 48,
      "outputs": [
        {
          "output_type": "stream",
          "text": [
            "2.622454262415357\n"
          ],
          "name": "stdout"
        }
      ]
    },
    {
      "cell_type": "markdown",
      "metadata": {
        "colab_type": "text",
        "id": "DBOfSPRDvERE"
      },
      "source": [
        "### Evaluate test predictions\n",
        "- calculate RMSE\n",
        "- RMSE = sqrt(mean_squared_error(true_labels, predicted_labels))\n",
        "- use sqrt() and mean_squared_error() method\n",
        "- print testing RMSE"
      ]
    },
    {
      "cell_type": "code",
      "metadata": {
        "colab_type": "code",
        "id": "8rQOereovERJ",
        "colab": {
          "base_uri": "https://localhost:8080/",
          "height": 35
        },
        "outputId": "7abdee64-cb79-4003-c803-f3fd48699bf5"
      },
      "source": [
        "from sklearn.metrics import mean_squared_error\n",
        "test_RMSE = np.sqrt(mean_squared_error(testtrue_label, testpred_label))\n",
        "print(test_RMSE)"
      ],
      "execution_count": 49,
      "outputs": [
        {
          "output_type": "stream",
          "text": [
            "2.5446385443116246\n"
          ],
          "name": "stdout"
        }
      ]
    }
  ]
}